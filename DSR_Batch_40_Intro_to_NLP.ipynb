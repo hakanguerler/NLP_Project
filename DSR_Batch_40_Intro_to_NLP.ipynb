{
  "nbformat": 4,
  "nbformat_minor": 0,
  "metadata": {
    "colab": {
      "provenance": [],
      "gpuType": "T4"
    },
    "kernelspec": {
      "name": "python3",
      "display_name": "Python 3"
    },
    "language_info": {
      "name": "python"
    },
    "accelerator": "GPU",
    "widgets": {
      "application/vnd.jupyter.widget-state+json": {
        "554e0dd38e764644b5a228a22654ed66": {
          "model_module": "@jupyter-widgets/controls",
          "model_name": "HBoxModel",
          "model_module_version": "1.5.0",
          "state": {
            "_dom_classes": [],
            "_model_module": "@jupyter-widgets/controls",
            "_model_module_version": "1.5.0",
            "_model_name": "HBoxModel",
            "_view_count": null,
            "_view_module": "@jupyter-widgets/controls",
            "_view_module_version": "1.5.0",
            "_view_name": "HBoxView",
            "box_style": "",
            "children": [
              "IPY_MODEL_2be66fbb852b4886bf6a7a1a10e2c07c",
              "IPY_MODEL_f526c7eed64c44d5abe795246750e828",
              "IPY_MODEL_7f7cf1a9a4a14fad84739a4336073937"
            ],
            "layout": "IPY_MODEL_168555f67a134c088f39de0890a4374c"
          }
        },
        "2be66fbb852b4886bf6a7a1a10e2c07c": {
          "model_module": "@jupyter-widgets/controls",
          "model_name": "HTMLModel",
          "model_module_version": "1.5.0",
          "state": {
            "_dom_classes": [],
            "_model_module": "@jupyter-widgets/controls",
            "_model_module_version": "1.5.0",
            "_model_name": "HTMLModel",
            "_view_count": null,
            "_view_module": "@jupyter-widgets/controls",
            "_view_module_version": "1.5.0",
            "_view_name": "HTMLView",
            "description": "",
            "description_tooltip": null,
            "layout": "IPY_MODEL_d2f0b6e9ad4044cc8d9f10077049a5eb",
            "placeholder": "​",
            "style": "IPY_MODEL_c40daa40de9345d2856c0f5f4245f8fc",
            "value": "Dl Completed...: 100%"
          }
        },
        "f526c7eed64c44d5abe795246750e828": {
          "model_module": "@jupyter-widgets/controls",
          "model_name": "FloatProgressModel",
          "model_module_version": "1.5.0",
          "state": {
            "_dom_classes": [],
            "_model_module": "@jupyter-widgets/controls",
            "_model_module_version": "1.5.0",
            "_model_name": "FloatProgressModel",
            "_view_count": null,
            "_view_module": "@jupyter-widgets/controls",
            "_view_module_version": "1.5.0",
            "_view_name": "ProgressView",
            "bar_style": "success",
            "description": "",
            "description_tooltip": null,
            "layout": "IPY_MODEL_7642492125e24257a4fc03d344e821b9",
            "max": 1,
            "min": 0,
            "orientation": "horizontal",
            "style": "IPY_MODEL_29ced4ae25b24205a46ea65d7288f459",
            "value": 1
          }
        },
        "7f7cf1a9a4a14fad84739a4336073937": {
          "model_module": "@jupyter-widgets/controls",
          "model_name": "HTMLModel",
          "model_module_version": "1.5.0",
          "state": {
            "_dom_classes": [],
            "_model_module": "@jupyter-widgets/controls",
            "_model_module_version": "1.5.0",
            "_model_name": "HTMLModel",
            "_view_count": null,
            "_view_module": "@jupyter-widgets/controls",
            "_view_module_version": "1.5.0",
            "_view_name": "HTMLView",
            "description": "",
            "description_tooltip": null,
            "layout": "IPY_MODEL_54f7feac580240b58a2af02c669c54f2",
            "placeholder": "​",
            "style": "IPY_MODEL_4884c88efda0441cb8381a52186878f9",
            "value": " 1/1 [00:37&lt;00:00, 37.31s/ url]"
          }
        },
        "168555f67a134c088f39de0890a4374c": {
          "model_module": "@jupyter-widgets/base",
          "model_name": "LayoutModel",
          "model_module_version": "1.2.0",
          "state": {
            "_model_module": "@jupyter-widgets/base",
            "_model_module_version": "1.2.0",
            "_model_name": "LayoutModel",
            "_view_count": null,
            "_view_module": "@jupyter-widgets/base",
            "_view_module_version": "1.2.0",
            "_view_name": "LayoutView",
            "align_content": null,
            "align_items": null,
            "align_self": null,
            "border": null,
            "bottom": null,
            "display": null,
            "flex": null,
            "flex_flow": null,
            "grid_area": null,
            "grid_auto_columns": null,
            "grid_auto_flow": null,
            "grid_auto_rows": null,
            "grid_column": null,
            "grid_gap": null,
            "grid_row": null,
            "grid_template_areas": null,
            "grid_template_columns": null,
            "grid_template_rows": null,
            "height": null,
            "justify_content": null,
            "justify_items": null,
            "left": null,
            "margin": null,
            "max_height": null,
            "max_width": null,
            "min_height": null,
            "min_width": null,
            "object_fit": null,
            "object_position": null,
            "order": null,
            "overflow": null,
            "overflow_x": null,
            "overflow_y": null,
            "padding": null,
            "right": null,
            "top": null,
            "visibility": null,
            "width": null
          }
        },
        "d2f0b6e9ad4044cc8d9f10077049a5eb": {
          "model_module": "@jupyter-widgets/base",
          "model_name": "LayoutModel",
          "model_module_version": "1.2.0",
          "state": {
            "_model_module": "@jupyter-widgets/base",
            "_model_module_version": "1.2.0",
            "_model_name": "LayoutModel",
            "_view_count": null,
            "_view_module": "@jupyter-widgets/base",
            "_view_module_version": "1.2.0",
            "_view_name": "LayoutView",
            "align_content": null,
            "align_items": null,
            "align_self": null,
            "border": null,
            "bottom": null,
            "display": null,
            "flex": null,
            "flex_flow": null,
            "grid_area": null,
            "grid_auto_columns": null,
            "grid_auto_flow": null,
            "grid_auto_rows": null,
            "grid_column": null,
            "grid_gap": null,
            "grid_row": null,
            "grid_template_areas": null,
            "grid_template_columns": null,
            "grid_template_rows": null,
            "height": null,
            "justify_content": null,
            "justify_items": null,
            "left": null,
            "margin": null,
            "max_height": null,
            "max_width": null,
            "min_height": null,
            "min_width": null,
            "object_fit": null,
            "object_position": null,
            "order": null,
            "overflow": null,
            "overflow_x": null,
            "overflow_y": null,
            "padding": null,
            "right": null,
            "top": null,
            "visibility": null,
            "width": null
          }
        },
        "c40daa40de9345d2856c0f5f4245f8fc": {
          "model_module": "@jupyter-widgets/controls",
          "model_name": "DescriptionStyleModel",
          "model_module_version": "1.5.0",
          "state": {
            "_model_module": "@jupyter-widgets/controls",
            "_model_module_version": "1.5.0",
            "_model_name": "DescriptionStyleModel",
            "_view_count": null,
            "_view_module": "@jupyter-widgets/base",
            "_view_module_version": "1.2.0",
            "_view_name": "StyleView",
            "description_width": ""
          }
        },
        "7642492125e24257a4fc03d344e821b9": {
          "model_module": "@jupyter-widgets/base",
          "model_name": "LayoutModel",
          "model_module_version": "1.2.0",
          "state": {
            "_model_module": "@jupyter-widgets/base",
            "_model_module_version": "1.2.0",
            "_model_name": "LayoutModel",
            "_view_count": null,
            "_view_module": "@jupyter-widgets/base",
            "_view_module_version": "1.2.0",
            "_view_name": "LayoutView",
            "align_content": null,
            "align_items": null,
            "align_self": null,
            "border": null,
            "bottom": null,
            "display": null,
            "flex": null,
            "flex_flow": null,
            "grid_area": null,
            "grid_auto_columns": null,
            "grid_auto_flow": null,
            "grid_auto_rows": null,
            "grid_column": null,
            "grid_gap": null,
            "grid_row": null,
            "grid_template_areas": null,
            "grid_template_columns": null,
            "grid_template_rows": null,
            "height": null,
            "justify_content": null,
            "justify_items": null,
            "left": null,
            "margin": null,
            "max_height": null,
            "max_width": null,
            "min_height": null,
            "min_width": null,
            "object_fit": null,
            "object_position": null,
            "order": null,
            "overflow": null,
            "overflow_x": null,
            "overflow_y": null,
            "padding": null,
            "right": null,
            "top": null,
            "visibility": null,
            "width": "20px"
          }
        },
        "29ced4ae25b24205a46ea65d7288f459": {
          "model_module": "@jupyter-widgets/controls",
          "model_name": "ProgressStyleModel",
          "model_module_version": "1.5.0",
          "state": {
            "_model_module": "@jupyter-widgets/controls",
            "_model_module_version": "1.5.0",
            "_model_name": "ProgressStyleModel",
            "_view_count": null,
            "_view_module": "@jupyter-widgets/base",
            "_view_module_version": "1.2.0",
            "_view_name": "StyleView",
            "bar_color": null,
            "description_width": ""
          }
        },
        "54f7feac580240b58a2af02c669c54f2": {
          "model_module": "@jupyter-widgets/base",
          "model_name": "LayoutModel",
          "model_module_version": "1.2.0",
          "state": {
            "_model_module": "@jupyter-widgets/base",
            "_model_module_version": "1.2.0",
            "_model_name": "LayoutModel",
            "_view_count": null,
            "_view_module": "@jupyter-widgets/base",
            "_view_module_version": "1.2.0",
            "_view_name": "LayoutView",
            "align_content": null,
            "align_items": null,
            "align_self": null,
            "border": null,
            "bottom": null,
            "display": null,
            "flex": null,
            "flex_flow": null,
            "grid_area": null,
            "grid_auto_columns": null,
            "grid_auto_flow": null,
            "grid_auto_rows": null,
            "grid_column": null,
            "grid_gap": null,
            "grid_row": null,
            "grid_template_areas": null,
            "grid_template_columns": null,
            "grid_template_rows": null,
            "height": null,
            "justify_content": null,
            "justify_items": null,
            "left": null,
            "margin": null,
            "max_height": null,
            "max_width": null,
            "min_height": null,
            "min_width": null,
            "object_fit": null,
            "object_position": null,
            "order": null,
            "overflow": null,
            "overflow_x": null,
            "overflow_y": null,
            "padding": null,
            "right": null,
            "top": null,
            "visibility": null,
            "width": null
          }
        },
        "4884c88efda0441cb8381a52186878f9": {
          "model_module": "@jupyter-widgets/controls",
          "model_name": "DescriptionStyleModel",
          "model_module_version": "1.5.0",
          "state": {
            "_model_module": "@jupyter-widgets/controls",
            "_model_module_version": "1.5.0",
            "_model_name": "DescriptionStyleModel",
            "_view_count": null,
            "_view_module": "@jupyter-widgets/base",
            "_view_module_version": "1.2.0",
            "_view_name": "StyleView",
            "description_width": ""
          }
        },
        "79631978d0e4439ea05f702dc87614c9": {
          "model_module": "@jupyter-widgets/controls",
          "model_name": "HBoxModel",
          "model_module_version": "1.5.0",
          "state": {
            "_dom_classes": [],
            "_model_module": "@jupyter-widgets/controls",
            "_model_module_version": "1.5.0",
            "_model_name": "HBoxModel",
            "_view_count": null,
            "_view_module": "@jupyter-widgets/controls",
            "_view_module_version": "1.5.0",
            "_view_name": "HBoxView",
            "box_style": "",
            "children": [
              "IPY_MODEL_cd175743a7754ff590d6447acfe53cfd",
              "IPY_MODEL_3831ccbe95184f0c90679bca3b6ac9dd",
              "IPY_MODEL_c82f1dad896541db95a84cf288e817f1"
            ],
            "layout": "IPY_MODEL_0ed130399dc0450ea6c2e15a2bdfa002"
          }
        },
        "cd175743a7754ff590d6447acfe53cfd": {
          "model_module": "@jupyter-widgets/controls",
          "model_name": "HTMLModel",
          "model_module_version": "1.5.0",
          "state": {
            "_dom_classes": [],
            "_model_module": "@jupyter-widgets/controls",
            "_model_module_version": "1.5.0",
            "_model_name": "HTMLModel",
            "_view_count": null,
            "_view_module": "@jupyter-widgets/controls",
            "_view_module_version": "1.5.0",
            "_view_name": "HTMLView",
            "description": "",
            "description_tooltip": null,
            "layout": "IPY_MODEL_31c8354453f04c25bed0f1a2e3323925",
            "placeholder": "​",
            "style": "IPY_MODEL_423e206977c344c58403ca2fcdcc3f5a",
            "value": "Dl Size...: 100%"
          }
        },
        "3831ccbe95184f0c90679bca3b6ac9dd": {
          "model_module": "@jupyter-widgets/controls",
          "model_name": "FloatProgressModel",
          "model_module_version": "1.5.0",
          "state": {
            "_dom_classes": [],
            "_model_module": "@jupyter-widgets/controls",
            "_model_module_version": "1.5.0",
            "_model_name": "FloatProgressModel",
            "_view_count": null,
            "_view_module": "@jupyter-widgets/controls",
            "_view_module_version": "1.5.0",
            "_view_name": "ProgressView",
            "bar_style": "success",
            "description": "",
            "description_tooltip": null,
            "layout": "IPY_MODEL_c399e2147dca40a98e726d2a1000e73b",
            "max": 1,
            "min": 0,
            "orientation": "horizontal",
            "style": "IPY_MODEL_a96ecdf3f7ef471caf0dc31ef2f6e300",
            "value": 1
          }
        },
        "c82f1dad896541db95a84cf288e817f1": {
          "model_module": "@jupyter-widgets/controls",
          "model_name": "HTMLModel",
          "model_module_version": "1.5.0",
          "state": {
            "_dom_classes": [],
            "_model_module": "@jupyter-widgets/controls",
            "_model_module_version": "1.5.0",
            "_model_name": "HTMLModel",
            "_view_count": null,
            "_view_module": "@jupyter-widgets/controls",
            "_view_module_version": "1.5.0",
            "_view_name": "HTMLView",
            "description": "",
            "description_tooltip": null,
            "layout": "IPY_MODEL_f9166d5ea15c46fc893b1035c1e7a154",
            "placeholder": "​",
            "style": "IPY_MODEL_f1c141b39c6d4163af234c21f552901b",
            "value": " 80/80 [00:37&lt;00:00,  5.79 MiB/s]"
          }
        },
        "0ed130399dc0450ea6c2e15a2bdfa002": {
          "model_module": "@jupyter-widgets/base",
          "model_name": "LayoutModel",
          "model_module_version": "1.2.0",
          "state": {
            "_model_module": "@jupyter-widgets/base",
            "_model_module_version": "1.2.0",
            "_model_name": "LayoutModel",
            "_view_count": null,
            "_view_module": "@jupyter-widgets/base",
            "_view_module_version": "1.2.0",
            "_view_name": "LayoutView",
            "align_content": null,
            "align_items": null,
            "align_self": null,
            "border": null,
            "bottom": null,
            "display": null,
            "flex": null,
            "flex_flow": null,
            "grid_area": null,
            "grid_auto_columns": null,
            "grid_auto_flow": null,
            "grid_auto_rows": null,
            "grid_column": null,
            "grid_gap": null,
            "grid_row": null,
            "grid_template_areas": null,
            "grid_template_columns": null,
            "grid_template_rows": null,
            "height": null,
            "justify_content": null,
            "justify_items": null,
            "left": null,
            "margin": null,
            "max_height": null,
            "max_width": null,
            "min_height": null,
            "min_width": null,
            "object_fit": null,
            "object_position": null,
            "order": null,
            "overflow": null,
            "overflow_x": null,
            "overflow_y": null,
            "padding": null,
            "right": null,
            "top": null,
            "visibility": null,
            "width": null
          }
        },
        "31c8354453f04c25bed0f1a2e3323925": {
          "model_module": "@jupyter-widgets/base",
          "model_name": "LayoutModel",
          "model_module_version": "1.2.0",
          "state": {
            "_model_module": "@jupyter-widgets/base",
            "_model_module_version": "1.2.0",
            "_model_name": "LayoutModel",
            "_view_count": null,
            "_view_module": "@jupyter-widgets/base",
            "_view_module_version": "1.2.0",
            "_view_name": "LayoutView",
            "align_content": null,
            "align_items": null,
            "align_self": null,
            "border": null,
            "bottom": null,
            "display": null,
            "flex": null,
            "flex_flow": null,
            "grid_area": null,
            "grid_auto_columns": null,
            "grid_auto_flow": null,
            "grid_auto_rows": null,
            "grid_column": null,
            "grid_gap": null,
            "grid_row": null,
            "grid_template_areas": null,
            "grid_template_columns": null,
            "grid_template_rows": null,
            "height": null,
            "justify_content": null,
            "justify_items": null,
            "left": null,
            "margin": null,
            "max_height": null,
            "max_width": null,
            "min_height": null,
            "min_width": null,
            "object_fit": null,
            "object_position": null,
            "order": null,
            "overflow": null,
            "overflow_x": null,
            "overflow_y": null,
            "padding": null,
            "right": null,
            "top": null,
            "visibility": null,
            "width": null
          }
        },
        "423e206977c344c58403ca2fcdcc3f5a": {
          "model_module": "@jupyter-widgets/controls",
          "model_name": "DescriptionStyleModel",
          "model_module_version": "1.5.0",
          "state": {
            "_model_module": "@jupyter-widgets/controls",
            "_model_module_version": "1.5.0",
            "_model_name": "DescriptionStyleModel",
            "_view_count": null,
            "_view_module": "@jupyter-widgets/base",
            "_view_module_version": "1.2.0",
            "_view_name": "StyleView",
            "description_width": ""
          }
        },
        "c399e2147dca40a98e726d2a1000e73b": {
          "model_module": "@jupyter-widgets/base",
          "model_name": "LayoutModel",
          "model_module_version": "1.2.0",
          "state": {
            "_model_module": "@jupyter-widgets/base",
            "_model_module_version": "1.2.0",
            "_model_name": "LayoutModel",
            "_view_count": null,
            "_view_module": "@jupyter-widgets/base",
            "_view_module_version": "1.2.0",
            "_view_name": "LayoutView",
            "align_content": null,
            "align_items": null,
            "align_self": null,
            "border": null,
            "bottom": null,
            "display": null,
            "flex": null,
            "flex_flow": null,
            "grid_area": null,
            "grid_auto_columns": null,
            "grid_auto_flow": null,
            "grid_auto_rows": null,
            "grid_column": null,
            "grid_gap": null,
            "grid_row": null,
            "grid_template_areas": null,
            "grid_template_columns": null,
            "grid_template_rows": null,
            "height": null,
            "justify_content": null,
            "justify_items": null,
            "left": null,
            "margin": null,
            "max_height": null,
            "max_width": null,
            "min_height": null,
            "min_width": null,
            "object_fit": null,
            "object_position": null,
            "order": null,
            "overflow": null,
            "overflow_x": null,
            "overflow_y": null,
            "padding": null,
            "right": null,
            "top": null,
            "visibility": null,
            "width": "20px"
          }
        },
        "a96ecdf3f7ef471caf0dc31ef2f6e300": {
          "model_module": "@jupyter-widgets/controls",
          "model_name": "ProgressStyleModel",
          "model_module_version": "1.5.0",
          "state": {
            "_model_module": "@jupyter-widgets/controls",
            "_model_module_version": "1.5.0",
            "_model_name": "ProgressStyleModel",
            "_view_count": null,
            "_view_module": "@jupyter-widgets/base",
            "_view_module_version": "1.2.0",
            "_view_name": "StyleView",
            "bar_color": null,
            "description_width": ""
          }
        },
        "f9166d5ea15c46fc893b1035c1e7a154": {
          "model_module": "@jupyter-widgets/base",
          "model_name": "LayoutModel",
          "model_module_version": "1.2.0",
          "state": {
            "_model_module": "@jupyter-widgets/base",
            "_model_module_version": "1.2.0",
            "_model_name": "LayoutModel",
            "_view_count": null,
            "_view_module": "@jupyter-widgets/base",
            "_view_module_version": "1.2.0",
            "_view_name": "LayoutView",
            "align_content": null,
            "align_items": null,
            "align_self": null,
            "border": null,
            "bottom": null,
            "display": null,
            "flex": null,
            "flex_flow": null,
            "grid_area": null,
            "grid_auto_columns": null,
            "grid_auto_flow": null,
            "grid_auto_rows": null,
            "grid_column": null,
            "grid_gap": null,
            "grid_row": null,
            "grid_template_areas": null,
            "grid_template_columns": null,
            "grid_template_rows": null,
            "height": null,
            "justify_content": null,
            "justify_items": null,
            "left": null,
            "margin": null,
            "max_height": null,
            "max_width": null,
            "min_height": null,
            "min_width": null,
            "object_fit": null,
            "object_position": null,
            "order": null,
            "overflow": null,
            "overflow_x": null,
            "overflow_y": null,
            "padding": null,
            "right": null,
            "top": null,
            "visibility": null,
            "width": null
          }
        },
        "f1c141b39c6d4163af234c21f552901b": {
          "model_module": "@jupyter-widgets/controls",
          "model_name": "DescriptionStyleModel",
          "model_module_version": "1.5.0",
          "state": {
            "_model_module": "@jupyter-widgets/controls",
            "_model_module_version": "1.5.0",
            "_model_name": "DescriptionStyleModel",
            "_view_count": null,
            "_view_module": "@jupyter-widgets/base",
            "_view_module_version": "1.2.0",
            "_view_name": "StyleView",
            "description_width": ""
          }
        },
        "86177f2e7aa54a678b99fcda97d69771": {
          "model_module": "@jupyter-widgets/controls",
          "model_name": "HBoxModel",
          "model_module_version": "1.5.0",
          "state": {
            "_dom_classes": [],
            "_model_module": "@jupyter-widgets/controls",
            "_model_module_version": "1.5.0",
            "_model_name": "HBoxModel",
            "_view_count": null,
            "_view_module": "@jupyter-widgets/controls",
            "_view_module_version": "1.5.0",
            "_view_name": "HBoxView",
            "box_style": "",
            "children": [
              "IPY_MODEL_fac76a45674748b9be0a771d3a64bdb3",
              "IPY_MODEL_1bd6b362e50e445e9332bddb8417b1a2",
              "IPY_MODEL_774068811ab34185b556c3037c76517c"
            ],
            "layout": "IPY_MODEL_ff228b39f6604968a4110d9a73c8d623"
          }
        },
        "fac76a45674748b9be0a771d3a64bdb3": {
          "model_module": "@jupyter-widgets/controls",
          "model_name": "HTMLModel",
          "model_module_version": "1.5.0",
          "state": {
            "_dom_classes": [],
            "_model_module": "@jupyter-widgets/controls",
            "_model_module_version": "1.5.0",
            "_model_name": "HTMLModel",
            "_view_count": null,
            "_view_module": "@jupyter-widgets/controls",
            "_view_module_version": "1.5.0",
            "_view_name": "HTMLView",
            "description": "",
            "description_tooltip": null,
            "layout": "IPY_MODEL_b6698eadac6d48b3ac5e636c905d70c5",
            "placeholder": "​",
            "style": "IPY_MODEL_948d8831aca2448d86240a5dba249682",
            "value": "Generating splits...: 100%"
          }
        },
        "1bd6b362e50e445e9332bddb8417b1a2": {
          "model_module": "@jupyter-widgets/controls",
          "model_name": "FloatProgressModel",
          "model_module_version": "1.5.0",
          "state": {
            "_dom_classes": [],
            "_model_module": "@jupyter-widgets/controls",
            "_model_module_version": "1.5.0",
            "_model_name": "FloatProgressModel",
            "_view_count": null,
            "_view_module": "@jupyter-widgets/controls",
            "_view_module_version": "1.5.0",
            "_view_name": "ProgressView",
            "bar_style": "",
            "description": "",
            "description_tooltip": null,
            "layout": "IPY_MODEL_767b0ae7702047f88e8973502fc35237",
            "max": 3,
            "min": 0,
            "orientation": "horizontal",
            "style": "IPY_MODEL_97050cf226cf47fc95937c7a35ce5655",
            "value": 3
          }
        },
        "774068811ab34185b556c3037c76517c": {
          "model_module": "@jupyter-widgets/controls",
          "model_name": "HTMLModel",
          "model_module_version": "1.5.0",
          "state": {
            "_dom_classes": [],
            "_model_module": "@jupyter-widgets/controls",
            "_model_module_version": "1.5.0",
            "_model_name": "HTMLModel",
            "_view_count": null,
            "_view_module": "@jupyter-widgets/controls",
            "_view_module_version": "1.5.0",
            "_view_name": "HTMLView",
            "description": "",
            "description_tooltip": null,
            "layout": "IPY_MODEL_e0bddc0225ed4e9ea486c372294a7316",
            "placeholder": "​",
            "style": "IPY_MODEL_0cdc367adbb14f7b8aec538be6f6f452",
            "value": " 3/3 [00:35&lt;00:00, 12.24s/ splits]"
          }
        },
        "ff228b39f6604968a4110d9a73c8d623": {
          "model_module": "@jupyter-widgets/base",
          "model_name": "LayoutModel",
          "model_module_version": "1.2.0",
          "state": {
            "_model_module": "@jupyter-widgets/base",
            "_model_module_version": "1.2.0",
            "_model_name": "LayoutModel",
            "_view_count": null,
            "_view_module": "@jupyter-widgets/base",
            "_view_module_version": "1.2.0",
            "_view_name": "LayoutView",
            "align_content": null,
            "align_items": null,
            "align_self": null,
            "border": null,
            "bottom": null,
            "display": null,
            "flex": null,
            "flex_flow": null,
            "grid_area": null,
            "grid_auto_columns": null,
            "grid_auto_flow": null,
            "grid_auto_rows": null,
            "grid_column": null,
            "grid_gap": null,
            "grid_row": null,
            "grid_template_areas": null,
            "grid_template_columns": null,
            "grid_template_rows": null,
            "height": null,
            "justify_content": null,
            "justify_items": null,
            "left": null,
            "margin": null,
            "max_height": null,
            "max_width": null,
            "min_height": null,
            "min_width": null,
            "object_fit": null,
            "object_position": null,
            "order": null,
            "overflow": null,
            "overflow_x": null,
            "overflow_y": null,
            "padding": null,
            "right": null,
            "top": null,
            "visibility": "hidden",
            "width": null
          }
        },
        "b6698eadac6d48b3ac5e636c905d70c5": {
          "model_module": "@jupyter-widgets/base",
          "model_name": "LayoutModel",
          "model_module_version": "1.2.0",
          "state": {
            "_model_module": "@jupyter-widgets/base",
            "_model_module_version": "1.2.0",
            "_model_name": "LayoutModel",
            "_view_count": null,
            "_view_module": "@jupyter-widgets/base",
            "_view_module_version": "1.2.0",
            "_view_name": "LayoutView",
            "align_content": null,
            "align_items": null,
            "align_self": null,
            "border": null,
            "bottom": null,
            "display": null,
            "flex": null,
            "flex_flow": null,
            "grid_area": null,
            "grid_auto_columns": null,
            "grid_auto_flow": null,
            "grid_auto_rows": null,
            "grid_column": null,
            "grid_gap": null,
            "grid_row": null,
            "grid_template_areas": null,
            "grid_template_columns": null,
            "grid_template_rows": null,
            "height": null,
            "justify_content": null,
            "justify_items": null,
            "left": null,
            "margin": null,
            "max_height": null,
            "max_width": null,
            "min_height": null,
            "min_width": null,
            "object_fit": null,
            "object_position": null,
            "order": null,
            "overflow": null,
            "overflow_x": null,
            "overflow_y": null,
            "padding": null,
            "right": null,
            "top": null,
            "visibility": null,
            "width": null
          }
        },
        "948d8831aca2448d86240a5dba249682": {
          "model_module": "@jupyter-widgets/controls",
          "model_name": "DescriptionStyleModel",
          "model_module_version": "1.5.0",
          "state": {
            "_model_module": "@jupyter-widgets/controls",
            "_model_module_version": "1.5.0",
            "_model_name": "DescriptionStyleModel",
            "_view_count": null,
            "_view_module": "@jupyter-widgets/base",
            "_view_module_version": "1.2.0",
            "_view_name": "StyleView",
            "description_width": ""
          }
        },
        "767b0ae7702047f88e8973502fc35237": {
          "model_module": "@jupyter-widgets/base",
          "model_name": "LayoutModel",
          "model_module_version": "1.2.0",
          "state": {
            "_model_module": "@jupyter-widgets/base",
            "_model_module_version": "1.2.0",
            "_model_name": "LayoutModel",
            "_view_count": null,
            "_view_module": "@jupyter-widgets/base",
            "_view_module_version": "1.2.0",
            "_view_name": "LayoutView",
            "align_content": null,
            "align_items": null,
            "align_self": null,
            "border": null,
            "bottom": null,
            "display": null,
            "flex": null,
            "flex_flow": null,
            "grid_area": null,
            "grid_auto_columns": null,
            "grid_auto_flow": null,
            "grid_auto_rows": null,
            "grid_column": null,
            "grid_gap": null,
            "grid_row": null,
            "grid_template_areas": null,
            "grid_template_columns": null,
            "grid_template_rows": null,
            "height": null,
            "justify_content": null,
            "justify_items": null,
            "left": null,
            "margin": null,
            "max_height": null,
            "max_width": null,
            "min_height": null,
            "min_width": null,
            "object_fit": null,
            "object_position": null,
            "order": null,
            "overflow": null,
            "overflow_x": null,
            "overflow_y": null,
            "padding": null,
            "right": null,
            "top": null,
            "visibility": null,
            "width": null
          }
        },
        "97050cf226cf47fc95937c7a35ce5655": {
          "model_module": "@jupyter-widgets/controls",
          "model_name": "ProgressStyleModel",
          "model_module_version": "1.5.0",
          "state": {
            "_model_module": "@jupyter-widgets/controls",
            "_model_module_version": "1.5.0",
            "_model_name": "ProgressStyleModel",
            "_view_count": null,
            "_view_module": "@jupyter-widgets/base",
            "_view_module_version": "1.2.0",
            "_view_name": "StyleView",
            "bar_color": null,
            "description_width": ""
          }
        },
        "e0bddc0225ed4e9ea486c372294a7316": {
          "model_module": "@jupyter-widgets/base",
          "model_name": "LayoutModel",
          "model_module_version": "1.2.0",
          "state": {
            "_model_module": "@jupyter-widgets/base",
            "_model_module_version": "1.2.0",
            "_model_name": "LayoutModel",
            "_view_count": null,
            "_view_module": "@jupyter-widgets/base",
            "_view_module_version": "1.2.0",
            "_view_name": "LayoutView",
            "align_content": null,
            "align_items": null,
            "align_self": null,
            "border": null,
            "bottom": null,
            "display": null,
            "flex": null,
            "flex_flow": null,
            "grid_area": null,
            "grid_auto_columns": null,
            "grid_auto_flow": null,
            "grid_auto_rows": null,
            "grid_column": null,
            "grid_gap": null,
            "grid_row": null,
            "grid_template_areas": null,
            "grid_template_columns": null,
            "grid_template_rows": null,
            "height": null,
            "justify_content": null,
            "justify_items": null,
            "left": null,
            "margin": null,
            "max_height": null,
            "max_width": null,
            "min_height": null,
            "min_width": null,
            "object_fit": null,
            "object_position": null,
            "order": null,
            "overflow": null,
            "overflow_x": null,
            "overflow_y": null,
            "padding": null,
            "right": null,
            "top": null,
            "visibility": null,
            "width": null
          }
        },
        "0cdc367adbb14f7b8aec538be6f6f452": {
          "model_module": "@jupyter-widgets/controls",
          "model_name": "DescriptionStyleModel",
          "model_module_version": "1.5.0",
          "state": {
            "_model_module": "@jupyter-widgets/controls",
            "_model_module_version": "1.5.0",
            "_model_name": "DescriptionStyleModel",
            "_view_count": null,
            "_view_module": "@jupyter-widgets/base",
            "_view_module_version": "1.2.0",
            "_view_name": "StyleView",
            "description_width": ""
          }
        },
        "94253cf69cbb4ed1913d7789b360f179": {
          "model_module": "@jupyter-widgets/controls",
          "model_name": "HBoxModel",
          "model_module_version": "1.5.0",
          "state": {
            "_dom_classes": [],
            "_model_module": "@jupyter-widgets/controls",
            "_model_module_version": "1.5.0",
            "_model_name": "HBoxModel",
            "_view_count": null,
            "_view_module": "@jupyter-widgets/controls",
            "_view_module_version": "1.5.0",
            "_view_name": "HBoxView",
            "box_style": "",
            "children": [
              "IPY_MODEL_dc9de2aae09c457099830a0893d31a07",
              "IPY_MODEL_54ddb565e05c40c09ae6b81efe591599",
              "IPY_MODEL_06d1ea2a8b104a3ba6ff2511e275be5b"
            ],
            "layout": "IPY_MODEL_497b1b19b84e4a1fafe562bf3bd18272"
          }
        },
        "dc9de2aae09c457099830a0893d31a07": {
          "model_module": "@jupyter-widgets/controls",
          "model_name": "HTMLModel",
          "model_module_version": "1.5.0",
          "state": {
            "_dom_classes": [],
            "_model_module": "@jupyter-widgets/controls",
            "_model_module_version": "1.5.0",
            "_model_name": "HTMLModel",
            "_view_count": null,
            "_view_module": "@jupyter-widgets/controls",
            "_view_module_version": "1.5.0",
            "_view_name": "HTMLView",
            "description": "",
            "description_tooltip": null,
            "layout": "IPY_MODEL_7bca30187b03430a8cb798e25ef4e282",
            "placeholder": "​",
            "style": "IPY_MODEL_314f5303b4744a33965f3d5e74eb45fe",
            "value": "Generating train examples...:  97%"
          }
        },
        "54ddb565e05c40c09ae6b81efe591599": {
          "model_module": "@jupyter-widgets/controls",
          "model_name": "FloatProgressModel",
          "model_module_version": "1.5.0",
          "state": {
            "_dom_classes": [],
            "_model_module": "@jupyter-widgets/controls",
            "_model_module_version": "1.5.0",
            "_model_name": "FloatProgressModel",
            "_view_count": null,
            "_view_module": "@jupyter-widgets/controls",
            "_view_module_version": "1.5.0",
            "_view_name": "ProgressView",
            "bar_style": "",
            "description": "",
            "description_tooltip": null,
            "layout": "IPY_MODEL_6be5ef6820ae4c5ab8fae50ddfe05576",
            "max": 25000,
            "min": 0,
            "orientation": "horizontal",
            "style": "IPY_MODEL_094b9cbdafff4cfe8a97d5da8533f8a8",
            "value": 25000
          }
        },
        "06d1ea2a8b104a3ba6ff2511e275be5b": {
          "model_module": "@jupyter-widgets/controls",
          "model_name": "HTMLModel",
          "model_module_version": "1.5.0",
          "state": {
            "_dom_classes": [],
            "_model_module": "@jupyter-widgets/controls",
            "_model_module_version": "1.5.0",
            "_model_name": "HTMLModel",
            "_view_count": null,
            "_view_module": "@jupyter-widgets/controls",
            "_view_module_version": "1.5.0",
            "_view_name": "HTMLView",
            "description": "",
            "description_tooltip": null,
            "layout": "IPY_MODEL_b8281bc3dda743c7bbc4ec1827bd7131",
            "placeholder": "​",
            "style": "IPY_MODEL_eed2995c9b84459fb34cd7214d8064cf",
            "value": " 24132/25000 [00:07&lt;00:00, 4572.33 examples/s]"
          }
        },
        "497b1b19b84e4a1fafe562bf3bd18272": {
          "model_module": "@jupyter-widgets/base",
          "model_name": "LayoutModel",
          "model_module_version": "1.2.0",
          "state": {
            "_model_module": "@jupyter-widgets/base",
            "_model_module_version": "1.2.0",
            "_model_name": "LayoutModel",
            "_view_count": null,
            "_view_module": "@jupyter-widgets/base",
            "_view_module_version": "1.2.0",
            "_view_name": "LayoutView",
            "align_content": null,
            "align_items": null,
            "align_self": null,
            "border": null,
            "bottom": null,
            "display": null,
            "flex": null,
            "flex_flow": null,
            "grid_area": null,
            "grid_auto_columns": null,
            "grid_auto_flow": null,
            "grid_auto_rows": null,
            "grid_column": null,
            "grid_gap": null,
            "grid_row": null,
            "grid_template_areas": null,
            "grid_template_columns": null,
            "grid_template_rows": null,
            "height": null,
            "justify_content": null,
            "justify_items": null,
            "left": null,
            "margin": null,
            "max_height": null,
            "max_width": null,
            "min_height": null,
            "min_width": null,
            "object_fit": null,
            "object_position": null,
            "order": null,
            "overflow": null,
            "overflow_x": null,
            "overflow_y": null,
            "padding": null,
            "right": null,
            "top": null,
            "visibility": "hidden",
            "width": null
          }
        },
        "7bca30187b03430a8cb798e25ef4e282": {
          "model_module": "@jupyter-widgets/base",
          "model_name": "LayoutModel",
          "model_module_version": "1.2.0",
          "state": {
            "_model_module": "@jupyter-widgets/base",
            "_model_module_version": "1.2.0",
            "_model_name": "LayoutModel",
            "_view_count": null,
            "_view_module": "@jupyter-widgets/base",
            "_view_module_version": "1.2.0",
            "_view_name": "LayoutView",
            "align_content": null,
            "align_items": null,
            "align_self": null,
            "border": null,
            "bottom": null,
            "display": null,
            "flex": null,
            "flex_flow": null,
            "grid_area": null,
            "grid_auto_columns": null,
            "grid_auto_flow": null,
            "grid_auto_rows": null,
            "grid_column": null,
            "grid_gap": null,
            "grid_row": null,
            "grid_template_areas": null,
            "grid_template_columns": null,
            "grid_template_rows": null,
            "height": null,
            "justify_content": null,
            "justify_items": null,
            "left": null,
            "margin": null,
            "max_height": null,
            "max_width": null,
            "min_height": null,
            "min_width": null,
            "object_fit": null,
            "object_position": null,
            "order": null,
            "overflow": null,
            "overflow_x": null,
            "overflow_y": null,
            "padding": null,
            "right": null,
            "top": null,
            "visibility": null,
            "width": null
          }
        },
        "314f5303b4744a33965f3d5e74eb45fe": {
          "model_module": "@jupyter-widgets/controls",
          "model_name": "DescriptionStyleModel",
          "model_module_version": "1.5.0",
          "state": {
            "_model_module": "@jupyter-widgets/controls",
            "_model_module_version": "1.5.0",
            "_model_name": "DescriptionStyleModel",
            "_view_count": null,
            "_view_module": "@jupyter-widgets/base",
            "_view_module_version": "1.2.0",
            "_view_name": "StyleView",
            "description_width": ""
          }
        },
        "6be5ef6820ae4c5ab8fae50ddfe05576": {
          "model_module": "@jupyter-widgets/base",
          "model_name": "LayoutModel",
          "model_module_version": "1.2.0",
          "state": {
            "_model_module": "@jupyter-widgets/base",
            "_model_module_version": "1.2.0",
            "_model_name": "LayoutModel",
            "_view_count": null,
            "_view_module": "@jupyter-widgets/base",
            "_view_module_version": "1.2.0",
            "_view_name": "LayoutView",
            "align_content": null,
            "align_items": null,
            "align_self": null,
            "border": null,
            "bottom": null,
            "display": null,
            "flex": null,
            "flex_flow": null,
            "grid_area": null,
            "grid_auto_columns": null,
            "grid_auto_flow": null,
            "grid_auto_rows": null,
            "grid_column": null,
            "grid_gap": null,
            "grid_row": null,
            "grid_template_areas": null,
            "grid_template_columns": null,
            "grid_template_rows": null,
            "height": null,
            "justify_content": null,
            "justify_items": null,
            "left": null,
            "margin": null,
            "max_height": null,
            "max_width": null,
            "min_height": null,
            "min_width": null,
            "object_fit": null,
            "object_position": null,
            "order": null,
            "overflow": null,
            "overflow_x": null,
            "overflow_y": null,
            "padding": null,
            "right": null,
            "top": null,
            "visibility": null,
            "width": null
          }
        },
        "094b9cbdafff4cfe8a97d5da8533f8a8": {
          "model_module": "@jupyter-widgets/controls",
          "model_name": "ProgressStyleModel",
          "model_module_version": "1.5.0",
          "state": {
            "_model_module": "@jupyter-widgets/controls",
            "_model_module_version": "1.5.0",
            "_model_name": "ProgressStyleModel",
            "_view_count": null,
            "_view_module": "@jupyter-widgets/base",
            "_view_module_version": "1.2.0",
            "_view_name": "StyleView",
            "bar_color": null,
            "description_width": ""
          }
        },
        "b8281bc3dda743c7bbc4ec1827bd7131": {
          "model_module": "@jupyter-widgets/base",
          "model_name": "LayoutModel",
          "model_module_version": "1.2.0",
          "state": {
            "_model_module": "@jupyter-widgets/base",
            "_model_module_version": "1.2.0",
            "_model_name": "LayoutModel",
            "_view_count": null,
            "_view_module": "@jupyter-widgets/base",
            "_view_module_version": "1.2.0",
            "_view_name": "LayoutView",
            "align_content": null,
            "align_items": null,
            "align_self": null,
            "border": null,
            "bottom": null,
            "display": null,
            "flex": null,
            "flex_flow": null,
            "grid_area": null,
            "grid_auto_columns": null,
            "grid_auto_flow": null,
            "grid_auto_rows": null,
            "grid_column": null,
            "grid_gap": null,
            "grid_row": null,
            "grid_template_areas": null,
            "grid_template_columns": null,
            "grid_template_rows": null,
            "height": null,
            "justify_content": null,
            "justify_items": null,
            "left": null,
            "margin": null,
            "max_height": null,
            "max_width": null,
            "min_height": null,
            "min_width": null,
            "object_fit": null,
            "object_position": null,
            "order": null,
            "overflow": null,
            "overflow_x": null,
            "overflow_y": null,
            "padding": null,
            "right": null,
            "top": null,
            "visibility": null,
            "width": null
          }
        },
        "eed2995c9b84459fb34cd7214d8064cf": {
          "model_module": "@jupyter-widgets/controls",
          "model_name": "DescriptionStyleModel",
          "model_module_version": "1.5.0",
          "state": {
            "_model_module": "@jupyter-widgets/controls",
            "_model_module_version": "1.5.0",
            "_model_name": "DescriptionStyleModel",
            "_view_count": null,
            "_view_module": "@jupyter-widgets/base",
            "_view_module_version": "1.2.0",
            "_view_name": "StyleView",
            "description_width": ""
          }
        },
        "d8fefb1547a34ce0a3a0c2e37165617d": {
          "model_module": "@jupyter-widgets/controls",
          "model_name": "HBoxModel",
          "model_module_version": "1.5.0",
          "state": {
            "_dom_classes": [],
            "_model_module": "@jupyter-widgets/controls",
            "_model_module_version": "1.5.0",
            "_model_name": "HBoxModel",
            "_view_count": null,
            "_view_module": "@jupyter-widgets/controls",
            "_view_module_version": "1.5.0",
            "_view_name": "HBoxView",
            "box_style": "",
            "children": [
              "IPY_MODEL_d6fc39c595b24c1ea49ff2b7274e0448",
              "IPY_MODEL_5254dbb5af624e24be036ecae704c0d3",
              "IPY_MODEL_222e68ecbad3446080e1aaf3698ae959"
            ],
            "layout": "IPY_MODEL_b5f1f41967e44560b7e00817f835d8f5"
          }
        },
        "d6fc39c595b24c1ea49ff2b7274e0448": {
          "model_module": "@jupyter-widgets/controls",
          "model_name": "HTMLModel",
          "model_module_version": "1.5.0",
          "state": {
            "_dom_classes": [],
            "_model_module": "@jupyter-widgets/controls",
            "_model_module_version": "1.5.0",
            "_model_name": "HTMLModel",
            "_view_count": null,
            "_view_module": "@jupyter-widgets/controls",
            "_view_module_version": "1.5.0",
            "_view_name": "HTMLView",
            "description": "",
            "description_tooltip": null,
            "layout": "IPY_MODEL_3cfbe5f37228471b87e9cc71599ee749",
            "placeholder": "​",
            "style": "IPY_MODEL_f8d17cdd901849f8a4fcd751e49df358",
            "value": "Shuffling /root/tensorflow_datasets/imdb_reviews/plain_text/incomplete.6HEVTY_1.0.0/imdb_reviews-train.tfrecord*...:   0%"
          }
        },
        "5254dbb5af624e24be036ecae704c0d3": {
          "model_module": "@jupyter-widgets/controls",
          "model_name": "FloatProgressModel",
          "model_module_version": "1.5.0",
          "state": {
            "_dom_classes": [],
            "_model_module": "@jupyter-widgets/controls",
            "_model_module_version": "1.5.0",
            "_model_name": "FloatProgressModel",
            "_view_count": null,
            "_view_module": "@jupyter-widgets/controls",
            "_view_module_version": "1.5.0",
            "_view_name": "ProgressView",
            "bar_style": "",
            "description": "",
            "description_tooltip": null,
            "layout": "IPY_MODEL_93da7385db9540499d4ad5678f9fa1af",
            "max": 25000,
            "min": 0,
            "orientation": "horizontal",
            "style": "IPY_MODEL_7ec4d8f68c954540b09af0bccff3a505",
            "value": 25000
          }
        },
        "222e68ecbad3446080e1aaf3698ae959": {
          "model_module": "@jupyter-widgets/controls",
          "model_name": "HTMLModel",
          "model_module_version": "1.5.0",
          "state": {
            "_dom_classes": [],
            "_model_module": "@jupyter-widgets/controls",
            "_model_module_version": "1.5.0",
            "_model_name": "HTMLModel",
            "_view_count": null,
            "_view_module": "@jupyter-widgets/controls",
            "_view_module_version": "1.5.0",
            "_view_name": "HTMLView",
            "description": "",
            "description_tooltip": null,
            "layout": "IPY_MODEL_e703a9db8a1849d68f0d197f26f4d674",
            "placeholder": "​",
            "style": "IPY_MODEL_2955750aef1240b5b0d1fc2956a55b84",
            "value": " 0/25000 [00:00&lt;?, ? examples/s]"
          }
        },
        "b5f1f41967e44560b7e00817f835d8f5": {
          "model_module": "@jupyter-widgets/base",
          "model_name": "LayoutModel",
          "model_module_version": "1.2.0",
          "state": {
            "_model_module": "@jupyter-widgets/base",
            "_model_module_version": "1.2.0",
            "_model_name": "LayoutModel",
            "_view_count": null,
            "_view_module": "@jupyter-widgets/base",
            "_view_module_version": "1.2.0",
            "_view_name": "LayoutView",
            "align_content": null,
            "align_items": null,
            "align_self": null,
            "border": null,
            "bottom": null,
            "display": null,
            "flex": null,
            "flex_flow": null,
            "grid_area": null,
            "grid_auto_columns": null,
            "grid_auto_flow": null,
            "grid_auto_rows": null,
            "grid_column": null,
            "grid_gap": null,
            "grid_row": null,
            "grid_template_areas": null,
            "grid_template_columns": null,
            "grid_template_rows": null,
            "height": null,
            "justify_content": null,
            "justify_items": null,
            "left": null,
            "margin": null,
            "max_height": null,
            "max_width": null,
            "min_height": null,
            "min_width": null,
            "object_fit": null,
            "object_position": null,
            "order": null,
            "overflow": null,
            "overflow_x": null,
            "overflow_y": null,
            "padding": null,
            "right": null,
            "top": null,
            "visibility": "hidden",
            "width": null
          }
        },
        "3cfbe5f37228471b87e9cc71599ee749": {
          "model_module": "@jupyter-widgets/base",
          "model_name": "LayoutModel",
          "model_module_version": "1.2.0",
          "state": {
            "_model_module": "@jupyter-widgets/base",
            "_model_module_version": "1.2.0",
            "_model_name": "LayoutModel",
            "_view_count": null,
            "_view_module": "@jupyter-widgets/base",
            "_view_module_version": "1.2.0",
            "_view_name": "LayoutView",
            "align_content": null,
            "align_items": null,
            "align_self": null,
            "border": null,
            "bottom": null,
            "display": null,
            "flex": null,
            "flex_flow": null,
            "grid_area": null,
            "grid_auto_columns": null,
            "grid_auto_flow": null,
            "grid_auto_rows": null,
            "grid_column": null,
            "grid_gap": null,
            "grid_row": null,
            "grid_template_areas": null,
            "grid_template_columns": null,
            "grid_template_rows": null,
            "height": null,
            "justify_content": null,
            "justify_items": null,
            "left": null,
            "margin": null,
            "max_height": null,
            "max_width": null,
            "min_height": null,
            "min_width": null,
            "object_fit": null,
            "object_position": null,
            "order": null,
            "overflow": null,
            "overflow_x": null,
            "overflow_y": null,
            "padding": null,
            "right": null,
            "top": null,
            "visibility": null,
            "width": null
          }
        },
        "f8d17cdd901849f8a4fcd751e49df358": {
          "model_module": "@jupyter-widgets/controls",
          "model_name": "DescriptionStyleModel",
          "model_module_version": "1.5.0",
          "state": {
            "_model_module": "@jupyter-widgets/controls",
            "_model_module_version": "1.5.0",
            "_model_name": "DescriptionStyleModel",
            "_view_count": null,
            "_view_module": "@jupyter-widgets/base",
            "_view_module_version": "1.2.0",
            "_view_name": "StyleView",
            "description_width": ""
          }
        },
        "93da7385db9540499d4ad5678f9fa1af": {
          "model_module": "@jupyter-widgets/base",
          "model_name": "LayoutModel",
          "model_module_version": "1.2.0",
          "state": {
            "_model_module": "@jupyter-widgets/base",
            "_model_module_version": "1.2.0",
            "_model_name": "LayoutModel",
            "_view_count": null,
            "_view_module": "@jupyter-widgets/base",
            "_view_module_version": "1.2.0",
            "_view_name": "LayoutView",
            "align_content": null,
            "align_items": null,
            "align_self": null,
            "border": null,
            "bottom": null,
            "display": null,
            "flex": null,
            "flex_flow": null,
            "grid_area": null,
            "grid_auto_columns": null,
            "grid_auto_flow": null,
            "grid_auto_rows": null,
            "grid_column": null,
            "grid_gap": null,
            "grid_row": null,
            "grid_template_areas": null,
            "grid_template_columns": null,
            "grid_template_rows": null,
            "height": null,
            "justify_content": null,
            "justify_items": null,
            "left": null,
            "margin": null,
            "max_height": null,
            "max_width": null,
            "min_height": null,
            "min_width": null,
            "object_fit": null,
            "object_position": null,
            "order": null,
            "overflow": null,
            "overflow_x": null,
            "overflow_y": null,
            "padding": null,
            "right": null,
            "top": null,
            "visibility": null,
            "width": null
          }
        },
        "7ec4d8f68c954540b09af0bccff3a505": {
          "model_module": "@jupyter-widgets/controls",
          "model_name": "ProgressStyleModel",
          "model_module_version": "1.5.0",
          "state": {
            "_model_module": "@jupyter-widgets/controls",
            "_model_module_version": "1.5.0",
            "_model_name": "ProgressStyleModel",
            "_view_count": null,
            "_view_module": "@jupyter-widgets/base",
            "_view_module_version": "1.2.0",
            "_view_name": "StyleView",
            "bar_color": null,
            "description_width": ""
          }
        },
        "e703a9db8a1849d68f0d197f26f4d674": {
          "model_module": "@jupyter-widgets/base",
          "model_name": "LayoutModel",
          "model_module_version": "1.2.0",
          "state": {
            "_model_module": "@jupyter-widgets/base",
            "_model_module_version": "1.2.0",
            "_model_name": "LayoutModel",
            "_view_count": null,
            "_view_module": "@jupyter-widgets/base",
            "_view_module_version": "1.2.0",
            "_view_name": "LayoutView",
            "align_content": null,
            "align_items": null,
            "align_self": null,
            "border": null,
            "bottom": null,
            "display": null,
            "flex": null,
            "flex_flow": null,
            "grid_area": null,
            "grid_auto_columns": null,
            "grid_auto_flow": null,
            "grid_auto_rows": null,
            "grid_column": null,
            "grid_gap": null,
            "grid_row": null,
            "grid_template_areas": null,
            "grid_template_columns": null,
            "grid_template_rows": null,
            "height": null,
            "justify_content": null,
            "justify_items": null,
            "left": null,
            "margin": null,
            "max_height": null,
            "max_width": null,
            "min_height": null,
            "min_width": null,
            "object_fit": null,
            "object_position": null,
            "order": null,
            "overflow": null,
            "overflow_x": null,
            "overflow_y": null,
            "padding": null,
            "right": null,
            "top": null,
            "visibility": null,
            "width": null
          }
        },
        "2955750aef1240b5b0d1fc2956a55b84": {
          "model_module": "@jupyter-widgets/controls",
          "model_name": "DescriptionStyleModel",
          "model_module_version": "1.5.0",
          "state": {
            "_model_module": "@jupyter-widgets/controls",
            "_model_module_version": "1.5.0",
            "_model_name": "DescriptionStyleModel",
            "_view_count": null,
            "_view_module": "@jupyter-widgets/base",
            "_view_module_version": "1.2.0",
            "_view_name": "StyleView",
            "description_width": ""
          }
        },
        "173abf624fa048368ddce338b9d1f527": {
          "model_module": "@jupyter-widgets/controls",
          "model_name": "HBoxModel",
          "model_module_version": "1.5.0",
          "state": {
            "_dom_classes": [],
            "_model_module": "@jupyter-widgets/controls",
            "_model_module_version": "1.5.0",
            "_model_name": "HBoxModel",
            "_view_count": null,
            "_view_module": "@jupyter-widgets/controls",
            "_view_module_version": "1.5.0",
            "_view_name": "HBoxView",
            "box_style": "",
            "children": [
              "IPY_MODEL_8ad6ebb1e30848c4b07a88a93865507e",
              "IPY_MODEL_d78a5d9099a940aeb5592bf41f68e2c2",
              "IPY_MODEL_76655d8f92424518b7056443354ce8c0"
            ],
            "layout": "IPY_MODEL_53e176123bab4e8183da106ff474440c"
          }
        },
        "8ad6ebb1e30848c4b07a88a93865507e": {
          "model_module": "@jupyter-widgets/controls",
          "model_name": "HTMLModel",
          "model_module_version": "1.5.0",
          "state": {
            "_dom_classes": [],
            "_model_module": "@jupyter-widgets/controls",
            "_model_module_version": "1.5.0",
            "_model_name": "HTMLModel",
            "_view_count": null,
            "_view_module": "@jupyter-widgets/controls",
            "_view_module_version": "1.5.0",
            "_view_name": "HTMLView",
            "description": "",
            "description_tooltip": null,
            "layout": "IPY_MODEL_eba86846e3ed462ab69b577c8a391a08",
            "placeholder": "​",
            "style": "IPY_MODEL_a4c5e5fd97c7476ca4d8e69b3d0079ee",
            "value": "Generating test examples...:  98%"
          }
        },
        "d78a5d9099a940aeb5592bf41f68e2c2": {
          "model_module": "@jupyter-widgets/controls",
          "model_name": "FloatProgressModel",
          "model_module_version": "1.5.0",
          "state": {
            "_dom_classes": [],
            "_model_module": "@jupyter-widgets/controls",
            "_model_module_version": "1.5.0",
            "_model_name": "FloatProgressModel",
            "_view_count": null,
            "_view_module": "@jupyter-widgets/controls",
            "_view_module_version": "1.5.0",
            "_view_name": "ProgressView",
            "bar_style": "",
            "description": "",
            "description_tooltip": null,
            "layout": "IPY_MODEL_0946f054a0bc4b7084206e0260461746",
            "max": 25000,
            "min": 0,
            "orientation": "horizontal",
            "style": "IPY_MODEL_786fc9ddb58d4085b97d88d15871943e",
            "value": 25000
          }
        },
        "76655d8f92424518b7056443354ce8c0": {
          "model_module": "@jupyter-widgets/controls",
          "model_name": "HTMLModel",
          "model_module_version": "1.5.0",
          "state": {
            "_dom_classes": [],
            "_model_module": "@jupyter-widgets/controls",
            "_model_module_version": "1.5.0",
            "_model_name": "HTMLModel",
            "_view_count": null,
            "_view_module": "@jupyter-widgets/controls",
            "_view_module_version": "1.5.0",
            "_view_name": "HTMLView",
            "description": "",
            "description_tooltip": null,
            "layout": "IPY_MODEL_a1f459ddb35d468ab79135e91e725328",
            "placeholder": "​",
            "style": "IPY_MODEL_87af60b996fb49c2b6b621bbdc4234da",
            "value": " 24405/25000 [00:05&lt;00:00, 4517.74 examples/s]"
          }
        },
        "53e176123bab4e8183da106ff474440c": {
          "model_module": "@jupyter-widgets/base",
          "model_name": "LayoutModel",
          "model_module_version": "1.2.0",
          "state": {
            "_model_module": "@jupyter-widgets/base",
            "_model_module_version": "1.2.0",
            "_model_name": "LayoutModel",
            "_view_count": null,
            "_view_module": "@jupyter-widgets/base",
            "_view_module_version": "1.2.0",
            "_view_name": "LayoutView",
            "align_content": null,
            "align_items": null,
            "align_self": null,
            "border": null,
            "bottom": null,
            "display": null,
            "flex": null,
            "flex_flow": null,
            "grid_area": null,
            "grid_auto_columns": null,
            "grid_auto_flow": null,
            "grid_auto_rows": null,
            "grid_column": null,
            "grid_gap": null,
            "grid_row": null,
            "grid_template_areas": null,
            "grid_template_columns": null,
            "grid_template_rows": null,
            "height": null,
            "justify_content": null,
            "justify_items": null,
            "left": null,
            "margin": null,
            "max_height": null,
            "max_width": null,
            "min_height": null,
            "min_width": null,
            "object_fit": null,
            "object_position": null,
            "order": null,
            "overflow": null,
            "overflow_x": null,
            "overflow_y": null,
            "padding": null,
            "right": null,
            "top": null,
            "visibility": "hidden",
            "width": null
          }
        },
        "eba86846e3ed462ab69b577c8a391a08": {
          "model_module": "@jupyter-widgets/base",
          "model_name": "LayoutModel",
          "model_module_version": "1.2.0",
          "state": {
            "_model_module": "@jupyter-widgets/base",
            "_model_module_version": "1.2.0",
            "_model_name": "LayoutModel",
            "_view_count": null,
            "_view_module": "@jupyter-widgets/base",
            "_view_module_version": "1.2.0",
            "_view_name": "LayoutView",
            "align_content": null,
            "align_items": null,
            "align_self": null,
            "border": null,
            "bottom": null,
            "display": null,
            "flex": null,
            "flex_flow": null,
            "grid_area": null,
            "grid_auto_columns": null,
            "grid_auto_flow": null,
            "grid_auto_rows": null,
            "grid_column": null,
            "grid_gap": null,
            "grid_row": null,
            "grid_template_areas": null,
            "grid_template_columns": null,
            "grid_template_rows": null,
            "height": null,
            "justify_content": null,
            "justify_items": null,
            "left": null,
            "margin": null,
            "max_height": null,
            "max_width": null,
            "min_height": null,
            "min_width": null,
            "object_fit": null,
            "object_position": null,
            "order": null,
            "overflow": null,
            "overflow_x": null,
            "overflow_y": null,
            "padding": null,
            "right": null,
            "top": null,
            "visibility": null,
            "width": null
          }
        },
        "a4c5e5fd97c7476ca4d8e69b3d0079ee": {
          "model_module": "@jupyter-widgets/controls",
          "model_name": "DescriptionStyleModel",
          "model_module_version": "1.5.0",
          "state": {
            "_model_module": "@jupyter-widgets/controls",
            "_model_module_version": "1.5.0",
            "_model_name": "DescriptionStyleModel",
            "_view_count": null,
            "_view_module": "@jupyter-widgets/base",
            "_view_module_version": "1.2.0",
            "_view_name": "StyleView",
            "description_width": ""
          }
        },
        "0946f054a0bc4b7084206e0260461746": {
          "model_module": "@jupyter-widgets/base",
          "model_name": "LayoutModel",
          "model_module_version": "1.2.0",
          "state": {
            "_model_module": "@jupyter-widgets/base",
            "_model_module_version": "1.2.0",
            "_model_name": "LayoutModel",
            "_view_count": null,
            "_view_module": "@jupyter-widgets/base",
            "_view_module_version": "1.2.0",
            "_view_name": "LayoutView",
            "align_content": null,
            "align_items": null,
            "align_self": null,
            "border": null,
            "bottom": null,
            "display": null,
            "flex": null,
            "flex_flow": null,
            "grid_area": null,
            "grid_auto_columns": null,
            "grid_auto_flow": null,
            "grid_auto_rows": null,
            "grid_column": null,
            "grid_gap": null,
            "grid_row": null,
            "grid_template_areas": null,
            "grid_template_columns": null,
            "grid_template_rows": null,
            "height": null,
            "justify_content": null,
            "justify_items": null,
            "left": null,
            "margin": null,
            "max_height": null,
            "max_width": null,
            "min_height": null,
            "min_width": null,
            "object_fit": null,
            "object_position": null,
            "order": null,
            "overflow": null,
            "overflow_x": null,
            "overflow_y": null,
            "padding": null,
            "right": null,
            "top": null,
            "visibility": null,
            "width": null
          }
        },
        "786fc9ddb58d4085b97d88d15871943e": {
          "model_module": "@jupyter-widgets/controls",
          "model_name": "ProgressStyleModel",
          "model_module_version": "1.5.0",
          "state": {
            "_model_module": "@jupyter-widgets/controls",
            "_model_module_version": "1.5.0",
            "_model_name": "ProgressStyleModel",
            "_view_count": null,
            "_view_module": "@jupyter-widgets/base",
            "_view_module_version": "1.2.0",
            "_view_name": "StyleView",
            "bar_color": null,
            "description_width": ""
          }
        },
        "a1f459ddb35d468ab79135e91e725328": {
          "model_module": "@jupyter-widgets/base",
          "model_name": "LayoutModel",
          "model_module_version": "1.2.0",
          "state": {
            "_model_module": "@jupyter-widgets/base",
            "_model_module_version": "1.2.0",
            "_model_name": "LayoutModel",
            "_view_count": null,
            "_view_module": "@jupyter-widgets/base",
            "_view_module_version": "1.2.0",
            "_view_name": "LayoutView",
            "align_content": null,
            "align_items": null,
            "align_self": null,
            "border": null,
            "bottom": null,
            "display": null,
            "flex": null,
            "flex_flow": null,
            "grid_area": null,
            "grid_auto_columns": null,
            "grid_auto_flow": null,
            "grid_auto_rows": null,
            "grid_column": null,
            "grid_gap": null,
            "grid_row": null,
            "grid_template_areas": null,
            "grid_template_columns": null,
            "grid_template_rows": null,
            "height": null,
            "justify_content": null,
            "justify_items": null,
            "left": null,
            "margin": null,
            "max_height": null,
            "max_width": null,
            "min_height": null,
            "min_width": null,
            "object_fit": null,
            "object_position": null,
            "order": null,
            "overflow": null,
            "overflow_x": null,
            "overflow_y": null,
            "padding": null,
            "right": null,
            "top": null,
            "visibility": null,
            "width": null
          }
        },
        "87af60b996fb49c2b6b621bbdc4234da": {
          "model_module": "@jupyter-widgets/controls",
          "model_name": "DescriptionStyleModel",
          "model_module_version": "1.5.0",
          "state": {
            "_model_module": "@jupyter-widgets/controls",
            "_model_module_version": "1.5.0",
            "_model_name": "DescriptionStyleModel",
            "_view_count": null,
            "_view_module": "@jupyter-widgets/base",
            "_view_module_version": "1.2.0",
            "_view_name": "StyleView",
            "description_width": ""
          }
        },
        "e6f50acc7bac447fb3a0f4046e442275": {
          "model_module": "@jupyter-widgets/controls",
          "model_name": "HBoxModel",
          "model_module_version": "1.5.0",
          "state": {
            "_dom_classes": [],
            "_model_module": "@jupyter-widgets/controls",
            "_model_module_version": "1.5.0",
            "_model_name": "HBoxModel",
            "_view_count": null,
            "_view_module": "@jupyter-widgets/controls",
            "_view_module_version": "1.5.0",
            "_view_name": "HBoxView",
            "box_style": "",
            "children": [
              "IPY_MODEL_4042ee2a671b487fab9a532dc1e859da",
              "IPY_MODEL_d73d158909304c7abb583391385a2c2d",
              "IPY_MODEL_cf260bcf7343438189c655b985e88e31"
            ],
            "layout": "IPY_MODEL_628857b075504f17a672fbe9cf83257f"
          }
        },
        "4042ee2a671b487fab9a532dc1e859da": {
          "model_module": "@jupyter-widgets/controls",
          "model_name": "HTMLModel",
          "model_module_version": "1.5.0",
          "state": {
            "_dom_classes": [],
            "_model_module": "@jupyter-widgets/controls",
            "_model_module_version": "1.5.0",
            "_model_name": "HTMLModel",
            "_view_count": null,
            "_view_module": "@jupyter-widgets/controls",
            "_view_module_version": "1.5.0",
            "_view_name": "HTMLView",
            "description": "",
            "description_tooltip": null,
            "layout": "IPY_MODEL_c319434b2512408786b6096787d37928",
            "placeholder": "​",
            "style": "IPY_MODEL_c7bc8854cb834397b17f438bb988b5b7",
            "value": "Shuffling /root/tensorflow_datasets/imdb_reviews/plain_text/incomplete.6HEVTY_1.0.0/imdb_reviews-test.tfrecord*...:   0%"
          }
        },
        "d73d158909304c7abb583391385a2c2d": {
          "model_module": "@jupyter-widgets/controls",
          "model_name": "FloatProgressModel",
          "model_module_version": "1.5.0",
          "state": {
            "_dom_classes": [],
            "_model_module": "@jupyter-widgets/controls",
            "_model_module_version": "1.5.0",
            "_model_name": "FloatProgressModel",
            "_view_count": null,
            "_view_module": "@jupyter-widgets/controls",
            "_view_module_version": "1.5.0",
            "_view_name": "ProgressView",
            "bar_style": "",
            "description": "",
            "description_tooltip": null,
            "layout": "IPY_MODEL_bba4ec3984564b1bb2cf67218999e489",
            "max": 25000,
            "min": 0,
            "orientation": "horizontal",
            "style": "IPY_MODEL_6d4fbb1ea92b4e56ad84106bc697fa16",
            "value": 25000
          }
        },
        "cf260bcf7343438189c655b985e88e31": {
          "model_module": "@jupyter-widgets/controls",
          "model_name": "HTMLModel",
          "model_module_version": "1.5.0",
          "state": {
            "_dom_classes": [],
            "_model_module": "@jupyter-widgets/controls",
            "_model_module_version": "1.5.0",
            "_model_name": "HTMLModel",
            "_view_count": null,
            "_view_module": "@jupyter-widgets/controls",
            "_view_module_version": "1.5.0",
            "_view_name": "HTMLView",
            "description": "",
            "description_tooltip": null,
            "layout": "IPY_MODEL_aa60421a7fb04ca0aacb85fcd22b2959",
            "placeholder": "​",
            "style": "IPY_MODEL_6262657f70024ede98b9d9a4745a2704",
            "value": " 0/25000 [00:00&lt;?, ? examples/s]"
          }
        },
        "628857b075504f17a672fbe9cf83257f": {
          "model_module": "@jupyter-widgets/base",
          "model_name": "LayoutModel",
          "model_module_version": "1.2.0",
          "state": {
            "_model_module": "@jupyter-widgets/base",
            "_model_module_version": "1.2.0",
            "_model_name": "LayoutModel",
            "_view_count": null,
            "_view_module": "@jupyter-widgets/base",
            "_view_module_version": "1.2.0",
            "_view_name": "LayoutView",
            "align_content": null,
            "align_items": null,
            "align_self": null,
            "border": null,
            "bottom": null,
            "display": null,
            "flex": null,
            "flex_flow": null,
            "grid_area": null,
            "grid_auto_columns": null,
            "grid_auto_flow": null,
            "grid_auto_rows": null,
            "grid_column": null,
            "grid_gap": null,
            "grid_row": null,
            "grid_template_areas": null,
            "grid_template_columns": null,
            "grid_template_rows": null,
            "height": null,
            "justify_content": null,
            "justify_items": null,
            "left": null,
            "margin": null,
            "max_height": null,
            "max_width": null,
            "min_height": null,
            "min_width": null,
            "object_fit": null,
            "object_position": null,
            "order": null,
            "overflow": null,
            "overflow_x": null,
            "overflow_y": null,
            "padding": null,
            "right": null,
            "top": null,
            "visibility": "hidden",
            "width": null
          }
        },
        "c319434b2512408786b6096787d37928": {
          "model_module": "@jupyter-widgets/base",
          "model_name": "LayoutModel",
          "model_module_version": "1.2.0",
          "state": {
            "_model_module": "@jupyter-widgets/base",
            "_model_module_version": "1.2.0",
            "_model_name": "LayoutModel",
            "_view_count": null,
            "_view_module": "@jupyter-widgets/base",
            "_view_module_version": "1.2.0",
            "_view_name": "LayoutView",
            "align_content": null,
            "align_items": null,
            "align_self": null,
            "border": null,
            "bottom": null,
            "display": null,
            "flex": null,
            "flex_flow": null,
            "grid_area": null,
            "grid_auto_columns": null,
            "grid_auto_flow": null,
            "grid_auto_rows": null,
            "grid_column": null,
            "grid_gap": null,
            "grid_row": null,
            "grid_template_areas": null,
            "grid_template_columns": null,
            "grid_template_rows": null,
            "height": null,
            "justify_content": null,
            "justify_items": null,
            "left": null,
            "margin": null,
            "max_height": null,
            "max_width": null,
            "min_height": null,
            "min_width": null,
            "object_fit": null,
            "object_position": null,
            "order": null,
            "overflow": null,
            "overflow_x": null,
            "overflow_y": null,
            "padding": null,
            "right": null,
            "top": null,
            "visibility": null,
            "width": null
          }
        },
        "c7bc8854cb834397b17f438bb988b5b7": {
          "model_module": "@jupyter-widgets/controls",
          "model_name": "DescriptionStyleModel",
          "model_module_version": "1.5.0",
          "state": {
            "_model_module": "@jupyter-widgets/controls",
            "_model_module_version": "1.5.0",
            "_model_name": "DescriptionStyleModel",
            "_view_count": null,
            "_view_module": "@jupyter-widgets/base",
            "_view_module_version": "1.2.0",
            "_view_name": "StyleView",
            "description_width": ""
          }
        },
        "bba4ec3984564b1bb2cf67218999e489": {
          "model_module": "@jupyter-widgets/base",
          "model_name": "LayoutModel",
          "model_module_version": "1.2.0",
          "state": {
            "_model_module": "@jupyter-widgets/base",
            "_model_module_version": "1.2.0",
            "_model_name": "LayoutModel",
            "_view_count": null,
            "_view_module": "@jupyter-widgets/base",
            "_view_module_version": "1.2.0",
            "_view_name": "LayoutView",
            "align_content": null,
            "align_items": null,
            "align_self": null,
            "border": null,
            "bottom": null,
            "display": null,
            "flex": null,
            "flex_flow": null,
            "grid_area": null,
            "grid_auto_columns": null,
            "grid_auto_flow": null,
            "grid_auto_rows": null,
            "grid_column": null,
            "grid_gap": null,
            "grid_row": null,
            "grid_template_areas": null,
            "grid_template_columns": null,
            "grid_template_rows": null,
            "height": null,
            "justify_content": null,
            "justify_items": null,
            "left": null,
            "margin": null,
            "max_height": null,
            "max_width": null,
            "min_height": null,
            "min_width": null,
            "object_fit": null,
            "object_position": null,
            "order": null,
            "overflow": null,
            "overflow_x": null,
            "overflow_y": null,
            "padding": null,
            "right": null,
            "top": null,
            "visibility": null,
            "width": null
          }
        },
        "6d4fbb1ea92b4e56ad84106bc697fa16": {
          "model_module": "@jupyter-widgets/controls",
          "model_name": "ProgressStyleModel",
          "model_module_version": "1.5.0",
          "state": {
            "_model_module": "@jupyter-widgets/controls",
            "_model_module_version": "1.5.0",
            "_model_name": "ProgressStyleModel",
            "_view_count": null,
            "_view_module": "@jupyter-widgets/base",
            "_view_module_version": "1.2.0",
            "_view_name": "StyleView",
            "bar_color": null,
            "description_width": ""
          }
        },
        "aa60421a7fb04ca0aacb85fcd22b2959": {
          "model_module": "@jupyter-widgets/base",
          "model_name": "LayoutModel",
          "model_module_version": "1.2.0",
          "state": {
            "_model_module": "@jupyter-widgets/base",
            "_model_module_version": "1.2.0",
            "_model_name": "LayoutModel",
            "_view_count": null,
            "_view_module": "@jupyter-widgets/base",
            "_view_module_version": "1.2.0",
            "_view_name": "LayoutView",
            "align_content": null,
            "align_items": null,
            "align_self": null,
            "border": null,
            "bottom": null,
            "display": null,
            "flex": null,
            "flex_flow": null,
            "grid_area": null,
            "grid_auto_columns": null,
            "grid_auto_flow": null,
            "grid_auto_rows": null,
            "grid_column": null,
            "grid_gap": null,
            "grid_row": null,
            "grid_template_areas": null,
            "grid_template_columns": null,
            "grid_template_rows": null,
            "height": null,
            "justify_content": null,
            "justify_items": null,
            "left": null,
            "margin": null,
            "max_height": null,
            "max_width": null,
            "min_height": null,
            "min_width": null,
            "object_fit": null,
            "object_position": null,
            "order": null,
            "overflow": null,
            "overflow_x": null,
            "overflow_y": null,
            "padding": null,
            "right": null,
            "top": null,
            "visibility": null,
            "width": null
          }
        },
        "6262657f70024ede98b9d9a4745a2704": {
          "model_module": "@jupyter-widgets/controls",
          "model_name": "DescriptionStyleModel",
          "model_module_version": "1.5.0",
          "state": {
            "_model_module": "@jupyter-widgets/controls",
            "_model_module_version": "1.5.0",
            "_model_name": "DescriptionStyleModel",
            "_view_count": null,
            "_view_module": "@jupyter-widgets/base",
            "_view_module_version": "1.2.0",
            "_view_name": "StyleView",
            "description_width": ""
          }
        },
        "bf88260b01fb4631af8ea6964553447e": {
          "model_module": "@jupyter-widgets/controls",
          "model_name": "HBoxModel",
          "model_module_version": "1.5.0",
          "state": {
            "_dom_classes": [],
            "_model_module": "@jupyter-widgets/controls",
            "_model_module_version": "1.5.0",
            "_model_name": "HBoxModel",
            "_view_count": null,
            "_view_module": "@jupyter-widgets/controls",
            "_view_module_version": "1.5.0",
            "_view_name": "HBoxView",
            "box_style": "",
            "children": [
              "IPY_MODEL_30c5fff0921642c3b1f6291f269e25d6",
              "IPY_MODEL_7bf4ab23f44a484bbe36e1311f4d8672",
              "IPY_MODEL_895d5d255e9a4e63ba81150bb863d962"
            ],
            "layout": "IPY_MODEL_0ca15f8fadbf4296bf70e8d5cded764b"
          }
        },
        "30c5fff0921642c3b1f6291f269e25d6": {
          "model_module": "@jupyter-widgets/controls",
          "model_name": "HTMLModel",
          "model_module_version": "1.5.0",
          "state": {
            "_dom_classes": [],
            "_model_module": "@jupyter-widgets/controls",
            "_model_module_version": "1.5.0",
            "_model_name": "HTMLModel",
            "_view_count": null,
            "_view_module": "@jupyter-widgets/controls",
            "_view_module_version": "1.5.0",
            "_view_name": "HTMLView",
            "description": "",
            "description_tooltip": null,
            "layout": "IPY_MODEL_0819ac6704484af7affc6345a1f4ba2c",
            "placeholder": "​",
            "style": "IPY_MODEL_614f9070fae747bf8c14a32de0b73e62",
            "value": "Generating unsupervised examples...:  96%"
          }
        },
        "7bf4ab23f44a484bbe36e1311f4d8672": {
          "model_module": "@jupyter-widgets/controls",
          "model_name": "FloatProgressModel",
          "model_module_version": "1.5.0",
          "state": {
            "_dom_classes": [],
            "_model_module": "@jupyter-widgets/controls",
            "_model_module_version": "1.5.0",
            "_model_name": "FloatProgressModel",
            "_view_count": null,
            "_view_module": "@jupyter-widgets/controls",
            "_view_module_version": "1.5.0",
            "_view_name": "ProgressView",
            "bar_style": "",
            "description": "",
            "description_tooltip": null,
            "layout": "IPY_MODEL_b439e4d89d1242ccad80986b56495297",
            "max": 50000,
            "min": 0,
            "orientation": "horizontal",
            "style": "IPY_MODEL_3ff1238ae121447c9d0a772fe2cbc4f9",
            "value": 50000
          }
        },
        "895d5d255e9a4e63ba81150bb863d962": {
          "model_module": "@jupyter-widgets/controls",
          "model_name": "HTMLModel",
          "model_module_version": "1.5.0",
          "state": {
            "_dom_classes": [],
            "_model_module": "@jupyter-widgets/controls",
            "_model_module_version": "1.5.0",
            "_model_name": "HTMLModel",
            "_view_count": null,
            "_view_module": "@jupyter-widgets/controls",
            "_view_module_version": "1.5.0",
            "_view_name": "HTMLView",
            "description": "",
            "description_tooltip": null,
            "layout": "IPY_MODEL_43366610985d464e95d030826080e58c",
            "placeholder": "​",
            "style": "IPY_MODEL_0f8a257f182a4372b3be85a1e0bdaa82",
            "value": " 48016/50000 [00:13&lt;00:00, 4683.56 examples/s]"
          }
        },
        "0ca15f8fadbf4296bf70e8d5cded764b": {
          "model_module": "@jupyter-widgets/base",
          "model_name": "LayoutModel",
          "model_module_version": "1.2.0",
          "state": {
            "_model_module": "@jupyter-widgets/base",
            "_model_module_version": "1.2.0",
            "_model_name": "LayoutModel",
            "_view_count": null,
            "_view_module": "@jupyter-widgets/base",
            "_view_module_version": "1.2.0",
            "_view_name": "LayoutView",
            "align_content": null,
            "align_items": null,
            "align_self": null,
            "border": null,
            "bottom": null,
            "display": null,
            "flex": null,
            "flex_flow": null,
            "grid_area": null,
            "grid_auto_columns": null,
            "grid_auto_flow": null,
            "grid_auto_rows": null,
            "grid_column": null,
            "grid_gap": null,
            "grid_row": null,
            "grid_template_areas": null,
            "grid_template_columns": null,
            "grid_template_rows": null,
            "height": null,
            "justify_content": null,
            "justify_items": null,
            "left": null,
            "margin": null,
            "max_height": null,
            "max_width": null,
            "min_height": null,
            "min_width": null,
            "object_fit": null,
            "object_position": null,
            "order": null,
            "overflow": null,
            "overflow_x": null,
            "overflow_y": null,
            "padding": null,
            "right": null,
            "top": null,
            "visibility": "hidden",
            "width": null
          }
        },
        "0819ac6704484af7affc6345a1f4ba2c": {
          "model_module": "@jupyter-widgets/base",
          "model_name": "LayoutModel",
          "model_module_version": "1.2.0",
          "state": {
            "_model_module": "@jupyter-widgets/base",
            "_model_module_version": "1.2.0",
            "_model_name": "LayoutModel",
            "_view_count": null,
            "_view_module": "@jupyter-widgets/base",
            "_view_module_version": "1.2.0",
            "_view_name": "LayoutView",
            "align_content": null,
            "align_items": null,
            "align_self": null,
            "border": null,
            "bottom": null,
            "display": null,
            "flex": null,
            "flex_flow": null,
            "grid_area": null,
            "grid_auto_columns": null,
            "grid_auto_flow": null,
            "grid_auto_rows": null,
            "grid_column": null,
            "grid_gap": null,
            "grid_row": null,
            "grid_template_areas": null,
            "grid_template_columns": null,
            "grid_template_rows": null,
            "height": null,
            "justify_content": null,
            "justify_items": null,
            "left": null,
            "margin": null,
            "max_height": null,
            "max_width": null,
            "min_height": null,
            "min_width": null,
            "object_fit": null,
            "object_position": null,
            "order": null,
            "overflow": null,
            "overflow_x": null,
            "overflow_y": null,
            "padding": null,
            "right": null,
            "top": null,
            "visibility": null,
            "width": null
          }
        },
        "614f9070fae747bf8c14a32de0b73e62": {
          "model_module": "@jupyter-widgets/controls",
          "model_name": "DescriptionStyleModel",
          "model_module_version": "1.5.0",
          "state": {
            "_model_module": "@jupyter-widgets/controls",
            "_model_module_version": "1.5.0",
            "_model_name": "DescriptionStyleModel",
            "_view_count": null,
            "_view_module": "@jupyter-widgets/base",
            "_view_module_version": "1.2.0",
            "_view_name": "StyleView",
            "description_width": ""
          }
        },
        "b439e4d89d1242ccad80986b56495297": {
          "model_module": "@jupyter-widgets/base",
          "model_name": "LayoutModel",
          "model_module_version": "1.2.0",
          "state": {
            "_model_module": "@jupyter-widgets/base",
            "_model_module_version": "1.2.0",
            "_model_name": "LayoutModel",
            "_view_count": null,
            "_view_module": "@jupyter-widgets/base",
            "_view_module_version": "1.2.0",
            "_view_name": "LayoutView",
            "align_content": null,
            "align_items": null,
            "align_self": null,
            "border": null,
            "bottom": null,
            "display": null,
            "flex": null,
            "flex_flow": null,
            "grid_area": null,
            "grid_auto_columns": null,
            "grid_auto_flow": null,
            "grid_auto_rows": null,
            "grid_column": null,
            "grid_gap": null,
            "grid_row": null,
            "grid_template_areas": null,
            "grid_template_columns": null,
            "grid_template_rows": null,
            "height": null,
            "justify_content": null,
            "justify_items": null,
            "left": null,
            "margin": null,
            "max_height": null,
            "max_width": null,
            "min_height": null,
            "min_width": null,
            "object_fit": null,
            "object_position": null,
            "order": null,
            "overflow": null,
            "overflow_x": null,
            "overflow_y": null,
            "padding": null,
            "right": null,
            "top": null,
            "visibility": null,
            "width": null
          }
        },
        "3ff1238ae121447c9d0a772fe2cbc4f9": {
          "model_module": "@jupyter-widgets/controls",
          "model_name": "ProgressStyleModel",
          "model_module_version": "1.5.0",
          "state": {
            "_model_module": "@jupyter-widgets/controls",
            "_model_module_version": "1.5.0",
            "_model_name": "ProgressStyleModel",
            "_view_count": null,
            "_view_module": "@jupyter-widgets/base",
            "_view_module_version": "1.2.0",
            "_view_name": "StyleView",
            "bar_color": null,
            "description_width": ""
          }
        },
        "43366610985d464e95d030826080e58c": {
          "model_module": "@jupyter-widgets/base",
          "model_name": "LayoutModel",
          "model_module_version": "1.2.0",
          "state": {
            "_model_module": "@jupyter-widgets/base",
            "_model_module_version": "1.2.0",
            "_model_name": "LayoutModel",
            "_view_count": null,
            "_view_module": "@jupyter-widgets/base",
            "_view_module_version": "1.2.0",
            "_view_name": "LayoutView",
            "align_content": null,
            "align_items": null,
            "align_self": null,
            "border": null,
            "bottom": null,
            "display": null,
            "flex": null,
            "flex_flow": null,
            "grid_area": null,
            "grid_auto_columns": null,
            "grid_auto_flow": null,
            "grid_auto_rows": null,
            "grid_column": null,
            "grid_gap": null,
            "grid_row": null,
            "grid_template_areas": null,
            "grid_template_columns": null,
            "grid_template_rows": null,
            "height": null,
            "justify_content": null,
            "justify_items": null,
            "left": null,
            "margin": null,
            "max_height": null,
            "max_width": null,
            "min_height": null,
            "min_width": null,
            "object_fit": null,
            "object_position": null,
            "order": null,
            "overflow": null,
            "overflow_x": null,
            "overflow_y": null,
            "padding": null,
            "right": null,
            "top": null,
            "visibility": null,
            "width": null
          }
        },
        "0f8a257f182a4372b3be85a1e0bdaa82": {
          "model_module": "@jupyter-widgets/controls",
          "model_name": "DescriptionStyleModel",
          "model_module_version": "1.5.0",
          "state": {
            "_model_module": "@jupyter-widgets/controls",
            "_model_module_version": "1.5.0",
            "_model_name": "DescriptionStyleModel",
            "_view_count": null,
            "_view_module": "@jupyter-widgets/base",
            "_view_module_version": "1.2.0",
            "_view_name": "StyleView",
            "description_width": ""
          }
        },
        "fa0d0129cfe94e4b919e0dbc073ba004": {
          "model_module": "@jupyter-widgets/controls",
          "model_name": "HBoxModel",
          "model_module_version": "1.5.0",
          "state": {
            "_dom_classes": [],
            "_model_module": "@jupyter-widgets/controls",
            "_model_module_version": "1.5.0",
            "_model_name": "HBoxModel",
            "_view_count": null,
            "_view_module": "@jupyter-widgets/controls",
            "_view_module_version": "1.5.0",
            "_view_name": "HBoxView",
            "box_style": "",
            "children": [
              "IPY_MODEL_5a54ba388e6e42f9ad8121e1cb550334",
              "IPY_MODEL_06a0064be2c9456181b273c92559996d",
              "IPY_MODEL_1a22113cbc0a4e4da3a7bd4310d539ff"
            ],
            "layout": "IPY_MODEL_6f262ed91407414baa4dbc8310eb9d05"
          }
        },
        "5a54ba388e6e42f9ad8121e1cb550334": {
          "model_module": "@jupyter-widgets/controls",
          "model_name": "HTMLModel",
          "model_module_version": "1.5.0",
          "state": {
            "_dom_classes": [],
            "_model_module": "@jupyter-widgets/controls",
            "_model_module_version": "1.5.0",
            "_model_name": "HTMLModel",
            "_view_count": null,
            "_view_module": "@jupyter-widgets/controls",
            "_view_module_version": "1.5.0",
            "_view_name": "HTMLView",
            "description": "",
            "description_tooltip": null,
            "layout": "IPY_MODEL_8faafbbd171145978fa8ef076c688bc9",
            "placeholder": "​",
            "style": "IPY_MODEL_261ea9d9ac8c4e2b9c07d5ea423d5172",
            "value": "Shuffling /root/tensorflow_datasets/imdb_reviews/plain_text/incomplete.6HEVTY_1.0.0/imdb_reviews-unsupervised.tfrecord*...:   0%"
          }
        },
        "06a0064be2c9456181b273c92559996d": {
          "model_module": "@jupyter-widgets/controls",
          "model_name": "FloatProgressModel",
          "model_module_version": "1.5.0",
          "state": {
            "_dom_classes": [],
            "_model_module": "@jupyter-widgets/controls",
            "_model_module_version": "1.5.0",
            "_model_name": "FloatProgressModel",
            "_view_count": null,
            "_view_module": "@jupyter-widgets/controls",
            "_view_module_version": "1.5.0",
            "_view_name": "ProgressView",
            "bar_style": "",
            "description": "",
            "description_tooltip": null,
            "layout": "IPY_MODEL_663d67973a534c748c8605ca0c807a09",
            "max": 50000,
            "min": 0,
            "orientation": "horizontal",
            "style": "IPY_MODEL_e758342175884a6797b427185fab82ab",
            "value": 50000
          }
        },
        "1a22113cbc0a4e4da3a7bd4310d539ff": {
          "model_module": "@jupyter-widgets/controls",
          "model_name": "HTMLModel",
          "model_module_version": "1.5.0",
          "state": {
            "_dom_classes": [],
            "_model_module": "@jupyter-widgets/controls",
            "_model_module_version": "1.5.0",
            "_model_name": "HTMLModel",
            "_view_count": null,
            "_view_module": "@jupyter-widgets/controls",
            "_view_module_version": "1.5.0",
            "_view_name": "HTMLView",
            "description": "",
            "description_tooltip": null,
            "layout": "IPY_MODEL_dcdfc7fb5bb048909690b6232e0b4a36",
            "placeholder": "​",
            "style": "IPY_MODEL_37ecf78666b641af82a35ec2ab5261cf",
            "value": " 0/50000 [00:00&lt;?, ? examples/s]"
          }
        },
        "6f262ed91407414baa4dbc8310eb9d05": {
          "model_module": "@jupyter-widgets/base",
          "model_name": "LayoutModel",
          "model_module_version": "1.2.0",
          "state": {
            "_model_module": "@jupyter-widgets/base",
            "_model_module_version": "1.2.0",
            "_model_name": "LayoutModel",
            "_view_count": null,
            "_view_module": "@jupyter-widgets/base",
            "_view_module_version": "1.2.0",
            "_view_name": "LayoutView",
            "align_content": null,
            "align_items": null,
            "align_self": null,
            "border": null,
            "bottom": null,
            "display": null,
            "flex": null,
            "flex_flow": null,
            "grid_area": null,
            "grid_auto_columns": null,
            "grid_auto_flow": null,
            "grid_auto_rows": null,
            "grid_column": null,
            "grid_gap": null,
            "grid_row": null,
            "grid_template_areas": null,
            "grid_template_columns": null,
            "grid_template_rows": null,
            "height": null,
            "justify_content": null,
            "justify_items": null,
            "left": null,
            "margin": null,
            "max_height": null,
            "max_width": null,
            "min_height": null,
            "min_width": null,
            "object_fit": null,
            "object_position": null,
            "order": null,
            "overflow": null,
            "overflow_x": null,
            "overflow_y": null,
            "padding": null,
            "right": null,
            "top": null,
            "visibility": "hidden",
            "width": null
          }
        },
        "8faafbbd171145978fa8ef076c688bc9": {
          "model_module": "@jupyter-widgets/base",
          "model_name": "LayoutModel",
          "model_module_version": "1.2.0",
          "state": {
            "_model_module": "@jupyter-widgets/base",
            "_model_module_version": "1.2.0",
            "_model_name": "LayoutModel",
            "_view_count": null,
            "_view_module": "@jupyter-widgets/base",
            "_view_module_version": "1.2.0",
            "_view_name": "LayoutView",
            "align_content": null,
            "align_items": null,
            "align_self": null,
            "border": null,
            "bottom": null,
            "display": null,
            "flex": null,
            "flex_flow": null,
            "grid_area": null,
            "grid_auto_columns": null,
            "grid_auto_flow": null,
            "grid_auto_rows": null,
            "grid_column": null,
            "grid_gap": null,
            "grid_row": null,
            "grid_template_areas": null,
            "grid_template_columns": null,
            "grid_template_rows": null,
            "height": null,
            "justify_content": null,
            "justify_items": null,
            "left": null,
            "margin": null,
            "max_height": null,
            "max_width": null,
            "min_height": null,
            "min_width": null,
            "object_fit": null,
            "object_position": null,
            "order": null,
            "overflow": null,
            "overflow_x": null,
            "overflow_y": null,
            "padding": null,
            "right": null,
            "top": null,
            "visibility": null,
            "width": null
          }
        },
        "261ea9d9ac8c4e2b9c07d5ea423d5172": {
          "model_module": "@jupyter-widgets/controls",
          "model_name": "DescriptionStyleModel",
          "model_module_version": "1.5.0",
          "state": {
            "_model_module": "@jupyter-widgets/controls",
            "_model_module_version": "1.5.0",
            "_model_name": "DescriptionStyleModel",
            "_view_count": null,
            "_view_module": "@jupyter-widgets/base",
            "_view_module_version": "1.2.0",
            "_view_name": "StyleView",
            "description_width": ""
          }
        },
        "663d67973a534c748c8605ca0c807a09": {
          "model_module": "@jupyter-widgets/base",
          "model_name": "LayoutModel",
          "model_module_version": "1.2.0",
          "state": {
            "_model_module": "@jupyter-widgets/base",
            "_model_module_version": "1.2.0",
            "_model_name": "LayoutModel",
            "_view_count": null,
            "_view_module": "@jupyter-widgets/base",
            "_view_module_version": "1.2.0",
            "_view_name": "LayoutView",
            "align_content": null,
            "align_items": null,
            "align_self": null,
            "border": null,
            "bottom": null,
            "display": null,
            "flex": null,
            "flex_flow": null,
            "grid_area": null,
            "grid_auto_columns": null,
            "grid_auto_flow": null,
            "grid_auto_rows": null,
            "grid_column": null,
            "grid_gap": null,
            "grid_row": null,
            "grid_template_areas": null,
            "grid_template_columns": null,
            "grid_template_rows": null,
            "height": null,
            "justify_content": null,
            "justify_items": null,
            "left": null,
            "margin": null,
            "max_height": null,
            "max_width": null,
            "min_height": null,
            "min_width": null,
            "object_fit": null,
            "object_position": null,
            "order": null,
            "overflow": null,
            "overflow_x": null,
            "overflow_y": null,
            "padding": null,
            "right": null,
            "top": null,
            "visibility": null,
            "width": null
          }
        },
        "e758342175884a6797b427185fab82ab": {
          "model_module": "@jupyter-widgets/controls",
          "model_name": "ProgressStyleModel",
          "model_module_version": "1.5.0",
          "state": {
            "_model_module": "@jupyter-widgets/controls",
            "_model_module_version": "1.5.0",
            "_model_name": "ProgressStyleModel",
            "_view_count": null,
            "_view_module": "@jupyter-widgets/base",
            "_view_module_version": "1.2.0",
            "_view_name": "StyleView",
            "bar_color": null,
            "description_width": ""
          }
        },
        "dcdfc7fb5bb048909690b6232e0b4a36": {
          "model_module": "@jupyter-widgets/base",
          "model_name": "LayoutModel",
          "model_module_version": "1.2.0",
          "state": {
            "_model_module": "@jupyter-widgets/base",
            "_model_module_version": "1.2.0",
            "_model_name": "LayoutModel",
            "_view_count": null,
            "_view_module": "@jupyter-widgets/base",
            "_view_module_version": "1.2.0",
            "_view_name": "LayoutView",
            "align_content": null,
            "align_items": null,
            "align_self": null,
            "border": null,
            "bottom": null,
            "display": null,
            "flex": null,
            "flex_flow": null,
            "grid_area": null,
            "grid_auto_columns": null,
            "grid_auto_flow": null,
            "grid_auto_rows": null,
            "grid_column": null,
            "grid_gap": null,
            "grid_row": null,
            "grid_template_areas": null,
            "grid_template_columns": null,
            "grid_template_rows": null,
            "height": null,
            "justify_content": null,
            "justify_items": null,
            "left": null,
            "margin": null,
            "max_height": null,
            "max_width": null,
            "min_height": null,
            "min_width": null,
            "object_fit": null,
            "object_position": null,
            "order": null,
            "overflow": null,
            "overflow_x": null,
            "overflow_y": null,
            "padding": null,
            "right": null,
            "top": null,
            "visibility": null,
            "width": null
          }
        },
        "37ecf78666b641af82a35ec2ab5261cf": {
          "model_module": "@jupyter-widgets/controls",
          "model_name": "DescriptionStyleModel",
          "model_module_version": "1.5.0",
          "state": {
            "_model_module": "@jupyter-widgets/controls",
            "_model_module_version": "1.5.0",
            "_model_name": "DescriptionStyleModel",
            "_view_count": null,
            "_view_module": "@jupyter-widgets/base",
            "_view_module_version": "1.2.0",
            "_view_name": "StyleView",
            "description_width": ""
          }
        }
      }
    }
  },
  "cells": [
    {
      "cell_type": "code",
      "execution_count": null,
      "metadata": {
        "colab": {
          "base_uri": "https://localhost:8080/"
        },
        "id": "qhi7xLbyV8rg",
        "outputId": "5621951c-9c53-44b5-8de1-20b357df4fd0"
      },
      "outputs": [
        {
          "output_type": "stream",
          "name": "stdout",
          "text": [
            "Collecting tensorflow==2.8.0\n",
            "  Downloading tensorflow-2.8.0-cp310-cp310-manylinux2010_x86_64.whl.metadata (2.9 kB)\n",
            "Requirement already satisfied: absl-py>=0.4.0 in /usr/local/lib/python3.10/dist-packages (from tensorflow==2.8.0) (1.4.0)\n",
            "Requirement already satisfied: astunparse>=1.6.0 in /usr/local/lib/python3.10/dist-packages (from tensorflow==2.8.0) (1.6.3)\n",
            "Requirement already satisfied: flatbuffers>=1.12 in /usr/local/lib/python3.10/dist-packages (from tensorflow==2.8.0) (24.3.25)\n",
            "Requirement already satisfied: gast>=0.2.1 in /usr/local/lib/python3.10/dist-packages (from tensorflow==2.8.0) (0.6.0)\n",
            "Requirement already satisfied: google-pasta>=0.1.1 in /usr/local/lib/python3.10/dist-packages (from tensorflow==2.8.0) (0.2.0)\n",
            "Requirement already satisfied: h5py>=2.9.0 in /usr/local/lib/python3.10/dist-packages (from tensorflow==2.8.0) (3.11.0)\n",
            "Collecting keras-preprocessing>=1.1.1 (from tensorflow==2.8.0)\n",
            "  Downloading Keras_Preprocessing-1.1.2-py2.py3-none-any.whl.metadata (1.9 kB)\n",
            "Requirement already satisfied: libclang>=9.0.1 in /usr/local/lib/python3.10/dist-packages (from tensorflow==2.8.0) (18.1.1)\n",
            "Requirement already satisfied: numpy>=1.20 in /usr/local/lib/python3.10/dist-packages (from tensorflow==2.8.0) (1.26.4)\n",
            "Requirement already satisfied: opt-einsum>=2.3.2 in /usr/local/lib/python3.10/dist-packages (from tensorflow==2.8.0) (3.4.0)\n",
            "Requirement already satisfied: protobuf>=3.9.2 in /usr/local/lib/python3.10/dist-packages (from tensorflow==2.8.0) (3.20.3)\n",
            "Requirement already satisfied: setuptools in /usr/local/lib/python3.10/dist-packages (from tensorflow==2.8.0) (75.1.0)\n",
            "Requirement already satisfied: six>=1.12.0 in /usr/local/lib/python3.10/dist-packages (from tensorflow==2.8.0) (1.16.0)\n",
            "Requirement already satisfied: termcolor>=1.1.0 in /usr/local/lib/python3.10/dist-packages (from tensorflow==2.8.0) (2.5.0)\n",
            "Requirement already satisfied: typing-extensions>=3.6.6 in /usr/local/lib/python3.10/dist-packages (from tensorflow==2.8.0) (4.12.2)\n",
            "Requirement already satisfied: wrapt>=1.11.0 in /usr/local/lib/python3.10/dist-packages (from tensorflow==2.8.0) (1.16.0)\n",
            "Collecting tensorboard<2.9,>=2.8 (from tensorflow==2.8.0)\n",
            "  Downloading tensorboard-2.8.0-py3-none-any.whl.metadata (1.9 kB)\n",
            "Collecting tf-estimator-nightly==2.8.0.dev2021122109 (from tensorflow==2.8.0)\n",
            "  Downloading tf_estimator_nightly-2.8.0.dev2021122109-py2.py3-none-any.whl.metadata (1.2 kB)\n",
            "Collecting keras<2.9,>=2.8.0rc0 (from tensorflow==2.8.0)\n",
            "  Downloading keras-2.8.0-py2.py3-none-any.whl.metadata (1.3 kB)\n",
            "Requirement already satisfied: tensorflow-io-gcs-filesystem>=0.23.1 in /usr/local/lib/python3.10/dist-packages (from tensorflow==2.8.0) (0.37.1)\n",
            "Requirement already satisfied: grpcio<2.0,>=1.24.3 in /usr/local/lib/python3.10/dist-packages (from tensorflow==2.8.0) (1.64.1)\n",
            "Requirement already satisfied: wheel<1.0,>=0.23.0 in /usr/local/lib/python3.10/dist-packages (from astunparse>=1.6.0->tensorflow==2.8.0) (0.44.0)\n",
            "Requirement already satisfied: google-auth<3,>=1.6.3 in /usr/local/lib/python3.10/dist-packages (from tensorboard<2.9,>=2.8->tensorflow==2.8.0) (2.27.0)\n",
            "Collecting google-auth-oauthlib<0.5,>=0.4.1 (from tensorboard<2.9,>=2.8->tensorflow==2.8.0)\n",
            "  Downloading google_auth_oauthlib-0.4.6-py2.py3-none-any.whl.metadata (2.7 kB)\n",
            "Requirement already satisfied: markdown>=2.6.8 in /usr/local/lib/python3.10/dist-packages (from tensorboard<2.9,>=2.8->tensorflow==2.8.0) (3.7)\n",
            "Requirement already satisfied: requests<3,>=2.21.0 in /usr/local/lib/python3.10/dist-packages (from tensorboard<2.9,>=2.8->tensorflow==2.8.0) (2.32.3)\n",
            "Collecting tensorboard-data-server<0.7.0,>=0.6.0 (from tensorboard<2.9,>=2.8->tensorflow==2.8.0)\n",
            "  Downloading tensorboard_data_server-0.6.1-py3-none-manylinux2010_x86_64.whl.metadata (1.1 kB)\n",
            "Collecting tensorboard-plugin-wit>=1.6.0 (from tensorboard<2.9,>=2.8->tensorflow==2.8.0)\n",
            "  Downloading tensorboard_plugin_wit-1.8.1-py3-none-any.whl.metadata (873 bytes)\n",
            "Requirement already satisfied: werkzeug>=0.11.15 in /usr/local/lib/python3.10/dist-packages (from tensorboard<2.9,>=2.8->tensorflow==2.8.0) (3.0.4)\n",
            "Requirement already satisfied: cachetools<6.0,>=2.0.0 in /usr/local/lib/python3.10/dist-packages (from google-auth<3,>=1.6.3->tensorboard<2.9,>=2.8->tensorflow==2.8.0) (5.5.0)\n",
            "Requirement already satisfied: pyasn1-modules>=0.2.1 in /usr/local/lib/python3.10/dist-packages (from google-auth<3,>=1.6.3->tensorboard<2.9,>=2.8->tensorflow==2.8.0) (0.4.1)\n",
            "Requirement already satisfied: rsa<5,>=3.1.4 in /usr/local/lib/python3.10/dist-packages (from google-auth<3,>=1.6.3->tensorboard<2.9,>=2.8->tensorflow==2.8.0) (4.9)\n",
            "Requirement already satisfied: requests-oauthlib>=0.7.0 in /usr/local/lib/python3.10/dist-packages (from google-auth-oauthlib<0.5,>=0.4.1->tensorboard<2.9,>=2.8->tensorflow==2.8.0) (1.3.1)\n",
            "Requirement already satisfied: charset-normalizer<4,>=2 in /usr/local/lib/python3.10/dist-packages (from requests<3,>=2.21.0->tensorboard<2.9,>=2.8->tensorflow==2.8.0) (3.4.0)\n",
            "Requirement already satisfied: idna<4,>=2.5 in /usr/local/lib/python3.10/dist-packages (from requests<3,>=2.21.0->tensorboard<2.9,>=2.8->tensorflow==2.8.0) (3.10)\n",
            "Requirement already satisfied: urllib3<3,>=1.21.1 in /usr/local/lib/python3.10/dist-packages (from requests<3,>=2.21.0->tensorboard<2.9,>=2.8->tensorflow==2.8.0) (2.2.3)\n",
            "Requirement already satisfied: certifi>=2017.4.17 in /usr/local/lib/python3.10/dist-packages (from requests<3,>=2.21.0->tensorboard<2.9,>=2.8->tensorflow==2.8.0) (2024.8.30)\n",
            "Requirement already satisfied: MarkupSafe>=2.1.1 in /usr/local/lib/python3.10/dist-packages (from werkzeug>=0.11.15->tensorboard<2.9,>=2.8->tensorflow==2.8.0) (3.0.1)\n",
            "Requirement already satisfied: pyasn1<0.7.0,>=0.4.6 in /usr/local/lib/python3.10/dist-packages (from pyasn1-modules>=0.2.1->google-auth<3,>=1.6.3->tensorboard<2.9,>=2.8->tensorflow==2.8.0) (0.6.1)\n",
            "Requirement already satisfied: oauthlib>=3.0.0 in /usr/local/lib/python3.10/dist-packages (from requests-oauthlib>=0.7.0->google-auth-oauthlib<0.5,>=0.4.1->tensorboard<2.9,>=2.8->tensorflow==2.8.0) (3.2.2)\n",
            "Downloading tensorflow-2.8.0-cp310-cp310-manylinux2010_x86_64.whl (497.6 MB)\n",
            "\u001b[2K   \u001b[90m━━━━━━━━━━━━━━━━━━━━━━━━━━━━━━━━━━━━━━━━\u001b[0m \u001b[32m497.6/497.6 MB\u001b[0m \u001b[31m3.5 MB/s\u001b[0m eta \u001b[36m0:00:00\u001b[0m\n",
            "\u001b[?25hDownloading tf_estimator_nightly-2.8.0.dev2021122109-py2.py3-none-any.whl (462 kB)\n",
            "\u001b[2K   \u001b[90m━━━━━━━━━━━━━━━━━━━━━━━━━━━━━━━━━━━━━━━━\u001b[0m \u001b[32m462.5/462.5 kB\u001b[0m \u001b[31m32.9 MB/s\u001b[0m eta \u001b[36m0:00:00\u001b[0m\n",
            "\u001b[?25hDownloading keras-2.8.0-py2.py3-none-any.whl (1.4 MB)\n",
            "\u001b[2K   \u001b[90m━━━━━━━━━━━━━━━━━━━━━━━━━━━━━━━━━━━━━━━━\u001b[0m \u001b[32m1.4/1.4 MB\u001b[0m \u001b[31m71.9 MB/s\u001b[0m eta \u001b[36m0:00:00\u001b[0m\n",
            "\u001b[?25hDownloading Keras_Preprocessing-1.1.2-py2.py3-none-any.whl (42 kB)\n",
            "\u001b[2K   \u001b[90m━━━━━━━━━━━━━━━━━━━━━━━━━━━━━━━━━━━━━━━━\u001b[0m \u001b[32m42.6/42.6 kB\u001b[0m \u001b[31m3.7 MB/s\u001b[0m eta \u001b[36m0:00:00\u001b[0m\n",
            "\u001b[?25hDownloading tensorboard-2.8.0-py3-none-any.whl (5.8 MB)\n",
            "\u001b[2K   \u001b[90m━━━━━━━━━━━━━━━━━━━━━━━━━━━━━━━━━━━━━━━━\u001b[0m \u001b[32m5.8/5.8 MB\u001b[0m \u001b[31m35.5 MB/s\u001b[0m eta \u001b[36m0:00:00\u001b[0m\n",
            "\u001b[?25hDownloading google_auth_oauthlib-0.4.6-py2.py3-none-any.whl (18 kB)\n",
            "Downloading tensorboard_data_server-0.6.1-py3-none-manylinux2010_x86_64.whl (4.9 MB)\n",
            "\u001b[2K   \u001b[90m━━━━━━━━━━━━━━━━━━━━━━━━━━━━━━━━━━━━━━━━\u001b[0m \u001b[32m4.9/4.9 MB\u001b[0m \u001b[31m104.8 MB/s\u001b[0m eta \u001b[36m0:00:00\u001b[0m\n",
            "\u001b[?25hDownloading tensorboard_plugin_wit-1.8.1-py3-none-any.whl (781 kB)\n",
            "\u001b[2K   \u001b[90m━━━━━━━━━━━━━━━━━━━━━━━━━━━━━━━━━━━━━━━━\u001b[0m \u001b[32m781.3/781.3 kB\u001b[0m \u001b[31m53.0 MB/s\u001b[0m eta \u001b[36m0:00:00\u001b[0m\n",
            "\u001b[?25hInstalling collected packages: tf-estimator-nightly, tensorboard-plugin-wit, keras, tensorboard-data-server, keras-preprocessing, google-auth-oauthlib, tensorboard, tensorflow\n",
            "  Attempting uninstall: keras\n",
            "    Found existing installation: keras 3.4.1\n",
            "    Uninstalling keras-3.4.1:\n",
            "      Successfully uninstalled keras-3.4.1\n",
            "  Attempting uninstall: tensorboard-data-server\n",
            "    Found existing installation: tensorboard-data-server 0.7.2\n",
            "    Uninstalling tensorboard-data-server-0.7.2:\n",
            "      Successfully uninstalled tensorboard-data-server-0.7.2\n",
            "  Attempting uninstall: google-auth-oauthlib\n",
            "    Found existing installation: google-auth-oauthlib 1.2.1\n",
            "    Uninstalling google-auth-oauthlib-1.2.1:\n",
            "      Successfully uninstalled google-auth-oauthlib-1.2.1\n",
            "  Attempting uninstall: tensorboard\n",
            "    Found existing installation: tensorboard 2.17.0\n",
            "    Uninstalling tensorboard-2.17.0:\n",
            "      Successfully uninstalled tensorboard-2.17.0\n",
            "  Attempting uninstall: tensorflow\n",
            "    Found existing installation: tensorflow 2.17.0\n",
            "    Uninstalling tensorflow-2.17.0:\n",
            "      Successfully uninstalled tensorflow-2.17.0\n",
            "\u001b[31mERROR: pip's dependency resolver does not currently take into account all the packages that are installed. This behaviour is the source of the following dependency conflicts.\n",
            "pandas-gbq 0.23.2 requires google-auth-oauthlib>=0.7.0, but you have google-auth-oauthlib 0.4.6 which is incompatible.\n",
            "tf-keras 2.17.0 requires tensorflow<2.18,>=2.17, but you have tensorflow 2.8.0 which is incompatible.\u001b[0m\u001b[31m\n",
            "\u001b[0mSuccessfully installed google-auth-oauthlib-0.4.6 keras-2.8.0 keras-preprocessing-1.1.2 tensorboard-2.8.0 tensorboard-data-server-0.6.1 tensorboard-plugin-wit-1.8.1 tensorflow-2.8.0 tf-estimator-nightly-2.8.0.dev2021122109\n"
          ]
        }
      ],
      "source": [
        "!pip install tensorflow==2.8.0\n",
        "import tensorflow as tf\n",
        "import tensorflow_datasets as tfds\n",
        "from tensorflow.keras import models, layers\n",
        "import numpy as np\n",
        "import matplotlib.pyplot as plt"
      ]
    },
    {
      "cell_type": "code",
      "source": [
        "tf.config.list_physical_devices(\"GPU\")"
      ],
      "metadata": {
        "colab": {
          "base_uri": "https://localhost:8080/"
        },
        "id": "PsAjGYXobHug",
        "outputId": "e23b84f1-db39-4d8c-a350-b7c62ec059f0"
      },
      "execution_count": null,
      "outputs": [
        {
          "output_type": "execute_result",
          "data": {
            "text/plain": [
              "[]"
            ]
          },
          "metadata": {},
          "execution_count": 2
        }
      ]
    },
    {
      "cell_type": "code",
      "source": [
        "!nvidia-smi"
      ],
      "metadata": {
        "colab": {
          "base_uri": "https://localhost:8080/"
        },
        "id": "ZbG4Z0CKcD-7",
        "outputId": "5495d9e9-abf2-4372-d9db-ac6395fc8fd6"
      },
      "execution_count": null,
      "outputs": [
        {
          "output_type": "stream",
          "name": "stdout",
          "text": [
            "Mon Oct 21 13:00:40 2024       \n",
            "+---------------------------------------------------------------------------------------+\n",
            "| NVIDIA-SMI 535.104.05             Driver Version: 535.104.05   CUDA Version: 12.2     |\n",
            "|-----------------------------------------+----------------------+----------------------+\n",
            "| GPU  Name                 Persistence-M | Bus-Id        Disp.A | Volatile Uncorr. ECC |\n",
            "| Fan  Temp   Perf          Pwr:Usage/Cap |         Memory-Usage | GPU-Util  Compute M. |\n",
            "|                                         |                      |               MIG M. |\n",
            "|=========================================+======================+======================|\n",
            "|   0  Tesla T4                       Off | 00000000:00:04.0 Off |                    0 |\n",
            "| N/A   46C    P8              12W /  70W |      3MiB / 15360MiB |      0%      Default |\n",
            "|                                         |                      |                  N/A |\n",
            "+-----------------------------------------+----------------------+----------------------+\n",
            "                                                                                         \n",
            "+---------------------------------------------------------------------------------------+\n",
            "| Processes:                                                                            |\n",
            "|  GPU   GI   CI        PID   Type   Process name                            GPU Memory |\n",
            "|        ID   ID                                                             Usage      |\n",
            "|=======================================================================================|\n",
            "|  No running processes found                                                           |\n",
            "+---------------------------------------------------------------------------------------+\n"
          ]
        }
      ]
    },
    {
      "cell_type": "markdown",
      "source": [
        "## Load a dataset."
      ],
      "metadata": {
        "id": "0qErTmwidAv4"
      }
    },
    {
      "cell_type": "code",
      "source": [
        "datasets, info = tfds.load(\n",
        "    \"imdb_reviews/plain_text\",\n",
        "    split=[\"train\", \"test[:50%]\" , \"test[50%:]\"],\n",
        "    as_supervised=True,\n",
        "    with_info=True\n",
        ")\n",
        "info\n",
        "len(datasets)\n",
        "dataset_train_original = datasets[0]\n",
        "dataset_validate_original = datasets[1]\n",
        "dataset_test_original = datasets[2]"
      ],
      "metadata": {
        "colab": {
          "base_uri": "https://localhost:8080/",
          "height": 138,
          "referenced_widgets": [
            "554e0dd38e764644b5a228a22654ed66",
            "2be66fbb852b4886bf6a7a1a10e2c07c",
            "f526c7eed64c44d5abe795246750e828",
            "7f7cf1a9a4a14fad84739a4336073937",
            "168555f67a134c088f39de0890a4374c",
            "d2f0b6e9ad4044cc8d9f10077049a5eb",
            "c40daa40de9345d2856c0f5f4245f8fc",
            "7642492125e24257a4fc03d344e821b9",
            "29ced4ae25b24205a46ea65d7288f459",
            "54f7feac580240b58a2af02c669c54f2",
            "4884c88efda0441cb8381a52186878f9",
            "79631978d0e4439ea05f702dc87614c9",
            "cd175743a7754ff590d6447acfe53cfd",
            "3831ccbe95184f0c90679bca3b6ac9dd",
            "c82f1dad896541db95a84cf288e817f1",
            "0ed130399dc0450ea6c2e15a2bdfa002",
            "31c8354453f04c25bed0f1a2e3323925",
            "423e206977c344c58403ca2fcdcc3f5a",
            "c399e2147dca40a98e726d2a1000e73b",
            "a96ecdf3f7ef471caf0dc31ef2f6e300",
            "f9166d5ea15c46fc893b1035c1e7a154",
            "f1c141b39c6d4163af234c21f552901b",
            "86177f2e7aa54a678b99fcda97d69771",
            "fac76a45674748b9be0a771d3a64bdb3",
            "1bd6b362e50e445e9332bddb8417b1a2",
            "774068811ab34185b556c3037c76517c",
            "ff228b39f6604968a4110d9a73c8d623",
            "b6698eadac6d48b3ac5e636c905d70c5",
            "948d8831aca2448d86240a5dba249682",
            "767b0ae7702047f88e8973502fc35237",
            "97050cf226cf47fc95937c7a35ce5655",
            "e0bddc0225ed4e9ea486c372294a7316",
            "0cdc367adbb14f7b8aec538be6f6f452",
            "94253cf69cbb4ed1913d7789b360f179",
            "dc9de2aae09c457099830a0893d31a07",
            "54ddb565e05c40c09ae6b81efe591599",
            "06d1ea2a8b104a3ba6ff2511e275be5b",
            "497b1b19b84e4a1fafe562bf3bd18272",
            "7bca30187b03430a8cb798e25ef4e282",
            "314f5303b4744a33965f3d5e74eb45fe",
            "6be5ef6820ae4c5ab8fae50ddfe05576",
            "094b9cbdafff4cfe8a97d5da8533f8a8",
            "b8281bc3dda743c7bbc4ec1827bd7131",
            "eed2995c9b84459fb34cd7214d8064cf",
            "d8fefb1547a34ce0a3a0c2e37165617d",
            "d6fc39c595b24c1ea49ff2b7274e0448",
            "5254dbb5af624e24be036ecae704c0d3",
            "222e68ecbad3446080e1aaf3698ae959",
            "b5f1f41967e44560b7e00817f835d8f5",
            "3cfbe5f37228471b87e9cc71599ee749",
            "f8d17cdd901849f8a4fcd751e49df358",
            "93da7385db9540499d4ad5678f9fa1af",
            "7ec4d8f68c954540b09af0bccff3a505",
            "e703a9db8a1849d68f0d197f26f4d674",
            "2955750aef1240b5b0d1fc2956a55b84",
            "173abf624fa048368ddce338b9d1f527",
            "8ad6ebb1e30848c4b07a88a93865507e",
            "d78a5d9099a940aeb5592bf41f68e2c2",
            "76655d8f92424518b7056443354ce8c0",
            "53e176123bab4e8183da106ff474440c",
            "eba86846e3ed462ab69b577c8a391a08",
            "a4c5e5fd97c7476ca4d8e69b3d0079ee",
            "0946f054a0bc4b7084206e0260461746",
            "786fc9ddb58d4085b97d88d15871943e",
            "a1f459ddb35d468ab79135e91e725328",
            "87af60b996fb49c2b6b621bbdc4234da",
            "e6f50acc7bac447fb3a0f4046e442275",
            "4042ee2a671b487fab9a532dc1e859da",
            "d73d158909304c7abb583391385a2c2d",
            "cf260bcf7343438189c655b985e88e31",
            "628857b075504f17a672fbe9cf83257f",
            "c319434b2512408786b6096787d37928",
            "c7bc8854cb834397b17f438bb988b5b7",
            "bba4ec3984564b1bb2cf67218999e489",
            "6d4fbb1ea92b4e56ad84106bc697fa16",
            "aa60421a7fb04ca0aacb85fcd22b2959",
            "6262657f70024ede98b9d9a4745a2704",
            "bf88260b01fb4631af8ea6964553447e",
            "30c5fff0921642c3b1f6291f269e25d6",
            "7bf4ab23f44a484bbe36e1311f4d8672",
            "895d5d255e9a4e63ba81150bb863d962",
            "0ca15f8fadbf4296bf70e8d5cded764b",
            "0819ac6704484af7affc6345a1f4ba2c",
            "614f9070fae747bf8c14a32de0b73e62",
            "b439e4d89d1242ccad80986b56495297",
            "3ff1238ae121447c9d0a772fe2cbc4f9",
            "43366610985d464e95d030826080e58c",
            "0f8a257f182a4372b3be85a1e0bdaa82",
            "fa0d0129cfe94e4b919e0dbc073ba004",
            "5a54ba388e6e42f9ad8121e1cb550334",
            "06a0064be2c9456181b273c92559996d",
            "1a22113cbc0a4e4da3a7bd4310d539ff",
            "6f262ed91407414baa4dbc8310eb9d05",
            "8faafbbd171145978fa8ef076c688bc9",
            "261ea9d9ac8c4e2b9c07d5ea423d5172",
            "663d67973a534c748c8605ca0c807a09",
            "e758342175884a6797b427185fab82ab",
            "dcdfc7fb5bb048909690b6232e0b4a36",
            "37ecf78666b641af82a35ec2ab5261cf"
          ]
        },
        "id": "9rpIl9-RcW5N",
        "outputId": "4c64092b-cb81-4b59-e4b4-92a0f7da9ee7"
      },
      "execution_count": null,
      "outputs": [
        {
          "output_type": "stream",
          "name": "stdout",
          "text": [
            "Downloading and preparing dataset 80.23 MiB (download: 80.23 MiB, generated: Unknown size, total: 80.23 MiB) to /root/tensorflow_datasets/imdb_reviews/plain_text/1.0.0...\n"
          ]
        },
        {
          "output_type": "display_data",
          "data": {
            "text/plain": [
              "Dl Completed...: 0 url [00:00, ? url/s]"
            ],
            "application/vnd.jupyter.widget-view+json": {
              "version_major": 2,
              "version_minor": 0,
              "model_id": "554e0dd38e764644b5a228a22654ed66"
            }
          },
          "metadata": {}
        },
        {
          "output_type": "display_data",
          "data": {
            "text/plain": [
              "Dl Size...: 0 MiB [00:00, ? MiB/s]"
            ],
            "application/vnd.jupyter.widget-view+json": {
              "version_major": 2,
              "version_minor": 0,
              "model_id": "79631978d0e4439ea05f702dc87614c9"
            }
          },
          "metadata": {}
        },
        {
          "output_type": "display_data",
          "data": {
            "text/plain": [
              "Generating splits...:   0%|          | 0/3 [00:00<?, ? splits/s]"
            ],
            "application/vnd.jupyter.widget-view+json": {
              "version_major": 2,
              "version_minor": 0,
              "model_id": "86177f2e7aa54a678b99fcda97d69771"
            }
          },
          "metadata": {}
        },
        {
          "output_type": "display_data",
          "data": {
            "text/plain": [
              "Generating train examples...:   0%|          | 0/25000 [00:00<?, ? examples/s]"
            ],
            "application/vnd.jupyter.widget-view+json": {
              "version_major": 2,
              "version_minor": 0,
              "model_id": "94253cf69cbb4ed1913d7789b360f179"
            }
          },
          "metadata": {}
        },
        {
          "output_type": "display_data",
          "data": {
            "text/plain": [
              "Shuffling /root/tensorflow_datasets/imdb_reviews/plain_text/incomplete.6HEVTY_1.0.0/imdb_reviews-train.tfrecor…"
            ],
            "application/vnd.jupyter.widget-view+json": {
              "version_major": 2,
              "version_minor": 0,
              "model_id": "d8fefb1547a34ce0a3a0c2e37165617d"
            }
          },
          "metadata": {}
        },
        {
          "output_type": "display_data",
          "data": {
            "text/plain": [
              "Generating test examples...:   0%|          | 0/25000 [00:00<?, ? examples/s]"
            ],
            "application/vnd.jupyter.widget-view+json": {
              "version_major": 2,
              "version_minor": 0,
              "model_id": "173abf624fa048368ddce338b9d1f527"
            }
          },
          "metadata": {}
        },
        {
          "output_type": "display_data",
          "data": {
            "text/plain": [
              "Shuffling /root/tensorflow_datasets/imdb_reviews/plain_text/incomplete.6HEVTY_1.0.0/imdb_reviews-test.tfrecord…"
            ],
            "application/vnd.jupyter.widget-view+json": {
              "version_major": 2,
              "version_minor": 0,
              "model_id": "e6f50acc7bac447fb3a0f4046e442275"
            }
          },
          "metadata": {}
        },
        {
          "output_type": "display_data",
          "data": {
            "text/plain": [
              "Generating unsupervised examples...:   0%|          | 0/50000 [00:00<?, ? examples/s]"
            ],
            "application/vnd.jupyter.widget-view+json": {
              "version_major": 2,
              "version_minor": 0,
              "model_id": "bf88260b01fb4631af8ea6964553447e"
            }
          },
          "metadata": {}
        },
        {
          "output_type": "display_data",
          "data": {
            "text/plain": [
              "Shuffling /root/tensorflow_datasets/imdb_reviews/plain_text/incomplete.6HEVTY_1.0.0/imdb_reviews-unsupervised.…"
            ],
            "application/vnd.jupyter.widget-view+json": {
              "version_major": 2,
              "version_minor": 0,
              "model_id": "fa0d0129cfe94e4b919e0dbc073ba004"
            }
          },
          "metadata": {}
        },
        {
          "output_type": "stream",
          "name": "stdout",
          "text": [
            "Dataset imdb_reviews downloaded and prepared to /root/tensorflow_datasets/imdb_reviews/plain_text/1.0.0. Subsequent calls will reuse this data.\n"
          ]
        }
      ]
    },
    {
      "cell_type": "code",
      "source": [
        "print(\"Train size:   \", len(dataset_train_original))\n",
        "print(\"Validate size:\", len(dataset_validate_original))\n",
        "print(\"Test size:    \", len(dataset_test_original))"
      ],
      "metadata": {
        "colab": {
          "base_uri": "https://localhost:8080/"
        },
        "id": "fiN8K-1Ddy9-",
        "outputId": "baf3be38-0f72-4260-b6d8-f71fce3c00e7"
      },
      "execution_count": null,
      "outputs": [
        {
          "output_type": "stream",
          "name": "stdout",
          "text": [
            "Train size:    25000\n",
            "Validate size: 12500\n",
            "Test size:     12500\n"
          ]
        }
      ]
    },
    {
      "cell_type": "markdown",
      "source": [
        "## Look at your beeping data."
      ],
      "metadata": {
        "id": "E4blIoV15oRJ"
      }
    },
    {
      "cell_type": "code",
      "source": [
        "for x, y in dataset_train_original.shuffle(25_000).take(8):\n",
        "    print(\"x\", x.numpy().decode(\"utf-8\"))\n",
        "    print(\"y\", y.numpy())"
      ],
      "metadata": {
        "colab": {
          "base_uri": "https://localhost:8080/"
        },
        "id": "dfRC3KEB5I5j",
        "outputId": "fa3a1869-bd4b-4b9e-c504-c938fca6c321"
      },
      "execution_count": null,
      "outputs": [
        {
          "output_type": "stream",
          "name": "stdout",
          "text": [
            "x This has got to be the worst horror movie I have ever seen. I remember watching it years ago when it initially came out on video and for some strange reason I thought I enjoyed it. So, like an idiot, I ran out to purchase the DVD once it was released...what a tragic mistake! I won't even bother to go into the plot because it is so transparent that you can see right through it anyhow. I am a fan of Herschell Gordon Lewis so I am accustomed to cheesy gore effects and bad acting but these people take this to a whole different level. It is almost as if they are intentionally trying to make the worst movie humanly possible...if that was their goal, they suceeded. If they intended to make a film that was supposed to scare you or make you believe in any way, shape, or form that it is real then they failed...MISERABLY! Avoid this movie...read the plot synopsis and you've seen it!\n",
            "y 0\n",
            "x ***SPOILERS*** ***SPOILERS*** After two so-so outings (\"Magnum Force\" and \"The Enforcer\"), Dirty Harry seems to have regained his stride in \"Sudden Impact,\" a gripping thriller that wisely plays to its strengths: the charisma of Clint Eastwood, who also directed, and a story that spends just enough time on exposition and reserves its energy for the big scenes.<br /><br />For once, the case takes Harry outside his native San Francisco (where he's again in trouble with his superiors for his \"shoot first, ask questions later\" tactics), to the hamlet of San Paulo. There, (WARNING: Potential spoiler) a group of lowlifes is being gruesomely murdered, one at a time, by a woman whom they gang-raped years earlier, and whose sister has been in a state of catatonia ever since the attack.<br /><br />The killer is portrayed by Sondra Locke, and she makes the character of Jennifer Spencer an interesting mix of compassion and cold-bloodedness. Locke's cold eyes and frosty voice, when either trying to comfort her hospitalized sister or dispensing vengeance toward the rapists, are very effective in painting a portrait of a woman wronged whose years of suffering and rage are now beginning to bear deadly fruit.<br /><br />The rapists are a despicable lot, especially the leader, who has \"psycho nutjob\" practically stamped on his forehead, and a lesbian who seems almost one of the guys, despite her anatomical inability to participate. The flashback scenes, while not graphically explicit, are nightmarish enough, and clearly intended to make the audience cheer for Jennifer as she kills her assailants.<br /><br />Some will dismiss \"Sudden Impact\" as trash: a mindless, manipulative revenge tale. On a certain level this is true, but it's well-done trash. What works to the movie's advantage is the strength of the Sondra Locke performance, giving us a complex character whose wounds are more visible in her paintings than in her gestures or speech. What we have here is an action movie with a point of view.<br /><br />You can take or leave the idea that some wrongs deserve to be punished by any means necessary, but as the mystery behind the slayings becomes clear to Harry (a realization that, wisely, is not spelled out with dialogue), he is presented with a choice -- what to do about a killer whose motivations he can sympathize with but whose conduct he is bound by law to not tolerate. This makes the story more interesting than the usual Dirty Harry fare.<br /><br />The movie's other redeeming quality is Eastwood's direction. This is, after all, a Dirty Harry movie, and Eastwood knows the character better than anyone else. The movie is directed with style and wit, and edited to give the action scenes a big payoff. Some of the best \"Harry moments\" in the entire series are here, including Harry's best-known line, \"Go ahead -- make my day.\"<br /><br />\"Sudden Impact\" is a movie that has the courage of its convictions in presenting a tale about a despicable crime and the brutal consequences that follow. It is also a riveting detective story, well made and well told. And it is certainly never dull. On those criteria, it succeeds tremendously.\n",
            "y 1\n",
            "x A repressed housewife (an annoying lisping Angie Dickinson, whose body double treats/horrifies us with an extreme closeup of her delicates) is sexually bored by her husband and decides to branch-out. This directly results in a string of murders that soon involve a high-class prostitute (Nancy Allen, clearly I am in the wrong business if SHE can bring home $600 a night) and her psychologist (Michael Caine). If you are going to watch De Palma rip off (excuse me, \"pay homage to\") Hitchcock, watch \"Sisters\" instead of this. \"Dressed to Kill,\" while loaded with style and technical skill, is one of the tackiest thrillers I have had the displeasure of sitting through. The plot is absurd and tired. It does feature some surprisingly effective jump scares and nasty graphic murder sequences that should please any horror fan, as long as they can get past the silly story line, that must have been dated even in 1980.\n",
            "y 0\n",
            "x wow! i watched the trailer for this one and though 'nah, this one is not for me'. i watched my husband and our friend's faces during the trailer, and knew this was a 'boy movie'. i mean, hallo! a bunch of chick barmaids that dance - another striptease?<br /><br />then, i started watching it, it didn't look all that bad. so i carried on watching. i watched it right to the end. what an awesome movie. if anything, this is a chick-flick. these girls have attitude. it is really a feel-good movie, and a bit of a love story. really leaves you with a nice feeling.<br /><br />basically, the story of a small-town girl making it big in the city, after going through the usual big-city c**p. there have been a couple of these, it is almost a new urban legend. but it also makes you think of your life, and what you have achieved. well, me anyway. i think it is because the whole working in a bar scenario is very familiar, not just for me, but for many people i know. Don't trust the trailers for this one - it is aimed at bringing the men in.\n",
            "y 0\n",
            "x This film is very interesting. I have seen it twice and it seems Glover hit the nail on the head with what he claims to he wants to accomplish. I for one can relate to the outrage that the filmmaker clearly expresses against the current thoughtless corporate drivel that is an onslaught in our every media center, and the things that we as a culture are supposed to not \"think\" about due to corporate media control. The outrage that Glover expresses through the \"outrageous\" elements in the films is both clear in its visceral aggressiveness and beautiful in its poetic potency. I am glad I saw this film and it is even clearer that Glover is up to something interesting with part two of what will be a trilogy. It is fine! EVERYTHING IS FINE. See that also. People that dismiss this film as \"thoughtless\" or \"pretentious\" are really missing the boat. This is an intelligent films. If you can see it with his live show he performs before with his books, that is also very wroth while. The way you get in to his mindset is really something. You will have an experience!\n",
            "y 1\n",
            "x This is one of the funniest series ever! I laughed till my sides split and rolled around on the floor. If only someone would release in America. Region 0 or 1 - Non-PAL please. <br /><br />I know it being released in the UK but that's Region 2 and PAL besides! Let's give this series its fair shake. America must know this series. Moffat is a genius. I loved Tracie Bennett's quirky, goofy role in this. Of course I liked Fiona Gillies! But Tracie was a treasure!<br /><br />Release this show in America! or Show it again on the PBS stations. I need to laugh and laugh again! Please indulge us, please! Please!<br /><br />Thanks for reading.\n",
            "y 1\n",
            "x Easily the worst movie I have ever seen in my life. Direction : none. Story: pathetic. Screenplay : that will be a good idea. There is a lot of gratuitous graphics, all of pathetic quality. Preserve your sanity, dont ever see this movie !\n",
            "y 0\n",
            "x \"Unhinged\" is one strange little film, a forgotten slasher from the golden age of the genre. It's hard to really write a satisfying review of this film simply because of the fact that the film is so unique. It's plot is fairly overdone--three young women on their way to a rock concert get in a car crash and end up stranded at the mansion of an eccentric old woman and her spinster daughter. Very quickly, the ladies realize something is not quite right when they hear strange breathing and noises from the attic. On top of that, the mother and daughter seem to have a very, very strange relationship, as they quarrel intensely in front of their houseguest at dinner. The old mother even goes as far as calling her daughter a whore and slut and accuses her of sneaking guys in at night to sleep with them. Halfway through the film, when one girl finally decides she better wander off to find help, the killing begins. <br /><br />As far as the acting goes, this film is at the bottom of the barrel. NONE of the three stranded girls can act, particularly the \"lead\" girl. It is almost unbelievable to hear them deliver their lines in the same, wooden tone throughout the film. The mother and daughter are better, but not much. The film is also quite dull in parts and really, really drags. The killings are gruesome, but nothing we haven't seen before. However, as mentioned on here, the film really gains points with it brilliantly disturbing and gory ending. It comes totally from left field and has the same shock value as the ending the the camp classic \"Sleepaway Camp.\" Unfortunately, the rest of the film is a bore and suffers from horrendous acting and boring, boring pacing. The isolated, creepy looking mansion and the dark, foreboding lighting does give the film a grainy realism, but that is quickly shattered when one of the characters attempts to act. It may be worth it if you can stick it out until the end, but I say you are better off just fast forwarding to the last 10 minutes. 4 out 10\n",
            "y 0\n"
          ]
        }
      ]
    },
    {
      "cell_type": "code",
      "source": [
        "type(dataset_train_original.take(8))"
      ],
      "metadata": {
        "colab": {
          "base_uri": "https://localhost:8080/",
          "height": 121
        },
        "id": "Z1kyAXZq5xef",
        "outputId": "07f995ad-064b-43fc-986e-90080ca2fdae"
      },
      "execution_count": null,
      "outputs": [
        {
          "output_type": "execute_result",
          "data": {
            "text/plain": [
              "tensorflow.python.data.ops.dataset_ops.TakeDataset"
            ],
            "text/html": [
              "<div style=\"max-width:800px; border: 1px solid var(--colab-border-color);\"><style>\n",
              "      pre.function-repr-contents {\n",
              "        overflow-x: auto;\n",
              "        padding: 8px 12px;\n",
              "        max-height: 500px;\n",
              "      }\n",
              "\n",
              "      pre.function-repr-contents.function-repr-contents-collapsed {\n",
              "        cursor: pointer;\n",
              "        max-height: 100px;\n",
              "      }\n",
              "    </style>\n",
              "    <pre style=\"white-space: initial; background:\n",
              "         var(--colab-secondary-surface-color); padding: 8px 12px;\n",
              "         border-bottom: 1px solid var(--colab-border-color);\"><b>tensorflow.python.data.ops.dataset_ops.TakeDataset</b><br/>def __init__(input_dataset, count, name=None)</pre><pre class=\"function-repr-contents function-repr-contents-collapsed\" style=\"\"><a class=\"filepath\" style=\"display:none\" href=\"#\">/usr/local/lib/python3.10/dist-packages/tensorflow/python/data/ops/dataset_ops.py</a>A `Dataset` containing the first `count` elements from its input.</pre>\n",
              "      <script>\n",
              "      if (google.colab.kernel.accessAllowed && google.colab.files && google.colab.files.view) {\n",
              "        for (const element of document.querySelectorAll('.filepath')) {\n",
              "          element.style.display = 'block'\n",
              "          element.onclick = (event) => {\n",
              "            event.preventDefault();\n",
              "            event.stopPropagation();\n",
              "            google.colab.files.view(element.textContent, 4814);\n",
              "          };\n",
              "        }\n",
              "      }\n",
              "      for (const element of document.querySelectorAll('.function-repr-contents')) {\n",
              "        element.onclick = (event) => {\n",
              "          event.preventDefault();\n",
              "          event.stopPropagation();\n",
              "          element.classList.toggle('function-repr-contents-collapsed');\n",
              "        };\n",
              "      }\n",
              "      </script>\n",
              "      </div>"
            ]
          },
          "metadata": {},
          "execution_count": 7
        }
      ]
    },
    {
      "cell_type": "code",
      "source": [
        "lengths = []\n",
        "labels = []\n",
        "for x, y in dataset_train_original:\n",
        "    lengths += [len(x.numpy().split())]\n",
        "    labels += [y.numpy()]\n",
        "\n",
        "plt.hist(lengths, bins=100)\n",
        "plt.show()\n",
        "plt.close()\n",
        "\n",
        "plt.hist(labels)\n",
        "plt.show()\n",
        "plt.close()"
      ],
      "metadata": {
        "colab": {
          "base_uri": "https://localhost:8080/",
          "height": 843
        },
        "id": "aHXtqHT08jZs",
        "outputId": "22c2a894-6541-4ad8-b625-aeffe801aa43"
      },
      "execution_count": null,
      "outputs": [
        {
          "output_type": "display_data",
          "data": {
            "text/plain": [
              "<Figure size 640x480 with 1 Axes>"
            ],
            "image/png": "[encoded data removed]"
          },
          "metadata": {}
        },
        {
          "output_type": "display_data",
          "data": {
            "text/plain": [
              "<Figure size 640x480 with 1 Axes>"
            ],
            "image/png": "[encoded data removed]"
          },
          "metadata": {}
        }
      ]
    },
    {
      "cell_type": "markdown",
      "source": [
        "## Bag of Words Encoding (Multi-Hot)"
      ],
      "metadata": {
        "id": "OTqvf_ThNE8s"
      }
    },
    {
      "cell_type": "code",
      "source": [
        "vocabulary_size = 10_000\n",
        "\n",
        "encoder = layers.TextVectorization(\n",
        "    max_tokens=vocabulary_size,\n",
        "    standardize=\"lower_and_strip_punctuation\",\n",
        "    split=\"whitespace\",\n",
        "    output_mode=\"multi_hot\"\n",
        ")\n",
        "encoder.adapt(dataset_train_original.map(lambda text, _: text).batch(2048))"
      ],
      "metadata": {
        "id": "dtqVApu3APHa"
      },
      "execution_count": null,
      "outputs": []
    },
    {
      "cell_type": "code",
      "source": [
        "vocabulary = encoder.get_vocabulary()\n",
        "print(vocabulary)"
      ],
      "metadata": {
        "colab": {
          "base_uri": "https://localhost:8080/"
        },
        "id": "BM_2x2pNQru0",
        "outputId": "238d1fc5-279e-48f6-a94d-854ce770cb39"
      },
      "execution_count": null,
      "outputs": [
        {
          "output_type": "stream",
          "name": "stdout",
          "text": [
            "['[UNK]', 'the', 'and', 'a', 'of', 'to', 'is', 'in', 'it', 'i', 'this', 'that', 'br', 'was', 'as', 'for', 'with', 'movie', 'but', 'film', 'on', 'not', 'you', 'are', 'his', 'have', 'he', 'be', 'one', 'its', 'at', 'all', 'by', 'an', 'they', 'from', 'who', 'so', 'like', 'her', 'just', 'or', 'about', 'has', 'if', 'out', 'some', 'there', 'what', 'good', 'when', 'more', 'very', 'even', 'she', 'my', 'no', 'up', 'would', 'which', 'only', 'time', 'really', 'story', 'their', 'were', 'had', 'see', 'can', 'me', 'than', 'we', 'much', 'well', 'been', 'get', 'will', 'into', 'also', 'because', 'other', 'do', 'people', 'bad', 'great', 'first', 'how', 'most', 'him', 'dont', 'made', 'then', 'movies', 'make', 'films', 'could', 'way', 'them', 'any', 'too', 'after', 'characters', 'think', 'watch', 'two', 'many', 'being', 'seen', 'character', 'never', 'little', 'acting', 'where', 'plot', 'best', 'love', 'did', 'know', 'life', 'show', 'does', 'ever', 'your', 'still', 'better', 'over', 'off', 'these', 'end', 'say', 'while', 'here', 'man', 'why', 'scene', 'such', 'scenes', 'go', 'should', 'something', 'through', 'im', 'back', 'those', 'doesnt', 'real', 'watching', 'years', 'though', 'now', 'thing', 'actors', 'didnt', 'another', 'new', 'before', 'actually', 'nothing', 'makes', 'find', 'work', 'funny', 'look', 'few', 'old', 'going', 'same', 'every', 'lot', 'us', 'part', 'director', 'again', 'thats', 'cant', 'quite', 'cast', 'want', 'pretty', 'things', 'seems', 'young', 'got', 'around', 'fact', 'however', 'down', 'world', 'take', 'enough', 'both', 'give', 'between', 'may', 'ive', 'big', 'horror', 'original', 'thought', 'own', 'without', 'gets', 'always', 'series', 'right', 'long', 'isnt', 'saw', 'come', 'almost', 'times', 'least', 'theres', 'role', 'point', 'action', 'must', 'interesting', 'whole', 'comedy', 'bit', 'family', 'music', 'done', 'script', 'last', 'might', 'hes', 'anything', 'guy', 'since', 'feel', 'minutes', 'far', 'probably', 'performance', 'am', 'kind', 'rather', 'worst', 'yet', 'away', 'sure', 'tv', 'making', 'woman', 'girl', 'each', 'found', 'fun', 'played', 'having', 'anyone', 'our', 'although', 'believe', 'comes', 'trying', 'course', 'especially', 'goes', 'day', 'looks', 'hard', 'shows', 'put', 'different', 'wasnt', 'place', 'maybe', 'book', 'once', 'set', 'main', 'reason', 'money', 'worth', 'sense', 'everything', 'looking', 'true', 'ending', 'someone', 'watched', 'plays', 'job', '2', 'actor', 'seem', 'three', 'said', 'takes', 'screen', 'dvd', 'together', 'play', 'instead', 'john', 'during', 'beautiful', 'later', '10', 'effects', 'himself', 'everyone', 'version', 'left', 'seeing', 'special', 'audience', 'night', 'excellent', 'house', 'american', 'idea', 'simply', 'nice', 'wife', 'shot', 'youre', 'read', 'high', 'black', 'less', 'completely', 'second', 'kids', 'help', 'else', 'poor', 'fan', 'war', 'star', 'used', 'given', 'year', 'try', 'father', 'death', 'friends', 'need', 'use', 'rest', 'enjoy', 'home', 'men', 'performances', 'short', 'mind', 'classic', 'until', 'either', 'truly', 'along', 'hollywood', 'boring', 'half', 'dead', 'wrong', 'tell', 'production', 'women', 'line', 'remember', 'couple', 'came', 'next', 'recommend', 'start', 'perhaps', 'full', 'let', 'understand', 'wonderful', 'stupid', 'getting', 'others', 'mean', 'moments', 'playing', 'awful', 'keep', 'episode', 'terrible', 'camera', 'small', 'definitely', 'gives', 'often', 'stars', 'doing', 'sex', 'video', 'early', 'perfect', 'become', 'finally', 'name', 'felt', 'school', 'human', 'supposed', 'face', 'couldnt', 'liked', 'lines', 'dialogue', 'piece', 'person', 'itself', 'lost', 'absolutely', 'top', 'yes', 'case', 'against', 'entire', 'went', 'certainly', 'written', 'live', 'title', 'waste', 'shes', 'sort', 'head', 'budget', 'hope', 'problem', 'style', 'several', 'overall', 'picture', 'loved', 'evil', 'mr', 'worse', 'id', 'fans', 'becomes', 'entertaining', '3', 'cinema', 'boy', 'beginning', 'seemed', 'white', 'based', 'already', 'despite', 'care', 'oh', 'wanted', 'example', 'dark', '\\x96', 'lives', 'guys', 'unfortunately', 'killer', 'throughout', 'mother', 'direction', 'final', 'friend', 'turn', 'totally', 'fine', 'wont', '1', 'wants', 'children', 'amazing', 'sound', 'laugh', 'girls', 'drama', 'youll', 'guess', 'lead', 'tries', 'low', 'called', 'humor', 'writing', 'under', 'michael', 'works', 'history', 'turns', 'able', 'enjoyed', 'theyre', 'behind', 'past', 'quality', 'days', 'gave', 'favorite', 'starts', 'son', 'kill', 'game', 'act', 'sometimes', 'side', 'viewer', 'town', 'horrible', 'parts', 'car', 'actress', 'soon', 'child', 'ones', 'eyes', 'expect', 'obviously', 'flick', 'themselves', 'directed', 'thinking', 'heart', 'art', 'brilliant', 'stories', 'ill', 'decent', 'highly', 'run', 'feeling', 'myself', 'genre', 'late', 'blood', 'stuff', 'fight', 'says', 'close', 'took', 'city', 'except', 'cannot', 'heard', 'hand', 'leave', 'killed', 'kid', 'matter', 'police', 'hell', 'moment', 'wouldnt', 'extremely', 'strong', 'roles', 'happens', 'particularly', 'lack', 'hour', 'involved', 'happened', 'obvious', 'attempt', 'james', 'told', 'living', 'chance', 'violence', 'wonder', 'including', 'etc', 'complete', 'save', 'voice', 'coming', 'murder', 'anyway', 'group', 'daughter', 'looked', 'age', 'please', 'type', 'itbr', 'alone', 'experience', 'simple', 'none', 'god', 'number', 'score', 'exactly', 'slow', 'shown', 'happen', 'ok', 'ago', 'lets', 'interest', 'whose', 'taken', 'brother', 'usually', 'serious', 'david', 'across', 'stop', 'cinematography', 'somewhat', 'running', 'hours', 'annoying', 'sad', 'opening', 'song', 'known', 'ends', 'musical', 'usual', 'possible', 'finds', 'career', 'wish', 'hit', 'yourself', 'released', 'started', 'huge', 'gore', 'relationship', 'seriously', 'scary', 'jokes', 'change', 'saying', 'order', 'crap', 'mostly', 'shots', 'reality', 'ridiculous', 'cut', 'today', 'robert', 'english', 'taking', 'major', 'episodes', 'hilarious', 'novel', 'cool', 'female', 'body', 'talking', 'opinion', '4', 'call', 'apparently', 'directors', 'strange', 'due', 'basically', '5', 'important', 'hero', 'supporting', 'clearly', 'power', 'knows', 'documentary', 'knew', 'happy', 'events', 'view', 'turned', 'husband', 'songs', 'talent', 'level', 'arent', 'king', 'british', 'room', 'easily', 'tells', 'single', 'local', 'rating', 'attention', 'word', 'moviebr', 'bring', 'words', 'problems', 'cheap', 'whats', 'modern', 'silly', 'television', 'beyond', 'sequence', 'whether', 'disappointed', 'light', 'jack', 'falls', 'sets', 'four', 'future', 'five', 'similar', 'paul', 'miss', 'country', 'needs', 'appears', 'romantic', 'giving', 'upon', 'earth', 'viewers', 'comic', 'richard', 'predictable', 'george', 'talk', 'entertainment', 'within', 'review', 'havent', 'feels', 'nearly', 'mention', 'message', 'enjoyable', 'animation', 'bunch', 'filmbr', 'theater', 'lots', 'lady', 'storyline', 'rock', 'add', 'actual', 'using', 'moving', 'points', 'above', 'middle', 'surprised', 'named', 'theme', 'mystery', 'herself', 'ten', 'dull', 'among', 'begins', 'comments', 'writer', 'ways', 'typical', 'fantastic', 'stay', 'showing', 'sequel', 'york', 'elements', 'easy', 'certain', 'thriller', 'team', 'tried', 'fall', 'effort', 'clear', 'near', 'avoid', 'release', 'hate', 'french', 'tale', 'famous', 'sorry', 'somehow', 'parents', 'means', 'straight', 'leads', 'peter', 'red', 'kept', 'working', 'buy', 'greatest', 'dialog', 'doubt', 'soundtrack', 'form', 'class', 'season', 'editing', 'sister', 'general', 'brought', 'weak', 'tom', 'filmed', 'figure', 'feature', 'oscar', 'hear', 'gone', 'whos', 'particular', 'material', 'check', 'viewing', 'learn', 'realistic', 'imagine', 'eventually', 'youve', 'eye', 'move', 'fast', 'atmosphere', 'reviews', 'decided', 'sequences', 'possibly', 'period', 'forget', 'lame', 'deal', 'third', 'premise', 'lee', 'follow', 'de', 'became', 'space', 'dance', 'wait', 'stand', 'indeed', 'japanese', 'zombie', 'sit', 'difficult', 'poorly', 'sexual', 'expected', 'die', 'whatever', 'writers', 'surprise', 'nor', 'crime', 'nature', 'rent', 'average', '80s', 'suspense', 'leaves', 'subject', 'okay', 'stage', 'killing', 'truth', 'believable', 'screenplay', 'needed', 'filmmakers', 'reading', 'note', 'meets', 'meet', 'dr', 'question', 'begin', 'boys', 'joe', 'romance', 'street', 'realize', 'forced', 'otherwise', 'emotional', 'memorable', 'unless', 'write', 'superb', 'shame', 'older', 'minute', 'interested', 'earlier', 'keeps', 'baby', 'weird', 'situation', 'disney', 'whom', 'footage', 'features', 'dramatic', 'credits', 'beauty', 'towards', 'dog', 'badly', 'ask', 'total', 'previous', 'hot', 'sounds', 'crazy', 'brings', 'comment', 'male', 'plenty', 'personal', 'worked', 'incredibly', 'plus', 'directing', 'society', 'quickly', 'perfectly', 'cheesy', 'admit', 'result', 'unique', 'deep', 'return', 'america', 'laughs', 'free', 'creepy', 'development', 'leading', 'appear', 'meant', 'hardly', 'open', 'brothers', '20', 'imdb', 'hands', 'b', 'apart', 'mark', 'various', 'casting', 'remake', 'effect', 'create', 'setting', 'christmas', 'potential', 'mess', 'bill', 'battle', 'background', 'scifi', 'monster', 'forward', 'powerful', 'portrayed', 'dream', 'inside', 'outside', '70s', 'fairly', 'business', 'la', 'manages', 'ideas', 'expecting', 'jane', 'fails', 'deserves', 'present', 'political', 'missing', 'attempts', 'twist', 'secret', 'fire', 'dumb', 'unlike', 'fighting', 'fantasy', 'pay', 'air', 'joke', 'gay', 'ben', 'william', 'recently', 'rich', 'front', 'nudity', 'married', 'further', 'masterpiece', 'reasons', 'copy', 'match', 'box', 'sadly', 'agree', 'acted', 'break', 'telling', 'talented', 'plain', 'western', 'success', 'cute', 'pure', 'villain', 'missed', 'incredible', 'odd', 'girlfriend', 'doctor', 'crew', 'following', 'caught', 'decides', 'cop', 'social', 'large', 'considering', 'waiting', 'sees', 'mentioned', 'members', 'uses', 'flat', 'popular', 'hold', 'ended', 'slightly', 'wasted', 'public', 'suddenly', 'pace', 'neither', 'compared', 'wrote', 'sweet', 'spent', 'kills', 'entirely', 'rate', 'intelligent', 'created', 'familiar', 'office', 'audiences', 'ultimately', 'cause', 'tension', 'scott', 'convincing', 'clever', 'bored', 'visual', 'party', 'escape', 'era', 'moves', 'cartoon', 'basic', 'credit', 'biggest', 'mary', 'list', 'revenge', 'laughing', 'fear', 'successful', 'recent', 'consider', 'spirit', 'island', 'trouble', 'spend', 'violent', 'positive', 'gun', 'choice', 'dancing', 'cover', 'books', 'appreciate', 'zombies', 'water', 'speak', 'science', 'former', 'died', 'cold', 'singing', 'filled', 'concept', 'younger', 'portrayal', '12', 'produced', 'value', 'solid', 'adult', 'state', 'exciting', 'common', 'bizarre', '8', 'werent', 'amount', 'walk', 'focus', 'animated', 'showed', 'language', 'effective', 'band', 'amusing', 'german', 'italian', 'producers', 'fit', 'follows', '7', 'van', 'runs', 'considered', 'impressive', 'impossible', 'decide', 'chemistry', 'cat', 'tone', 'won', 'pointless', 'company', '15', 'store', 'depth', 'barely', 'win', 'somewhere', 'control', 'studio', 'situations', 'prison', 'mad', 'sick', 'leaving', 'college', 'project', 'respect', 'force', 'changed', 'recommended', 'hair', 'surprisingly', 'aside', 'tony', 'starring', 'awesome', 'trip', 'century', 'longer', 'likes', 'generally', 'failed', 'shooting', 'planet', 'charming', 'slasher', 'involving', 'questions', 'honest', 'trash', 'thanks', 'immediately', 'literally', 'images', 'disturbing', 'accent', 'steve', 'spoilers', '30', 'values', 'utterly', 'bought', 'south', 'ghost', 'fake', 'touch', 'pictures', 'magic', 'jim', 'natural', 'conclusion', 'west', 'glad', 'sitting', 'ability', 'pathetic', 'honestly', 'frank', 'aspect', 'adaptation', 'computer', 'adventure', 'explain', 'normal', 'fair', 'culture', 'appearance', 'stick', 'personally', 'cult', 'camp', 'knowing', 'alive', 'tough', 'added', 'remains', 'rare', 'dad', 'catch', 'thinks', 'meaning', 'yeah', 'detective', 'sam', 'appeal', 'silent', 'humour', 'army', 'genius', 'beautifully', 'terms', 'managed', 'attack', 'walking', 'thank', 'taste', 'sexy', 'military', 'equally', 'standard', 'soldiers', 'smith', 'garbage', 'twists', 'subtle', 'london', 'harry', 'dreams', 'loves', 'journey', 'comedies', '100', 'pick', 'nowhere', 'terrific', 'touching', 'purpose', 'naked', 'complex', 'woods', 'nobody', 'likely', 'wild', 'channel', 'surely', 'mood', 'lovely', 'excuse', 'plan', 'master', 'fully', 'thus', 'narrative', 'chase', 'road', 'contains', 'cinematic', 'themes', 'fiction', 'constantly', 'central', 'unbelievable', 'outstanding', 'issues', 'youd', 'week', 'slowly', 'self', 'brain', 'painful', 'innocent', 'chris', 'batman', 'thrown', 'presented', 'pass', 'disappointing', 'presence', 'historical', 'marriage', 'date', 'christopher', 'animals', 'stunning', 'mysterious', 'laughable', 'charles', 'impression', 'hoping', 'besides', 'shoot', 'places', 'minor', 'costumes', 'club', 'mistake', 'critics', 'bottom', 'stands', 'makers', 'edge', 'details', 'sent', 'photography', 'indian', 'stewart', 'soul', 'justice', 'charm', 'makeup', 'door', 'aspects', '9', 'ride', 'law', 'heavy', 'finish', 'brief', 'boss', 'vampire', 'mainly', 'government', 'exception', 'feelings', 'climax', 'throw', 'suppose', 'support', 'manner', 'festival', 'color', 'train', 'scenery', 'pieces', 'paris', 'opportunity', 'hey', 'gang', 'expectations', 'element', 'cry', 'names', 'loud', 'filming', 'charlie', 'acts', 'victims', 'rated', 'bother', 'track', 'puts', 'fascinating', '6', 'smart', 'serial', 'falling', 'changes', 'award', 'intended', 'emotions', 'drawn', 'available', 'tired', 'victim', 'suggest', 'henry', 'speaking', 'include', 'church', 'disappointment', 'blue', 'twice', 'hasnt', 'likable', 'emotion', 'confused', 'building', 'hotel', 'followed', 'wow', 'compelling', 'students', 'motion', 'green', 'giant', 'appeared', 'image', 'everybody', 'dies', 'developed', 'ahead', 'pain', 'mans', 'laughed', 'bruce', 'lacks', 'kelly', 'gorgeous', 'approach', 'share', 'impact', 'difference', 'supposedly', 'offer', 'million', 'hurt', 'forever', 'fellow', 'fresh', 'bed', 'wondering', 'trailer', 'moral', 'merely', 'proves', 'jerry', 'happening', 'confusing', 'shock', 'helps', 'funniest', 'finding', 'relationships', 'putting', 'notice', 'grade', 'drive', 'billy', 'bar', 'answer', 'adults', 'system', 'random', 'student', 'producer', 'mix', 'key', 'creative', 'spoiler', 'numbers', 'mediocre', 'delivers', 'christian', 'zero', 'opera', 'noir', 'murders', 'lighting', 'jones', 'damn', 'provides', 'born', 'paid', 'absolute', 'thoroughly', 'summer', 'timebr', 'negative', 'lived', 'drug', 'content', 'addition', 'seemingly', 'reminded', 'ms', 'impressed', 'fell', 'event', 'becoming', 'alien', 'tragedy', 'park', 'offers', 'land', 'gem', 'flying', 'flicks', 'childhood', 'boyfriend', 'lover', 'imagination', 'hospital', 'attractive', 'stuck', 'lose', 'williams', 'race', 'holes', 'flaws', 'extreme', 'al', 'tragic', 'ii', 'ugly', 'six', 'rented', 'page', 'nasty', 'hidden', 'arthur', 'americans', 'shouldnt', 'martin', 'held', 'agent', '90', 'spot', 'adds', 'standards', 'rape', 'intense', 'folks', 'alan', 'ray', 'pull', 'faces', 'detail', 'beat', 'asks', 'artistic', 'afraid', 'turning', 'therefore', 'seconds', 'filmmaker', 'super', 'step', 'porn', 'games', 'latter', 'industry', 'davis', 'collection', 'states', 'shocking', 'forgotten', 'favourite', 'describe', 'affair', 'picked', 'onto', 'angry', 'teenage', 'seven', 'redeeming', 'ready', 'led', 'brian', 'actresses', 'mom', 'dirty', 'design', 'count', 'deliver', 'area', 'wooden', 'soldier', 'information', 'compare', 'queen', 'carry', 'allowed', 'thin', 'struggle', 'lord', 'willing', 'stephen', 'news', 'inspired', 'includes', 'chinese', 'allen', 'personality', 'moved', 'location', 'jason', 'apartment', 'helped', 'ground', 'fashion', 'desperate', 'deeply', 'cliché', 'animal', 'wonderfully', 'martial', 'intelligence', 'bond', 'wars', 'quick', 'listen', 'castle', 'uncle', 'professional', 'member', 'grace', 'don', 'direct', 'criminal', 'trust', 'scientist', 'rarely', 'food', 'cops', 'captain', 'began', 'todays', 'creature', 'clothes', 'cgi', 'humans', 'worthy', 'phone', 'mental', 'introduced', 'double', 'wearing', 'theatre', 'necessary', 'independent', 'comedic', 'realized', 'plane', 'fox', 'anymore', 'allow', 'unusual', 'treat', 'technical', 'tears', 'superior', 'drugs', 'commentary', 'apparent', 'physical', 'energy', 'dying', 'wall', 'provide', 'tim', 'sky', 'ship', 'normally', 'epic', 'desire', 'continue', 'nightmare', 'danny', 'stone', 'sight', 'remarkable', 'mouth', 'douglas', 'arts', 'filmmaking', 'accident', 'scared', 'returns', 'powers', 'limited', 'station', 'ring', 'reminds', 'holds', 'heroes', 'bloody', 'accept', 'witch', 'suspect', 'search', 'pleasure', 'engaging', '60s', 'wedding', 'warning', 'surprising', 'intriguing', 'brutal', 'actions', 'wanting', 'teacher', 'machine', 'hated', 'build', 'according', 'whatsoever', 'russian', 'fred', 'disaster', 'asked', 'academy', 'unnecessary', 'sleep', 'skip', 'pacing', 'grand', 'clichés', 'johnny', 'finished', 'constant', 'vision', 'bits', 'andy', 'religious', 'nicely', 'joan', 'ie', 'extra', 'anybody', 'suicide', 'sat', 'process', 'originally', 'legend', 'heres', 'artist', 'passion', 'lies', 'growing', 'ed', 'absurd', 'roll', 'monsters', 'blame', 'anywhere', 'toward', 'suit', 'media', 'lovers', 'killers', 'joy', 'gotten', 'ladies', 'faith', 'explanation', 'dangerous', 'watchable', 'players', 'met', 'instance', 'eddie', 'deserve', 'unknown', 'memory', 'kevin', 'jeff', 'dick', 'winning', 'whilst', 'villains', 'somebody', 'quiet', 'higher', 'hadnt', 'torture', 'starting', 'smile', 'nick', 'capture', 'accurate', '40', 'pilot', 'jump', 'heads', 'cars', 'superman', 'hopes', 'heaven', 'creating', 'jr', 'guns', 'featuring', 'fail', 'exist', 'dressed', 'community', 'adam', 'river', 'responsible', 'teen', 'friendship', 'fights', 'worlds', 'vs', 'tarzan', 'saved', 'record', 'pulled', 'prince', 'england', 'moon', 'months', 'keeping', 'jesus', 'european', 'understanding', 'terribly', 'taylor', 'reviewers', 'lowbudget', 'jean', 'treated', 'mixed', 'manage', 'kinda', 'explained', 'whenever', 'radio', 'numerous', 'memories', 'knowledge', 'hits', 'finest', 'thembr', 'loving', 'judge', 'delightful', 'private', 'price', 'pop', 'player', 'peoples', 'officer', 'lacking', 'jackson', 'issue', 'gene', 'fat', '50', 'weve', 'unfunny', 'bland', 'vhs', 'sucks', 'psychological', 'prove', 'mike', 'forces', 'eat', 'discover', 'deserved', 'screaming', 'pretentious', 'loose', 'japan', 'horse', 'floor', 'witty', 'streets', 'sign', 'regular', 'ordinary', 'loss', 'included', 'field', 'spanish', 'opposite', 'heroine', 'empty', 'drunk', 'driving', 'broken', 'saving', 'portray', 'loses', 'humanity', 'dated', 'cage', 'cable', 'skills', 'opens', 'noticed', 'naturally', 'conflict', 'bright', 'cuts', 'c', 'bigger', 'aware', 'talents', 'locations', 'discovered', 'calls', 'breaks', 'wind', 'visually', 'partner', 'international', 'essentially', 'deals', 'dealing', 'continues', 'blonde', 'youth', 'werewolf', 'visit', 'theyve', 'soap', 'morning', 'jimmy', 'humorous', 'fate', 'captured', 'scream', 'morgan', 'mine', 'magnificent', 'length', 'golden', 'curious', 'ball', '1010', 'traditional', 'realism', 'plots', 'miles', 'kate', 'gold', 'gags', 'current', 'connection', 'concerned', 'shallow', 'results', 'received', 'occasionally', 'nonsense', 'genuine', 'debut', 'sing', 'sean', 'satire', 'rubbish', 'perspective', 'murdered', 'frankly', 'allows', 'advice', 'versions', 'genuinely', 'below', 'anthony', 'national', 'learned', 'gary', 'bob', 'washington', 'behavior', 'proved', 'mrs', 'lesson', 'kong', 'grew', 'blind', 'bank', '90s', '1950s', 'welles', 'stock', 'segment', 'santa', 'rob', 'revealed', 'mission', 'fathers', 'corny', 'context', 'vampires', 'underrated', 'unable', 'ultimate', 'sudden', 'sheer', 'keaton', 'cameo', 'visuals', 'unexpected', 'shop', 'meanwhile', 'formula', 'ford', 'favor', 'develop', 'albert', 'thisbr', 'steal', 'owner', 'jennifer', 'himbr', 'finale', 'survive', 'study', 'remembered', 'references', 'reach', 'luck', 'harris', 'efforts', 'ann', 'ages', 'window', 'village', 'singer', 'logic', 'identity', 'gonna', 'eric', 'decade', 'cross', 'brilliantly', 'sea', 'program', 'passed', 'ice', 'discovers', 'awkward', 'wise', 'utter', 'strength', 'spectacular', 'desert', 'crappy', 'steven', 'standing', 'majority', 'grant', 'gangster', 'dan', 'candy', 'types', 'stereotypes', 'sisters', 'sake', 'leader', 'flashbacks', 'existence', 'delivered', 'board', 'awards', 'creates', 'bet', 'robin', 'relate', 'reaction', 'ran', 'lucky', 'lake', 'insane', 'caused', 'trek', 'sucked', 'pair', 'painfully', 'meeting', 'gratuitous', 'graphic', 'foreign', 'dreadful', 'daughters', 'speed', 'relief', 'practically', 'pleasant', 'edited', 'devil', 'travel', 'fault', 'families', 'emotionally', 'boat', 'technology', 'nevertheless', 'endless', 'author', 'twenty', 'thomas', 'site', 'simon', 'reviewer', 'overly', 'native', 'decision', 'comparison', 'seasons', 'portrays', 'freedom', 'failure', 'described', 'combination', 'barbara', 'assume', 'anime', 'ancient', 'aka', 'test', 'rules', 'proper', 'president', 'feet', 'attitude', 'wide', 'vehicle', 'treatment', 'parody', 'hearing', 'brown', 'stopped', 'sell', 'range', 'portraying', 'howard', 'foot', 'eating', 'choose', 'buddy', 'bear', 'asking', 'uk', 'marry', 'luke', 'learns', 'laughter', 'hitler', 'halloween', 'executed', 'drew', 'chosen', 'capable', 'believes', 'tape', 'lynch', 'largely', 'involves', 'gory', 'fill', 'excited', 'evening', 'daniel', 'commercial', 'anna', 'allbr', 'wood', 'religion', 'recall', 'produce', 'grow', 'classics', 'broadway', 'wit', 'theatrical', 'product', 'model', 'victor', 'unrealistic', 'theaters', 'sheriff', 'parker', 'kick', 'haunting', 'entertained', 'contrived', 'center', '50s', 'suffering', 'strongly', 'storybr', 'ruined', 'round', 'rise', 'levels', 'depressing', 'clue', 'sequels', 'rescue', 'r', 'joseph', 'irritating', 'freddy', 'extras', 'd', 'contrast', 'built', 'appealing', 'woody', 'rose', 'onebr', 'heck', 'handsome', 'costs', 'claim', 'sympathetic', 'sports', 'shakespeare', 'research', 'matt', 'losing', 'individual', 'destroy', '11', 'talks', 'protagonist', 'generation', 'evidence', 'embarrassing', 'disgusting', 'clean', 'captures', 'vote', 'thatbr', 'tend', 'post', 'patrick', 'matters', 'hill', 'facts', 'dry', 'chief', 'chick', 'appropriate', 'hunter', 'hanging', 'fame', 'canadian', 'alex', 'voices', 'virtually', 'naive', 'hopefully', 'grown', 'football', 'exploitation', 'bringing', 'asian', 'walks', 'training', 'scare', 'roy', 'relatively', 'obsessed', 'jackie', 'horribly', 'haunted', 'costume', 'cares', 'thoughts', 'steals', 'spoil', 'saturday', 'safe', 'promise', 'priest', 'pity', 'mask', 'lousy', 'louis', 'france', 'fits', 'convinced', 'bomb', 'walter', 'teenagers', 'insult', 'frame', 'cost', 'correct', 'till', 'teenager', 'ryan', 'oliver', 'mebr', 'dogs', 'crowd', 'creatures', 'wellbr', 'send', 'satisfying', 'initial', 'halfway', 'fly', 'excitement', 'dubbed', 'depicted', 'winner', 'united', 's', 'remain', 'gordon', 'europe', 'cinderella', 'cash', 'angel', 'amateurish', '1970s', 'tiny', 'texas', 'tedious', 'nancy', 'lower', 'influence', 'holding', 'hide', 'germany', 'contemporary', 'anne', 'weekend', 'unlikely', 'unfortunate', 'substance', 'soft', 'psycho', 'nominated', 'lewis', 'cowboy', 'circumstances', 'asleep', 'viewed', 'touches', 'presents', 'marie', 'lawyer', 'flesh', 'continuity', 'closer', 'bodies', 'baseball', 'witness', 'serves', 'provided', 'max', 'f', 'drag', 'danger', 'australian', '810', 'trilogy', 'suffers', 'shocked', 'reporter', 'handled', 'fool', 'cartoons', 'brave', 'amateur', 'weeks', 'wayne', 'surreal', 'structure', 'source', 'sons', 'ruin', 'roger', 'repeated', 'refreshing', 'fare', 'category', 'supernatural', 'seat', 'politics', 'plans', 'offensive', 'latest', 'hunt', 'fu', 'display', 'deaths', 'chose', 'africa', 'accidentally', 'welcome', 'warm', 'surprises', 'studios', 'sinatra', 'robot', 'promising', 'pile', 'north', 'market', 'angles', 'target', 'speaks', 'realizes', 'qualities', 'previously', 'overthetop', 'colors', 'claims', 'bugs', 'harsh', 'granted', 'experiences', 'edward', 'deadly', 'convince', 'adventures', 'accents', 'storytelling', 'factor', 'designed', 'covered', 'artists', 'wouldve', 'whoever', 'veteran', 'universal', 'speech', 'skin', 'service', 'rental', 'recognize', 'movement', 'lesbian', 'hall', 'draw', 'believed', 'victoria', 'routine', 'professor', 'mainstream', 'highlight', 'degree', 'uninteresting', 'rain', 'propaganda', 'occasional', 'mistakes', 'kim', 'hat', 'enter', 'columbo', 'walked', 'twisted', 'technically', 'sympathy', 'struggling', 'peace', 'outbr', 'minds', 'magical', 'guilty', 'directly', 'aliens', 'nude', 'massive', 'kinds', 'invisible', 'friday', 'focused', 'explains', 'downright', 'combined', 'breaking', 'teens', 'section', 'print', 'princess', 'paper', 'inner', 'committed', '710', 'remotely', 'offered', 'narration', 'j', 'gritty', 'donald', 'ass', 'suspenseful', 'spends', 'sorts', 'prime', 'multiple', 'moore', 'irish', 'featured', 'experienced', 'enemy', 'atrocious', 'universe', 'treasure', 'sharp', 'reveal', 'regret', 'lonely', 'legendary', 'insight', 'frightening', 'express', 'execution', 'variety', 'security', 'reputation', 'performed', 'hong', 'forgettable', 'figured', 'exact', 'dollars', 'anger', '25', 'waybr', 'surface', 'stolen', 'rings', 'prior', 'path', 'passing', 'herebr', 'forest', 'figures', 'fictional', 'false', 'dozen', 'crash', 'bothered', 'birth', 'abuse', 'abandoned', '1980s', 'theory', 'subtitles', 'spy', 'pulls', 'powell', 'hired', 'ghosts', 'fairy', 'eight', 'darkness', 'crying', 'conversation', '13', 'von', 'statement', 'russell', 'reveals', 'required', 'paint', 'paced', 'melodrama', 'isbr', 'erotic', 'emma', 'cutting', 'core', 'anderson', 'wilson', 'urban', 'trapped', 'terror', 'stays', 'stayed', 'significant', 'mountain', 'hed', 'gas', 'effectively', 'drop', 'demons', 'blow', 'worthwhile', 'slapstick', 'paying', 'grim', 'crude', '14', 'rights', 'proud', 'mgm', 'mere', 'listening', 'jon', 'focuses', 'dean', 'clark', 'buying', 'wear', 'spite', 'sir', 'quest', 'necessarily', 'lights', 'bmovie', 'beach', 'african', 'account', 'unconvincing', 'scale', 'jobs', 'heavily', 'grave', 'forth', 'titanic', 'sunday', 'scares', 'network', 'julia', 'facial', 'everywhere', 'destroyed', 'department', 'delivery', 'cruel', 'clichéd', 'childrens', 'caine', 'bus', 'andor', 'amazed', 'afternoon', '1930s', 'vietnam', 'scenario', 'san', 'murphy', 'metal', 'matrix', 'imagery', 'driven', 'desperately', 'closing', 'changing', 'alright', 'thankfully', 'sounded', 'skill', 'sensitive', 'rule', 'ron', 'reminiscent', 'position', 'placed', 'mothers', 'midnight', 'mature', 'junk', 'idiot', 'forgot', 'flashback', 'favorites', 'faithful', 'fabulous', 'device', 'code', 'blockbuster', 'belief', 'alice', 'suffer', 'stereotypical', 'revolution', 'pitt', 'novels', 'mexican', 'interview', 'ignore', 'extraordinary', 'driver', 'campy', 'aint', '110', 'views', 'summary', 'sleeping', 'settings', 'seek', 'musicals', 'lifetime', 'happiness', 'greater', 'examples', 'dude', 'deeper', 'california', 'beloved', 'angle', 'amazingly', 'understood', 'sarah', 'renting', 'prefer', 'pacino', 'notorious', 'initially', 'inept', 'helping', 'fourth', 'dennis', 'criminals', 'court', 'burns', 'blah', 'beast', 'achieve', 'teeth', 'susan', 'sitcom', 'rolling', 'regarding', 'pregnant', 'lifebr', 'learning', 'league', 'depiction', 'breathtaking', 'brad', 'bourne', 'rip', 'raw', 'mexico', 'lisa', 'larry', 'jungle', 'endbr', 'couldve', 'convey', 'complicated', 'china', 'bore', 'table', 'quirky', 'purely', 'picks', 'kung', 'indie', 'format', 'entertain', 'encounter', 'cultural', 'starred', 'rough', 'rachel', 'prepared', 'ned', 'murderer', 'mildly', 'julie', 'freeman', 'expert', 'dragon', 'disbelief', 'description', 'decades', 'critical', 'calling', 'cabin', 'writerdirector', 'via', 'underground', 'touched', 'throws', 'throwing', 'status', 'serve', 'productions', 'notable', 'leslie', 'join', 'funnier', 'friendly', 'drinking', 'appreciated', 'subplot', 'onbr', 'introduction', 'flight', 'expression', 'everyday', 'dress', 'carries', 'basis', 'arms', 'answers', 'adding', 'task', 'strangely', 'raised', 'protect', 'honor', 'criticism', 'comical', 'bollywood', 'blown', 'base', 'againbr', 'wears', 'suck', 'succeeds', 'racist', 'kiss', 'intellectual', 'fallen', 'extent', 'caring', 'brooks', 'amongst', 'usa', 'truck', 'ted', 'sword', 'shadow', 'regard', 'raise', 'originality', 'inspiration', 'hoffman', 'foster', 'environment', 'claire', 'causes', 'carrying', 'carried', 'attempting', 'x', 'weapons', 'socalled', 'ripoff', 'protagonists', 'praise', 'michelle', 'maria', 'johnson', 'jessica', 'handle', 'enjoying', 'embarrassed', 'choices', 'charge', 'challenge', 'cell', 'cases', 'angels', '410', 'tales', 'spoof', 'sinister', 'sidney', 'shut', 'rogers', 'related', 'ludicrous', 'lazy', 'warned', 'turkey', 'southern', 'replaced', 'obnoxious', 'needless', 'lugosi', 'locked', 'ironic', 'gruesome', 'experiment', 'elizabeth', 'determined', 'breath', 'wins', 'westerns', 'sun', 'sleazy', 'screening', 'properly', 'pet', 'nowadays', 'lie', 'interpretation', 'escapes', 'daily', 'burt', 'aunt', 'trick', 'tradition', 'remote', 'obsession', 'jail', 'hardy', 'graphics', 'clips', 'chilling', 'blair', 'bbc', 'attacked', 'wave', 'warner', 'u', 'tight', 'stanley', 'served', 'scripts', 'remind', 'reference', 'laura', 'jumps', 'interviews', 'exists', 'essential', 'arrives', 'alas', 'stops', 'st', 'sold', 'punch', 'navy', 'marvelous', 'india', 'hitchcock', 'fortunately', 'contain', 'busy', 'timing', 'successfully', 'oddly', 'nonexistent', 'hills', 'goofy', 'goodbr', 'frequently', 'established', 'dollar', 'ashamed', '310', 'term', 'sum', 'stylish', 'rival', 'revolves', 'refuses', 'ratings', 'oscars', 'o', 'jewish', 'inspector', 'flawed', 'drives', 'balance', 'authentic', 'warn', 'upset', 'struggles', 'risk', 'nation', 'mirror', 'mindless', 'mentally', 'manager', 'legs', 'horrific', 'hence', 'guard', 'flow', 'che', 'andrews', 'tree', 'titles', 'sides', 'shower', 'riding', 'retarded', 'philip', 'par', 'overcome', 'hood', 'greatly', 'delight', 'comedian', 'bette', 'toy', 'tense', 'suspects', 'stomach', 'spoken', 'roberts', 'poignant', 'nonetheless', 'mob', 'mansion', 'lesser', 'lane', 'intentions', 'intensity', 'gods', 'cynical', 'bridge', 'attacks', 'albeit', 'wishes', 'topic', 'thousands', 'presentation', 'madness', 'lion', 'lessons', 'jay', 'husbands', 'fbi', 'expressions', 'cooper', 'controversial', 'buck', 'bitter', 'wealthy', 'wasting', 'vacation', 'thrilling', 'suffered', 'stupidity', 'stranger', 'seeking', 'personalities', 'opened', 'medical', 'lucy', 'glimpse', 'demon', 'confusion', 'chan', 'adapted', 'storm', 'scientists', 'pride', 'nazi', 'internet', 'hundreds', 'holmes', 'guessing', 'eg', 'dubbing', 'dinner', 'bound', '30s', 'whereas', 'uncomfortable', 'tracy', 'thief', 'text', 'shorts', 'shines', 'separate', 'perform', 'patient', 'mass', 'infamous', 'hint', 'happily', 'gross', 'dislike', 'courage', 'contact', 'broke', 'advantage', 'trite', 'sings', 'reed', 'performers', 'noble', 'miscast', 'miller', 'countries', 'corner', 'chases', 'chair', 'trial', 'suggests', 'shape', 'rocks', 'physically', 'mouse', 'millions', 'letting', 'innocence', 'horses', 'helen', 'elvis', 'east', 'credible', 'credibility', 'atmospheric', '910', '2006', '1960s', 'womans', 'tied', 'therebr', 'technique', 'sin', 'sexuality', 'reunion', 'racism', 'hundred', 'hole', 'glass', 'cook', 'consists', 'youbr', 'troubled', 'steps', 'portrait', 'pool', 'lying', 'lovable', 'gripping', 'grey', 'ensemble', 'develops', 'curse', 'crisis', 'cameos', 'badbr', '2000', 'torn', 'stretch', 'screenwriter', 'saves', 'ralph', 'oneliners', 'noted', 'meaningful', 'idiotic', 'holiday', 'hanks', 'concert', 'catholic', 'bo', 'bettie', 'bears', 'wwii', 'weapon', 'vincent', 'unforgettable', 'sentimental', 'searching', 'proof', 'plastic', 'neat', 'kurt', 'gain', 'exceptional', 'enjoyment', 'drink', 'accepted', 'toobr', 'thrillers', 'shed', 'imaginative', 'host', 'hiding', 'herbr', 'franchise', 'fish', 'entry', 'dig', 'dialogs', 'connected', 'belongs', 'attraction', 'spots', 'solve', 'sends', 'sandler', 'nine', 'lincoln', 'hoped', 'concerns', 'christ', 'card', 'annoyed', 'andrew', 'aired', 'worry', 'widmark', 'virgin', 'succeed', 'quote', 'object', 'n', 'lucas', 'jake', 'italy', 'guts', 'flaw', 'endearing', 'closely', 'assistant', 'arm', 'achieved', 'striking', 'repeat', 'redemption', 'profound', 'irony', 'homeless', 'hearts', 'ha', 'fortune', 'equal', 'encounters', 'eerie', 'dealt', 'crimes', 'cousin', 'colorful', 'checking', 'battles', 'bag', 'appearances', 'aged', 'videos', 'tune', 'tribute', 'tour', 'teach', 'sutherland', 'stanwyck', 'segments', 'persons', 'pat', 'oil', 'nights', 'nelson', 'neighborhood', 'mst3k', 'library', 'h', 'factory', 'dragged', 'dentist', 'covers', 'complaint', '1st', 'stan', 'snow', 'slight', 'pointed', 'ourselves', 'miniseries', 'hunting', 'hooked', 'hang', 'hamlet', 'essence', 'dear', 'cube', 'civil', 'bucks', 'believing', 'bat', 'thousand', 'surrounding', 'strikes', 'split', 'shoots', 'seagal', 'rush', 'pitch', 'pack', 'moviesbr', 'laid', 'knife', 'incoherent', 'health', 'glory', 'expensive', 'dare', 'countless', 'cheese', 'charisma', 'branagh', 'baker', 'appearing', '18', 'zone', 'workers', 'theyd', 'surrounded', 'stood', 'stealing', 'spending', 'matthau', 'massacre', 'lloyd', 'jeremy', 'dorothy', 'dancer', 'condition', 'competent', 'chasing', 'charismatic', 'chances', 'catherine', 'briefly', 'attempted', 'unintentionally', 'tons', 'terrifying', 'stunts', 'stronger', 'specific', 'shall', 'rushed', 'rochester', 'ripped', 'intention', 'horrendous', 'grows', 'fx', 'elsewhere', 'denzel', 'curtis', 'crafted', 'colour', 'birthday', 'attached', 'aforementioned', 'wing', 'wanna', 'trade', 'sullivan', 'sexually', 'setup', 'reactions', 'messages', 'individuals', 'hip', 'easier', 'betterbr', 'associated', 'admittedly', '80', 'university', 'tricks', 'requires', 'perfection', 'noise', 'month', 'magazine', 'le', 'guilt', 'gag', 'forgive', 'creators', 'burning', 'beating', 'arnold', '2001', 'wake', 'typically', 'stunt', 'stated', 'spike', 'silver', 'revelation', 'per', 'nose', 'luckily', 'increasingly', 'identify', 'homage', 'guest', 'goal', 'gift', 'dropped', 'drags', 'corrupt', '17', 'vague', 'strictly', 'represents', 'overrated', 'neck', 'kings', 'importance', 'ian', 'gotta', 'gothic', 'fired', 'faced', 'exercise', 'dramas', 'dawn', 'chuck', 'cats', 'cardboard', 'boredom', 'allowing', 'winter', 'walls', 'virus', 'techniques', 't', 'reynolds', 'ps', 'performing', 'painting', 'mild', 'medium', 'loser', 'killings', 'kidnapped', 'kicks', 'kane', 'instantly', 'importantly', 'hype', 'fitting', 'fifteen', 'enters', 'contract', 'commit', 'chaplin', 'camerawork', 'barry', 'sophisticated', 'row', 'relevant', 'pushed', 'presumably', 'jesse', 'horrors', 'handful', 'godfather', 'disagree', 'carefully', 'brando', 'boll', 'bobby', 'basement', '24', 'wonders', 'weight', 'thumbs', 'shining', 'sally', 'reallife', 'realise', 'pleased', 'plague', 'pie', 'partly', 'packed', 'nuclear', 'notch', 'letter', 'flash', 'eva', 'doors', 'brand', '45', 'wondered', 'tremendous', 'toilet', 'talked', 'superhero', 'silence', 'returning', 'resolution', 'pleasantly', 'overlooked', 'occurs', 'mustsee', 'marks', 'korean', 'hudson', 'hitting', 'heat', 'frustrated', 'executive', 'destruction', 'derek', 'continued', 'comics', 'buried', 'britain', 'admire', 'acceptable', 'worthless', 'superbly', 'strip', 'secretary', 'prevent', 'persona', 'listed', 'lab', 'jamie', 'inevitable', 'iii', 'fears', 'evident', 'competition', 'canada', 'bride', 'breasts', 'arrested', 'subplots', 'strike', 'stiff', 'spell', 'shy', 'relative', 'regardless', 'projects', 'press', 'picking', 'opposed', 'masters', 'larger', 'investigation', 'flawless', 'fatal', 'estate', 'doc', 'digital', 'citizen', 'carol', 'bush', 'bullets', 'boxing', 'bible', 'beings', 'attracted', 'accused', 'walken', 'struck', 'splendid', 'spiritual', 'someones', 'root', 'revealing', 'planning', 'outrageous', 'nazis', 'menacing', 'mafia', 'los', 'kudos', 'karloff', 'jumping', 'highlights', 'glover', 'directorial', 'closeups', 'burn', 'appalling', 'afterwards', '40s', '3d', 'useless', 'union', 'uninspired', 'thrills', 'suits', 'subsequent', 'spooky', 'sole', 'slightest', 'savage', 'remaining', 'precious', 'notes', 'logical', 'lacked', 'ironically', 'inspiring', 'hire', 'guide', 'genres', 'flynn', 'dvds', 'cup', 'conspiracy', 'characterization', 'brilliance', 'ambitious', '911', '2005', 'wes', 'watches', 'ward', 'twin', 'streisand', 'spoiled', 'souls', 'repetitive', 'repeatedly', 'reasonably', 'raped', 'pulling', 'photographed', 'notably', 'neighbor', 'morality', 'melodramatic', 'ken', 'installment', 'heston', 'francisco', 'elderly', 'documentaries', 'dire', 'depression', 'curiosity', 'creation', 'convoluted', 'clues', 'blob', 'aimed', 'accomplished', 'worldbr', 'wicked', 'wannabe', 'timothy', 'ticket', 'theyll', 'territory', 'tea', 'smooth', 'shortly', 'screams', 'samurai', 'rid', 'response', 'push', 'providing', 'poverty', 'overdone', 'minimal', 'loosely', 'jerk', 'intrigued', 'insulting', 'generous', 'forbidden', 'duke', 'drunken', 'draws', 'cox', 'con', 'cia', 'cared', 'border', 'bleak', 'achievement', 'timeless', 'spring', 'shadows', 'ritter', 'reduced', 'psychiatrist', 'non', 'neil', 'mile', 'mid', 'mel', 'jealous', 'hatred', 'gradually', 'futuristic', 'funnybr', 'filmsbr', 'failing', 'explore', 'emily', 'elvira', 'distant', 'definite', 'davies', 'darker', 'corpse', 'adams', '20th', 'wells', 'thirty', 'tall', 'sticks', 'shell', 'reasonable', 'piano', 'outcome', 'obscure', 'meat', 'manhattan', 'laurel', 'intent', 'goldberg', 'carpenter', 'captivating', 'blows', 'unbelievably', 'trap', 'spielberg', 'rap', 'pushing', 'nurse', 'motivation', 'mitchell', 'misses', 'knock', 'indians', 'improved', 'ignored', 'grandmother', 'gentle', 'elaborate', 'doctors', 'discussion', 'burton', 'beaten', 'argument', 'alike', 'ad', 'absence', 'turner', 'tunes', 'tortured', 'stole', 'spin', 'resembles', 'psychotic', 'norman', 'miserably', 'liberal', 'huh', 'fisher', 'farce', 'explicit', 'et', 'em', 'disease', 'dave', 'cruise', 'cried', 'contrary', 'connect', 'concerning', 'childish', 'cameras', 'brazil', 'beer', 'alexander', 'worried', 'waters', 'warrior', 'vicious', 'throat', 'threat', 'temple', 'string', 'sloppy', 'shoes', 'shark', 'returned', 'reached', 'ranks', 'purple', 'monkey', 'lou', 'kenneth', 'horrid', 'hardcore', 'glenn', 'fancy', 'extended', 'exaggerated', 'eve', 'displays', 'diamond', 'danes', 'currently', 'craig', 'complain', 'cole', 'builds', 'blend', 'affected', 'wreck', 'website', 'upbr', 'threw', 'swedish', 'sunshine', 'subjects', 'spoilersbr', 'spirits', 'sacrifice', 'prom', 'pretend', 'panic', 'ought', 'matthew', 'idiots', 'houses', 'hollow', 'fay', 'enjoys', 'distance', 'demands', 'dancers', 'consequences', 'charactersbr', 'carter', 'arrive', 'alltime', 'warren', 'triumph', 'smoking', 'robots', 'ridiculously', 'restaurant', 'receive', 'poster', 'photographer', 'overacting', 'hysterical', 'harder', 'fever', 'farm', 'eyre', 'drivel', 'drawing', 'broad', 'blank', 'beats', 'argue', 'smoke', 'size', 'scripted', 'progress', 'officers', 'movements', 'modesty', 'landscape', 'jet', 'groups', 'greek', 'dynamic', 'duo', 'conversations', 'burned', 'australia', 'annie', 'upper', 'trio', 'styles', 'staying', 'selling', 'scientific', 'ruth', 'recognized', 'popcorn', 'murderous', 'load', 'ireland', 'involvement', 'investigate', 'incident', 'hugh', 'holy', 'heroic', 'exposed', 'engaged', 'empire', 'dignity', 'devoted', 'daring', 'cusack', 'commercials', 'comfortable', 'carrey', 'buddies', 'broadcast', 'brains', 'anyways', 'vivid', 'translation', 'titled', 'threatening', 'symbolism', 'swear', 'superficial', 'selfish', 'secrets', 'rural', 'producing', 'proceedings', 'orders', 'offering', 'occur', 'newspaper', 'mountains', 'machines', 'lily', 'kitchen', 'journalist', 'joey', 'existed', 'escaped', 'dinosaurs', 'differences', 'critic', 'couples', 'choreography', 'cagney', 'brosnan', 'bands', 'astaire', 'areas', 'aging', '210', 'winters', 'uneven', 'tame', 'relies', 'rage', 'margaret', 'lips', 'innovative', 'gray', 'grab', 'explaining', 'ex', 'discovery', 'detailed', 'deliberately', 'clint', 'block', 'bite', 'bathroom', 'apes', '60', '2nd', '16', 'workbr', 'wealth', 'versus', 'unpleasant', 'twelve', 'timesbr', 'thugs', 'stiller', 'staff', 'soviet', 'signs', 'removed', 'possibility', 'perry', 'occurred', 'nearby', 'mildred', 'merit', 'mate', 'lighthearted', 'juvenile', 'intrigue', 'ingredients', 'implausible', 'imagined', 'hollywoods', 'folk', 'focusing', 'felix', 'editor', 'dialogues', 'dawson', 'causing', 'birds', 'bell', 'audio', '2004', 'web', 'watchbr', 'undoubtedly', 'travels', 'sidekick', 'showbr', 'sadness', 'sadistic', 'resemblance', 'primary', 'population', 'pays', 'overwhelming', 'onscreen', 'nightmares', 'meaningless', 'maker', 'lawrence', 'kirk', 'generic', 'furthermore', 'disturbed', 'defeat', 'damage', 'craft', 'conventional', 'combat', 'chain', 'catches', 'adequate', 'abilities', 'abc', '2003', 'w', 'unbearable', 'trees', 'ships', 'remarkably', 'pulp', 'primarily', 'portion', 'passes', 'narrator', 'lifestyle', 'karen', 'hurts', 'headed', 'flies', 'falk', 'explosion', 'eccentric', 'discuss', 'devoid', 'composed', 'clumsy', 'clothing', 'bin', 'banned', 'atlantis', 'altogether', '0', 'yesterday', 'winds', 'unintentional', 'thrill', 'surviving', 'spare', 'settle', 'secondly', 'react', 'official', 'maggie', 'liking', 'leg', 'jeffrey', 'itll', 'hitman', 'highest', 'hates', 'glorious', 'giallo', 'g', 'financial', 'explored', 'exotic', 'enormous', 'dracula', 'dozens', 'cuba', 'chaos', 'cameron', 'backdrop', 'antics', 'afford', '2002', 'urge', 'survival', 'smaller', 'shine', 'scheme', 'roman', 'represent', 'reaches', 'morebr', 'models', 'mixture', 'mickey', 'kapoor', 'gandhi', 'fond', 'doomed', 'disjointed', 'decisions', 'consistently', 'carl', 'blatant', 'bird', 'beneath', '1990s', 'wallace', 'walker', 'uwe', 'ups', 'unwatchable', 'slap', 'rank', 'rambo', 'props', 'paulie', 'outer', 'odds', 'notion', 'notbr', 'neighbors', 'mistaken', 'judging', 'hints', 'fighter', 'errors', 'edie', 'dutch', 'distracting', 'disc', 'describes', 'coherent', 'clown', 'cheating', 'cary', 'careers', 'brady', 'bold', 'vast', 'trailers', 'tommy', 'thick', 'tear', 'tap', 'survivors', 'subtlety', 'sport', 'specifically', 'senseless', 'sellers', 'scenebr', 'richards', 'possessed', 'offended', 'monkeys', 'kennedy', 'instant', 'influenced', 'impress', 'ideal', 'hideous', 'heartwarming', 'hal', 'garden', 'gangsters', 'freak', 'florida', 'everyones', 'enterprise', 'drops', 'directs', 'diane', 'dating', 'dances', 'contained', 'butt', 'brooklyn', 'blew', 'bedroom', 'april', 'amy', 'ah', 'advance', '3rd', 'wolf', 'whale', 'weakest', 'voight', 'toys', 'topless', 'ties', 'stellar', 'soccer', 'simplistic', 'seenbr', 'screenbr', 'revolutionary', 'relations', 'rebel', 'practice', 'peters', 'performer', 'montage', 'matches', 'loads', 'linda', 'lasted', 'jazz', 'introduces', 'guessed', 'frustration', 'explosions', 'etcbr', 'ego', 'desperation', 'depressed', 'dedicated', 'commented', 'classes', 'celluloid', 'blake', 'benefit', 'adorable', 'todd', 'tender', 'suited', 'succeeded', 'staged', 'shelf', 'seventies', 'satan', 'saga', 'ruthless', 'rooms', 'rick', 'principal', 'politically', 'philosophy', 'passionate', 'occasion', 'mysteries', 'miserable', 'method', 'loyal', 'leonard', 'justify', 'involve', 'immensely', 'illogical', 'honesty', 'holly', 'hammer', 'forms', 'flop', 'emphasis', 'eastwood', 'doll', 'developing', 'crush', 'countryside', 'coffee', 'claimed', 'circle', 'bare', 'backgrounds', 'awake', 'arrogant', 'wrestling', 'wasbr', 'unfolds', 'traveling', 'trashy', 'transformation', 'tracks', 'thoughtful', 'tad', 'synopsis', 'stress', 'solely', 'similarities', 'severe', 'recorded', 'realizing', 'planned', 'outfit', 'motives', 'melting', 'measure', 'lust', 'link', 'kicked', 'jonathan', 'interaction', 'hank', 'funeral', 'endure', 'endings', 'disappeared', 'disappear', 'destiny', 'considerable', 'command', 'chorus', 'bone', 'blues', 'wore', 'treats', 'stereotype', 'shirley', 'quotes', 'photos', 'orson', 'menace', 'lemmon', 'isolated', 'hbo', 'harvey', 'hamilton', 'ginger', 'facing', 'ease', 'displayed', 'dickens', 'cure', 'corruption', 'consistent', 'comparing', 'companion', 'chased', 'cards', 'avoided', 'authority', 'angeles', 'aid', 'agrees', 'yellow', 'waited', 'tongue', 'taught', 'switch', 'swimming', 'surfing', 'sits', 'similarly', 'scenesbr', 'satisfied', 'riveting', 'represented', 'report', 'purchase', 'preview', 'possibilities', 'moody', 'madefortv', 'lyrics', 'kidding', 'inventive', 'helicopter', 'grasp', 'goodness', 'formulaic', 'enemies', 'ellen', 'eighties', 'e', 'donna', 'dolls', 'colonel', 'celebrity', 'buffs', 'bonus', 'amanda', 'wished', 'widow', 'voiceover', 'vegas', 'user', 'terrorist', 'solo', 'snl', 'relation', 'prostitute', 'promised', 'onedimensional', 'nervous', 'myers', 'mario', 'march', 'judy', 'improve', 'hunters', 'handed', 'embarrassment', 'ears', 'duty', 'divorce', 'delivering', 'defend', 'combine', 'cliff', 'charlotte', 'cg', 'carrie', 'behave', 'akshay', '1999', 'wives', 'waves', 'valuable', 'unsettling', 'unhappy', 'transfer', 'suitable', 'reads', 'philosophical', 'parent', 'pages', 'oz', 'l', 'ignorant', 'horrifying', 'hook', 'godzilla', 'global', 'fix', 'crack', 'closet', 'closest', 'chess', 'buildings', 'blond', '1996', '1980', 'virginia', 'tonight', 'thru', 'stooges', 'stinker', 'snake', 'scottish', 'scores', 'sappy', 'reflect', 'reaching', 'painted', 'online', 'nicholson', 'motivations', 'maintain', 'lately', 'kingdom', 'inbr', 'inane', 'humble', 'hart', 'faster', 'engage', 'elegant', 'education', 'diana', 'destroying', 'corporate', 'buff', 'blacks', 'bebr', 'artificial', 'agents', 'affect', 'yelling', 'wet', 'wed', 'useful', 'understandable', 'tiresome', 'terry', 'stinks', 'stevens', 'staring', 'splatter', 'slave', 'shake', 'sentence', 'seed', 'secretly', 'scope', 'scarecrow', 'safety', 'rotten', 'rex', 'remarks', 'racial', 'questionable', 'pretending', 'potentially', 'plant', 'museum', 'miracle', 'miike', 'letters', 'lees', 'germans', 'fooled', 'earned', 'disappoint', 'conflicts', 'concern', 'coach', 'cleverly', 'centers', 'bullet', 'armed', 'airport', 'airplane', 'access', 'abysmal', 'wandering', 'trained', 'survived', 'slick', 'sandra', 'rocket', 'purchased', 'provoking', 'poetic', 'nostalgic', 'nicholas', 'mall', 'm', 'lay', 'jumped', 'iron', 'intentionally', 'inferior', 'hung', 'gadget', 'francis', 'firstly', 'finger', 'faults', 'exploration', 'elephant', 'dub', 'disneys', 'dinosaur', 'depicts', 'communist', 'civilization', 'campbell', 'brutally', 'blunt', 'blade', 'amounts', 'americas', 'alongside', 'alcoholic', 'advise', 'womens', 'wizard', 'willis', 'vulnerable', 'understated', 'troops', 'tie', 'sub', 'streep', 'stilted', 'steel', 'spoke', 'showcase', 'september', 'robbery', 'rising', 'rendition', 'raising', 'punk', 'proceeds', 'porno', 'pokemon', 'plight', 'patients', 'nomination', 'namely', 'mini', 'lengthy', 'lena', 'joined', 'illegal', 'guarantee', 'grinch', 'greedy', 'fonda', 'floating', 'ethan', 'edgar', 'convincingly', 'confidence', 'channels', 'beliefs', 'bath', 'arrived', 'arguably', 'advanced', 'abusive', '2007', 'wrapped', 'witches', 'visits', 'transition', 'spread', 'species', 'resort', 'relatives', 'pig', 'peoplebr', 'nonstop', 'morris', 'madonna', 'homosexual', 'gundam', 'fascinated', 'familys', 'downhill', 'dimensional', 'designs', 'construction', 'cinematographer', 'chicago', 'carradine', 'careful', 'cake', 'bottle', 'beatty', 'balls', 'ballet', 'attitudes', 'ape', 'agreed', 'advertising', 'accompanied', '70', '3000', '1940s', 'wound', 'worker', 'taxi', 'sue', 'simplicity', 'signed', 'shirt', 'satisfy', 'ruby', 'recognition', 'pops', 'parallel', 'nyc', 'niro', 'molly', 'macy', 'lowest', 'lit', 'limits', 'likewise', 'li', 'latin', 'junior', 'june', 'jenny', 'intimate', 'hopper', 'heartbreaking', 'frequent', 'foul', 'devils', 'demented', 'damon', 'copies', 'complexity', 'compelled', 'classical', 'cities', 'christians', 'cave', 'catchy', 'capturing', 'berlin', 'aids', '1972', 'ya', 'vengeance', 'v', 'tends', 'schools', 'robinson', 'prisoner', 'prequel', 'phantom', 'paltrow', 'opinions', 'olivier', 'nostalgia', 'nonsensical', 'mundane', 'mars', 'manipulative', 'losers', 'lone', 'khan', 'inappropriate', 'illness', 'hilariously', 'grandfather', 'gerard', 'georges', 'exceptionally', 'equivalent', 'eager', 'dreary', 'descent', 'der', 'del', 'daddy', 'crucial', 'chicks', 'cheated', 'challenging', 'bang', 'bakshi', 'babe', 'alternate', '1990', 'writes', 'witnesses', 'wishing', 'widely', 'wellknown', 'twilight', 'tomatoes', 'suspicious', 'shelley', 'seeks', 'scooby', 'restored', 'remakes', 'raymond', 'rat', 'pursuit', 'prisoners', 'poetry', 'pearl', 'overlook', 'ocean', 'muchbr', 'montana', 'misery', 'lol', 'lively', 'leo', 'incomprehensible', 'homer', 'excessive', 'edition', 'eaten', 'domestic', 'demand', 'cinemas', 'choreographed', 'chooses', 'chest', 'capital', 'boot', 'awe', 'appreciation', 'amitabh', '1968', 'wisdom', 'vaguely', 'suspend', 'square', 'smiling', 'sincere', 'simmons', 'seriesbr', 'royal', 'robbins', 'resources', 'progresses', 'prize', 'plotbr', 'plausible', 'performs', 'paranoia', 'opportunities', 'nations', 'methods', 'messed', 'masterful', 'mann', 'literature', 'legal', 'laws', 'landscapes', 'kicking', 'justin', 'invasion', 'introduce', 'incompetent', 'franco', 'experiments', 'enthusiasm', 'elm', 'doubts', 'desired', 'dalton', 'da', 'crocodile', 'constructed', 'conservative', 'calm', 'bumbling', 'brenda', 'blowing', 'belong', 'bela', 'basketball', 'awfully', 'wacky', 'viewings', 'trademark', 'tag', 'suffice', 'richardson', 'responsibility', 'resist', 'resident', 'recording', 'randomly', 'promises', 'polished', 'petty', 'nuts', 'mummy', 'mentions', 'mechanical', 'mayor', 'masterpieces', 'louise', 'loaded', 'kay', 'generations', 'feed', 'eitherbr', 'earl', 'distinct', 'creativity', 'craven', 'climactic', 'cd', 'borrowed', 'bacall', 'assigned', 'assault', 'arrival', '1983', 'wounded', 'witnessed', 'wholly', 'wendy', 'waitress', 'visible', 'unoriginal', 'underlying', 'unaware', 'troubles', 'terrorists', 'teachers', 'strangers', 'stones', 'stargate', 'standout', 'stale', 'spirited', 'solution', 'sneak', 'slaughter', 'sink', 'simpson', 'showdown', 'scrooge', 'ruins', 'receives', 'rangers', 'punishment', 'polanski', 'poem', 'pit', 'parties', 'operation', 'omen', 'marty', 'map', 'jaws', 'inevitably', 'improvement', 'icon', 'heights', 'greed', 'gifted', 'fury', 'fields', 'expressed', 'dust', 'dolph', 'creep', 'conceived', 'betty', 'attorney', 'attend', 'assumed', 'ashley', '–', 'willie', 'whoopi', 'warriors', 'warmth', 'unit', 'testament', 'teaching', 'straightforward', 'rats', 'randy', 'rabbit', 'quit', 'property', 'pot', 'overlong', 'offbr', 'muslim', 'mighty', 'mentioning', 'lumet', 'laughably', 'keith', 'iraq', 'iran', 'instinct', 'historically', 'gabriel', 'females', 'educational', 'edgy', 'contest', 'closed', 'chapter', 'businessman', 'bergman', 'angela', 'alfred', 'activities', 'acid', 'aboutbr', '1973', 'wouldbe', 'withbr', 'voiced', 'verhoeven', 'twins', 'tooth', 'tiger', 'swim', 'survivor', 'supported', 'stunned', 'spain', 'sid', 'rolled', 'rocky', 'popularity', 'pink', 'pamela', 'moronic', 'mistress', 'minutesbr', 'minimum', 'middleaged', 'meryl', 'merits', 'kubrick', 'irrelevant', 'imitation', 'household', 'hello', 'greg', 'grabs', 'garbo', 'funbr', 'fashioned', 'exposure', 'equipment', 'domino', 'depicting', 'christy', 'catching', 'button', 'bull', 'boom', 'alert', '13th', 'valley', 'uplifting', 'unseen', 'unreal', 'unpredictable', 'tribe', 'timon', 'suggested', 'subjected', 'stretched', 'spock', 'sounding', 'significance', 'shaw', 'shaky', 'seldom', 'rubber', 'romero', 'resulting', 'resemble', 'psychic', 'pressure', 'pierce', 'phony', 'noone', 'masses', 'marketing', 'loyalty', 'kyle', 'invented', 'integrity', 'heartfelt', 'fulci', 'fought', 'feelgood', 'exchange', 'eugene', 'empathy', 'doom', 'disliked', 'directions', 'despair', 'definition', 'daybr', 'cringe', 'confrontation', 'compassion', 'championship', 'cannibal', 'butler', 'bud', 'bay', 'astonishing', 'analysis', 'ambiguous', 'accuracy', '35', 'wrongbr', 'wretched', 'wifes', 'watson', 'unexpectedly', 'trail', 'stumbled', 'sopranos', 'simultaneously', 'roots', 'retired', 'remained', 'reflection', 'ramones', 'peak', 'patience', 'pants', 'palace', 'package', 'otherbr', 'othello', 'orleans', 'ollie', 'nicole', 'monk', 'metaphor', 'landing', 'lackluster', 'josh', 'interests', 'inability', 'immediate', 'hopeless', 'grayson', 'gather', 'furious', 'firm', 'fascination', 'expedition', 'drake', 'distribution', 'defined', 'defense', 'darren', 'costar', 'confess', 'comfort', 'cliche', 'checked', 'biography', 'austin', 'album', 'adaptations', '1984', 'victory', 'unfair', 'underneath', 'travesty', 'technicolor', 'sums', 'spacey', 'sixties', 'shanghai', 'roth', 'roommate', 'require', 'refused', 'reel', 'rave', 'raises', 'primitive', 'presenting', 'phil', 'pan', 'objective', 'newly', 'nail', 'marion', 'mankind', 'legacy', 'kissing', 'israel', 'hears', 'frightened', 'farrell', 'eastern', 'dixon', 'difficulties', 'dee', 'deceased', 'daniels', 'dana', 'creator', 'conditions', 'composer', 'companies', 'closeup', 'clip', 'claus', 'blast', 'antwone', 'alec', 'actingbr', 'abraham', 'yearsbr', 'wakes', 'vulgar', 'ustinov', 'unlikable', 'teaches', 'tastes', 'subpar', 'stark', 'specially', 'softcore', 'sissy', 'sharon', 'screens', 'scotland', 'rises', 'respected', 'replace', 'remade', 'reid', 'rates', 'raines', 'quietly', 'precisely', 'photo', 'passable', 'pal', 'owen', 'musicians', 'milk', 'maniac', 'maid', 'lundgren', 'karl', 'julian', 'joins', 'joel', 'interactions', 'glasses', 'gentleman', 'gender', 'frustrating', 'flair', 'fido', 'favour', 'experimental', 'dreck', 'discovering', 'dimension', 'desires', 'deranged', 'connery', 'comedians', 'coast', 'christianity', 'buffalo', 'barrymore', 'andre', 'abused', '1971', '1933', 'yard', 'widescreen', 'warming', 'wang', 'walsh', 'thingbr', 'tank', 'sunny', 'stuart', 'rude', 'rely', 'relax', 'reeves', 'nowbr', 'ninja', 'nerd', 'nathan', 'muddled', 'matched', 'literary', 'lands', 'inexplicably', 'hyde', 'griffith', 'graham', 'framed', 'examination', 'encourage', 'electric', 'dysfunctional', 'dresses', 'dose', 'correctly', 'characterbr', 'casts', 'carell', 'brutality', 'behaviour', 'awhile', 'audiencebr', 'assassin', 'aspiring', 'appropriately', 'amused', 'alcohol', 'adopted', 'wrap', 'wildly', 'visiting', 'tracking', 'tomorrow', 'teams', 'tacky', 'shouldve', 'shoddy', 'shared', 'sentinel', 'sentiment', 'sabrina', 'ross', 'roof', 'rifle', 'referred', 'purposes', 'provocative', 'preston', 'preposterous', 'prepare', 'premiere', 'positively', 'phrase', 'pg13', 'paradise', 'parade', 'ordered', 'musician', 'mode', 'masks', 'marshall', 'macarthur', 'lock', 'les', 'knocked', 'invites', 'hopkins', 'generated', 'frankenstein', 'fingers', 'filling', 'fest', 'femme', 'exposition', 'emperor', 'downey', 'credited', 'choppy', 'chicken', 'charged', 'bunny', 'bernard', 'automatically', 'amusement', 'alternative', 'additional', 'absent', '75', '1993', '1987', 'yearold', 'vice', 'vance', 'unfold', 'uncut', 'tube', 'translated', 'topnotch', 'swing', 'sung', 'spark', 'senses', 'rooney', 'romp', 'respective', 'releases', 'reign', 'region', 'refer', 'realised', 'posters', 'poison', 'murdering', 'moreover', 'morbid', 'mclaglen', 'madebr', 'loneliness', 'leon', 'ladder', 'items', 'insurance', 'hopelessly', 'hawke', 'hackneyed', 'greatness', 'glowing', 'fantasies', 'demise', 'deaf', 'counts', 'complaining', 'citizens', 'cattle', 'biko', 'beverly', 'babies', 'alicia', 'accomplish', 'youngest', 'wellwritten', 'weakness', 'trend', 'thoughtprovoking', 'skull', 'singers', 'silliness', 'shoulders', 'shares', 'russia', 'regarded', 'realm', 'pun', 'pitiful', 'objects', 'nephew', 'naughty', 'mtv', 'misleading', 'lush', 'laurence', 'kansas', 'invited', 'infected', 'indication', 'imaginable', 'ignorance', 'harm', 'handling', 'guests', 'grotesque', 'gambling', 'function', 'forty', 'fi', 'fed', 'eternal', 'ensues', 'deserted', 'costars', 'corpses', 'complaints', 'challenges', 'celebration', 'caricatures', 'bridget', 'bargain', 'alison', 'admirable', 'accepts', 'absurdity', 'abrupt', '19th', '1995', 'towns', 'threatens', 'suspension', 'skits', 'severely', 'servant', 'secondary', 'sci', 'respectively', 'reflects', 'recycled', 'recommendation', 'receiving', 'puppet', 'promote', 'pro', 'prey', 'phillips', 'partners', 'palance', 'owners', 'oldest', 'noises', 'nod', 'nicolas', 'muppets', 'minded', 'jews', 'insipid', 'iconic', 'ho', 'hk', 'hitlers', 'grief', 'evidently', 'drove', 'din', 'devices', 'depending', 'crystal', 'cruelty', 'cope', 'conveys', 'coincidence', 'chills', 'chainsaw', 'canyon', 'beside', 'asylum', 'affection', 'address', 'active', '1997', '1986', 'wilderness', 'weaknesses', 'visited', 'venture', 'underworld', 'understands', 'tyler', 'togetherbr', 'tasteless', 'sympathize', 'strongest', 'stores', 'standup', 'squad', 'shades', 'rita', 'reluctant', 'records', 'priceless', 'prejudice', 'posted', 'portrayals', 'policeman', 'paramount', 'outing', 'outfits', 'occasions', 'obligatory', 'nolan', 'minus', 'mill', 'mccoy', 'malone', 'lois', 'lifted', 'kumar', 'investigating', 'industrial', 'hughes', 'heros', 'heading', 'hammy', 'freaks', 'el', 'edit', 'disappears', 'deniro', 'damme', 'cue', 'crawford', 'conviction', 'conventions', 'conscience', 'comparisons', 'buster', 'burst', 'belushi', 'baldwin', 'authors', 'aim', 'affairs', 'acclaimed', 'acceptance', '73', '1970', '1936', 'wwe', 'trivia', 'tobr', 'thread', 'terrified', 'suitably', 'studying', 'steady', 'stages', 'spinal', 'sketch', 'shakespeares', 'selection', 'renaissance', 'rejected', 'redeem', 'psychology', 'programs', 'profanity', 'previews', 'predict', 'pointbr', 'phenomenon', 'penny', 'patricia', 'murray', 'muppet', 'morally', 'misguided', 'locals', 'labor', 'kolchak', 'interestingly', 'hers', 'heist', 'hapless', 'guaranteed', 'gregory', 'frankie', 'fog', 'fishing', 'filler', 'fiancé', 'explores', 'entitled', 'emerges', 'elses', 'ear', 'difficulty', 'designer', 'demonstrates', 'dates', 'darn', 'cassidy', 'caliber', 'bros', 'billed', 'attract', 'anywaybr', 'ants', '2008', '1989', '1979', '1978', 'zombi', 'worn', 'vital', 'visions', 'vibrant', 'vein', 'unexplained', 'tripe', 'soup', 'sooner', 'someday', 'snakes', 'slimy', 'sht', 'shouting', 'sending', 'rome', 'representation', 'reader', 'ratso', 'prominent', 'physics', 'pg', 'palma', 'orange', 'option', 'michaels', 'marvel', 'marries', 'iv', 'insists', 'inconsistent', 'hippie', 'harold', 'harmless', 'guitar', 'gems', 'forcing', 'flashy', 'filth', 'feminist', 'eats', 'dud', 'discussing', 'diehard', 'despicable', 'deleted', 'cream', 'conclude', 'communicate', 'commander', 'clock', 'claustrophobic', 'clarke', 'cancer', 'betrayal', 'beatles', 'basinger', 'banal', 'assuming', 'anticipation', 'agenda', 'winchester', 'welldone', 'vader', 'unrelated', 'transformed', 'tierney', 'tempted', 'studies', 'springer', 'sox', 'slice', 'sirk', 'shootout', 'route', 'rod', 'rhythm', 'pounds', 'placebr', 'mentality', 'martha', 'lindsay', 'kungfu', 'knight', 'kitty', 'jacksons', 'ingenious', 'immature', 'housewife', 'flowers', 'europa', 'downbr', 'depends', 'delicate', 'danish', 'crazed', 'considerably', 'clueless', 'clan', 'claiming', 'circus', 'champion', 'casual', 'cannon', 'bread', 'blatantly', 'bike', 'biased', 'befriends', 'wings', 'wellmade', 'voted', 'towers', 'tail', 'symbolic', 'stumbles', 'soso', 'smiles', 'shortcomings', 'schlock', 'sassy', 'rukh', 'rolebr', 'riot', 'repeating', 'remove', 'recognizable', 'quinn', 'pete', 'paxton', 'mirrors', 'millionaire', 'melody', 'meg', 'marlon', 'limit', 'lifeless', 'legends', 'kathryn', 'iq', 'inhabitants', 'inexplicable', 'hokey', 'historic', 'height', 'grudge', 'grainy', 'glamorous', 'gina', 'gear', 'fuller', 'foxx', 'fontaine', 'fluff', 'fifty', 'exploring', 'ethnic', 'dukes', 'dressing', 'detectives', 'defeated', 'coupled', 'connections', 'co', 'charlton', 'challenged', 'carla', 'campaign', 'boston', 'bend', 'awaybr', 'audrey', 'altman', 'allens', 'agency', 'adolescent', 'addicted', 'vocal', 'uniformly', 'tunnel', 'trials', 'ton', 'thompson', 'swept', 'surgery', 'static', 'stairs', 'sorely', 'shopping', 'serving', 'screwed', 'screenwriters', 'satirical', 'rapist', 'praised', 'partially', 'parsons', 'paintings', 'outright', 'offbeat', 'novak', 'nemesis', 'minority', 'las', 'keen', 'item', 'institution', 'independence', 'incidentally', 'hangs', 'handles', 'freddys', 'firing', 'feeding', 'familybr', 'exceptions', 'esther', 'employed', 'drivein', 'disgusted', 'disguise', 'deserving', 'departure', 'coup', 'couch', 'controlled', 'continually', 'computers', 'chuckle', 'childs', 'charms', 'boyle', 'bars', 'backs', 'assassination', 'ambition', 'ace', '23', 'wax', 'toronto', 'token', 'tip', 'thrilled', 'threatened', 'sugar', 'shoulder', 'ripping', 'preferred', 'preachy', 'posey', 'pacific', 'outdated', 'northern', 'newer', 'neurotic', 'natives', 'nails', 'messy', 'mercy', 'melissa', 'macho', 'kidman', 'inspire', 'insightful', 'hilarity', 'hearted', 'hack', 'girlfriends', 'gate', 'garner', 'firmly', 'feat', 'farfetched', 'elite', 'earn', 'dylan', 'duck', 'disastrous', 'dirt', 'destroys', 'debate', 'curly', 'commenting', 'colin', 'cheer', 'centre', 'cassavetes', 'camcorder', 'bully', 'bridges', 'brendan', 'boxer', 'bowl', 'bondage', 'bogus', 'bates', 'bacon', 'artwork', 'artsy', 'arthouse', 'accurately', '4th', '1988', '1981', 'yeti', 'windows', 'wheres', 'vile', 'vain', 'unlikeable', 'uma', 'triangle', 'traffic', 'topics', 'suggestion', 'subtly', 'strings', 'steele', 'stalker', 'speeches', 'somethingbr', 'sleeps', 'sincerely', 'sharing', 'shaking', 'rooting', 'refuse', 'readers', 'predecessor', 'organized', 'obtain', 'norm', 'neatly', 'mutual', 'mayhem', 'males', 'liners', 'leigh', 'layers', 'kline', 'info', 'hides', 'healthy', 'harrison', 'guinness', 'gillian', 'fist', 'fade', 'excess', 'evolution', 'entered', 'engrossing', 'endingbr', 'election', 'duration', 'dudley', 'doo', 'donebr', 'disorder', 'destined', 'describing', 'demonic', 'containing', 'concepts', 'completed', 'chavez', 'centered', 'cartoonish', 'brooding', 'boringbr', 'boasts', 'bent', 'audition', 'anton', '22', '1976', '1969', '1000', 'woo', 'wig', 'weather', 'weaker', 'wanders', 'vastly', 'undead', 'triple', 'ta', 'stopping', 'stack', 'sometime', 'sobr', 'skit', 'seedy', 'saint', 'rope', 'reruns', 'rendered', 'relentless', 'refers', 'raj', 'quaid', 'punches', 'profession', 'politician', 'pole', 'originals', 'nope', 'newman', 'mesmerizing', 'masterfully', 'mannerisms', 'loretta', 'lifes', 'leaders', 'jess', 'injured', 'hungry', 'hugely', 'hires', 'helpless', 'helpful', 'hartley', 'guards', 'genie', 'gal', 'frances', 'exquisite', 'elevator', 'des', 'deny', 'dazzling', 'damaged', 'critique', 'christine', 'carmen', 'bulk', 'boris', 'beware', 'authorities', 'applaud', 'anyones', 'affects', 'advertised', '1945', 'wendigo', 'users', 'unsuspecting', 'tower', 'tops', 'thunderbirds', 'tenant', 'tarantino', 'stunningly', 'strengths', 'statue', 'startling', 'stare', 'stallone', 'shorter', 'scoop', 'scariest', 'rides', 'restrained', 'residents', 'realities', 'randolph', 'racing', 'publicity', 'proving', 'preparing', 'passengers', 'owes', 'nut', 'nina', 'myth', 'motive', 'mixing', 'min', 'lukas', 'luis', 'lift', 'lauren', 'lasts', 'lasting', 'knowbr', 'knightley', 'jared', 'itselfbr', 'internal', 'ingrid', 'hulk', 'goodbye', 'gained', 'fifties', 'fastpaced', 'exploits', 'excellently', 'error', 'emerge', 'duvall', 'dropping', 'detract', 'demanding', 'crashes', 'contempt', 'conrad', 'cliches', 'chronicles', 'choosing', 'cbs', 'carey', 'candidate', 'btw', 'breed', 'bow', 'behold', 'backwards', 'alvin', 'alley', 'akin', 'activity', '\\x85', 'zizek', 'youthful', 'wardrobe', 'votes', 'vanessa', 'valentine', 'tokyo', 'timberlake', 'tara', 'suburban', 'storys', 'spree', 'soylent', 'sniper', 'sleaze', 'sinking', 'servants', 'screw', 'referring', 'rapidly', 'radical', 'puerto', 'promptly', 'poker', 'origins', 'origin', 'nolte', 'netflix', 'net', 'mutant', 'modest', 'misfortune', 'minister', 'miami', 'mail', 'macabre', 'lovebr', 'located', 'limitations', 'label', 'kent', 'justified', 'jordan', 'joker', 'jaw', 'insults', 'insights', 'inaccurate', 'highway', 'heels', 'grounds', 'globe', 'gimmick', 'giants', 'gere', 'galaxy', 'forbr', 'fools', 'fifth', 'factors', 'expertly', 'everbr', 'errol', 'entering', 'elsebr', 'eleven', 'dubious', 'dj', 'disguised', 'disappointedbr', 'didbr', 'deliverance', 'cracking', 'convinces', 'contribution', 'continuing', 'confronted', 'confront', 'compete', 'cerebral', 'casino', 'buys', 'bronson', 'breakfast', 'bitch', 'belt', 'banter', 'bachelor', 'authenticity', 'attenborough', 'ariel', 'approaches', 'antonio', 'anil', 'alexandre', 'abruptly', '21st', '1991', '1939', 'wander', 'walt', 'vividly', 'unsure', 'underwater', 'undeniably', 'tossed', 'tormented', 'toni', 'supply', 'sticking', 'sf', 'salvation', 'salt', 'rookie', 'ronald', 'reward', 'repulsive', 'repressed', 'regards', 'rampage', 'puppets', 'principals', 'phillip', 'perception', 'pale', 'painter', 'owns', 'ol', 'monty', 'mol', 'mitch', 'lowkey', 'lend', 'landed', 'jarring', 'interact', 'insanity', 'inherent', 'homicide', 'homes', 'heavyhanded', 'growth', 'greatbr', 'grateful', 'formed', 'fords', 'expects', 'eventual', 'endlessly', 'differently', 'derivative', 'depths', 'definitive', 'dandy', 'crapbr', 'convicted', 'confident', 'conan', 'comedybr', 'colours', 'cents', 'braveheart', 'bmovies', 'bitten', 'biblical', 'austen', 'approaching', 'altered', 'accessible', '1977', 'yokai', 'witchcraft', 'wisely', 'vehicles', 'unattractive', 'terminator', 'survives', 'stranded', 'spies', 'siblings', 'sg1', 'separated', 'sensible', 'scriptbr', 'sale', 'runner', 'reviewing', 'published', 'pray', 'polly', 'pickup', 'photographs', 'peck', 'overblown', 'outline', 'nominations', 'natalie', 'moe', 'mobile', 'mice', 'meandering', 'mathieu', 'marc', 'letdown', 'juliet', 'jules', 'judd', 'jedi', 'irene', 'incapable', 'imo', 'immortal', 'identical', 'heavens', 'hats', 'handheld', 'ham', 'gunga', 'goodlooking', 'godawful', 'glued', 'gates', 'frames', 'flimsy', 'flashes', 'fatale', 'exterior', 'exploit', 'exit', 'evelyn', 'eternity', 'energetic', 'ebert', 'dragons', 'dobr', 'dismal', 'devastating', 'depict', 'decidedly', 'damned', 'cries', 'conveyed', 'concentrate', 'cemetery', 'caricature', 'buzz', 'bruno', 'bravo', 'beforebr', 'barrel', 'assured', 'angst', 'ally', 'adore', 'zane', 'wtf', 'wonderland', 'wagner', 'volume', 'unimaginative', 'uniform', 'thoughbr', 'tapes', 'swallow', 'subway', 'sublime', 'stalking', 'sophie', 'soderbergh', 'simpsons', 'severed', 'scarface', 'rivers', 'respectable', 'reports', 'reminder', 'reliable', 'quantum', 'psychopath', 'promoted', 'principle', 'pleasing', 'playboy', 'performancebr', 'penn', 'pc', 'payoff', 'pattern', 'papers', 'owned', 'overbr', 'oldfashioned', 'niece', 'mermaid', 'longest', 'lester', 'lance', 'judgment', 'janes', 'intricate', 'inspirational', 'improbable', 'implied', 'homosexuality', 'hindi', 'harriet', 'fragile', 'filthy', 'farmer', 'expose', 'excruciatingly', 'entirety', 'enthusiastic', 'ensure', 'enhanced', 'dread', 'downs', 'divine', 'disgrace', 'disabled', 'demonstrate', 'delicious', 'cypher', 'cushing', 'cultures', 'crossing', 'crisp', 'crippled', 'creek', 'contribute', 'cons', 'combines', 'colleagues', 'cliffhanger', 'cleaning', 'clara', 'chopped', 'characteristics', 'cecil', 'butcher', 'butch', 'bug', 'bsg', 'bones', 'bloom', 'beowulf', 'arguing', 'arab', 'appeals', 'antonioni', 'africanamerican', 'addict', 'accounts', 'absorbing', '300', '1985', '1950', 'youtube', 'whiny', 'whining', 'victorian', 'vanilla', 'ultimatum', 'tremendously', 'tendency', 'switched', 'steam', 'sidewalk', 'sergeant', 'sentimentality', 'senior', 'seeming', 'scratch', 'salman', 'revolt', 'reeve', 'rainy', 'quentin', 'pursue', 'possess', 'popping', 'pirate', 'pickford', 'paula', 'parallels', 'packs', 'p', 'ominous', 'ohara', 'ny', 'noticeable', 'nightclub', 'nerves', 'morals', 'mitchum', 'missile', 'miranda', 'mindbr', 'lighter', 'lex', 'leather', 'kidnapping', 'jodie', 'jacket', 'immense', 'holocaust', 'hippies', 'habit', 'fairbanks', 'experiencing', 'estranged', 'escaping', 'embrace', 'email', 'dustin', 'drinks', 'divorced', 'distract', 'deer', 'decline', 'cyborg', 'collect', 'christina', 'budgets', 'boyer', 'bills', 'attacking', 'astounding', 'assembled', 'anyhow', 'answered', 'amrita', 'aided', 'affleck', '95', '28', '1994', '1974', '1920s', 'yours', 'wounds', 'wire', 'wilder', 'werewolves', 'wellacted', 'voyage', 'virtual', 'vince', 'updated', 'unsatisfying', 'turmoil', 'truman', 'toby', 'theories', 'sydney', 'sucker', 'subtext', 'stewarts', 'stardom', 'spectacle', 'spaghetti', 'sought', 'seymour', 'selected', 'sand', 'rounded', 'reviewed', 'resulted', 'resolved', 'rescued', 'remembering', 'rebellious', 'precode', 'postwar', 'pin', 'peculiar', 'peaceful', 'messing', 'manbr', 'magician', 'longtime', 'longing', 'lola', 'logan', 'literal', 'liam', 'lavish', 'kurosawa', 'knocks', 'juliette', 'jill', 'jaded', 'isolation', 'havoc', 'hackman', 'grass', 'goldblum', 'glaring', 'ghetto', 'garland', 'gable', 'forgiven', 'foolish', 'followup', 'fills', 'expectation', 'exorcist', 'earnest', 'disgust', 'dilemma', 'denis', 'demonstrated', 'deliberate', 'daysbr', 'dashing', 'dame', 'crown', 'crashing', 'corporation', 'copied', 'conveniently', 'contestants', 'collective', 'classy', 'clash', 'christie', 'chill', 'cheaply', 'casper', 'begging', 'bach', 'avoiding', 'asia', 'approached', 'amazon', 'alleged', 'aiming', 'adrian', '21', '200', '19', '\\x97', 'yep', 'worms', 'whites', 'wartime', 'verdict', 'vega', 'traits', 'trains', 'tourist', 'tonys', 'thieves', 'thelma', 'taped', 'swearing', 'suspected', 'spit', 'spencer', 'span', 'snuff', 'slip', 'slaves', 'slapped', 'skilled', 'settled', 'serials', 'scotts', 'samantha', 'rowlands', 'romeo', 'ritchie', 'relentlessly', 'rehash', 'rear', 'quarter', 'q', 'potter', 'poses', 'pocket', 'plotting', 'planets', 'pad', 'odyssey', 'mystical', 'mum', 'morons', 'melvyn', 'liveaction', 'liu', 'lightning', 'laurie', 'kellys', 'keatons', 'karate', 'judged', 'jobbr', 'jealousy', 'indiana', 'hayworth', 'goods', 'gentlemen', 'gamera', 'feast', 'executives', 'excuses', 'establish', 'erika', 'enhance', 'dump', 'dramatically', 'diverse', 'delighted', 'define', 'debt', 'dealer', 'contributed', 'commits', 'coat', 'climb', 'cinemabr', 'cher', 'celebrated', 'canceled', 'bw', 'burke', 'borders', 'bombs', 'bittersweet', 'aussie', 'arriving', 'arc', 'admired', 'addiction', 'acquired', 'achieves', 'accepting', '1959', 'yawn', 'worsebr', 'wiped', 'vintage', 'vanity', 'underwear', 'ultra', 'uh', 'tool', 'tax', 'taboo', 'suggesting', 'strict', 'stella', 'spice', 'slugs', 'shepherd', 'serum', 'seebr', 'seductive', 'seasoned', 'sarcastic', 'romances', 'ritual', 'rewarding', 'remembers', 'redundant', 'readily', 'races', 'pumbaa', 'psychologist', 'preminger', 'predictably', 'posing', 'populated', 'planes', 'pirates', 'phenomenal', 'pedestrian', 'pause', 'overboard', 'novelty', 'nbc', 'moron', 'mason', 'lunch', 'loy', 'likeable', 'legitimate', 'leap', 'korea', 'jersey', 'introducing', 'intentional', 'insist', 'inmates', 'informed', 'incorrect', 'immigrant', 'horny', 'hepburn', 'headache', 'gypo', 'guinea', 'graveyard', 'furniture', 'frontier', 'freaky', 'fluid', 'flavor', 'explosive', 'exploding', 'expense', 'drab', 'delightfully', 'deliciously', 'defies', 'dads', 'cuban', 'covering', 'courtroom', 'cookie', 'comprehend', 'commitment', 'cohen', 'circles', 'cheek', 'cape', 'bye', 'breakdown', 'brainless', 'bounty', 'bestbr', 'basket', 'backbr', 'axe', 'attending', 'amidst', '1944', 'wine', 'wider', 'watchingbr', 'wastes', 'unsympathetic', 'trace', 'tongueincheek', 'tolerable', 'thirties', 'symbol', 'stylized', 'stroke', 'stephanie', 'steer', 'slide', 'sixth', 'shockingly', 'sgt', 'sells', 'screwball', 'robbers', 'ricky', 'respects', 'redneck', 'ranch', 'pushes', 'produces', 'pound', 'possession', 'possesses', 'politicians', 'polish', 'poe', 'pixar', 'pilots', 'phase', 'passage', 'parking', 'pans', 'otto', 'nuances', 'newcomer', 'mysteriously', 'mouths', 'mortal', 'mins', 'medieval', 'meantime', 'lucille', 'lethal', 'lends', 'lean', 'kinnear', 'jacques', 'ira', 'instincts', 'hybrid', 'gwyneth', 'groundbreaking', 'gilbert', 'gielgud', 'franklin', 'foundation', 'firstrate', 'festivals', 'experiencebr', 'europeans', 'establishing', 'encountered', 'embarrassingly', 'einstein', 'dominated', 'deciding', 'debbie', 'deanna', 'daylewis', 'crosby', 'counter', 'corbett', 'consist', 'consideration', 'clive', 'cliched', 'clerk', 'cigarette', 'charlies', 'caron', 'carnage', 'cal', 'branaghs', 'beg', 'barbra', 'bachchan', 'awakening', 'attended', 'arrest', 'arranged', 'apply', 'anytime', 'anxious', 'additionally', 'actorsbr', '10br', 'xfiles', 'viewpoint', 'unusually', 'unanswered', 'tickets', 'tactics', 'stating', 'stabbed', 'sparks', 'sources', 'session', 'scorsese', 'scored', 'sarandon', 'salesman', 'routines', 'roughly', 'rider', 'reverse', 'rejects', 'rational', 'queens', 'pursued', 'psyche', 'porter', 'pfeiffer', 'penelope', 'ordeal', 'optimistic', 'olivia', 'obstacles', 'obsessive', 'noteworthy', 'neglected', 'narrow', 'mute', 'motions', 'misunderstood', 'milo', 'mens', 'marilyn', 'longoria', 'laterbr', 'kubricks', 'keys', 'kazan', 'kathy', 'jury', 'july', 'jewel', 'invite', 'invention', 'informative', 'indifferent', 'indicate', 'incidents', 'huston', 'horrified', 'hop', 'herbert', 'hateful', 'haines', 'gloria', 'freaking', 'forgetting', 'flock', 'flickbr', 'feminine', 'feeble', 'exploited', 'explodes', 'excruciating', 'en', 'dumped', 'dumbest', 'duel', 'document', 'distress', 'distracted', 'diary', 'denise', 'degrees', 'deathbr', 'daisy', 'controlling', 'compliment', 'clone', 'cindy', 'casablanca', 'busey', 'brides', 'breathing', 'blandings', 'begs', 'arty', 'armstrong', 'anticipated', 'anthology', 'aftermath', 'adaption', 'abandon', '99', '1975', '1953', 'whore', 'warns', 'void', 'veterans', 'verbal', 'varied', 'upcoming', 'uncanny', 'un', 'tvs', 'turd', 'translate', 'thurman', 'targets', 'sundance', 'stations', 'spiderman', 'sickening', 'sensebr', 'sanders', 'rosemarys', 'rightbr', 'relevance', 'regularly', 'rambling', 'puzzle', 'pros', 'products', 'pointing', 'pathos', 'participants', 'ofbr', 'niven', 'mythology', 'murky', 'moss', 'mormon', 'monologue', 'minnelli', 'meal', 'mcqueen', 'martian', 'mama', 'jenna', 'iranian', 'intensely', 'instances', 'inaccuracies', 'historybr', 'hannah', 'grandma', 'grabbed', 'goals', 'generate', 'gangs', 'fright', 'freeze', 'frantic', 'flower', 'fishburne', 'eagerly', 'distraction', 'depictions', 'debra', 'daylight', 'darth', 'cunningham', 'corn', 'corman', 'corey', 'cooking', 'convention', 'combs', 'columbia', 'ches', 'centuries', 'cannes', 'biopic', 'belly', 'arquette', 'arguments', 'angie', 'agony', 'aggressive', 'afterward', '34', '1998', '1940', 'zorro', 'z', 'widowed', 'whybr', 'upside', 'update', 'tuned', 'traps', 'tomei', 'tcm', 'swinging', 'suspicion', 'sunrise', 'statements', 'starters', 'starsbr', 'stance', 'spine', 'sondra', 'shifts', 'shift', 'services', 'seats', 'sang', 'rounds', 'rosario', 'resembling', 'replies', 'releasing', 'relating', 'realization', 'realistically', 'predator', 'policy', 'plodding', 'phones', 'paths', 'parks', 'paints', 'overbearing', 'nerve', 'naschy', 'motorcycle', 'midst', 'mates', 'masterson', 'manners', 'lurking', 'lowe', 'lip', 'lions', 'lionel', 'launch', 'laputa', 'kidnap', 'juan', 'jose', 'jolie', 'intro', 'interestingbr', 'inclusion', 'ignoring', 'hyped', 'hoot', 'herman', 'heath', 'harlow', 'hadley', 'grip', 'gooding', 'glimpses', 'glance', 'gallery', 'funding', 'forties', 'followers', 'flames', 'fanatic', 'exclusively', 'evans', 'enigmatic', 'enchanted', 'employee', 'economic', 'dumber', 'dismiss', 'discussed', 'dillinger', 'deputy', 'deed', 'curiously', 'criticize', 'controversy', 'coffin', 'click', 'claude', 'carpenters', 'bogart', 'blamed', 'berkeley', 'begun', 'august', 'ambitions', 'ambiguity', 'admitted', '85', '1982', '1948', 'wong', 'warden', 'uniforms', 'troma', 'syndrome', 'sweden', 'surroundings', 'substantial', 'stuffbr', 'stream', 'stiles', 'sterling', 'stereotyped', 'stardust', 'stalked', 'snowman', 'snipes', 'smash', 'sly', 'skinny', 'sketches', 'shore', 'shepard', 'sentences', 'selfindulgent', 'scripting', 'scenarios', 'scarecrows', 'saloon', 'safely', 'rupert', 'ruining', 'rewarded', 'reunite', 'reiser', 'reflected', 'qualify', 'popped', 'platform', 'periods', 'pains', 'ownbr', 'omar', 'offscreen', 'october', 'necessity', 'narrated', 'murderers', 'moneybr', 'moms', 'miyazaki', 'meteor', 'maureen', 'maintains', 'mabel', 'linked', 'lastly', 'kris', 'kathleen', 'imaginary', 'ignores', 'idol', 'hinted', 'hines', 'haunt', 'goldie', 'gloomy', 'gigantic', 'gestures', 'gap', 'frontal', 'frog', 'fried', 'foremost', 'foil', 'fleshed', 'factual', 'extensive', 'envy', 'enoughbr', 'educated', 'edith', 'dynamics', 'dreamy', 'dominic', 'cycle', 'county', 'consequently', 'consequence', 'comeback', 'cheadle', 'chamber', 'capacity', 'campus', 'bosses', 'biker', 'battlestar', 'backed', 'avid', 'assignment', 'apt', 'applies', 'applied', 'angelina', 'ample', 'alot', 'abortion', '1934', 'witnessing', 'wheel', 'wayans', 'valid', 'unstable', 'unfolding', 'ugh', 'trier', 'tones', 'tho', 'therapy', 'soprano', 'smell', 'slim', 'sins', 'sights', 'sheets', 'shaggy', 'sebastian', 'schneider', 'schedule', 'sammo', 'sailor', 'russ', 'rodriguez', 'robertson', 'rips', 'revolving', 'revival', 'reunited', 'resume', 'resistance', 'replacement', 'repeats', 're', 'protest', 'precise', 'pose', 'pornography', 'phantasm', 'pegg', 'paranoid', 'observe', 'nuanced', 'muslims', 'moviemaking', 'moviegoers', 'momentum', 'momentsbr', 'mick', 'medicine', 'marisa', 'knights', 'kells', 'jacks', 'israeli', 'islands', 'investigator', 'invested', 'intact', 'insomnia', 'homicidal', 'gus', 'graduate', 'georgia', 'genrebr', 'gaps', 'frozen', 'entrance', 'eli', 'du', 'diner', 'denouement', 'delirious', 'daytime', 'collins', 'clunky', 'clay', 'characterizations', 'characterisation', 'chamberlain', 'castbr', 'carlos', 'cap', 'cab', 'bubble', 'brooke', 'breast', 'bonnie', 'blockbusters', 'bleed', 'blaise', 'biting', 'bikini', 'benefits', 'beckinsale', 'bats', 'bait', 'awfulbr', 'assure', 'arrow', 'array', 'arkin', 'anita', 'alliance', 'acknowledge', '1992', '101', 'weekly', 'waking', 'vivian', 'villainous', 'unhinged', 'tomb', 'tire', 'throughbr', 'thereby', 'talky', 'supreme', 'sufficient', 'studied', 'stern', 'stadium', 'spider', 'sour', 'sonny', 'skeptical', 'sitcoms', 'similarity', 'silverman', 'shotgun', 'shocks', 'sherlock', 'sheen', 'sensibility', 'seduce', 'sarcasm', 'rolls', 'rightly', 'retelling', 'reserved', 'relying', 'rebels', 'realises', 'raging', 'questioning', 'prophecy', 'playwright', 'pivotal', 'parrot', 'offend', 'networks', 'needing', 'mustve', 'moviei', 'marked', 'lynchs', 'lopez', 'lil', 'landmark', 'laboratory', 'jude', 'joking', 'johns', 'johansson', 'interrupted', 'inadvertently', 'hysterically', 'hooker', 'hayes', 'geisha', 'gathering', 'fuzzy', 'fundamental', 'fortunate', 'fleet', 'famed', 'ernie', 'entertainingbr', 'enchanting', 'displaying', 'detroit', 'deemed', 'customers', 'crushed', 'cow', 'commanding', 'colored', 'collette', 'coke', 'clooney', 'childlike', 'chiba', 'cheers', 'boundaries', 'bias', 'bc', 'bauer', 'balanced', 'babes', 'artistry', 'admits', 'abound', '1967', 'ww2', 'worldwide', 'washed', 'wash', 'visitor', 'vignettes', 'vargas', 'usbr', 'upstairs', 'unnatural', 'unfamiliar', 'understandably', 'unclear', 'truths', 'trivial', 'trauma', 'sweat', 'sunset', 'substitute', 'subsequently', 'subgenre', 'stumble', 'stake', 'spotlight', 'smug', 'shred', 'shameless', 'scheming', 'samuel', 'rice', 'republic', 'reminding', 'reluctantly', 'randall', 'quintessential', 'puppy', 'psychedelic', 'progressed', 'professionals', 'phoenix', 'penned', 'olsen', 'observations', 'northam', 'nauseating', 'myrna', 'maximum', 'mandy', 'madsen', 'madeleine', 'lunatic', 'janet', 'iturbi', 'interviewed', 'interior', 'insert', 'howling', 'hostel', 'hitchcocks', 'harrowing', 'hardened', 'handicapped', 'gackt', 'fuel', 'fruit', 'frombr', 'forgets', 'finishing', 'finishes', 'favourites', 'fassbinder', 'fart', 'evokes', 'epics', 'enduring', 'egyptian', 'drowned', 'doug', 'divided', 'diversity', 'district', 'disco', 'determination', 'despise', 'demille', 'deathtrap', 'criticized', 'coworker', 'courtesy', 'convent', 'controls', 'confined', 'complications', 'comparable', 'commendable', 'chew', 'cheerful', 'charges', 'chaotic', 'celebrities', 'caretaker', 'caprica', 'bust', 'brett', 'boots', 'boogie', 'beckham', 'bakshis', 'baddies', 'awareness', 'arrogance', 'arebr', 'announced', 'ala', 'ajay', 'addressed', 'accompanying', 'accidental', '1943', 'yell', 'wright', 'wholesome', 'whod', 'whimsical', 'verge', 'unnecessarily', 'um', 'travis', 'transparent', 'traditions', 'titular', 'timmy', 'tide', 'thrust', 'thailand', 'testing', 'temper', 'tashan', 'targeted', 'sylvia', 'surround', 'summed', 'spoiling', 'sincerity', 'sholay', 'shannon', 'seth', 'semblance', 'scarlett', 'sanity', 'salvage', 'roses', 'relaxed', 'recover', 'rea', 'python', 'programme', 'perverted', 'participate', 'owl', 'outlandish', 'orchestra', 'olds', 'occult', 'obscurity', 'musicbr', 'monotonous', 'monks', 'misty', 'meadows', 'mccarthy', 'martians', 'magically', 'license', 'lens', 'laying', 'krueger', 'kirsten', 'kindly', 'judges', 'interpretations', 'inserted', 'injury', 'infinitely', 'hunted', 'hostile', 'hostage', 'hiphop', 'himselfbr', 'hawn', 'hallmark', 'gut', 'guardian', 'gorilla', 'galactica', 'flows', 'file', 'fascist', 'fairytale', 'explode', 'entries', 'earliest', 'dynamite', 'distributed', 'destination', 'deeds', 'cutter', 'convenient', 'considers', 'composition', 'colleague', 'cmon', 'chuckles', 'chong', 'characteristic', 'captivated', 'camping', 'cameraman', 'cain', 'burial', 'brent', 'brat', 'bonds', 'bonanza', 'blackandwhite', 'baron', 'backstory', 'aroundbr', 'antagonist', 'annoy', 'affecting', 'adele', '1963', '1951', 'wrestler', 'winners', 'whove', 'wherever', 'wesley', 'walmart', 'vomit', 'variation', 'upbeat', 'understatement', 'underdeveloped', 'unappealing', 'turkish', 'toxic', 'toned', 'thunder', 'taut', 'takashi', 'suzanne', 'sunk', 'stuffed', 'stepmother', 'sporting', 'spoilerbr', 'smiths', 'slashers', 'sho', 'searched', 'se', 'scoobydoo', 'satisfaction', 'sane', 'sales', 'robbed', 'rivals', 'resolve', 'remark', 'recreate', 'raunchy', 'rampant', 'protection', 'preaching', 'portuguese', 'plate', 'pizza', 'pigs', 'philo', 'partbr', 'outrageously', 'othersbr', 'orphan', 'openly', 'observation', 'nun', 'novelist', 'nightmarish', 'motel', 'mister', 'miraculously', 'miikes', 'melancholy', 'marcel', 'manipulation', 'macdonald', 'listened', 'kinski', 'jagger', 'intend', 'inclined', 'incestuous', 'implies', 'hooper', 'herd', 'happenbr', 'gypsy', 'grin', 'ghastly', 'fritz', 'flashing', 'flag', 'finney', 'fetish', 'faded', 'eyesbr', 'exploitative', 'excels', 'engine', 'elsa', 'elliott', 'elephants', 'ealing', 'dwight', 'dvdbr', 'duh', 'drowning', 'drift', 'dragging', 'devotion', 'dangerously', 'dallas', 'dahmer', 'dafoe', 'crosses', 'crossed', 'crooks', 'creasy', 'counting', 'constraints', 'complained', 'compensate', 'communication', 'committing', 'coma', 'cocaine', 'clouds', 'clarity', 'cena', 'cancelled', 'borrow', 'blazing', 'benjamin', 'bearing', 'beard', 'battlefield', 'banks', 'awaiting', 'avoids', 'article', 'almighty', 'aesthetic', 'admission', 'adapt', 'achievements', 'aaron', '010', 'zodiac', 'wheelchair', 'watcher', 'warrant', 'voyager', 'voodoo', 'vcr', 'vapid', 'uneasy', 'unconventional', 'traumatic', 'transport', 'tools', 'tess', 'stabbing', 'ss', 'spontaneous', 'spiral', 'sophia', 'somethings', 'slower', 'sinks', 'shoe', 'sharks', 'shameful', 'shahid', 'shah', 'sexist', 'sergio', 'serbian', 'senator', 'sections', 'seattle', 'screened', 'satanic', 'runaway', 'ruled', 'rolesbr', 'robotic', 'riff', 'restraint', 'rendering', 'remainder', 'reasonbr', 'ram', 'prop', 'progression', 'proceed', 'pretends', 'presidential', 'practical', 'plug', 'permanent', 'peggy', 'palm', 'overtones', 'overshadowed', 'originalbr', 'oblivious', 'nutshell', 'moores', 'mole', 'mock', 'mentor', 'lookalike', 'locke', 'lennon', 'juice', 'joining', 'jj', 'je', 'jan', 'jackman', 'isabelle', 'irritated', 'impending', 'ideabr', 'hometown', 'homebr', 'henchmen', 'gretchen', 'govinda', 'glossy', 'gilliam', 'ghostly', 'gena', 'garfield', 'frat', 'flavia', 'fires', 'fashions', 'fairness', 'facility', 'excellence', 'evoke', 'everett', 'ernest', 'epitome', 'enormously', 'encouraged', 'drivers', 'dreaming', 'distinction', 'desk', 'deepest', 'creations', 'courageous', 'coolest', 'contestant', 'confuse', 'conductor', 'climbing', 'classmates', 'clad', 'circa', 'chloe', 'cheering', 'celebrate', 'cedric', 'carlitos', 'buttons', 'busby', 'burnt', 'betrayed', 'bernsen', 'battling', 'bashing', 'awarded', 'avenge', 'automatic', 'aunts', 'assumes', 'artemisia', 'apple', 'apocalypse', 'advised', 'admiration', 'abundance', 'absorbed', '26', '1932', 'warehouse', 'versionbr', 'val', 'unleashed', 'transforms', 'thingsbr', 'theodore', 'superstar', 'submarine', 'suave', 'stab', 'solved', 'slater', 'sickness', 'sheep', 'shaped', 'selfcentered', 'secure', 'screenplays', 'rourke', 'roller', 'rivalry', 'riders', 'respond', 'reported', 'razor', 'raid', 'qualifies', 'quaint', 'pursuing', 'prologue', 'projected', 'principles', 'priests', 'possiblebr', 'plotline', 'picturebr', 'paz', 'pauline', 'ostensibly', 'organization', 'occupied', 'noting', 'notices', 'ninety', 'myrtle', 'meyer', 'meredith', 'meek', 'masked', 'marijuana', 'magazines', 'macmurray', 'linear', 'lindy', 'labeled', 'jo', 'jar', 'informer', 'incidental', 'incest', 'hum', 'hobgoblins', 'greene', 'goat', 'giovanna', 'gig', 'garage', 'fraud', 'ferrell', 'feinstone', 'failures', 'fades', 'experts', 'espionage', 'employees', 'electronic', 'effortlessly', 'eagle', 'dominate', 'distinctive', 'disregard', 'disappearance', 'diego', 'demeanor', 'defending', 'deadpan', 'dc', 'cursed', 'criticisms', 'convict', 'conveying', 'colony', 'coburn', 'clyde', 'chops', 'choir', 'chip', 'carpet', 'capote', 'caper', 'candle', 'brazilian', 'brashear', 'bout', 'bookbr', 'boobs', 'blondell', 'bimbo', 'bert', 'beforehand', 'beers', 'auto', 'assistance', 'antihero', 'ambiance', '1966', '1958', 'zelah', 'yells', 'worrying', 'woefully', 'weirdness', 'warners', 'warhols', 'vigilante', 'uncertain', 'turtle', 'torment', 'tolerance', 'tits', 'tightly', 'theatres', 'tended', 'tech', 'tackle', 'symbols', 'switching', 'sustain', 'strung', 'starship', 'spoofs', 'socially', 'sober', 'snap', 'slept', 'slavery', 'sites', 'signature', 'sensual', 'sensitivity', 'scriptwriter', 'sandy', 'saints', 'russo', 'revolver', 'responds', 'reject', 'rebellion', 'realbr', 'prostitution', 'prostitutes', 'predecessors', 'prank', 'pornographic', 'pompous', 'playful', 'pierre', 'patty', 'outset', 'ongoing', 'officially', 'offense', 'obrien', 'ninjas', 'nest', 'motivated', 'monroe', 'mira', 'mills', 'middleclass', 'marines', 'manipulated', 'managing', 'malden', 'mae', 'madison', 'lifelong', 'lara', 'lampoon', 'joint', 'jigsaw', 'investment', 'interiors', 'informs', 'inform', 'influential', 'influences', 'ideals', 'idealistic', 'highschool', 'harron', 'grease', 'gershwin', 'geek', 'gandolfini', 'frost', 'framing', 'forgiveness', 'filmography', 'fiend', 'fiancée', 'farmers', 'englund', 'edison', 'edges', 'dunst', 'dreyfuss', 'drawings', 'doyle', 'discipline', 'digging', 'detached', 'davids', 'croc', 'crashed', 'conscious', 'confines', 'combining', 'colman', 'cohesive', 'closure', 'clinic', 'cheech', 'cells', 'burgess', 'budding', 'brandon', 'bodyguard', 'boards', 'bloodbath', 'bless', 'blames', 'bennett', 'bean', 'barney', 'barnes', 'badness', 'associate', 'annoyance', 'ang', 'alonebr', 'ads', 'admirer', 'abomination', '1955', 'waynes', 'vincenzo', 'vet', 'varying', 'unravel', 'troopers', 'travolta', 'transported', 'tramp', 'tolerate', 'throwaway', 'theirs', 'surrender', 'superfluous', 'stupidbr', 'stink', 'standpoint', 'stabs', 'spelling', 'spade', 'spaceship', 'slam', 'shrek', 'shoved', 'shootouts', 'shield', 'seuss', 'seriousness', 'scratching', 'sara', 'sammy', 'sailors', 'sacrifices', 'rewrite', 'replacing', 'reasoning', 'reagan', 'protective', 'programming', 'pressed', 'policemen', 'polar', 'perverse', 'perspectives', 'peril', 'pen', 'peers', 'parodies', 'palmas', 'pairing', 'padding', 'oprah', 'norris', 'nearest', 'mythical', 'mustache', 'morse', 'monica', 'mixes', 'mines', 'midget', 'merry', 'mercifully', 'marrying', 'marine', 'marcus', 'manic', 'maintaining', 'lurid', 'loren', 'lingering', 'liberty', 'lays', 'kareena', 'kalifornia', 'justification', 'jurassic', 'jewelry', 'irving', 'interplay', 'inexperienced', 'inconsistencies', 'imitate', 'imho', 'identified', 'holt', 'happenings', 'hallucinations', 'gruff', 'groove', 'griffiths', 'grating', 'grandpa', 'goodman', 'gino', 'geoffrey', 'gadgets', 'functions', 'forrest', 'fodder', 'flowing', 'fixed', 'facebr', 'fabric', 'existing', 'emphasize', 'egg', 'economy', 'echoes', 'division', 'diving', 'distorted', 'dish', 'directtovideo', 'dim', 'dictator', 'determine', 'dern', 'derived', 'depend', 'damsel', 'cunning', 'crowded', 'cringing', 'cravens', 'cracks', 'coworkers', 'counterparts', 'consciousness', 'connie', 'conclusions', 'concentration', 'collector', 'collapse', 'cody', 'captive', 'cannibals', 'buffy', 'britney', 'breathe', 'boyfriends', 'blessed', 'bites', 'berenger', 'believability', 'beetle', 'awry', 'asset', 'animations', 'anguish', 'amid', 'allan', 'alexandra', 'advances', 'acclaim', '1946', 'yearbr', 'yarn', 'widower', 'weary', 'villa', 'vertigo', 'uptight', 'tsui', 'trigger', 'transplant', 'torturing', 'temptation', 'systems', 'switches', 'surf', 'subtitled', 'structured', 'strained', 'stoned', 'steaming', 'stares', 'staging', 'spelled', 'sorrow', 'slut', 'simons', 'significantly', 'showcases', 'shelter', 'sensibilities', 'sensational', 'seduction', 'sasquatch', 'russians', 'rousing', 'romania', 'representing', 'representative', 'regime', 'reese', 'reckless', 'radiation', 'profoundly', 'portions', 'plagued', 'placement', 'pia', 'paycheck', 'pals', 'paired', 'overwrought', 'outlaw', 'ossessione', 'orlando', 'opposition', 'officials', 'natali', 'muni', 'monologues', 'mobster', 'melbourne', 'mcadams', 'marvin', 'manga', 'mack', 'luxury', 'lords', 'loony', 'longbr', 'locate', 'locale', 'lo', 'linebr', 'lightweight', 'lifts', 'liberties', 'lars', 'kristofferson', 'kidnaps', 'keanu', 'katie', 'k', 'inhabit', 'identities', 'heroines', 'henchman', 'heather', 'heap', 'hartleys', 'hardboiled', 'hanzo', 'hans', 'han', 'hairy', 'haha', 'grossly', 'graces', 'gibson', 'genetic', 'gathered', 'gasp', 'funky', 'foreboding', 'flew', 'fiery', 'federal', 'faye', 'faint', 'examine', 'er', 'entertains', 'engineer', 'elected', 'egypt', 'edmund', 'earns', 'duchovny', 'drummer', 'drastically', 'downfall', 'downbeat', 'dom', 'disappoints', 'depardieu', 'denying', 'dedication', 'deck', 'decency', 'dash', 'darkly', 'czech', 'cradle', 'cowardly', 'coward', 'cousins', 'contributes', 'continuously', 'confronts', 'condemned', 'communism', 'cloak', 'censorship', 'categories', 'cages', 'butchered', 'brush', 'borrows', 'bon', 'benny', 'bastard', 'bartender', 'animators', 'anchors', 'altmans', 'ali', 'airing', 'adultery', 'actionbr', 'abu', 'zu', 'youngsters', 'wielding', 'warbr', 'visconti', 'virtue', 'vaughn', 'uninspiring', 'underused', 'undercover', 'tricked', 'transitions', 'tina', 'threads', 'thereafter', 'tasty', 'taime', 'sykes', 'sweeping', 'surgeon', 'supportive', 'supermarket', 'sucking', 'subdued', 'straighttovideo', 'stirring', 'spotted', 'spells', 'sophistication', 'snowy', 'sleeper', 'sixteen', 'shrill', 'shiny', 'shelves', 'shaun', 'sensation', 'scattered', 'romanian', 'rogue', 'rockets', 'retirement', 'register', 'redford', 'rapes', 'puzzled', 'prolific', 'presume', 'premiered', 'prefers', 'preferably', 'pleasures', 'pepper', 'pecker', 'owe', 'oscarwinning', 'optimism', 'ogre', 'nuns', 'nora', 'nifty', 'myra', 'monday', 'modernday', 'mediocrity', 'maurice', 'massey', 'madman', 'loner', 'liotta', 'lindsey', 'likebr', 'ledger', 'lds', 'lawn', 'latino', 'laser', 'languages', 'knocking', 'knees', 'intelligently', 'intellectually', 'injustice', 'increase', 'imprisoned', 'impressions', 'illustrate', 'il', 'icons', 'hypnotic', 'hurry', 'hunky', 'hugo', 'hmm', 'halfhour', 'golf', 'goldsworthy', 'godard', 'glow', 'glenda', 'gently', 'geniuses', 'fuss', 'freed', 'freaked', 'fierce', 'fewer', 'fence', 'fellini', 'fanning', 'fallon', 'eyed', 'extraordinarily', 'expresses', 'ewoks', 'establishment', 'erabr', 'ensue', 'engagement', 'emmy', 'eh', 'echo', 'ebay', 'drum', 'dreamlike', 'dodgy', 'distinctly', 'developments', 'deservedly', 'della', 'defy', 'dealers', 'crypt', 'crooked', 'cowritten', 'correctness', 'coop', 'consumed', 'conniving', 'confirmed', 'collaboration', 'cockney', 'clutter', 'cloth', 'clockwork', 'client', 'clarence', 'chemical', 'cheesiness', 'chans', 'ceremony', 'ceiling', 'capitalism', 'byron', 'brit', 'bothers', 'booth', 'boost', 'boogeyman', 'bliss', 'bleeding', 'billing', 'belle', 'bart', 'aura', 'atrocity', 'atlantic', 'artistically', 'applause', 'apollo', 'anti', 'alter', 'allies', 'alarm', 'aircraft', 'accomplishment', 'abstract', 'abroad', 'aboard', '20s', 'zhang', 'zany', 'yourselfbr', 'wrongly', 'willingly', 'visceral', 'verhoevens', 'unwilling', 'trusted', 'trendy', 'traveled', 'todaybr', 'thug', 'thereof', 'taker', 'supports', 'succession', 'strain', 'springs', 'slowmotion', 'slips', 'sleepy', 'slaughtered', 'sinatras', 'simpler', 'shout', 'shocker', 'shawn', 'shady', 'sematary', 'scarlet', 'scarier', 'satisfactory', 'roommates', 'romeros', 'rodney', 'robbing', 'roads', 'rhyme', 'retrieve', 'reportedly', 'relates', 'recovering', 'ravishing', 'rapid', 'rant', 'proudly', 'protecting', 'proportions', 'prone', 'promoting', 'predicted', 'predictability', 'preacher', 'potent', 'plummer', 'photograph', 'peterson', 'periodbr', 'perceived', 'overtly', 'operating', 'operate', 'oneill', 'notwithstanding', 'nerdy', 'natasha', 'mutants', 'muscular', 'muriel', 'mud', 'moderately', 'mockery', 'mishmash', 'messbr', 'maturity', 'mastermind', 'manipulate', 'luthor', 'lure', 'lt', 'lorre', 'lists', 'limp', 'legion', 'lawyers', 'launched', 'lansbury', 'knives', 'kilmer', 'kenny', 'judgement', 'joshua', 'imply', 'illusion', 'icy', 'henderson', 'helena', 'heavenly', 'heartless', 'harilal', 'grisly', 'grendel', 'grandparents', 'governments', 'gosh', 'gobr', 'gladiator', 'gi', 'fur', 'fulfilling', 'fulfill', 'friendsbr', 'forsythe', 'forbes', 'fleeting', 'fleeing', 'flamboyant', 'fighters', 'fetched', 'fastforward', 'farrah', 'fagin', 'exgirlfriend', 'encourages', 'electricity', 'elder', 'dunne', 'drain', 'doris', 'denver', 'defining', 'deborah', 'data', 'darius', 'daria', 'cynicism', 'cowrote', 'corbin', 'conflicted', 'comprised', 'cinematographic', 'christensen', 'chevy', 'chandler', 'censors', 'bs', 'brick', 'breakthrough', 'bloke', 'blackmail', 'bitchy', 'bing', 'barton', 'ballroom', 'baddie', 'backdrops', 'autobiography', 'attic', 'attendant', 'astonishingly', 'arnie', 'armor', 'appalled', 'anythingbr', 'anxiety', 'analyze', 'amoral', 'alcoholism', '700', '51', '1964', '1957', '150', 'zabriskie', 'wwi', 'wrath', 'worship', 'wolves', 'wee', 'virginity', 'violently', 'vibe', 'vaudeville', 'ursula', 'urgency', 'upbringing', 'unnerving', 'unlucky', 'unconscious', 'treating', 'tourists', 'tobe', 'throne', 'theo', 'terrorism', 'temporary', 'tasks', 'tango', 'tacked', 'tables', 'swords', 'supremacy', 'superiors', 'stumbling', 'stereotyping', 'steamy', 'sore', 'sibling', 'sheridan', 'shatner', 'shamelessly', 'seventh', 'semi', 'sammi', 'sack', 'rudd', 'rosenstrasse', 'rko', 'ridden', 'richly', 'replay', 'reno', 'relaxing', 'redgrave', 'recurring', 'recreation', 'ratio', 'ranger', 'quirks', 'prolonged', 'prejudices', 'pour', 'poke', 'placing', 'pistol', 'pertwee', 'penguin', 'peaks', 'payne', 'patriotic', 'passions', 'padded', 'overwhelmed', 'overused', 'overacts', 'observed', 'notions', 'neverending', 'needlessly', 'moonstruck', 'miyazakis', 'missions', 'meyers', 'mcdowell', 'mcdermott', 'marx', 'martino', 'mandatory', 'management', 'ma', 'liz', 'liar', 'levy', 'lesbians', 'leaps', 'largest', 'kornbluth', 'jolly', 'jerky', 'jam', 'iti', 'irresponsible', 'irresistible', 'interspersed', 'innuendo', 'inhabited', 'inducing', 'increasing', 'immigrants', 'imitating', 'illustrated', 'honey', 'hilton', 'herrings', 'helmet', 'heir', 'hector', 'hazzard', 'harbor', 'happier', 'hale', 'gusto', 'gravity', 'grady', 'girlbr', 'giggle', 'gays', 'gardens', 'flame', 'fitzgerald', 'fiasco', 'feared', 'farnsworth', 'expressing', 'expand', 'episodebr', 'enthralling', 'elisha', 'ecstasy', 'eastwoods', 'dwarf', 'dukakis', 'doses', 'dodge', 'dive', 'distinguished', 'disasters', 'dillon', 'diaz', 'destructive', 'denial', 'dangers', 'curtain', 'crass', 'countrys', 'counterpart', 'counted', 'coppola', 'continuous', 'confession', 'concentrated', 'compassionate', 'coal', 'clubs', 'climbs', 'climate', 'civilians', 'chop', 'cheung', 'cheat', 'castro', 'cassie', 'burden', 'bullies', 'brunette', 'brilliantbr', 'brennan', 'borderline', 'booker', 'bombed', 'bloodshed', 'bigfoot', 'benoit', 'believablebr', 'behaving', 'behaves', 'azumi', 'aztec', 'auteur', 'attributes', 'athletic', 'astronauts', 'assortment', 'associates', 'archer', 'antichrist', 'anonymous', 'annoyingly', 'aniston', 'alienation', 'alba', 'academic', '98', '27', 'yearning', 'y', 'worm', 'woke', 'whipped', 'whip', 'vulnerability', 'volumes', 'vienna', 'vets', 'versa', 'vera', 'vault', 'valerie', 'unemployed', 'truthful', 'traumatized', 'transformers', 'torch', 'thumb', 'thorn', 'swiss', 'stupidest', 'stripper', 'stretches', 'stalks', 'spitting', 'spinning', 'smarmy', 'sm', 'slew', 'skipping', 'sessions', 'sequelbr', 'segal', 'seal', 'screamed', 'scandal', 'sarne', 'saddest', 'rusty', 'rotting', 'roach', 'restless', 'relied', 'reincarnation', 'regrets', 'recipe', 'rapture', 'purse', 'pub', 'psychiatric', 'prophet', 'profile', 'princes', 'prices', 'pranks', 'practices', 'posh', 'pond', 'poet', 'percent', 'perceive', 'penis', 'penalty', 'paragraph', 'palestinian', 'outs', 'opponents', 'nutty', 'noam', 'nightbr', 'nerds', 'neglect', 'neeson', 'nailed', 'muted', 'montages', 'mindset', 'midway', 'midler', 'melt', 'mechanic', 'meanings', 'marathon', 'maiden', 'maguire', 'lubitsch', 'lowbrow', 'lin', 'lightly', 'lecture', 'lang', 'knack', 'keitel', 'joanna', 'izzard', 'itd', 'italians', 'irrational', 'intellect', 'inherited', 'incompetence', 'improvised', 'idiocy', 'hustler', 'hopeful', 'honeymoon', 'holland', 'hmmm', 'hesitate', 'guru', 'goofs', 'gimmicks', 'gannon', 'frenzy', 'footsteps', 'floriane', 'flipping', 'firsttime', 'finely', 'featurelength', 'farewell', 'fable', 'exwife', 'explanations', 'expanded', 'existential', 'enhances', 'embarrass', 'elmer', 'elevate', 'efficient', 'drugged', 'dopey', 'dogma', 'disdain', 'discernible', 'disappearing', 'dickinson', 'darling', 'dani', 'customs', 'custody', 'crowds', 'crenna', 'coverage', 'cortez', 'corky', 'contemplate', 'consisted', 'conquest', 'confronting', 'concludes', 'concentrates', 'compositions', 'companions', 'collecting', 'cocktail', 'coaster', 'classicbr', 'chocolate', 'celine', 'caution', 'casually', 'casebr', 'camps', 'bursts', 'buildup', 'btk', 'bothering', 'bonding', 'bishop', 'billion', 'beth', 'bald', 'awfulness', 'aweigh', 'astronaut', 'architecture', 'approximately', 'alienate', 'agobr', 'afghanistan', 'adequately', '48', '250', 'zealand', 'wits', 'wisecracking', 'wipe', 'wills', 'welcomed', 'weaver', 'walters', 'waits', 'viggo', 'victorias', 'versatile', 'vengeful', 'undeveloped', 'uncredited', 'toss', 'throats', 'themselvesbr', 'thatll', 'thankful', 'tested', 'tensions', 'tenants', 'teddy', 'suspended', 'surpasses', 'supporters', 'suggestive', 'subtleties', 'submit', 'strikingly', 'stoic', 'stepped', 'stature', 'squeeze', 'spielbergs', 'spectacularly', 'sparse', 'snippets', 'snappy', 'smarter', 'slows', 'slipped', 'sleuth', 'shootings', 'shaolin', 'shakespearean', 'rushes', 'rugged', 'rizzo', 'ripoffs', 'rightfully', 'rico', 'revive', 'rests', 'rehearsal', 'regal', 'regain', 'rebecca', 'rack', 'proverbial', 'profit', 'productionbr', 'prevented', 'prevalent', 'preteen', 'premises', 'postmodern', 'plants', 'planted', 'performancesbr', 'pauses', 'passenger', 'partial', 'pam', 'outrage', 'oppressive', 'oddball', 'norton', 'nineties', 'naval', 'murphys', 'mourning', 'mostel', 'monstrous', 'mold', 'micheal', 'metropolis', 'melinda', 'maverick', 'marred', 'lyrical', 'luzhin', 'lung', 'lucio', 'lovingly', 'loop', 'looney', 'locales', 'listing', 'limbs', 'lange', 'kramer', 'kiddie', 'kerr', 'keeler', 'kaufman', 'kamal', 'jock', 'january', 'it´s', 'islam', 'irs', 'insignificant', 'insects', 'insanely', 'impeccable', 'immersed', 'illiterate', 'hug', 'horn', 'hitchhiker', 'hilariousbr', 'healing', 'harrys', 'harlem', 'guided', 'graves', 'grain', 'goodnatured', 'goers', 'garnered', 'garcia', 'gage', 'fulllength', 'fugitive', 'friendships', 'flip', 'fatherson', 'fanatics', 'examined', 'everybodys', 'empathize', 'elliot', 'ella', 'eliminate', 'dyke', 'dusty', 'duryea', 'durbin', 'dreadfully', 'downtown', 'documents', 'discussions', 'diabolical', 'dental', 'democracy', 'delve', 'december', 'deathstalker', 'daphne', 'daisies', 'cruella', 'creeps', 'cowriter', 'corridors', 'converted', 'continent', 'connor', 'conduct', 'condescending', 'conclusionbr', 'conception', 'compromise', 'comebr', 'collar', 'coleman', 'cocky', 'citys', 'cillian', 'choke', 'chock', 'chewing', 'chapters', 'carole', 'capt', 'candidates', 'callahan', 'bury', 'bucket', 'brink', 'branch', 'braindead', 'bombing', 'bolivia', 'betrays', 'believer', 'bearable', 'bash', 'barbarian', 'balloon', 'backwoods', 'babysitter', 'atomic', 'association', 'assist', 'ash', 'architect', 'apprentice', 'apologize', 'apartheid', 'alternately', 'allison', 'albums', 'ahmad', 'adventurous', 'adopt', 'acknowledged', '400', '2009', '1949', '1938', '1931', '18th', 'woven', 'wondrous', 'witless', 'willem', 'wheels', 'welch', 'weirdo', 'voiceovers', 'villagers', 'variations', 'vanishing', 'untrue', 'unrated', 'universally', 'unimpressive', 'undertaker', 'unborn', 'tucker', 'truebr', 'til', 'throughoutbr', 'thinner', 'tepid', 'telly', 'tedium', 'switzerland', 'swamp', 'surrogate', 'surfers', 'stubborn', 'stripped', 'straw', 'strangest', 'stir', 'stimulating', 'spectrum', 'soulless', 'sorvino', 'societies', 'snatch', 'smoothly', 'smitten', 'sloane', 'siege', 'shouts', 'shinae', 'shack', 'sentenced', 'seinfeld', 'sciencefiction', 'satellite', 'sans', 'sacrificed', 'rollercoaster', 'rohmer', 'rigid', 'revelations', 'retain', 'requisite', 'render', 'recalls', 'ranging', 'rainer', 'psychologically', 'presumed', 'prehistoric', 'practicing', 'plotted', 'platoon', 'pita', 'philadelphia', 'pavarotti', 'pauls', 'paperhouse', 'palette', 'overt', 'overseas', 'outtakes', 'outta', 'oriental', 'obscene', 'nuance', 'november', 'norwegian', 'norma', 'mutated', 'mpaa', 'morgana', 'mocking', 'misplaced', 'mischievous', 'mining', 'millennium', 'menbr', 'matching', 'marquis', 'malcolm', 'mac', 'lotr', 'locks', 'll', 'lizard', 'livesbr', 'lineup', 'lieutenant', 'layered', 'lamas', 'kinky', 'kindness', 'kentucky', 'jessie', 'janitor', 'irwin', 'intruder', 'intestines', 'interpreted', 'insulted', 'insteadbr', 'illustrates', 'hurting', 'hungarian', 'hoods', 'honorable', 'hogan', 'hockey', 'hispanic', 'hisher', 'heroin', 'hedy', 'hating', 'harmony', 'hardest', 'haired', 'guevara', 'grumpy', 'grips', 'greta', 'granger', 'gesture', 'gen', 'gamut', 'gamebr', 'gaining', 'futurebr', 'forgivable', 'floors', 'flee', 'fireworks', 'fatherbr', 'exposing', 'exhibit', 'evolved', 'equals', 'eponymous', 'episodic', 'entertainer', 'edits', 'dw', 'duties', 'duff', 'dominick', 'distributors', 'disgruntled', 'directorbr', 'directionbr', 'dimwitted', 'desolate', 'dense', 'denied', 'darkest', 'culkin', 'crow', 'criminally', 'connolly', 'connecting', 'confirm', 'comicbook', 'cloud', 'classified', 'chore', 'cheaper', 'celebrating', 'cbc', 'cathy', 'casted', 'carson', 'caroline', 'carnival', 'carlito', 'carface', 'careerbr', 'bryan', 'bets', 'benson', 'batwoman', 'basil', 'barker', 'backyard', 'assassins', 'anyonebr', 'andersons', 'anchor', 'amok', 'allegedly', 'admirably', 'administration', 'adapting', 'achieving', '510', '500', 'zatoichi', 'yetbr', 'wicker', 'weaves', 'wb', 'voting', 'voters', 'vivah', 'usage', 'unsuccessful', 'unnamed', 'unfinished', 'unfairly', 'undertones', 'underdog', 'twodimensional', 'transform', 'transferred', 'transcends', 'tigerland', 'texture', 'textbook', 'terriblebr', 'teds', 'tearjerker', 'tasteful', 'talentless', 'swift', 'swat', 'supplies', 'streisands', 'streak', 'stills', 'stealth', 'spreading', 'spears', 'spaces', 'soles', 'societal', 'smalltown', 'smallest', 'slug', 'skywalker', 'skimpy', 'singin', 'shrink', 'shakes', 'shadowy', 'seriouslybr', 'secluded', 'schemes', 'sacred', 'rumors', 'rewatch', 'retrospect', 'rerun', 'request', 'redeemed', 'rabid', 'puzzling', 'pursues', 'prototype', 'prevents', 'preserved', 'positions', 'poppins', 'polite', 'pokes', 'plantation', 'phyllis', 'pets', 'patch', 'participation', 'owning', 'ounce', 'otoole', 'osullivan', 'orphanage', 'orgy', 'organs', 'operas', 'onesided', 'olympic', 'napoleon', 'motif', 'monumental', 'monstrosity', 'monastery', 'mj', 'miracles', 'michel', 'mastroianni', 'marvellous', 'marlene', 'mamet', 'lombard', 'logo', 'liza', 'leno', 'leia', 'lap', 'lambs', 'kisses', 'kingsley', 'jew', 'jed', 'jackass', 'itchy', 'interpret', 'integrated', 'instruments', 'insisted', 'indulge', 'inch', 'inc', 'imdbs', 'hosts', 'holidays', 'historians', 'hiring', 'hi', 'hawaii', 'hardships', 'handy']\n"
          ]
        }
      ]
    },
    {
      "cell_type": "code",
      "source": [],
      "metadata": {
        "id": "gCQpepp-TOAh"
      },
      "execution_count": null,
      "outputs": []
    },
    {
      "cell_type": "code",
      "source": [
        "text = \"You take a mortal man. And put him in control. Watch him become a God. Watch peoples' head aroll.\"\n",
        "text_encoded = encoder(text)\n",
        "print(list(text_encoded.numpy()))"
      ],
      "metadata": {
        "colab": {
          "base_uri": "https://localhost:8080/"
        },
        "id": "XxM_wBZbRmIM",
        "outputId": "3b094fda-5ea7-49ec-92bd-ca432ef4eeb1"
      },
      "execution_count": null,
      "outputs": [
        {
          "output_type": "stream",
          "name": "stdout",
          "text": [
            "[1.0, 0.0, 1.0, 1.0, 0.0, 0.0, 0.0, 1.0, 0.0, 0.0, 0.0, 0.0, 0.0, 0.0, 0.0, 0.0, 0.0, 0.0, 0.0, 0.0, 0.0, 0.0, 1.0, 0.0, 0.0, 0.0, 0.0, 0.0, 0.0, 0.0, 0.0, 0.0, 0.0, 0.0, 0.0, 0.0, 0.0, 0.0, 0.0, 0.0, 0.0, 0.0, 0.0, 0.0, 0.0, 0.0, 0.0, 0.0, 0.0, 0.0, 0.0, 0.0, 0.0, 0.0, 0.0, 0.0, 0.0, 0.0, 0.0, 0.0, 0.0, 0.0, 0.0, 0.0, 0.0, 0.0, 0.0, 0.0, 0.0, 0.0, 0.0, 0.0, 0.0, 0.0, 0.0, 0.0, 0.0, 0.0, 0.0, 0.0, 0.0, 0.0, 0.0, 0.0, 0.0, 0.0, 0.0, 0.0, 1.0, 0.0, 0.0, 0.0, 0.0, 0.0, 0.0, 0.0, 0.0, 0.0, 0.0, 0.0, 0.0, 0.0, 0.0, 1.0, 0.0, 0.0, 0.0, 0.0, 0.0, 0.0, 0.0, 0.0, 0.0, 0.0, 0.0, 0.0, 0.0, 0.0, 0.0, 0.0, 0.0, 0.0, 0.0, 0.0, 0.0, 0.0, 0.0, 0.0, 0.0, 0.0, 0.0, 0.0, 1.0, 0.0, 0.0, 0.0, 0.0, 0.0, 0.0, 0.0, 0.0, 0.0, 0.0, 0.0, 0.0, 0.0, 0.0, 0.0, 0.0, 0.0, 0.0, 0.0, 0.0, 0.0, 0.0, 0.0, 0.0, 0.0, 0.0, 0.0, 0.0, 0.0, 0.0, 0.0, 0.0, 0.0, 0.0, 0.0, 0.0, 0.0, 0.0, 0.0, 0.0, 0.0, 0.0, 0.0, 0.0, 0.0, 0.0, 0.0, 0.0, 0.0, 0.0, 0.0, 0.0, 0.0, 0.0, 0.0, 1.0, 0.0, 0.0, 0.0, 0.0, 0.0, 0.0, 0.0, 0.0, 0.0, 0.0, 0.0, 0.0, 0.0, 0.0, 0.0, 0.0, 0.0, 0.0, 0.0, 0.0, 0.0, 0.0, 0.0, 0.0, 0.0, 0.0, 0.0, 0.0, 0.0, 0.0, 0.0, 0.0, 0.0, 0.0, 0.0, 0.0, 0.0, 0.0, 0.0, 0.0, 0.0, 0.0, 0.0, 0.0, 0.0, 0.0, 0.0, 0.0, 0.0, 0.0, 0.0, 0.0, 0.0, 0.0, 0.0, 0.0, 0.0, 0.0, 0.0, 0.0, 0.0, 0.0, 0.0, 0.0, 0.0, 0.0, 0.0, 0.0, 0.0, 0.0, 0.0, 0.0, 0.0, 0.0, 0.0, 0.0, 1.0, 0.0, 0.0, 0.0, 0.0, 0.0, 0.0, 0.0, 0.0, 0.0, 0.0, 0.0, 0.0, 0.0, 0.0, 0.0, 0.0, 0.0, 0.0, 0.0, 0.0, 0.0, 0.0, 0.0, 0.0, 0.0, 0.0, 0.0, 0.0, 0.0, 0.0, 0.0, 0.0, 0.0, 0.0, 0.0, 0.0, 0.0, 0.0, 0.0, 0.0, 0.0, 0.0, 0.0, 0.0, 0.0, 0.0, 0.0, 0.0, 0.0, 0.0, 0.0, 0.0, 0.0, 0.0, 0.0, 0.0, 0.0, 0.0, 0.0, 0.0, 0.0, 0.0, 0.0, 0.0, 0.0, 0.0, 0.0, 0.0, 0.0, 0.0, 0.0, 0.0, 0.0, 0.0, 0.0, 0.0, 0.0, 0.0, 0.0, 0.0, 0.0, 0.0, 0.0, 0.0, 0.0, 0.0, 0.0, 0.0, 0.0, 0.0, 0.0, 0.0, 0.0, 0.0, 0.0, 0.0, 0.0, 0.0, 0.0, 0.0, 0.0, 0.0, 0.0, 0.0, 0.0, 0.0, 0.0, 0.0, 0.0, 0.0, 0.0, 0.0, 0.0, 0.0, 0.0, 0.0, 0.0, 0.0, 0.0, 0.0, 0.0, 0.0, 0.0, 0.0, 0.0, 0.0, 0.0, 0.0, 0.0, 1.0, 0.0, 0.0, 0.0, 0.0, 0.0, 0.0, 0.0, 0.0, 0.0, 0.0, 0.0, 0.0, 0.0, 0.0, 0.0, 0.0, 0.0, 0.0, 0.0, 0.0, 0.0, 0.0, 0.0, 0.0, 0.0, 0.0, 0.0, 0.0, 0.0, 1.0, 0.0, 0.0, 0.0, 0.0, 0.0, 0.0, 0.0, 0.0, 0.0, 0.0, 0.0, 0.0, 0.0, 0.0, 0.0, 0.0, 0.0, 0.0, 0.0, 0.0, 0.0, 0.0, 0.0, 0.0, 0.0, 0.0, 0.0, 0.0, 0.0, 0.0, 0.0, 0.0, 0.0, 0.0, 0.0, 0.0, 0.0, 0.0, 0.0, 0.0, 0.0, 0.0, 0.0, 0.0, 0.0, 0.0, 0.0, 0.0, 0.0, 0.0, 0.0, 0.0, 0.0, 0.0, 0.0, 0.0, 0.0, 0.0, 0.0, 0.0, 0.0, 0.0, 0.0, 0.0, 0.0, 0.0, 0.0, 0.0, 0.0, 0.0, 0.0, 0.0, 0.0, 0.0, 0.0, 0.0, 0.0, 0.0, 0.0, 0.0, 0.0, 0.0, 0.0, 0.0, 0.0, 0.0, 0.0, 0.0, 0.0, 0.0, 0.0, 0.0, 0.0, 0.0, 0.0, 0.0, 0.0, 0.0, 0.0, 0.0, 0.0, 0.0, 0.0, 0.0, 0.0, 0.0, 0.0, 0.0, 0.0, 0.0, 0.0, 0.0, 0.0, 0.0, 0.0, 0.0, 0.0, 0.0, 0.0, 0.0, 0.0, 0.0, 0.0, 0.0, 0.0, 0.0, 0.0, 0.0, 0.0, 0.0, 0.0, 0.0, 0.0, 0.0, 0.0, 0.0, 0.0, 0.0, 0.0, 0.0, 0.0, 0.0, 0.0, 0.0, 0.0, 0.0, 0.0, 0.0, 0.0, 0.0, 0.0, 0.0, 0.0, 0.0, 0.0, 0.0, 0.0, 0.0, 0.0, 0.0, 0.0, 0.0, 0.0, 1.0, 0.0, 0.0, 0.0, 0.0, 0.0, 0.0, 0.0, 0.0, 0.0, 0.0, 0.0, 0.0, 0.0, 0.0, 0.0, 0.0, 0.0, 0.0, 0.0, 0.0, 0.0, 0.0, 0.0, 0.0, 0.0, 0.0, 0.0, 0.0, 0.0, 0.0, 0.0, 0.0, 0.0, 0.0, 0.0, 0.0, 0.0, 0.0, 0.0, 0.0, 0.0, 0.0, 0.0, 0.0, 0.0, 0.0, 0.0, 0.0, 0.0, 0.0, 0.0, 0.0, 0.0, 0.0, 0.0, 0.0, 0.0, 0.0, 0.0, 0.0, 0.0, 0.0, 0.0, 0.0, 0.0, 0.0, 0.0, 0.0, 0.0, 0.0, 0.0, 0.0, 0.0, 0.0, 0.0, 0.0, 0.0, 0.0, 0.0, 0.0, 0.0, 0.0, 0.0, 0.0, 0.0, 0.0, 0.0, 0.0, 0.0, 0.0, 0.0, 0.0, 0.0, 0.0, 0.0, 0.0, 0.0, 0.0, 0.0, 0.0, 0.0, 0.0, 0.0, 0.0, 0.0, 0.0, 0.0, 0.0, 0.0, 0.0, 0.0, 0.0, 0.0, 0.0, 0.0, 0.0, 0.0, 0.0, 0.0, 0.0, 0.0, 0.0, 0.0, 0.0, 0.0, 0.0, 0.0, 0.0, 0.0, 0.0, 0.0, 0.0, 0.0, 0.0, 0.0, 0.0, 0.0, 0.0, 0.0, 0.0, 0.0, 0.0, 0.0, 0.0, 0.0, 0.0, 0.0, 0.0, 0.0, 0.0, 0.0, 0.0, 0.0, 0.0, 0.0, 0.0, 0.0, 0.0, 0.0, 0.0, 0.0, 0.0, 0.0, 0.0, 0.0, 0.0, 0.0, 0.0, 0.0, 0.0, 0.0, 0.0, 0.0, 0.0, 0.0, 0.0, 0.0, 0.0, 0.0, 0.0, 0.0, 0.0, 0.0, 0.0, 0.0, 0.0, 0.0, 0.0, 0.0, 0.0, 0.0, 0.0, 0.0, 0.0, 0.0, 0.0, 0.0, 0.0, 0.0, 0.0, 0.0, 0.0, 0.0, 0.0, 0.0, 0.0, 0.0, 0.0, 0.0, 0.0, 0.0, 0.0, 0.0, 0.0, 0.0, 0.0, 0.0, 0.0, 0.0, 0.0, 0.0, 0.0, 0.0, 0.0, 0.0, 0.0, 0.0, 0.0, 0.0, 0.0, 0.0, 0.0, 0.0, 0.0, 0.0, 0.0, 0.0, 0.0, 0.0, 0.0, 0.0, 0.0, 0.0, 0.0, 0.0, 0.0, 0.0, 0.0, 0.0, 0.0, 0.0, 0.0, 0.0, 0.0, 0.0, 0.0, 0.0, 0.0, 0.0, 0.0, 0.0, 0.0, 0.0, 0.0, 0.0, 0.0, 0.0, 0.0, 0.0, 0.0, 0.0, 0.0, 0.0, 0.0, 0.0, 0.0, 0.0, 0.0, 0.0, 0.0, 0.0, 0.0, 0.0, 0.0, 0.0, 0.0, 0.0, 0.0, 0.0, 0.0, 0.0, 0.0, 0.0, 0.0, 0.0, 0.0, 0.0, 0.0, 0.0, 0.0, 0.0, 0.0, 0.0, 0.0, 0.0, 0.0, 0.0, 0.0, 0.0, 0.0, 0.0, 0.0, 0.0, 0.0, 0.0, 0.0, 0.0, 0.0, 0.0, 0.0, 0.0, 0.0, 0.0, 0.0, 0.0, 0.0, 0.0, 0.0, 0.0, 0.0, 0.0, 0.0, 0.0, 0.0, 0.0, 0.0, 0.0, 0.0, 0.0, 0.0, 0.0, 0.0, 0.0, 0.0, 0.0, 0.0, 0.0, 0.0, 0.0, 0.0, 0.0, 0.0, 0.0, 0.0, 0.0, 0.0, 0.0, 0.0, 0.0, 0.0, 0.0, 0.0, 0.0, 0.0, 0.0, 0.0, 0.0, 0.0, 0.0, 0.0, 0.0, 0.0, 0.0, 0.0, 0.0, 0.0, 0.0, 0.0, 0.0, 0.0, 0.0, 0.0, 0.0, 0.0, 0.0, 0.0, 0.0, 0.0, 0.0, 0.0, 0.0, 0.0, 0.0, 0.0, 0.0, 0.0, 0.0, 0.0, 0.0, 0.0, 0.0, 0.0, 0.0, 0.0, 0.0, 0.0, 0.0, 0.0, 0.0, 0.0, 0.0, 0.0, 0.0, 0.0, 0.0, 0.0, 0.0, 0.0, 0.0, 0.0, 0.0, 0.0, 0.0, 0.0, 0.0, 0.0, 0.0, 0.0, 0.0, 0.0, 0.0, 0.0, 0.0, 0.0, 0.0, 0.0, 0.0, 0.0, 0.0, 0.0, 0.0, 0.0, 0.0, 0.0, 0.0, 0.0, 0.0, 0.0, 0.0, 0.0, 0.0, 0.0, 0.0, 0.0, 0.0, 0.0, 0.0, 0.0, 0.0, 0.0, 0.0, 0.0, 0.0, 0.0, 0.0, 0.0, 0.0, 0.0, 0.0, 0.0, 0.0, 0.0, 0.0, 0.0, 0.0, 0.0, 0.0, 0.0, 0.0, 0.0, 0.0, 0.0, 0.0, 0.0, 0.0, 0.0, 0.0, 0.0, 0.0, 0.0, 0.0, 0.0, 0.0, 0.0, 0.0, 0.0, 0.0, 0.0, 0.0, 0.0, 0.0, 0.0, 0.0, 0.0, 0.0, 0.0, 0.0, 0.0, 0.0, 0.0, 0.0, 0.0, 0.0, 0.0, 0.0, 0.0, 0.0, 0.0, 0.0, 0.0, 0.0, 0.0, 0.0, 0.0, 0.0, 0.0, 0.0, 0.0, 0.0, 0.0, 0.0, 0.0, 0.0, 0.0, 0.0, 0.0, 0.0, 0.0, 0.0, 0.0, 0.0, 0.0, 0.0, 0.0, 0.0, 0.0, 0.0, 0.0, 0.0, 0.0, 0.0, 0.0, 0.0, 0.0, 0.0, 0.0, 0.0, 0.0, 0.0, 0.0, 0.0, 0.0, 0.0, 0.0, 0.0, 0.0, 0.0, 1.0, 0.0, 0.0, 0.0, 0.0, 0.0, 0.0, 0.0, 0.0, 0.0, 0.0, 0.0, 0.0, 0.0, 0.0, 0.0, 0.0, 0.0, 0.0, 0.0, 0.0, 0.0, 0.0, 0.0, 0.0, 0.0, 0.0, 0.0, 0.0, 0.0, 0.0, 0.0, 0.0, 0.0, 0.0, 0.0, 0.0, 0.0, 0.0, 0.0, 0.0, 0.0, 0.0, 0.0, 0.0, 0.0, 0.0, 0.0, 0.0, 0.0, 0.0, 0.0, 0.0, 0.0, 0.0, 0.0, 0.0, 0.0, 0.0, 0.0, 0.0, 0.0, 0.0, 0.0, 0.0, 0.0, 0.0, 0.0, 0.0, 0.0, 0.0, 0.0, 0.0, 0.0, 0.0, 0.0, 0.0, 0.0, 0.0, 0.0, 0.0, 0.0, 0.0, 0.0, 0.0, 0.0, 0.0, 0.0, 0.0, 0.0, 0.0, 0.0, 0.0, 0.0, 0.0, 0.0, 0.0, 0.0, 0.0, 0.0, 0.0, 0.0, 0.0, 0.0, 0.0, 0.0, 0.0, 0.0, 0.0, 0.0, 0.0, 0.0, 0.0, 0.0, 0.0, 0.0, 0.0, 0.0, 0.0, 0.0, 0.0, 0.0, 0.0, 0.0, 0.0, 0.0, 0.0, 0.0, 0.0, 0.0, 0.0, 0.0, 0.0, 0.0, 0.0, 0.0, 0.0, 0.0, 0.0, 0.0, 0.0, 0.0, 0.0, 0.0, 0.0, 0.0, 0.0, 0.0, 0.0, 0.0, 0.0, 0.0, 0.0, 0.0, 0.0, 0.0, 0.0, 0.0, 0.0, 0.0, 0.0, 0.0, 0.0, 0.0, 0.0, 0.0, 0.0, 0.0, 0.0, 0.0, 0.0, 0.0, 0.0, 0.0, 0.0, 0.0, 0.0, 0.0, 0.0, 0.0, 0.0, 0.0, 0.0, 0.0, 0.0, 0.0, 0.0, 0.0, 0.0, 0.0, 0.0, 0.0, 0.0, 0.0, 0.0, 0.0, 0.0, 0.0, 0.0, 0.0, 0.0, 0.0, 0.0, 0.0, 0.0, 0.0, 0.0, 0.0, 0.0, 0.0, 0.0, 0.0, 0.0, 0.0, 0.0, 0.0, 0.0, 0.0, 0.0, 0.0, 0.0, 0.0, 0.0, 0.0, 0.0, 0.0, 0.0, 0.0, 0.0, 0.0, 0.0, 0.0, 0.0, 0.0, 0.0, 0.0, 0.0, 0.0, 0.0, 0.0, 0.0, 0.0, 0.0, 0.0, 0.0, 0.0, 0.0, 0.0, 0.0, 0.0, 0.0, 0.0, 0.0, 0.0, 0.0, 0.0, 0.0, 0.0, 0.0, 0.0, 0.0, 0.0, 0.0, 0.0, 0.0, 0.0, 0.0, 0.0, 0.0, 0.0, 0.0, 0.0, 0.0, 0.0, 0.0, 0.0, 0.0, 0.0, 0.0, 0.0, 0.0, 0.0, 0.0, 0.0, 0.0, 0.0, 0.0, 0.0, 0.0, 0.0, 0.0, 0.0, 0.0, 0.0, 0.0, 0.0, 0.0, 0.0, 0.0, 0.0, 0.0, 0.0, 0.0, 0.0, 0.0, 0.0, 0.0, 0.0, 0.0, 0.0, 0.0, 0.0, 0.0, 0.0, 0.0, 0.0, 0.0, 0.0, 0.0, 0.0, 0.0, 0.0, 0.0, 0.0, 0.0, 0.0, 0.0, 0.0, 0.0, 0.0, 0.0, 0.0, 0.0, 0.0, 0.0, 0.0, 0.0, 0.0, 0.0, 0.0, 0.0, 0.0, 0.0, 0.0, 0.0, 0.0, 0.0, 0.0, 0.0, 0.0, 0.0, 0.0, 0.0, 0.0, 0.0, 0.0, 0.0, 0.0, 0.0, 0.0, 0.0, 0.0, 0.0, 0.0, 0.0, 0.0, 0.0, 0.0, 0.0, 0.0, 0.0, 0.0, 0.0, 0.0, 0.0, 0.0, 0.0, 0.0, 0.0, 0.0, 0.0, 0.0, 0.0, 0.0, 0.0, 0.0, 0.0, 0.0, 0.0, 0.0, 0.0, 0.0, 0.0, 0.0, 0.0, 0.0, 0.0, 0.0, 0.0, 0.0, 0.0, 0.0, 0.0, 0.0, 0.0, 0.0, 0.0, 0.0, 0.0, 0.0, 0.0, 0.0, 0.0, 0.0, 0.0, 0.0, 0.0, 0.0, 0.0, 0.0, 0.0, 0.0, 0.0, 0.0, 0.0, 0.0, 0.0, 0.0, 0.0, 0.0, 0.0, 0.0, 0.0, 0.0, 0.0, 0.0, 0.0, 0.0, 0.0, 0.0, 0.0, 0.0, 0.0, 0.0, 0.0, 0.0, 0.0, 0.0, 0.0, 0.0, 0.0, 0.0, 0.0, 0.0, 0.0, 0.0, 0.0, 0.0, 0.0, 0.0, 0.0, 0.0, 0.0, 0.0, 0.0, 0.0, 0.0, 0.0, 0.0, 0.0, 0.0, 0.0, 0.0, 0.0, 0.0, 0.0, 0.0, 0.0, 0.0, 0.0, 0.0, 0.0, 0.0, 0.0, 0.0, 0.0, 0.0, 0.0, 0.0, 0.0, 0.0, 0.0, 0.0, 0.0, 0.0, 0.0, 0.0, 0.0, 0.0, 0.0, 0.0, 0.0, 0.0, 0.0, 0.0, 0.0, 0.0, 0.0, 0.0, 0.0, 0.0, 0.0, 0.0, 0.0, 0.0, 0.0, 0.0, 0.0, 0.0, 0.0, 0.0, 0.0, 0.0, 0.0, 0.0, 0.0, 0.0, 0.0, 0.0, 0.0, 0.0, 0.0, 0.0, 0.0, 0.0, 0.0, 0.0, 0.0, 0.0, 0.0, 0.0, 0.0, 0.0, 0.0, 0.0, 0.0, 0.0, 0.0, 0.0, 0.0, 0.0, 0.0, 0.0, 0.0, 0.0, 0.0, 0.0, 0.0, 0.0, 0.0, 0.0, 0.0, 0.0, 0.0, 0.0, 0.0, 0.0, 0.0, 0.0, 0.0, 0.0, 0.0, 0.0, 0.0, 0.0, 0.0, 0.0, 0.0, 0.0, 0.0, 0.0, 0.0, 0.0, 0.0, 0.0, 0.0, 0.0, 0.0, 0.0, 0.0, 0.0, 0.0, 0.0, 0.0, 0.0, 0.0, 0.0, 0.0, 0.0, 0.0, 0.0, 0.0, 0.0, 0.0, 0.0, 0.0, 0.0, 0.0, 0.0, 0.0, 0.0, 0.0, 0.0, 0.0, 0.0, 0.0, 0.0, 0.0, 0.0, 0.0, 0.0, 0.0, 0.0, 0.0, 0.0, 0.0, 0.0, 0.0, 0.0, 0.0, 0.0, 0.0, 0.0, 0.0, 0.0, 0.0, 0.0, 0.0, 0.0, 0.0, 0.0, 0.0, 0.0, 0.0, 0.0, 0.0, 0.0, 0.0, 0.0, 0.0, 0.0, 0.0, 0.0, 0.0, 0.0, 0.0, 0.0, 0.0, 0.0, 0.0, 0.0, 0.0, 0.0, 0.0, 0.0, 0.0, 0.0, 0.0, 0.0, 0.0, 0.0, 0.0, 0.0, 0.0, 0.0, 0.0, 0.0, 0.0, 0.0, 0.0, 0.0, 0.0, 0.0, 0.0, 0.0, 0.0, 0.0, 0.0, 0.0, 0.0, 0.0, 0.0, 0.0, 0.0, 0.0, 0.0, 0.0, 0.0, 0.0, 0.0, 0.0, 0.0, 0.0, 0.0, 1.0, 0.0, 0.0, 0.0, 0.0, 0.0, 0.0, 0.0, 0.0, 0.0, 0.0, 0.0, 0.0, 0.0, 0.0, 0.0, 0.0, 0.0, 0.0, 0.0, 0.0, 0.0, 0.0, 0.0, 0.0, 0.0, 0.0, 0.0, 0.0, 0.0, 0.0, 0.0, 0.0, 0.0, 0.0, 0.0, 0.0, 0.0, 0.0, 0.0, 0.0, 0.0, 0.0, 0.0, 0.0, 0.0, 0.0, 0.0, 0.0, 0.0, 0.0, 0.0, 0.0, 0.0, 0.0, 0.0, 0.0, 0.0, 0.0, 0.0, 0.0, 0.0, 0.0, 0.0, 0.0, 0.0, 0.0, 0.0, 0.0, 0.0, 0.0, 0.0, 0.0, 0.0, 0.0, 0.0, 0.0, 0.0, 0.0, 0.0, 0.0, 0.0, 0.0, 0.0, 0.0, 0.0, 0.0, 0.0, 0.0, 0.0, 0.0, 0.0, 0.0, 0.0, 0.0, 0.0, 0.0, 0.0, 0.0, 0.0, 0.0, 0.0, 0.0, 0.0, 0.0, 0.0, 0.0, 0.0, 0.0, 0.0, 0.0, 0.0, 0.0, 0.0, 0.0, 0.0, 0.0, 0.0, 0.0, 0.0, 0.0, 0.0, 0.0, 0.0, 0.0, 0.0, 0.0, 0.0, 0.0, 0.0, 0.0, 0.0, 0.0, 0.0, 0.0, 0.0, 0.0, 0.0, 0.0, 0.0, 0.0, 0.0, 0.0, 0.0, 0.0, 0.0, 0.0, 0.0, 0.0, 0.0, 0.0, 0.0, 0.0, 0.0, 0.0, 0.0, 0.0, 0.0, 0.0, 0.0, 0.0, 0.0, 0.0, 0.0, 0.0, 0.0, 0.0, 0.0, 0.0, 0.0, 0.0, 0.0, 0.0, 0.0, 0.0, 0.0, 0.0, 0.0, 0.0, 0.0, 0.0, 0.0, 0.0, 0.0, 0.0, 0.0, 0.0, 0.0, 0.0, 0.0, 0.0, 0.0, 0.0, 0.0, 0.0, 0.0, 0.0, 0.0, 0.0, 0.0, 0.0, 0.0, 0.0, 0.0, 0.0, 0.0, 0.0, 0.0, 0.0, 0.0, 0.0, 0.0, 0.0, 0.0, 0.0, 0.0, 0.0, 0.0, 0.0, 0.0, 0.0, 0.0, 0.0, 0.0, 0.0, 0.0, 0.0, 0.0, 0.0, 0.0, 0.0, 0.0, 0.0, 0.0, 0.0, 0.0, 0.0, 0.0, 0.0, 0.0, 0.0, 0.0, 0.0, 0.0, 0.0, 0.0, 0.0, 0.0, 0.0, 0.0, 0.0, 0.0, 0.0, 0.0, 0.0, 0.0, 0.0, 0.0, 0.0, 0.0, 0.0, 0.0, 0.0, 0.0, 0.0, 0.0, 0.0, 0.0, 0.0, 0.0, 0.0, 0.0, 0.0, 0.0, 0.0, 0.0, 0.0, 0.0, 0.0, 0.0, 0.0, 0.0, 0.0, 0.0, 0.0, 0.0, 0.0, 0.0, 0.0, 0.0, 0.0, 0.0, 0.0, 0.0, 0.0, 0.0, 0.0, 0.0, 0.0, 0.0, 0.0, 0.0, 0.0, 0.0, 0.0, 0.0, 0.0, 0.0, 0.0, 0.0, 0.0, 0.0, 0.0, 0.0, 0.0, 0.0, 0.0, 0.0, 0.0, 0.0, 0.0, 0.0, 0.0, 0.0, 0.0, 0.0, 0.0, 0.0, 0.0, 0.0, 0.0, 0.0, 0.0, 0.0, 0.0, 0.0, 0.0, 0.0, 0.0, 0.0, 0.0, 0.0, 0.0, 0.0, 0.0, 0.0, 0.0, 0.0, 0.0, 0.0, 0.0, 0.0, 0.0, 0.0, 0.0, 0.0, 0.0, 0.0, 0.0, 0.0, 0.0, 0.0, 0.0, 0.0, 0.0, 0.0, 0.0, 0.0, 0.0, 0.0, 0.0, 0.0, 0.0, 0.0, 0.0, 0.0, 0.0, 0.0, 0.0, 0.0, 0.0, 0.0, 0.0, 0.0, 0.0, 0.0, 0.0, 0.0, 0.0, 0.0, 0.0, 0.0, 0.0, 0.0, 0.0, 0.0, 0.0, 0.0, 0.0, 0.0, 0.0, 0.0, 0.0, 0.0, 0.0, 0.0, 0.0, 0.0, 0.0, 0.0, 0.0, 0.0, 0.0, 0.0, 0.0, 0.0, 0.0, 0.0, 0.0, 0.0, 0.0, 0.0, 0.0, 0.0, 0.0, 0.0, 0.0, 0.0, 0.0, 0.0, 0.0, 0.0, 0.0, 0.0, 0.0, 0.0, 0.0, 0.0, 0.0, 0.0, 0.0, 0.0, 0.0, 0.0, 0.0, 0.0, 0.0, 0.0, 0.0, 0.0, 0.0, 0.0, 0.0, 0.0, 0.0, 0.0, 0.0, 0.0, 0.0, 0.0, 0.0, 0.0, 0.0, 0.0, 0.0, 0.0, 0.0, 0.0, 0.0, 0.0, 0.0, 0.0, 0.0, 0.0, 0.0, 0.0, 0.0, 0.0, 0.0, 0.0, 0.0, 0.0, 0.0, 0.0, 0.0, 0.0, 0.0, 0.0, 0.0, 0.0, 0.0, 0.0, 0.0, 0.0, 0.0, 0.0, 0.0, 0.0, 0.0, 0.0, 0.0, 0.0, 0.0, 0.0, 0.0, 0.0, 0.0, 0.0, 0.0, 0.0, 0.0, 0.0, 0.0, 0.0, 0.0, 0.0, 0.0, 0.0, 0.0, 0.0, 0.0, 0.0, 0.0, 0.0, 0.0, 0.0, 0.0, 0.0, 0.0, 0.0, 0.0, 0.0, 0.0, 0.0, 0.0, 0.0, 0.0, 0.0, 0.0, 0.0, 0.0, 0.0, 0.0, 0.0, 0.0, 0.0, 0.0, 0.0, 0.0, 0.0, 0.0, 0.0, 0.0, 0.0, 0.0, 0.0, 0.0, 0.0, 0.0, 0.0, 0.0, 0.0, 0.0, 0.0, 0.0, 0.0, 0.0, 0.0, 0.0, 0.0, 0.0, 0.0, 0.0, 0.0, 0.0, 0.0, 0.0, 0.0, 0.0, 0.0, 0.0, 0.0, 0.0, 0.0, 0.0, 0.0, 0.0, 0.0, 0.0, 0.0, 0.0, 0.0, 0.0, 0.0, 0.0, 0.0, 0.0, 0.0, 0.0, 0.0, 0.0, 0.0, 0.0, 0.0, 0.0, 0.0, 0.0, 0.0, 0.0, 0.0, 0.0, 0.0, 0.0, 0.0, 0.0, 0.0, 0.0, 0.0, 0.0, 0.0, 0.0, 0.0, 0.0, 0.0, 0.0, 0.0, 0.0, 0.0, 0.0, 0.0, 0.0, 0.0, 0.0, 0.0, 0.0, 0.0, 0.0, 0.0, 0.0, 0.0, 0.0, 0.0, 0.0, 0.0, 0.0, 0.0, 0.0, 0.0, 0.0, 0.0, 0.0, 0.0, 0.0, 0.0, 0.0, 0.0, 0.0, 0.0, 0.0, 0.0, 0.0, 0.0, 0.0, 0.0, 0.0, 0.0, 0.0, 0.0, 0.0, 0.0, 0.0, 0.0, 0.0, 0.0, 0.0, 0.0, 0.0, 0.0, 0.0, 0.0, 0.0, 0.0, 0.0, 0.0, 0.0, 0.0, 0.0, 0.0, 0.0, 0.0, 0.0, 0.0, 0.0, 0.0, 0.0, 0.0, 0.0, 0.0, 0.0, 0.0, 0.0, 0.0, 0.0, 0.0, 0.0, 0.0, 0.0, 0.0, 0.0, 0.0, 0.0, 0.0, 0.0, 0.0, 0.0, 0.0, 0.0, 0.0, 0.0, 0.0, 0.0, 0.0, 0.0, 0.0, 0.0, 0.0, 0.0, 0.0, 0.0, 0.0, 0.0, 0.0, 0.0, 0.0, 0.0, 0.0, 0.0, 0.0, 0.0, 0.0, 0.0, 0.0, 0.0, 0.0, 0.0, 0.0, 0.0, 0.0, 0.0, 0.0, 0.0, 0.0, 0.0, 0.0, 0.0, 0.0, 0.0, 0.0, 0.0, 0.0, 0.0, 0.0, 0.0, 0.0, 0.0, 0.0, 0.0, 0.0, 0.0, 0.0, 0.0, 0.0, 0.0, 0.0, 0.0, 0.0, 0.0, 0.0, 0.0, 0.0, 0.0, 0.0, 0.0, 0.0, 0.0, 0.0, 0.0, 0.0, 0.0, 0.0, 0.0, 0.0, 0.0, 0.0, 0.0, 0.0, 0.0, 0.0, 0.0, 0.0, 0.0, 0.0, 0.0, 0.0, 0.0, 0.0, 0.0, 0.0, 0.0, 0.0, 0.0, 0.0, 0.0, 0.0, 0.0, 0.0, 0.0, 0.0, 0.0, 0.0, 0.0, 0.0, 0.0, 0.0, 0.0, 0.0, 0.0, 0.0, 0.0, 0.0, 0.0, 0.0, 0.0, 0.0, 0.0, 0.0, 0.0, 0.0, 0.0, 0.0, 0.0, 0.0, 0.0, 0.0, 0.0, 0.0, 0.0, 0.0, 0.0, 0.0, 0.0, 0.0, 0.0, 0.0, 0.0, 0.0, 0.0, 0.0, 0.0, 0.0, 0.0, 0.0, 0.0, 0.0, 0.0, 0.0, 0.0, 0.0, 0.0, 0.0, 0.0, 0.0, 0.0, 0.0, 0.0, 0.0, 0.0, 0.0, 0.0, 0.0, 0.0, 0.0, 0.0, 0.0, 0.0, 0.0, 0.0, 0.0, 0.0, 0.0, 0.0, 0.0, 0.0, 0.0, 0.0, 0.0, 0.0, 0.0, 0.0, 0.0, 0.0, 0.0, 0.0, 0.0, 0.0, 0.0, 0.0, 0.0, 0.0, 0.0, 0.0, 0.0, 0.0, 0.0, 0.0, 0.0, 0.0, 0.0, 0.0, 0.0, 0.0, 0.0, 0.0, 0.0, 0.0, 0.0, 0.0, 0.0, 0.0, 0.0, 0.0, 0.0, 0.0, 0.0, 0.0, 0.0, 0.0, 0.0, 0.0, 0.0, 0.0, 0.0, 0.0, 0.0, 0.0, 0.0, 0.0, 0.0, 0.0, 0.0, 0.0, 0.0, 0.0, 0.0, 0.0, 0.0, 0.0, 0.0, 0.0, 0.0, 0.0, 0.0, 0.0, 0.0, 0.0, 0.0, 0.0, 0.0, 0.0, 0.0, 0.0, 0.0, 0.0, 0.0, 0.0, 0.0, 0.0, 0.0, 0.0, 0.0, 0.0, 0.0, 0.0, 0.0, 0.0, 0.0, 0.0, 0.0, 0.0, 0.0, 0.0, 0.0, 0.0, 0.0, 0.0, 0.0, 0.0, 0.0, 0.0, 0.0, 0.0, 0.0, 0.0, 0.0, 0.0, 0.0, 0.0, 0.0, 0.0, 0.0, 0.0, 0.0, 0.0, 0.0, 0.0, 0.0, 0.0, 0.0, 0.0, 0.0, 0.0, 0.0, 0.0, 0.0, 0.0, 0.0, 0.0, 0.0, 0.0, 0.0, 0.0, 0.0, 0.0, 0.0, 0.0, 0.0, 0.0, 0.0, 0.0, 0.0, 0.0, 0.0, 0.0, 0.0, 0.0, 0.0, 0.0, 0.0, 0.0, 0.0, 0.0, 0.0, 0.0, 0.0, 0.0, 0.0, 0.0, 0.0, 0.0, 0.0, 0.0, 0.0, 0.0, 0.0, 0.0, 0.0, 0.0, 0.0, 0.0, 0.0, 0.0, 0.0, 0.0, 0.0, 0.0, 0.0, 0.0, 0.0, 0.0, 0.0, 0.0, 0.0, 0.0, 0.0, 0.0, 0.0, 0.0, 0.0, 0.0, 0.0, 0.0, 0.0, 0.0, 0.0, 0.0, 0.0, 0.0, 0.0, 0.0, 0.0, 0.0, 0.0, 0.0, 0.0, 0.0, 0.0, 0.0, 0.0, 0.0, 0.0, 0.0, 0.0, 0.0, 0.0, 0.0, 0.0, 0.0, 0.0, 0.0, 0.0, 0.0, 0.0, 0.0, 0.0, 0.0, 0.0, 0.0, 0.0, 0.0, 0.0, 0.0, 0.0, 0.0, 0.0, 0.0, 0.0, 0.0, 0.0, 0.0, 0.0, 0.0, 0.0, 0.0, 0.0, 0.0, 0.0, 0.0, 0.0, 0.0, 0.0, 0.0, 0.0, 0.0, 0.0, 0.0, 0.0, 0.0, 0.0, 0.0, 0.0, 0.0, 0.0, 0.0, 0.0, 0.0, 0.0, 0.0, 0.0, 0.0, 0.0, 0.0, 0.0, 0.0, 0.0, 0.0, 0.0, 0.0, 0.0, 0.0, 0.0, 0.0, 0.0, 0.0, 0.0, 0.0, 0.0, 0.0, 0.0, 0.0, 0.0, 0.0, 0.0, 0.0, 0.0, 0.0, 0.0, 0.0, 0.0, 0.0, 0.0, 0.0, 0.0, 0.0, 0.0, 0.0, 0.0, 0.0, 0.0, 0.0, 0.0, 0.0, 0.0, 0.0, 0.0, 0.0, 0.0, 0.0, 0.0, 0.0, 0.0, 0.0, 0.0, 0.0, 0.0, 0.0, 0.0, 0.0, 0.0, 0.0, 0.0, 0.0, 0.0, 0.0, 0.0, 0.0, 0.0, 0.0, 0.0, 0.0, 0.0, 0.0, 0.0, 0.0, 0.0, 0.0, 0.0, 0.0, 0.0, 0.0, 0.0, 0.0, 0.0, 0.0, 0.0, 0.0, 0.0, 0.0, 0.0, 0.0, 0.0, 0.0, 0.0, 0.0, 0.0, 0.0, 0.0, 0.0, 0.0, 0.0, 0.0, 0.0, 0.0, 0.0, 0.0, 0.0, 0.0, 0.0, 0.0, 0.0, 0.0, 0.0, 0.0, 0.0, 0.0, 0.0, 0.0, 0.0, 0.0, 0.0, 0.0, 0.0, 0.0, 0.0, 0.0, 0.0, 0.0, 0.0, 0.0, 0.0, 0.0, 0.0, 0.0, 0.0, 0.0, 0.0, 0.0, 0.0, 0.0, 0.0, 0.0, 0.0, 0.0, 0.0, 0.0, 0.0, 0.0, 0.0, 0.0, 0.0, 0.0, 0.0, 0.0, 0.0, 0.0, 0.0, 0.0, 0.0, 0.0, 0.0, 0.0, 0.0, 0.0, 0.0, 0.0, 0.0, 0.0, 0.0, 0.0, 0.0, 0.0, 0.0, 0.0, 0.0, 0.0, 0.0, 0.0, 0.0, 0.0, 0.0, 0.0, 0.0, 0.0, 0.0, 0.0, 0.0, 0.0, 0.0, 0.0, 0.0, 0.0, 0.0, 0.0, 0.0, 0.0, 0.0, 0.0, 0.0, 0.0, 0.0, 0.0, 0.0, 0.0, 0.0, 0.0, 0.0, 0.0, 0.0, 0.0, 0.0, 0.0, 0.0, 0.0, 0.0, 0.0, 0.0, 0.0, 0.0, 0.0, 0.0, 0.0, 0.0, 0.0, 0.0, 0.0, 0.0, 0.0, 0.0, 0.0, 0.0, 0.0, 0.0, 0.0, 0.0, 0.0, 0.0, 0.0, 0.0, 0.0, 0.0, 0.0, 0.0, 0.0, 0.0, 0.0, 0.0, 0.0, 0.0, 0.0, 0.0, 0.0, 0.0, 0.0, 0.0, 0.0, 0.0, 0.0, 0.0, 0.0, 0.0, 0.0, 0.0, 0.0, 0.0, 0.0, 0.0, 0.0, 0.0, 0.0, 0.0, 0.0, 0.0, 0.0, 0.0, 0.0, 0.0, 0.0, 0.0, 0.0, 0.0, 0.0, 0.0, 0.0, 0.0, 0.0, 0.0, 0.0, 0.0, 0.0, 0.0, 0.0, 0.0, 0.0, 0.0, 0.0, 0.0, 0.0, 0.0, 0.0, 0.0, 0.0, 0.0, 0.0, 0.0, 0.0, 0.0, 0.0, 0.0, 0.0, 0.0, 0.0, 0.0, 0.0, 0.0, 0.0, 0.0, 0.0, 0.0, 0.0, 0.0, 0.0, 0.0, 0.0, 0.0, 0.0, 0.0, 0.0, 0.0, 0.0, 0.0, 0.0, 0.0, 0.0, 0.0, 0.0, 0.0, 0.0, 0.0, 0.0, 0.0, 0.0, 0.0, 0.0, 0.0, 0.0, 0.0, 0.0, 0.0, 0.0, 0.0, 0.0, 0.0, 0.0, 0.0, 0.0, 0.0, 0.0, 0.0, 0.0, 0.0, 0.0, 0.0, 0.0, 0.0, 0.0, 0.0, 0.0, 0.0, 0.0, 0.0, 0.0, 0.0, 0.0, 0.0, 0.0, 0.0, 0.0, 0.0, 0.0, 0.0, 0.0, 0.0, 0.0, 0.0, 0.0, 0.0, 0.0, 0.0, 0.0, 0.0, 0.0, 0.0, 0.0, 0.0, 0.0, 0.0, 0.0, 0.0, 0.0, 0.0, 0.0, 0.0, 0.0, 0.0, 0.0, 0.0, 0.0, 0.0, 0.0, 0.0, 0.0, 0.0, 0.0, 0.0, 0.0, 0.0, 0.0, 0.0, 0.0, 0.0, 0.0, 0.0, 0.0, 0.0, 0.0, 0.0, 0.0, 0.0, 0.0, 0.0, 0.0, 0.0, 0.0, 0.0, 0.0, 0.0, 0.0, 0.0, 0.0, 0.0, 0.0, 0.0, 0.0, 0.0, 0.0, 0.0, 0.0, 0.0, 0.0, 0.0, 0.0, 0.0, 0.0, 0.0, 0.0, 0.0, 0.0, 0.0, 0.0, 0.0, 0.0, 0.0, 0.0, 0.0, 0.0, 0.0, 0.0, 0.0, 0.0, 0.0, 0.0, 0.0, 0.0, 0.0, 0.0, 0.0, 0.0, 0.0, 0.0, 0.0, 0.0, 0.0, 0.0, 0.0, 0.0, 0.0, 0.0, 0.0, 0.0, 0.0, 0.0, 0.0, 0.0, 0.0, 0.0, 0.0, 0.0, 0.0, 0.0, 0.0, 0.0, 0.0, 0.0, 0.0, 0.0, 0.0, 0.0, 0.0, 0.0, 0.0, 0.0, 0.0, 0.0, 0.0, 0.0, 0.0, 0.0, 0.0, 0.0, 0.0, 0.0, 0.0, 0.0, 0.0, 0.0, 0.0, 0.0, 0.0, 0.0, 0.0, 0.0, 0.0, 0.0, 0.0, 0.0, 0.0, 0.0, 0.0, 0.0, 0.0, 0.0, 0.0, 0.0, 0.0, 0.0, 0.0, 0.0, 0.0, 0.0, 0.0, 0.0, 0.0, 0.0, 0.0, 0.0, 0.0, 0.0, 0.0, 0.0, 0.0, 0.0, 0.0, 0.0, 0.0, 0.0, 0.0, 0.0, 0.0, 0.0, 0.0, 0.0, 0.0, 0.0, 0.0, 0.0, 0.0, 0.0, 0.0, 0.0, 0.0, 0.0, 0.0, 0.0, 0.0, 0.0, 0.0, 0.0, 0.0, 0.0, 0.0, 0.0, 0.0, 0.0, 0.0, 0.0, 0.0, 0.0, 0.0, 0.0, 0.0, 0.0, 0.0, 0.0, 0.0, 0.0, 0.0, 0.0, 0.0, 0.0, 0.0, 0.0, 0.0, 0.0, 0.0, 0.0, 0.0, 0.0, 0.0, 0.0, 0.0, 0.0, 0.0, 0.0, 0.0, 0.0, 0.0, 0.0, 0.0, 0.0, 0.0, 0.0, 0.0, 0.0, 0.0, 0.0, 0.0, 0.0, 0.0, 0.0, 0.0, 0.0, 0.0, 0.0, 0.0, 0.0, 0.0, 0.0, 0.0, 0.0, 0.0, 0.0, 0.0, 0.0, 0.0, 0.0, 0.0, 0.0, 0.0, 0.0, 0.0, 0.0, 0.0, 0.0, 0.0, 0.0, 0.0, 0.0, 0.0, 0.0, 0.0, 0.0, 0.0, 0.0, 0.0, 0.0, 0.0, 0.0, 0.0, 0.0, 0.0, 0.0, 0.0, 0.0, 0.0, 0.0, 0.0, 0.0, 0.0, 0.0, 0.0, 0.0, 0.0, 0.0, 0.0, 0.0, 0.0, 0.0, 0.0, 0.0, 0.0, 0.0, 0.0, 0.0, 0.0, 0.0, 0.0, 0.0, 0.0, 0.0, 0.0, 0.0, 0.0, 0.0, 0.0, 0.0, 0.0, 0.0, 0.0, 0.0, 0.0, 0.0, 0.0, 0.0, 0.0, 0.0, 0.0, 0.0, 0.0, 0.0, 0.0, 0.0, 0.0, 0.0, 0.0, 0.0, 0.0, 0.0, 0.0, 0.0, 0.0, 0.0, 0.0, 0.0, 0.0, 0.0, 0.0, 0.0, 0.0, 0.0, 0.0, 0.0, 0.0, 0.0, 0.0, 0.0, 0.0, 0.0, 0.0, 0.0, 0.0, 0.0, 0.0, 0.0, 0.0, 0.0, 0.0, 0.0, 0.0, 0.0, 0.0, 0.0, 0.0, 0.0, 0.0, 0.0, 0.0, 0.0, 0.0, 0.0, 0.0, 0.0, 0.0, 0.0, 0.0, 0.0, 0.0, 0.0, 0.0, 0.0, 0.0, 0.0, 0.0, 0.0, 0.0, 0.0, 0.0, 0.0, 0.0, 0.0, 0.0, 0.0, 0.0, 0.0, 0.0, 0.0, 0.0, 0.0, 0.0, 0.0, 0.0, 0.0, 0.0, 0.0, 0.0, 0.0, 0.0, 0.0, 0.0, 0.0, 0.0, 0.0, 0.0, 0.0, 0.0, 0.0, 0.0, 0.0, 0.0, 0.0, 0.0, 0.0, 0.0, 0.0, 0.0, 0.0, 0.0, 0.0, 0.0, 0.0, 0.0, 0.0, 0.0, 0.0, 0.0, 0.0, 0.0, 0.0, 0.0, 0.0, 0.0, 0.0, 0.0, 0.0, 0.0, 0.0, 0.0, 0.0, 0.0, 0.0, 0.0, 0.0, 0.0, 0.0, 0.0, 0.0, 0.0, 0.0, 0.0, 0.0, 0.0, 0.0, 0.0, 0.0, 0.0, 0.0, 0.0, 0.0, 0.0, 0.0, 0.0, 0.0, 0.0, 0.0, 0.0, 0.0, 0.0, 0.0, 0.0, 0.0, 0.0, 0.0, 0.0, 0.0, 0.0, 0.0, 0.0, 0.0, 0.0, 0.0, 0.0, 0.0, 0.0, 0.0, 0.0, 0.0, 0.0, 0.0, 0.0, 0.0, 0.0, 0.0, 0.0, 0.0, 0.0, 0.0, 0.0, 0.0, 0.0, 0.0, 0.0, 0.0, 0.0, 0.0, 0.0, 0.0, 0.0, 0.0, 0.0, 0.0, 0.0, 0.0, 0.0, 0.0, 0.0, 0.0, 0.0, 0.0, 0.0, 0.0, 0.0, 0.0, 0.0, 0.0, 0.0, 0.0, 0.0, 0.0, 0.0, 0.0, 0.0, 0.0, 0.0, 0.0, 0.0, 0.0, 0.0, 0.0, 0.0, 0.0, 0.0, 0.0, 0.0, 0.0, 0.0, 0.0, 0.0, 0.0, 0.0, 0.0, 0.0, 0.0, 0.0, 0.0, 0.0, 0.0, 0.0, 0.0, 0.0, 0.0, 0.0, 0.0, 0.0, 0.0, 0.0, 0.0, 0.0, 0.0, 0.0, 0.0, 0.0, 0.0, 0.0, 0.0, 0.0, 0.0, 0.0, 0.0, 0.0, 0.0, 0.0, 0.0, 0.0, 0.0, 0.0, 0.0, 0.0, 0.0, 0.0, 0.0, 0.0, 0.0, 0.0, 0.0, 0.0, 0.0, 0.0, 0.0, 0.0, 0.0, 0.0, 0.0, 0.0, 0.0, 0.0, 0.0, 0.0, 0.0, 0.0, 0.0, 0.0, 0.0, 0.0, 0.0, 0.0, 0.0, 0.0, 0.0, 0.0, 0.0, 0.0, 0.0, 0.0, 0.0, 0.0, 0.0, 0.0, 0.0, 0.0, 0.0, 0.0, 0.0, 0.0, 0.0, 0.0, 0.0, 0.0, 0.0, 0.0, 0.0, 0.0, 0.0, 0.0, 0.0, 0.0, 0.0, 0.0, 0.0, 0.0, 0.0, 0.0, 0.0, 0.0, 0.0, 0.0, 0.0, 0.0, 0.0, 0.0, 0.0, 0.0, 0.0, 0.0, 0.0, 0.0, 0.0, 0.0, 0.0, 0.0, 0.0, 0.0, 0.0, 0.0, 0.0, 0.0, 0.0, 0.0, 0.0, 0.0, 0.0, 0.0, 0.0, 0.0, 0.0, 0.0, 0.0, 0.0, 0.0, 0.0, 0.0, 0.0, 0.0, 0.0, 0.0, 0.0, 0.0, 0.0, 0.0, 0.0, 0.0, 0.0, 0.0, 0.0, 0.0, 0.0, 0.0, 0.0, 0.0, 0.0, 0.0, 0.0, 0.0, 0.0, 0.0, 0.0, 0.0, 0.0, 0.0, 0.0, 0.0, 0.0, 0.0, 0.0, 0.0, 0.0, 0.0, 0.0, 0.0, 0.0, 0.0, 0.0, 0.0, 0.0, 0.0, 0.0, 0.0, 0.0, 0.0, 0.0, 0.0, 0.0, 0.0, 0.0, 0.0, 0.0, 0.0, 0.0, 0.0, 0.0, 0.0, 0.0, 0.0, 0.0, 0.0, 0.0, 0.0, 0.0, 0.0, 0.0, 0.0, 0.0, 0.0, 0.0, 0.0, 0.0, 0.0, 0.0, 0.0, 0.0, 0.0, 0.0, 0.0, 0.0, 0.0, 0.0, 0.0, 0.0, 0.0, 0.0, 0.0, 0.0, 0.0, 0.0, 0.0, 0.0, 0.0, 0.0, 0.0, 0.0, 0.0, 0.0, 0.0, 0.0, 0.0, 0.0, 0.0, 0.0, 0.0, 0.0, 0.0, 0.0, 0.0, 0.0, 0.0, 0.0, 0.0, 0.0, 0.0, 0.0, 0.0, 0.0, 0.0, 0.0, 0.0, 0.0, 0.0, 0.0, 0.0, 0.0, 0.0, 0.0, 0.0, 0.0, 0.0, 0.0, 0.0, 0.0, 0.0, 0.0, 0.0, 0.0, 0.0, 0.0, 0.0, 0.0, 0.0, 0.0, 0.0, 0.0, 0.0, 0.0, 0.0, 0.0, 0.0, 0.0, 0.0, 0.0, 0.0, 0.0, 0.0, 0.0, 0.0, 0.0, 0.0, 0.0, 0.0, 0.0, 0.0, 0.0, 0.0, 0.0, 0.0, 0.0, 0.0, 0.0, 0.0, 0.0, 0.0, 0.0, 0.0, 0.0, 0.0, 0.0, 0.0, 0.0, 0.0, 0.0, 0.0, 0.0, 0.0, 0.0, 0.0, 0.0, 0.0, 0.0, 0.0, 0.0, 0.0, 0.0, 0.0, 0.0, 0.0, 0.0, 0.0, 0.0, 0.0, 0.0, 0.0, 0.0, 0.0, 0.0, 0.0, 0.0, 0.0, 0.0, 0.0, 0.0, 0.0, 0.0, 0.0, 0.0, 0.0, 0.0, 0.0, 0.0, 0.0, 0.0, 0.0, 0.0, 0.0, 0.0, 0.0, 0.0, 0.0, 0.0, 0.0, 0.0, 0.0, 0.0, 0.0, 0.0, 0.0, 0.0, 0.0, 0.0, 0.0, 0.0, 0.0, 0.0, 0.0, 0.0, 0.0, 0.0, 0.0, 0.0, 0.0, 0.0, 0.0, 0.0, 0.0, 0.0, 0.0, 0.0, 0.0, 0.0, 0.0, 0.0, 0.0, 0.0, 0.0, 0.0, 0.0, 0.0, 0.0, 0.0, 0.0, 0.0, 0.0, 0.0, 0.0, 0.0, 0.0, 0.0, 0.0, 0.0, 0.0, 0.0, 0.0, 0.0, 0.0, 0.0, 0.0, 0.0, 0.0, 0.0, 0.0, 0.0, 0.0, 0.0, 0.0, 0.0, 0.0, 0.0, 0.0, 0.0, 0.0, 0.0, 0.0, 0.0, 0.0, 0.0, 0.0, 0.0, 0.0, 0.0, 0.0, 0.0, 0.0, 0.0, 0.0, 0.0, 0.0, 0.0, 0.0, 0.0, 0.0, 0.0, 0.0, 0.0, 0.0, 0.0, 0.0, 0.0, 0.0, 0.0, 0.0, 0.0, 0.0, 0.0, 0.0, 0.0, 0.0, 0.0, 0.0, 0.0, 0.0, 0.0, 0.0, 0.0, 0.0, 0.0, 0.0, 0.0, 0.0, 0.0, 0.0, 0.0, 0.0, 0.0, 0.0, 0.0, 0.0, 0.0, 0.0, 0.0, 0.0, 0.0, 0.0, 0.0, 0.0, 0.0, 0.0, 0.0, 0.0, 0.0, 0.0, 0.0, 0.0, 0.0, 0.0, 0.0, 0.0, 0.0, 0.0, 0.0, 0.0, 0.0, 0.0, 0.0, 0.0, 0.0, 0.0, 0.0, 0.0, 0.0, 0.0, 0.0, 0.0, 0.0, 0.0, 0.0, 0.0, 0.0, 0.0, 0.0, 0.0, 0.0, 0.0, 0.0, 0.0, 0.0, 0.0, 0.0, 0.0, 0.0, 0.0, 0.0, 0.0, 0.0, 0.0, 0.0, 0.0, 0.0, 0.0, 0.0, 0.0, 0.0, 0.0, 0.0, 0.0, 0.0, 0.0, 0.0, 0.0, 0.0, 0.0, 0.0, 0.0, 0.0, 0.0, 0.0, 0.0, 0.0, 0.0, 0.0, 0.0, 0.0, 0.0, 0.0, 0.0, 0.0, 0.0, 0.0, 0.0, 0.0, 0.0, 0.0, 0.0, 0.0, 0.0, 0.0, 0.0, 0.0, 0.0, 0.0, 0.0, 0.0, 0.0, 0.0, 0.0, 0.0, 0.0, 0.0, 0.0, 0.0, 0.0, 0.0, 0.0, 0.0, 0.0, 0.0, 0.0, 0.0, 0.0, 0.0, 0.0, 0.0, 0.0, 0.0, 0.0, 0.0, 0.0, 0.0, 0.0, 0.0, 0.0, 0.0, 0.0, 0.0, 0.0, 0.0, 0.0, 0.0, 0.0, 0.0, 0.0, 0.0, 0.0, 0.0, 0.0, 0.0, 0.0, 0.0, 0.0, 0.0, 0.0, 0.0, 0.0, 0.0, 0.0, 0.0, 0.0, 0.0, 0.0, 0.0, 0.0, 0.0, 0.0, 0.0, 0.0, 0.0, 0.0, 0.0, 0.0, 0.0, 0.0, 0.0, 0.0, 0.0, 0.0, 0.0, 0.0, 0.0, 0.0, 0.0, 0.0, 0.0, 0.0, 0.0, 0.0, 0.0, 0.0, 0.0, 0.0, 0.0, 0.0, 0.0, 0.0, 0.0, 0.0, 0.0, 0.0, 0.0, 0.0, 0.0, 0.0, 0.0, 0.0, 0.0, 0.0, 0.0, 0.0, 0.0, 0.0, 0.0, 0.0, 0.0, 0.0, 0.0, 0.0, 0.0, 0.0, 0.0, 0.0, 0.0, 0.0, 0.0, 0.0, 0.0, 0.0, 0.0, 0.0, 0.0, 0.0, 0.0, 0.0, 0.0, 0.0, 0.0, 0.0, 0.0, 0.0, 0.0, 0.0, 0.0, 0.0, 0.0, 0.0, 0.0, 0.0, 0.0, 0.0, 0.0, 0.0, 0.0, 0.0, 0.0, 0.0, 0.0, 0.0, 0.0, 0.0, 0.0, 0.0, 0.0, 0.0, 0.0, 0.0, 0.0, 0.0, 0.0, 0.0, 0.0, 0.0, 0.0, 0.0, 0.0, 0.0, 0.0, 0.0, 0.0, 0.0, 0.0, 0.0, 0.0, 0.0, 0.0, 0.0, 0.0, 0.0, 0.0, 0.0, 0.0, 0.0, 0.0, 0.0, 0.0, 0.0, 0.0, 0.0, 0.0, 0.0, 0.0, 0.0, 0.0, 0.0, 0.0, 0.0, 0.0, 0.0, 0.0, 0.0, 0.0, 0.0, 0.0, 0.0, 0.0, 0.0, 0.0, 0.0, 0.0, 0.0, 0.0, 0.0, 0.0, 0.0, 0.0, 0.0, 0.0, 0.0, 0.0, 0.0, 0.0, 0.0, 0.0, 0.0, 0.0, 0.0, 0.0, 0.0, 0.0, 0.0, 0.0, 0.0, 0.0, 0.0, 0.0, 0.0, 0.0, 0.0, 0.0, 0.0, 0.0, 0.0, 0.0, 0.0, 0.0, 0.0, 0.0, 0.0, 0.0, 0.0, 0.0, 0.0, 0.0, 0.0, 0.0, 0.0, 0.0, 0.0, 0.0, 0.0, 0.0, 0.0, 0.0, 0.0, 0.0, 0.0, 0.0, 0.0, 0.0, 0.0, 0.0, 0.0, 0.0, 0.0, 0.0, 0.0, 0.0, 0.0, 0.0, 0.0, 0.0, 0.0, 0.0, 0.0, 0.0, 0.0, 0.0, 0.0, 0.0, 0.0, 0.0, 0.0, 0.0, 0.0, 0.0, 0.0, 0.0, 0.0, 0.0, 0.0, 0.0, 0.0, 0.0, 0.0, 0.0, 0.0, 0.0, 0.0, 0.0, 0.0, 0.0, 0.0, 0.0, 0.0, 0.0, 0.0, 0.0, 0.0, 0.0, 0.0, 0.0, 0.0, 0.0, 0.0, 0.0, 0.0, 0.0, 0.0, 0.0, 0.0, 0.0, 0.0, 0.0, 0.0, 0.0, 0.0, 0.0, 0.0, 0.0, 0.0, 0.0, 0.0, 0.0, 0.0, 0.0, 0.0, 0.0, 0.0, 0.0, 0.0, 0.0, 0.0, 0.0, 0.0, 0.0, 0.0, 0.0, 0.0, 0.0, 0.0, 0.0, 0.0, 0.0, 0.0, 0.0, 0.0, 0.0, 0.0, 0.0, 0.0, 0.0, 0.0, 0.0, 0.0, 0.0, 0.0, 0.0, 0.0, 0.0, 0.0, 0.0, 0.0, 0.0, 0.0, 0.0, 0.0, 0.0, 0.0, 0.0, 0.0, 0.0, 0.0, 0.0, 0.0, 0.0, 0.0, 0.0, 0.0, 0.0, 0.0, 0.0, 0.0, 0.0, 0.0, 0.0, 0.0, 0.0, 0.0, 0.0, 0.0, 0.0, 0.0, 0.0, 0.0, 0.0, 0.0, 0.0, 0.0, 0.0, 0.0, 0.0, 0.0, 0.0, 0.0, 0.0, 0.0, 0.0, 0.0, 0.0, 0.0, 0.0, 0.0, 0.0, 0.0, 0.0, 0.0, 0.0, 0.0, 0.0, 0.0, 0.0, 0.0, 0.0, 0.0, 0.0, 0.0, 0.0, 0.0, 0.0, 0.0, 0.0, 0.0, 0.0, 0.0, 0.0, 0.0, 0.0, 0.0, 0.0, 0.0, 0.0, 0.0, 0.0, 0.0, 0.0, 0.0, 0.0, 0.0, 0.0, 0.0, 0.0, 0.0, 0.0, 0.0, 0.0, 0.0, 0.0, 0.0, 0.0, 0.0, 0.0, 0.0, 0.0, 0.0, 0.0, 0.0, 0.0, 0.0, 0.0, 0.0, 0.0, 0.0, 0.0, 0.0, 0.0, 0.0, 0.0, 0.0, 0.0, 0.0, 0.0, 0.0, 0.0, 0.0, 0.0, 0.0, 0.0, 0.0, 0.0, 0.0, 0.0, 0.0, 0.0, 0.0, 0.0, 0.0, 0.0, 0.0, 0.0, 0.0, 0.0, 0.0, 0.0, 0.0, 0.0, 0.0, 0.0, 0.0, 0.0, 0.0, 0.0, 0.0, 0.0, 0.0, 0.0, 0.0, 0.0, 0.0, 0.0, 0.0, 0.0, 0.0, 0.0, 0.0, 0.0, 0.0, 0.0, 0.0, 0.0, 0.0, 0.0, 0.0, 0.0, 0.0, 0.0, 0.0, 0.0, 0.0, 0.0, 0.0, 0.0, 0.0, 0.0, 0.0, 0.0, 0.0, 0.0, 0.0, 0.0, 0.0, 0.0, 0.0, 0.0, 0.0, 0.0, 0.0, 0.0, 0.0, 0.0, 0.0, 0.0, 0.0, 0.0, 0.0, 0.0, 0.0, 0.0, 0.0, 0.0, 0.0, 0.0, 0.0, 0.0, 0.0, 0.0, 0.0, 0.0, 0.0, 0.0, 0.0, 0.0, 0.0, 0.0, 0.0, 0.0, 0.0, 0.0, 0.0, 0.0, 0.0, 0.0, 0.0, 0.0, 0.0, 0.0, 0.0, 0.0, 0.0, 0.0, 0.0, 0.0, 0.0, 0.0, 0.0, 0.0, 0.0, 0.0, 0.0, 0.0, 0.0, 0.0, 0.0, 0.0, 0.0, 0.0, 0.0, 0.0, 0.0, 0.0, 0.0, 0.0, 0.0, 0.0, 0.0, 0.0, 0.0, 0.0, 0.0, 0.0, 0.0, 0.0, 0.0, 0.0, 0.0, 0.0, 0.0, 0.0, 0.0, 0.0, 0.0, 0.0, 0.0, 0.0, 0.0, 0.0, 0.0, 0.0, 0.0, 0.0, 0.0, 0.0, 0.0, 0.0, 0.0, 0.0, 0.0, 0.0, 0.0, 0.0, 0.0, 0.0, 0.0, 0.0, 0.0, 0.0, 0.0, 0.0, 0.0, 0.0, 0.0, 0.0, 0.0, 0.0, 0.0, 0.0, 0.0, 0.0, 0.0, 0.0, 0.0, 0.0, 0.0, 0.0, 0.0, 0.0, 0.0, 0.0, 0.0, 0.0, 0.0, 0.0, 0.0, 0.0, 0.0, 0.0, 0.0, 0.0, 0.0, 0.0, 0.0, 0.0, 0.0, 0.0, 0.0, 0.0, 0.0, 0.0, 0.0, 0.0, 0.0, 0.0, 0.0, 0.0, 0.0, 0.0, 0.0, 0.0, 0.0, 0.0, 0.0, 0.0, 0.0, 0.0, 0.0, 0.0, 0.0, 0.0, 0.0, 0.0, 0.0, 0.0, 0.0, 0.0, 0.0, 0.0, 0.0, 0.0, 0.0, 0.0, 0.0, 0.0, 0.0, 0.0, 0.0, 0.0, 0.0, 0.0, 0.0, 0.0, 0.0, 0.0, 0.0, 0.0, 0.0, 0.0, 0.0, 0.0, 0.0, 0.0, 0.0, 0.0, 0.0, 0.0, 0.0, 0.0, 0.0, 0.0, 0.0, 0.0, 0.0, 0.0, 0.0, 0.0, 0.0, 0.0, 0.0, 0.0, 0.0, 0.0, 0.0, 0.0, 0.0, 0.0, 0.0, 0.0, 0.0, 0.0, 0.0, 0.0, 0.0, 0.0, 0.0, 0.0, 0.0, 0.0, 0.0, 0.0, 0.0, 0.0, 0.0, 0.0, 0.0, 0.0, 0.0, 0.0, 0.0, 0.0, 0.0, 0.0, 0.0, 0.0, 0.0, 0.0, 0.0, 0.0, 0.0, 0.0, 0.0, 0.0, 0.0, 0.0, 0.0, 0.0, 0.0, 0.0, 0.0, 0.0, 0.0, 0.0, 0.0, 0.0, 0.0, 0.0, 0.0, 0.0, 0.0, 0.0, 0.0, 0.0, 0.0, 0.0, 0.0, 0.0, 0.0, 0.0, 0.0, 0.0, 0.0, 0.0, 0.0, 0.0, 0.0, 0.0, 0.0, 0.0, 0.0, 0.0, 0.0, 0.0, 0.0, 0.0, 0.0, 0.0, 0.0, 0.0, 0.0, 0.0, 0.0, 0.0, 0.0, 0.0, 0.0, 0.0, 0.0, 0.0, 0.0, 0.0, 0.0, 0.0, 0.0, 0.0, 0.0, 0.0, 0.0, 0.0, 0.0, 0.0, 0.0, 0.0, 0.0, 0.0, 0.0, 0.0, 0.0, 0.0, 0.0, 0.0, 0.0, 0.0, 0.0, 0.0, 0.0, 0.0, 0.0, 0.0, 0.0, 0.0, 0.0, 0.0, 0.0, 0.0, 0.0, 0.0, 0.0, 0.0, 0.0, 0.0, 0.0, 0.0, 0.0, 0.0, 0.0, 0.0, 0.0, 0.0, 0.0, 0.0, 0.0, 0.0, 0.0, 0.0, 0.0, 0.0, 0.0, 0.0, 0.0, 0.0, 0.0, 0.0, 0.0, 0.0, 0.0, 0.0, 0.0, 0.0, 0.0, 0.0, 0.0, 0.0, 0.0, 0.0, 0.0, 0.0, 0.0, 0.0, 0.0, 0.0, 0.0, 0.0, 0.0, 0.0, 0.0, 0.0, 0.0, 0.0, 0.0, 0.0, 0.0, 0.0, 0.0, 0.0, 0.0, 0.0, 0.0, 0.0, 0.0, 0.0, 0.0, 0.0, 0.0, 0.0, 0.0, 0.0, 0.0, 0.0, 0.0, 0.0, 0.0, 0.0, 0.0, 0.0, 0.0, 0.0, 0.0, 0.0, 0.0, 0.0, 0.0, 0.0, 0.0, 0.0, 0.0, 0.0, 0.0, 0.0, 0.0, 0.0, 0.0, 0.0, 0.0, 0.0, 0.0, 0.0, 0.0, 0.0, 0.0, 0.0, 0.0, 0.0, 0.0, 0.0, 0.0, 0.0, 0.0, 0.0, 0.0, 0.0, 0.0, 0.0, 0.0, 0.0, 0.0, 0.0, 0.0, 0.0, 0.0, 0.0, 0.0, 0.0, 0.0, 0.0, 0.0, 0.0, 0.0, 0.0, 0.0, 0.0, 0.0, 0.0, 0.0, 0.0, 0.0, 0.0, 0.0, 0.0, 0.0, 0.0, 0.0, 0.0, 0.0, 0.0, 0.0, 0.0, 0.0, 0.0, 0.0, 0.0, 0.0, 0.0, 0.0, 0.0, 0.0, 0.0, 0.0, 0.0, 0.0, 0.0, 0.0, 0.0, 0.0, 0.0, 0.0, 0.0, 0.0, 0.0, 0.0, 0.0, 0.0, 0.0, 0.0, 0.0, 0.0, 0.0, 0.0, 0.0, 0.0, 0.0, 0.0, 0.0, 0.0, 0.0, 0.0, 0.0, 0.0, 0.0, 0.0, 0.0, 0.0, 0.0, 0.0, 0.0, 0.0, 0.0, 0.0, 0.0, 0.0, 0.0, 0.0, 0.0, 0.0, 0.0, 0.0, 0.0, 0.0, 0.0, 0.0, 0.0, 0.0, 0.0, 0.0, 0.0, 0.0, 0.0, 0.0, 0.0, 0.0, 0.0, 0.0, 0.0, 0.0, 0.0, 0.0, 0.0, 0.0, 0.0, 0.0, 0.0, 0.0, 0.0, 0.0, 0.0, 0.0, 0.0, 0.0, 0.0, 0.0, 0.0, 0.0, 0.0, 0.0, 0.0, 0.0, 0.0, 0.0, 0.0, 0.0, 0.0, 0.0, 0.0, 0.0, 0.0, 0.0, 0.0, 0.0, 0.0, 0.0, 0.0, 0.0, 0.0, 0.0, 0.0, 0.0, 0.0, 0.0, 0.0, 0.0, 0.0, 0.0, 0.0, 0.0, 0.0, 0.0, 0.0, 0.0, 0.0, 0.0, 0.0, 0.0, 0.0, 0.0, 0.0, 0.0, 0.0, 0.0, 0.0, 0.0, 0.0, 0.0, 0.0, 0.0, 0.0, 0.0, 0.0, 0.0, 0.0, 0.0, 0.0, 0.0, 0.0, 0.0, 0.0, 0.0, 0.0, 0.0, 0.0, 0.0, 0.0, 0.0, 0.0, 0.0, 0.0, 0.0, 0.0, 0.0, 0.0, 0.0, 0.0, 0.0, 0.0, 0.0, 0.0, 0.0, 0.0, 0.0, 0.0, 0.0, 0.0, 0.0, 0.0, 0.0, 0.0, 0.0, 0.0, 0.0, 0.0, 0.0, 0.0, 0.0, 0.0, 0.0, 0.0, 0.0, 0.0, 0.0, 0.0, 0.0, 0.0, 0.0, 0.0, 0.0, 0.0, 0.0, 0.0, 0.0, 0.0, 0.0, 0.0, 0.0, 0.0, 0.0, 0.0, 0.0, 0.0, 0.0, 0.0, 0.0, 0.0, 0.0, 0.0, 0.0, 0.0, 0.0, 0.0, 0.0, 0.0, 0.0, 0.0, 0.0, 0.0, 0.0, 0.0, 0.0, 0.0, 0.0, 0.0, 0.0, 0.0, 0.0, 0.0, 0.0, 0.0, 0.0, 0.0, 0.0, 0.0, 0.0, 0.0, 0.0, 0.0, 0.0, 0.0, 0.0, 0.0, 0.0, 0.0, 0.0, 0.0, 0.0, 0.0, 0.0, 0.0, 0.0, 0.0, 0.0, 0.0, 0.0, 0.0, 0.0, 0.0, 0.0, 0.0, 0.0, 0.0, 0.0, 0.0, 0.0, 0.0, 0.0, 0.0, 0.0, 0.0, 0.0, 0.0, 0.0, 0.0, 0.0, 0.0, 0.0, 0.0, 0.0, 0.0, 0.0, 0.0, 0.0, 0.0, 0.0, 0.0, 0.0, 0.0, 0.0, 0.0, 0.0, 0.0, 0.0, 0.0, 0.0, 0.0, 0.0, 0.0, 0.0, 0.0, 0.0, 0.0, 0.0, 0.0, 0.0, 0.0, 0.0, 0.0, 0.0, 0.0, 0.0, 0.0, 0.0, 0.0, 0.0, 0.0, 0.0, 0.0, 0.0, 0.0, 0.0, 0.0, 0.0, 0.0, 0.0, 0.0, 0.0, 0.0, 0.0, 0.0, 0.0, 0.0, 0.0, 0.0, 0.0, 0.0, 0.0, 0.0, 0.0, 0.0, 0.0, 0.0, 0.0, 0.0, 0.0, 0.0, 0.0, 0.0, 0.0, 0.0, 0.0, 0.0, 0.0, 0.0, 0.0, 0.0, 0.0, 0.0, 0.0, 0.0, 0.0, 0.0, 0.0, 0.0, 0.0, 0.0, 0.0, 0.0, 0.0, 0.0, 0.0, 0.0, 0.0, 0.0, 0.0, 0.0, 0.0, 0.0, 0.0, 0.0, 0.0, 0.0, 0.0, 0.0, 0.0, 0.0, 0.0, 0.0, 0.0, 0.0, 0.0, 0.0, 0.0, 0.0, 0.0, 0.0, 0.0, 0.0, 0.0, 0.0, 0.0, 0.0, 0.0, 0.0, 0.0, 0.0, 0.0, 0.0, 0.0, 0.0, 0.0, 0.0, 0.0, 0.0, 0.0, 0.0, 0.0, 0.0, 0.0, 0.0, 0.0, 0.0, 0.0, 0.0, 0.0, 0.0, 0.0, 0.0, 0.0, 0.0, 0.0, 0.0, 0.0, 0.0, 0.0, 0.0, 0.0, 0.0, 0.0, 0.0, 0.0, 0.0, 0.0, 0.0, 0.0, 0.0, 0.0, 0.0, 0.0, 0.0, 0.0, 0.0, 0.0, 0.0, 0.0, 0.0, 0.0, 0.0, 0.0, 0.0, 0.0, 0.0, 0.0, 0.0, 0.0, 0.0, 0.0, 0.0, 0.0, 0.0, 0.0, 0.0, 0.0, 0.0, 0.0, 0.0, 0.0, 0.0, 0.0, 0.0, 0.0, 0.0, 0.0, 0.0, 0.0, 0.0, 0.0, 0.0, 0.0, 0.0, 0.0, 0.0, 0.0, 0.0, 0.0, 0.0, 0.0, 0.0, 0.0, 0.0, 0.0, 0.0, 0.0, 0.0, 0.0, 0.0, 0.0, 0.0, 0.0, 0.0, 0.0, 0.0, 0.0, 0.0, 0.0, 0.0, 0.0, 0.0, 0.0, 0.0, 0.0, 0.0, 0.0, 0.0, 0.0, 0.0, 0.0, 0.0, 0.0, 0.0, 0.0, 0.0, 0.0, 0.0, 0.0, 0.0, 0.0, 0.0, 0.0, 0.0, 0.0, 0.0, 0.0, 0.0, 0.0, 0.0, 0.0, 0.0, 0.0, 0.0, 0.0, 0.0, 0.0, 0.0, 0.0, 0.0, 0.0, 0.0, 0.0, 0.0, 0.0, 0.0, 0.0, 0.0, 0.0, 0.0, 0.0, 0.0, 0.0, 0.0, 0.0, 0.0, 0.0, 0.0, 0.0, 0.0, 0.0, 0.0, 0.0, 0.0, 0.0, 0.0, 0.0, 0.0, 0.0, 0.0, 0.0, 0.0, 0.0, 0.0, 0.0, 0.0, 0.0, 0.0, 0.0, 0.0, 0.0, 0.0, 0.0, 0.0, 0.0, 0.0, 0.0, 0.0, 0.0, 0.0, 0.0, 0.0, 0.0, 0.0, 0.0, 0.0, 0.0, 0.0, 0.0, 0.0, 0.0, 0.0, 0.0, 0.0, 0.0, 0.0, 0.0, 0.0, 0.0, 0.0, 0.0, 0.0, 0.0, 0.0, 0.0, 0.0, 0.0, 0.0, 0.0, 0.0, 0.0, 0.0, 0.0, 0.0, 0.0, 0.0, 0.0, 0.0, 0.0, 0.0, 0.0, 0.0, 0.0, 0.0, 0.0, 0.0, 0.0, 0.0, 0.0, 0.0, 0.0, 0.0, 0.0, 0.0, 0.0, 0.0, 0.0, 0.0, 0.0, 0.0, 0.0, 0.0, 0.0, 0.0, 0.0, 0.0, 0.0, 0.0, 0.0, 0.0, 0.0, 0.0, 0.0, 0.0, 0.0, 0.0, 0.0, 0.0, 0.0, 0.0, 0.0, 0.0, 0.0, 0.0, 0.0, 0.0, 0.0, 0.0, 0.0, 0.0, 0.0, 0.0, 0.0, 0.0, 0.0, 0.0, 0.0, 0.0, 0.0, 0.0, 0.0, 0.0, 0.0, 0.0, 0.0, 0.0, 0.0, 0.0, 0.0, 0.0, 0.0, 0.0, 0.0, 0.0, 0.0, 0.0, 0.0, 0.0, 0.0, 0.0, 0.0, 0.0, 0.0, 0.0, 0.0, 0.0, 0.0, 0.0, 0.0, 0.0, 0.0, 0.0, 0.0, 0.0, 0.0, 0.0, 0.0, 0.0, 0.0, 0.0, 0.0, 0.0, 0.0, 0.0, 0.0, 0.0, 0.0, 0.0, 0.0, 0.0, 0.0, 0.0, 0.0, 0.0, 0.0, 0.0, 0.0, 0.0, 0.0, 0.0, 0.0, 0.0, 0.0, 0.0, 0.0, 0.0, 0.0, 0.0, 0.0, 0.0, 0.0, 0.0, 0.0, 0.0, 0.0, 0.0, 0.0, 0.0, 0.0, 0.0, 0.0, 0.0, 0.0, 0.0, 0.0, 0.0, 0.0, 0.0, 0.0, 0.0, 0.0, 0.0, 0.0, 0.0, 0.0, 0.0, 0.0, 0.0, 0.0, 0.0, 0.0, 0.0, 0.0, 0.0, 0.0, 0.0, 0.0, 0.0, 0.0, 0.0, 0.0, 0.0, 0.0, 0.0, 0.0, 0.0, 0.0, 0.0, 0.0, 0.0, 0.0, 0.0, 0.0, 0.0, 0.0, 0.0, 0.0, 0.0, 0.0, 0.0, 0.0, 0.0, 0.0, 0.0, 0.0, 0.0, 0.0, 0.0, 0.0, 0.0, 0.0, 0.0, 0.0, 0.0, 0.0, 0.0, 0.0, 0.0, 0.0, 0.0, 0.0, 0.0, 0.0, 0.0, 0.0, 0.0, 0.0, 0.0, 0.0, 0.0, 0.0, 0.0, 0.0, 0.0, 0.0, 0.0, 0.0, 0.0, 0.0, 0.0, 0.0, 0.0, 0.0, 0.0, 0.0, 0.0, 0.0, 0.0, 0.0, 0.0, 0.0, 0.0, 0.0, 0.0, 0.0, 0.0, 0.0, 0.0, 0.0, 0.0, 0.0, 0.0, 0.0, 0.0, 0.0, 0.0, 0.0, 0.0, 0.0, 0.0, 0.0, 0.0, 0.0, 0.0, 0.0, 0.0, 0.0, 0.0, 0.0, 0.0, 0.0, 0.0, 0.0, 0.0, 0.0, 0.0, 0.0, 0.0, 0.0, 0.0, 0.0, 0.0, 0.0, 0.0, 0.0, 0.0, 0.0, 0.0, 0.0, 0.0, 0.0, 0.0, 0.0, 0.0, 0.0, 0.0, 0.0, 0.0, 0.0, 0.0, 0.0, 0.0, 0.0, 0.0, 0.0, 0.0, 0.0, 0.0, 0.0, 0.0, 0.0, 0.0, 0.0, 0.0, 0.0, 0.0, 0.0, 0.0, 0.0, 0.0, 0.0, 0.0, 0.0, 0.0, 0.0, 0.0, 0.0, 0.0, 0.0, 0.0, 0.0, 0.0, 0.0, 0.0, 0.0, 0.0, 0.0, 0.0, 0.0, 0.0, 0.0, 0.0, 0.0, 0.0, 0.0, 0.0, 0.0, 0.0, 0.0, 0.0, 0.0, 0.0, 0.0, 0.0, 0.0, 0.0, 0.0, 0.0, 0.0, 0.0, 0.0, 0.0, 0.0, 0.0, 0.0, 0.0, 0.0, 0.0, 0.0, 0.0, 0.0, 0.0, 0.0, 0.0, 0.0, 0.0, 0.0, 0.0, 0.0, 0.0, 0.0, 0.0, 0.0, 0.0, 0.0, 0.0, 0.0, 0.0, 0.0, 0.0, 0.0, 0.0, 0.0, 0.0, 0.0, 0.0, 0.0, 0.0, 0.0, 0.0, 0.0, 0.0, 0.0, 0.0, 0.0, 0.0, 0.0, 0.0, 0.0, 0.0, 0.0, 0.0, 0.0, 0.0, 0.0, 0.0, 0.0, 0.0, 0.0, 0.0, 0.0, 0.0, 0.0, 0.0, 0.0, 0.0, 0.0, 0.0, 0.0, 0.0, 0.0, 0.0, 0.0, 0.0, 0.0, 0.0, 0.0, 0.0, 0.0, 0.0, 0.0, 0.0, 0.0, 0.0, 0.0, 0.0, 0.0, 0.0, 0.0, 0.0, 0.0, 0.0, 0.0, 0.0, 0.0, 0.0, 0.0, 0.0, 0.0, 0.0, 0.0, 0.0, 0.0, 0.0, 0.0, 0.0, 0.0, 0.0, 0.0, 0.0, 0.0, 0.0, 0.0, 0.0, 0.0, 0.0, 0.0, 0.0, 0.0, 0.0, 0.0, 0.0, 0.0, 0.0, 0.0, 0.0, 0.0, 0.0, 0.0, 0.0, 0.0, 0.0, 0.0, 0.0, 0.0, 0.0, 0.0, 0.0, 0.0, 0.0, 0.0, 0.0, 0.0, 0.0, 0.0, 0.0, 0.0, 0.0, 0.0, 0.0, 0.0, 0.0, 0.0, 0.0, 0.0, 0.0, 0.0, 0.0, 0.0, 0.0, 0.0, 0.0, 0.0, 0.0, 0.0, 0.0, 0.0, 0.0, 0.0, 0.0, 0.0, 0.0, 0.0, 0.0, 0.0, 0.0, 0.0, 0.0, 0.0, 0.0, 0.0, 0.0, 0.0, 0.0, 0.0, 0.0, 0.0, 0.0, 0.0, 0.0, 0.0, 0.0, 0.0, 0.0, 0.0, 0.0, 0.0, 0.0, 0.0, 0.0, 0.0, 0.0, 0.0, 0.0, 0.0, 0.0, 0.0, 0.0, 0.0, 0.0, 0.0, 0.0, 0.0, 0.0, 0.0, 0.0, 0.0, 0.0, 0.0, 0.0, 0.0, 0.0, 0.0, 0.0, 0.0, 0.0, 0.0, 0.0, 0.0, 0.0, 1.0, 0.0, 0.0, 0.0, 0.0, 0.0, 0.0, 0.0, 0.0, 0.0, 0.0, 0.0, 0.0, 0.0, 0.0, 0.0, 0.0, 0.0, 0.0, 0.0, 0.0, 0.0, 0.0, 0.0, 0.0, 0.0, 0.0, 0.0, 0.0, 0.0, 0.0, 0.0, 0.0, 0.0, 0.0, 0.0, 0.0, 0.0, 0.0, 0.0, 0.0, 0.0, 0.0, 0.0, 0.0, 0.0, 0.0, 0.0, 0.0, 0.0, 0.0, 0.0, 0.0, 0.0, 0.0, 0.0, 0.0, 0.0, 0.0, 0.0, 0.0, 0.0, 0.0, 0.0, 0.0, 0.0, 0.0, 0.0, 0.0, 0.0, 0.0, 0.0, 0.0, 0.0, 0.0, 0.0, 0.0, 0.0, 0.0, 0.0, 0.0, 0.0, 0.0, 0.0, 0.0, 0.0, 0.0, 0.0, 0.0, 0.0, 0.0, 0.0, 0.0, 0.0, 0.0, 0.0, 0.0, 0.0, 0.0, 0.0, 0.0, 0.0, 0.0, 0.0, 0.0, 0.0, 0.0, 0.0, 0.0, 0.0, 0.0, 0.0, 0.0, 0.0, 0.0, 0.0, 0.0, 0.0, 0.0, 0.0, 0.0, 0.0, 0.0, 0.0, 0.0, 0.0, 0.0, 0.0, 0.0, 0.0, 0.0, 0.0, 0.0, 0.0, 0.0, 0.0, 0.0, 0.0, 0.0, 0.0, 0.0, 0.0, 0.0, 0.0, 0.0, 0.0, 0.0, 0.0, 0.0, 0.0, 0.0, 0.0, 0.0, 0.0, 0.0, 0.0, 0.0, 0.0, 0.0, 0.0, 0.0, 0.0, 0.0, 0.0, 0.0, 0.0, 0.0, 0.0, 0.0, 0.0, 0.0, 0.0, 0.0, 0.0, 0.0, 0.0, 0.0, 0.0, 0.0, 0.0, 0.0, 0.0, 0.0, 0.0, 0.0, 0.0, 0.0, 0.0, 0.0, 0.0, 0.0, 0.0, 0.0, 0.0, 0.0, 0.0, 0.0, 0.0, 0.0, 0.0, 0.0, 0.0, 0.0, 0.0, 0.0, 0.0, 0.0, 0.0, 0.0, 0.0, 0.0, 0.0, 0.0, 0.0, 0.0, 0.0, 0.0, 0.0, 0.0, 0.0, 0.0, 0.0, 0.0, 0.0, 0.0, 0.0, 0.0, 0.0, 0.0, 0.0, 0.0, 0.0, 0.0, 0.0, 0.0, 0.0, 0.0, 0.0, 0.0, 0.0, 0.0, 0.0, 0.0, 0.0, 0.0, 0.0, 0.0, 0.0, 0.0, 0.0, 0.0, 0.0, 0.0, 0.0, 0.0, 0.0, 0.0, 0.0, 0.0, 0.0, 0.0, 0.0, 0.0, 0.0, 0.0, 0.0, 0.0, 0.0, 0.0, 0.0, 0.0, 0.0, 0.0, 0.0, 0.0, 0.0, 0.0, 0.0, 0.0, 0.0, 0.0, 0.0, 0.0, 0.0, 0.0, 0.0, 0.0, 0.0, 0.0, 0.0, 0.0, 0.0, 0.0, 0.0, 0.0, 0.0, 0.0, 0.0, 0.0, 0.0, 0.0, 0.0, 0.0, 0.0, 0.0, 0.0, 0.0, 0.0, 0.0, 0.0, 0.0, 0.0, 0.0, 0.0, 0.0, 0.0, 0.0, 0.0, 0.0, 0.0, 0.0, 0.0, 0.0, 0.0, 0.0, 0.0, 0.0, 0.0, 0.0, 0.0, 0.0, 0.0, 0.0, 0.0, 0.0, 0.0, 0.0, 0.0, 0.0, 0.0, 0.0, 0.0, 0.0, 0.0, 0.0, 0.0, 0.0, 0.0, 0.0, 0.0, 0.0, 0.0, 0.0, 0.0, 0.0, 0.0, 0.0, 0.0, 0.0, 0.0, 0.0, 0.0, 0.0, 0.0, 0.0, 0.0, 0.0, 0.0, 0.0, 0.0, 0.0, 0.0, 0.0, 0.0, 0.0, 0.0, 0.0, 0.0, 0.0, 0.0, 0.0, 0.0, 0.0, 0.0, 0.0, 0.0, 0.0, 0.0, 0.0, 0.0, 0.0, 0.0, 0.0, 0.0, 0.0, 0.0, 0.0, 0.0, 0.0, 0.0, 0.0, 0.0, 0.0, 0.0, 0.0, 0.0, 0.0, 0.0, 0.0, 0.0, 0.0, 0.0, 0.0, 0.0, 0.0, 0.0, 0.0, 0.0, 0.0, 0.0, 0.0, 0.0, 0.0, 0.0, 0.0, 0.0, 0.0, 0.0, 0.0, 0.0, 0.0, 0.0, 0.0, 0.0, 0.0, 0.0, 0.0, 0.0, 0.0, 0.0, 0.0, 0.0, 0.0, 0.0, 0.0, 0.0, 0.0, 0.0, 0.0, 0.0, 0.0, 0.0, 0.0, 0.0, 0.0, 0.0, 0.0, 0.0, 0.0, 0.0, 0.0, 0.0, 0.0, 0.0, 0.0, 0.0, 0.0, 0.0, 0.0, 0.0, 0.0, 0.0, 0.0, 0.0, 0.0, 0.0, 0.0, 0.0, 0.0, 0.0, 0.0, 0.0, 0.0, 0.0, 0.0, 0.0, 0.0, 0.0, 0.0, 0.0, 0.0, 0.0, 0.0, 0.0, 0.0, 0.0, 0.0, 0.0, 0.0, 0.0, 0.0, 0.0, 0.0, 0.0, 0.0, 0.0, 0.0, 0.0, 0.0, 0.0, 0.0, 0.0, 0.0, 0.0, 0.0, 0.0, 0.0, 0.0, 0.0, 0.0, 0.0, 0.0, 0.0, 0.0, 0.0, 0.0, 0.0, 0.0, 0.0, 0.0, 0.0, 0.0, 0.0, 0.0, 0.0, 0.0, 0.0, 0.0, 0.0, 0.0, 0.0, 0.0, 0.0, 0.0, 0.0, 0.0, 0.0, 0.0, 0.0, 0.0, 0.0, 0.0, 0.0, 0.0, 0.0, 0.0, 0.0, 0.0, 0.0, 0.0, 0.0, 0.0, 0.0, 0.0, 0.0, 0.0, 0.0, 0.0, 0.0, 0.0, 0.0, 0.0, 0.0, 0.0, 0.0, 0.0, 0.0, 0.0, 0.0, 0.0, 0.0, 0.0, 0.0, 0.0, 0.0, 0.0, 0.0, 0.0, 0.0, 0.0, 0.0, 0.0, 0.0, 0.0, 0.0, 0.0, 0.0, 0.0, 0.0, 0.0, 0.0, 0.0, 0.0, 0.0, 0.0, 0.0, 0.0, 0.0, 0.0, 0.0, 0.0, 0.0, 0.0, 0.0, 0.0, 0.0, 0.0, 0.0, 0.0, 0.0, 0.0, 0.0, 0.0, 0.0, 0.0, 0.0, 0.0, 0.0, 0.0, 0.0, 0.0, 0.0, 0.0, 0.0, 0.0, 0.0, 0.0, 0.0, 0.0, 0.0, 0.0, 0.0, 0.0, 0.0, 0.0, 0.0, 0.0, 0.0, 0.0, 0.0, 0.0, 0.0, 0.0, 0.0, 0.0, 0.0, 0.0, 0.0, 0.0, 0.0, 0.0, 0.0, 0.0, 0.0, 0.0, 0.0, 0.0, 0.0, 0.0, 0.0, 0.0, 0.0, 0.0, 0.0, 0.0, 0.0, 0.0, 0.0, 0.0, 0.0, 0.0, 0.0, 0.0, 0.0, 0.0, 0.0, 0.0, 0.0, 0.0, 0.0, 0.0, 0.0, 0.0, 0.0, 0.0, 0.0, 0.0, 0.0, 0.0, 0.0, 0.0, 0.0, 0.0, 0.0, 0.0, 0.0, 0.0, 0.0, 0.0, 0.0, 0.0, 0.0, 0.0, 0.0, 0.0, 0.0, 0.0, 0.0, 0.0, 0.0, 0.0, 0.0, 0.0, 0.0, 0.0, 0.0, 0.0, 0.0, 0.0, 0.0, 0.0, 0.0, 0.0, 0.0, 0.0, 0.0, 0.0, 0.0, 0.0, 0.0, 0.0, 0.0, 0.0, 0.0, 0.0, 0.0, 0.0, 0.0, 0.0, 0.0, 0.0, 0.0, 0.0, 0.0, 0.0, 0.0, 0.0, 0.0, 0.0, 0.0, 0.0, 0.0, 0.0, 0.0, 0.0, 0.0, 0.0, 0.0, 0.0, 0.0, 0.0, 0.0, 0.0, 0.0, 0.0, 0.0, 0.0, 0.0, 0.0, 0.0, 0.0, 0.0, 0.0, 0.0, 0.0, 0.0, 0.0, 0.0, 0.0, 0.0, 0.0, 0.0, 0.0, 0.0, 0.0, 0.0, 0.0, 0.0, 0.0, 0.0, 0.0, 0.0, 0.0, 0.0, 0.0, 0.0, 0.0, 0.0, 0.0, 0.0, 0.0, 0.0, 0.0, 0.0, 0.0, 0.0, 0.0, 0.0, 0.0, 0.0, 0.0, 0.0, 0.0, 0.0, 0.0, 0.0, 0.0, 0.0, 0.0, 0.0, 0.0, 0.0, 0.0, 0.0, 0.0, 0.0, 0.0, 0.0, 0.0, 0.0, 0.0, 0.0, 0.0, 0.0, 0.0, 0.0, 0.0, 0.0, 0.0, 0.0, 0.0, 0.0, 0.0, 0.0, 0.0, 0.0, 0.0, 0.0, 0.0, 0.0, 0.0, 0.0, 0.0, 0.0, 0.0, 0.0, 0.0, 0.0, 0.0, 0.0, 0.0, 0.0, 0.0, 0.0, 0.0, 0.0, 0.0, 0.0, 0.0, 0.0, 0.0, 0.0, 0.0, 0.0, 0.0, 0.0, 0.0, 0.0, 0.0, 0.0, 0.0, 0.0, 0.0, 0.0, 0.0, 0.0, 0.0, 0.0, 0.0, 0.0, 0.0, 0.0, 0.0, 0.0, 0.0, 0.0, 0.0, 0.0, 0.0, 0.0, 0.0, 0.0, 0.0, 0.0, 0.0, 0.0, 0.0, 0.0, 0.0, 0.0, 0.0, 0.0, 0.0, 0.0, 0.0, 0.0, 0.0, 0.0, 0.0, 0.0, 0.0, 0.0, 0.0, 0.0, 0.0, 0.0, 0.0, 0.0, 0.0, 0.0, 0.0, 0.0, 0.0, 0.0, 0.0, 0.0, 0.0, 0.0, 0.0, 0.0, 0.0, 0.0, 0.0, 0.0, 0.0, 0.0, 0.0, 0.0, 0.0, 0.0, 0.0, 0.0, 0.0, 0.0, 0.0, 0.0, 0.0, 0.0, 0.0, 0.0, 0.0, 0.0, 0.0, 0.0, 0.0, 0.0, 0.0, 0.0, 0.0, 0.0, 0.0, 0.0, 0.0, 0.0, 0.0, 0.0, 0.0, 0.0, 0.0, 0.0, 0.0, 0.0, 0.0, 0.0, 0.0, 0.0, 0.0, 0.0, 0.0, 0.0, 0.0, 0.0, 0.0, 0.0, 0.0, 0.0, 0.0, 0.0, 0.0, 0.0, 0.0, 0.0, 0.0, 0.0, 0.0, 0.0, 0.0, 0.0, 0.0, 0.0, 0.0, 0.0, 0.0, 0.0, 0.0, 0.0, 0.0, 0.0, 0.0, 0.0, 0.0, 0.0, 0.0, 0.0, 0.0, 0.0, 0.0, 0.0, 0.0, 0.0, 0.0, 0.0, 0.0, 0.0, 0.0, 0.0, 0.0, 0.0, 0.0, 0.0, 0.0, 0.0, 0.0, 0.0, 0.0, 0.0, 0.0, 0.0, 0.0, 0.0, 0.0, 0.0, 0.0, 0.0, 0.0, 0.0, 0.0, 0.0, 0.0, 0.0, 0.0, 0.0, 0.0, 0.0, 0.0, 0.0, 0.0, 0.0, 0.0, 0.0, 0.0, 0.0, 0.0, 0.0, 0.0, 0.0, 0.0, 0.0, 0.0, 0.0, 0.0, 0.0, 0.0, 0.0, 0.0, 0.0, 0.0, 0.0, 0.0, 0.0, 0.0, 0.0, 0.0, 0.0, 0.0, 0.0, 0.0, 0.0, 0.0, 0.0, 0.0, 0.0, 0.0, 0.0, 0.0, 0.0, 0.0, 0.0, 0.0, 0.0, 0.0, 0.0, 0.0, 0.0, 0.0, 0.0, 0.0, 0.0, 0.0, 0.0, 0.0, 0.0, 0.0, 0.0, 0.0, 0.0, 0.0, 0.0, 0.0, 0.0, 0.0, 0.0, 0.0, 0.0, 0.0, 0.0, 0.0, 0.0, 0.0, 0.0, 0.0, 0.0, 0.0, 0.0, 0.0, 0.0, 0.0, 0.0, 0.0, 0.0, 0.0, 0.0, 0.0, 0.0, 0.0, 0.0, 0.0, 0.0, 0.0, 0.0, 0.0, 0.0, 0.0, 0.0, 0.0, 0.0, 0.0, 0.0, 0.0, 0.0, 0.0, 0.0, 0.0, 0.0, 0.0, 0.0, 0.0, 0.0, 0.0, 0.0, 0.0, 0.0, 0.0, 0.0, 0.0, 0.0, 0.0, 0.0, 0.0, 0.0, 0.0, 0.0, 0.0, 0.0, 0.0, 0.0, 0.0, 0.0, 0.0, 0.0, 0.0, 0.0, 0.0, 0.0, 0.0, 0.0, 0.0, 0.0, 0.0, 0.0, 0.0, 0.0, 0.0, 0.0, 0.0, 0.0, 0.0, 0.0, 0.0, 0.0, 0.0, 0.0, 0.0, 0.0, 0.0, 0.0, 0.0, 0.0, 0.0, 0.0, 0.0, 0.0, 0.0, 0.0, 0.0, 0.0, 0.0, 0.0, 0.0, 0.0, 0.0, 0.0, 0.0, 0.0, 0.0, 0.0, 0.0, 0.0, 0.0, 0.0, 0.0, 0.0, 0.0, 0.0, 0.0, 0.0, 0.0, 0.0, 0.0, 0.0, 0.0, 0.0, 0.0, 0.0, 0.0, 0.0, 0.0, 0.0, 0.0, 0.0, 0.0, 0.0, 0.0, 0.0, 0.0, 0.0, 0.0, 0.0, 0.0, 0.0, 0.0, 0.0, 0.0, 0.0, 0.0, 0.0, 0.0, 0.0, 0.0, 0.0, 0.0, 0.0, 0.0, 0.0, 0.0, 0.0, 0.0, 0.0, 0.0, 0.0, 0.0, 0.0, 0.0, 0.0, 0.0, 0.0, 0.0, 0.0, 0.0, 0.0, 0.0, 0.0, 0.0, 0.0, 0.0, 0.0, 0.0, 0.0, 0.0, 0.0, 0.0, 0.0, 0.0, 0.0, 0.0, 0.0, 0.0, 0.0, 0.0, 0.0, 0.0, 0.0, 0.0, 0.0, 0.0, 0.0, 0.0, 0.0, 0.0, 0.0, 0.0, 0.0, 0.0, 0.0, 0.0, 0.0, 0.0, 0.0, 0.0, 0.0, 0.0, 0.0, 0.0, 0.0, 0.0, 0.0, 0.0, 0.0, 0.0, 0.0, 0.0, 0.0, 0.0, 0.0, 0.0, 0.0, 0.0, 0.0, 0.0, 0.0, 0.0, 0.0, 0.0, 0.0, 0.0, 0.0, 0.0, 0.0, 0.0, 0.0, 0.0, 0.0, 0.0, 0.0, 0.0, 0.0, 0.0, 0.0, 0.0, 0.0, 0.0, 0.0, 0.0, 0.0, 0.0, 0.0, 0.0, 0.0, 0.0, 0.0, 0.0, 0.0, 0.0, 0.0, 0.0, 0.0, 0.0, 0.0, 0.0, 0.0, 0.0, 0.0, 0.0, 0.0, 0.0, 0.0, 0.0, 0.0, 0.0, 0.0, 0.0, 0.0, 0.0, 0.0, 0.0, 0.0, 0.0, 0.0, 0.0, 0.0, 0.0, 0.0, 0.0, 0.0, 0.0, 0.0, 0.0, 0.0, 0.0, 0.0, 0.0, 0.0, 0.0, 0.0, 0.0, 0.0, 0.0, 0.0, 0.0, 0.0, 0.0, 0.0, 0.0, 0.0, 0.0, 0.0, 0.0, 0.0, 0.0, 0.0, 0.0, 0.0, 0.0, 0.0, 0.0, 0.0, 0.0, 0.0, 0.0, 0.0, 0.0, 0.0, 0.0, 0.0, 0.0, 0.0, 0.0, 0.0, 0.0, 0.0, 0.0, 0.0, 0.0, 0.0, 0.0, 0.0, 0.0, 0.0, 0.0, 0.0, 0.0, 0.0, 0.0, 0.0, 0.0, 0.0, 0.0, 0.0, 0.0, 0.0, 0.0, 0.0, 0.0, 0.0, 0.0, 0.0, 0.0, 0.0, 0.0, 0.0, 0.0, 0.0, 0.0, 0.0, 0.0, 0.0, 0.0, 0.0, 0.0, 0.0, 0.0, 0.0, 0.0, 0.0, 0.0, 0.0, 0.0, 0.0, 0.0, 0.0, 0.0, 0.0, 0.0, 0.0, 0.0, 0.0, 0.0, 0.0, 0.0, 0.0, 0.0, 0.0, 0.0, 0.0, 0.0, 0.0, 0.0, 0.0, 0.0, 0.0, 0.0, 0.0, 0.0, 0.0, 0.0, 0.0, 0.0, 0.0, 0.0, 0.0, 0.0, 0.0, 0.0, 0.0, 0.0, 0.0, 0.0, 0.0, 0.0, 0.0, 0.0, 0.0, 0.0, 0.0, 0.0, 0.0, 0.0, 0.0, 0.0, 0.0, 0.0, 0.0, 0.0, 0.0, 0.0, 0.0, 0.0, 0.0, 0.0, 0.0, 0.0, 0.0, 0.0, 0.0, 0.0, 0.0, 0.0, 0.0, 0.0, 0.0, 0.0, 0.0, 0.0, 0.0, 0.0, 0.0, 0.0, 0.0, 0.0, 0.0, 0.0, 0.0, 0.0, 0.0, 0.0, 0.0, 0.0, 0.0, 0.0, 0.0, 0.0, 0.0, 0.0, 0.0, 0.0, 0.0, 0.0, 0.0, 0.0, 0.0, 0.0, 0.0, 0.0, 0.0, 0.0, 0.0, 0.0, 0.0, 0.0, 0.0, 0.0, 0.0, 0.0, 0.0, 0.0, 0.0, 0.0, 0.0, 0.0, 0.0, 0.0, 0.0, 0.0, 0.0, 0.0, 0.0, 0.0, 0.0, 0.0, 0.0, 0.0, 0.0, 0.0, 0.0, 0.0, 0.0, 0.0, 0.0, 0.0, 0.0, 0.0, 0.0, 0.0, 0.0, 0.0, 0.0, 0.0, 0.0, 0.0, 0.0, 0.0, 0.0, 0.0, 0.0, 0.0, 0.0, 0.0, 0.0, 0.0, 0.0, 0.0, 0.0, 0.0, 0.0, 0.0, 0.0, 0.0, 0.0, 0.0, 0.0, 0.0, 0.0, 0.0, 0.0, 0.0, 0.0, 0.0, 0.0, 0.0, 0.0, 0.0, 0.0, 0.0, 0.0, 0.0, 0.0, 0.0, 0.0, 0.0, 0.0, 0.0, 0.0, 0.0, 0.0, 0.0, 0.0, 0.0, 0.0, 0.0, 0.0, 0.0, 0.0, 0.0, 0.0, 0.0, 0.0, 0.0, 0.0, 0.0, 0.0, 0.0, 0.0, 0.0, 0.0, 0.0, 0.0, 0.0, 0.0, 0.0, 0.0, 0.0, 0.0, 0.0, 0.0, 0.0, 0.0, 0.0, 0.0, 0.0, 0.0, 0.0, 0.0, 0.0, 0.0, 0.0, 0.0, 0.0, 0.0, 0.0, 0.0, 0.0, 0.0, 0.0, 0.0, 0.0, 0.0, 0.0, 0.0, 0.0, 0.0, 0.0, 0.0, 0.0, 0.0, 0.0, 0.0, 0.0, 0.0, 0.0, 0.0, 0.0, 0.0, 0.0, 0.0, 0.0, 0.0, 0.0, 0.0, 0.0, 0.0, 0.0, 0.0, 0.0, 0.0, 0.0, 0.0, 0.0, 0.0, 0.0, 0.0, 0.0, 0.0, 0.0, 0.0, 0.0, 0.0, 0.0, 0.0, 0.0, 0.0, 0.0, 0.0, 0.0, 0.0, 0.0, 0.0, 0.0, 0.0, 0.0, 0.0, 0.0, 0.0, 0.0, 0.0, 0.0, 0.0, 0.0, 0.0, 0.0, 0.0, 0.0, 0.0, 0.0, 0.0, 0.0, 0.0, 0.0, 0.0, 0.0, 0.0, 0.0, 0.0, 0.0, 0.0, 0.0, 0.0, 0.0, 0.0, 0.0, 0.0, 0.0, 0.0, 0.0, 0.0, 0.0, 0.0, 0.0, 0.0, 0.0, 0.0, 0.0, 0.0, 0.0, 0.0, 0.0, 0.0, 0.0, 0.0, 0.0, 0.0, 0.0, 0.0, 0.0, 0.0, 0.0, 0.0, 0.0, 0.0, 0.0, 0.0, 0.0, 0.0, 0.0, 0.0, 0.0, 0.0, 0.0, 0.0, 0.0, 0.0, 0.0, 0.0, 0.0, 0.0, 0.0, 0.0, 0.0, 0.0, 0.0, 0.0, 0.0, 0.0, 0.0, 0.0, 0.0, 0.0, 0.0, 0.0, 0.0, 0.0, 0.0, 0.0, 0.0, 0.0, 0.0, 0.0, 0.0, 0.0, 0.0, 0.0, 0.0, 0.0, 0.0, 0.0, 0.0, 0.0, 0.0, 0.0, 0.0, 0.0, 0.0, 0.0, 0.0, 0.0, 0.0, 0.0, 0.0, 0.0, 0.0, 0.0, 0.0, 0.0, 0.0, 0.0, 0.0, 0.0, 0.0, 0.0, 0.0, 0.0, 0.0, 0.0, 0.0, 0.0, 0.0, 0.0, 0.0, 0.0, 0.0, 0.0, 0.0, 0.0, 0.0, 0.0, 0.0, 0.0, 0.0, 0.0, 0.0, 0.0, 0.0, 0.0, 0.0, 0.0, 0.0, 0.0, 0.0, 0.0, 0.0, 0.0, 0.0, 0.0, 0.0, 0.0, 0.0, 0.0, 0.0, 0.0, 0.0, 0.0, 0.0, 0.0, 0.0, 0.0, 0.0, 0.0, 0.0, 0.0, 0.0, 0.0, 0.0, 0.0, 0.0, 0.0, 0.0, 0.0, 0.0, 0.0, 0.0, 0.0, 0.0, 0.0, 0.0, 0.0, 0.0, 0.0, 0.0, 0.0, 0.0, 0.0, 0.0, 0.0, 0.0, 0.0, 0.0, 0.0, 0.0, 0.0, 0.0, 0.0, 0.0, 0.0, 0.0, 0.0, 0.0, 0.0, 0.0, 0.0, 0.0, 0.0, 0.0, 0.0, 0.0, 0.0, 0.0, 0.0, 0.0, 0.0, 0.0, 0.0, 0.0, 0.0, 0.0, 0.0, 0.0, 0.0, 0.0, 0.0, 0.0, 0.0, 0.0, 0.0, 0.0, 0.0, 0.0, 0.0, 0.0, 0.0, 0.0, 0.0, 0.0, 0.0, 0.0, 0.0, 0.0, 0.0, 0.0, 0.0, 0.0, 0.0, 0.0, 0.0, 0.0, 0.0, 0.0, 0.0, 0.0, 0.0, 0.0, 0.0, 0.0, 0.0, 0.0, 0.0, 0.0, 0.0, 0.0, 0.0, 0.0, 0.0, 0.0, 0.0, 0.0, 0.0, 0.0, 0.0, 0.0, 0.0, 0.0, 0.0, 0.0, 0.0, 0.0, 0.0, 0.0, 0.0, 0.0, 0.0, 0.0, 0.0, 0.0, 0.0, 0.0, 0.0, 0.0, 0.0, 0.0, 0.0, 0.0, 0.0, 0.0, 0.0, 0.0, 0.0, 0.0, 0.0, 0.0, 0.0, 0.0, 0.0, 0.0, 0.0, 0.0, 0.0, 0.0, 0.0, 0.0, 0.0, 0.0, 0.0, 0.0, 0.0, 0.0, 0.0, 0.0, 0.0, 0.0, 0.0, 0.0, 0.0, 0.0, 0.0, 0.0, 0.0, 0.0, 0.0, 0.0, 0.0, 0.0, 0.0, 0.0, 0.0, 0.0, 0.0, 0.0, 0.0, 0.0, 0.0, 0.0, 0.0, 0.0, 0.0, 0.0, 0.0, 0.0, 0.0, 0.0, 0.0, 0.0, 0.0, 0.0, 0.0, 0.0, 0.0, 0.0, 0.0, 0.0, 0.0, 0.0, 0.0, 0.0, 0.0, 0.0, 0.0, 0.0, 0.0, 0.0, 0.0, 0.0, 0.0, 0.0, 0.0, 0.0, 0.0, 0.0, 0.0, 0.0, 0.0, 0.0, 0.0, 0.0, 0.0, 0.0, 0.0, 0.0, 0.0, 0.0, 0.0, 0.0, 0.0, 0.0, 0.0, 0.0, 0.0, 0.0, 0.0, 0.0, 0.0, 0.0, 0.0, 0.0, 0.0, 0.0, 0.0, 0.0, 0.0, 0.0, 0.0, 0.0, 0.0, 0.0, 0.0, 0.0, 0.0, 0.0, 0.0, 0.0, 0.0, 0.0, 0.0, 0.0, 0.0, 0.0, 0.0, 0.0, 0.0, 0.0, 0.0, 0.0, 0.0, 0.0, 0.0, 0.0, 0.0, 0.0, 0.0, 0.0, 0.0, 0.0, 0.0, 0.0, 0.0, 0.0, 0.0, 0.0, 0.0, 0.0, 0.0, 0.0, 0.0, 0.0, 0.0, 0.0, 0.0, 0.0, 0.0, 0.0, 0.0, 0.0, 0.0, 0.0, 0.0, 0.0, 0.0, 0.0, 0.0, 0.0, 0.0, 0.0, 0.0, 0.0, 0.0, 0.0, 0.0, 0.0, 0.0, 0.0, 0.0, 0.0, 0.0, 0.0, 0.0, 0.0, 0.0, 0.0, 0.0, 0.0, 0.0, 0.0, 0.0, 0.0, 0.0, 0.0, 0.0, 0.0, 0.0, 0.0, 0.0, 0.0, 0.0, 0.0, 0.0, 0.0, 0.0, 0.0, 0.0, 0.0, 0.0, 0.0, 0.0, 0.0, 0.0, 0.0, 0.0, 0.0, 0.0, 0.0, 0.0, 0.0, 0.0, 0.0, 0.0, 0.0, 0.0, 0.0, 0.0, 0.0, 0.0, 0.0, 0.0, 0.0, 0.0, 0.0, 0.0, 0.0, 0.0, 0.0, 0.0, 0.0, 0.0, 0.0, 0.0, 0.0, 0.0, 0.0, 0.0, 0.0, 0.0, 0.0, 0.0, 0.0, 0.0, 0.0, 0.0, 0.0, 0.0, 0.0, 0.0, 0.0, 0.0, 0.0, 0.0, 0.0, 0.0, 0.0, 0.0, 0.0, 0.0, 0.0, 0.0, 0.0, 0.0, 0.0, 0.0, 0.0, 0.0, 0.0, 0.0, 0.0, 0.0, 0.0, 0.0, 0.0, 0.0, 0.0, 0.0, 0.0, 0.0, 0.0, 0.0, 0.0, 0.0, 0.0, 0.0, 0.0, 0.0, 0.0, 0.0, 0.0, 0.0, 0.0, 0.0, 0.0, 0.0, 0.0, 0.0, 0.0, 0.0, 0.0, 0.0, 0.0, 0.0, 0.0, 0.0, 0.0, 0.0, 0.0, 0.0, 0.0, 0.0, 0.0, 0.0, 0.0, 0.0, 0.0, 0.0, 0.0, 0.0, 0.0, 0.0, 0.0, 0.0, 0.0, 0.0, 0.0, 0.0, 0.0, 0.0, 0.0, 0.0, 0.0, 0.0, 0.0, 0.0, 0.0, 0.0, 0.0, 0.0, 0.0, 0.0, 0.0, 0.0, 0.0, 0.0, 0.0, 0.0, 0.0, 0.0, 0.0, 0.0, 0.0, 0.0, 0.0, 0.0, 0.0, 0.0, 0.0, 0.0, 0.0, 0.0, 0.0, 0.0, 0.0, 0.0, 0.0, 0.0, 0.0, 0.0, 0.0, 0.0, 0.0, 0.0, 0.0, 0.0, 0.0, 0.0, 0.0, 0.0, 0.0, 0.0, 0.0, 0.0, 0.0, 0.0, 0.0, 0.0, 0.0, 0.0, 0.0, 0.0, 0.0, 0.0, 0.0, 0.0, 0.0, 0.0, 0.0, 0.0, 0.0, 0.0, 0.0, 0.0, 0.0, 0.0, 0.0, 0.0, 0.0, 0.0, 0.0, 0.0, 0.0, 0.0, 0.0, 0.0, 0.0, 0.0, 0.0, 0.0, 0.0, 0.0, 0.0, 0.0, 0.0, 0.0, 0.0, 0.0, 0.0, 0.0, 0.0, 0.0, 0.0, 0.0, 0.0, 0.0, 0.0, 0.0, 0.0, 0.0, 0.0, 0.0, 0.0, 0.0, 0.0, 0.0, 0.0, 0.0, 0.0, 0.0, 0.0, 0.0, 0.0, 0.0, 0.0, 0.0, 0.0, 0.0, 0.0, 0.0, 0.0, 0.0, 0.0, 0.0, 0.0, 0.0, 0.0, 0.0, 0.0, 0.0, 0.0, 0.0, 0.0, 0.0, 0.0, 0.0, 0.0, 0.0, 0.0, 0.0, 0.0, 0.0, 0.0, 0.0, 0.0, 0.0, 0.0, 0.0, 0.0, 0.0, 0.0, 0.0, 0.0, 0.0, 0.0, 0.0, 0.0, 0.0, 0.0, 0.0, 0.0, 0.0, 0.0, 0.0, 0.0, 0.0, 0.0, 0.0, 0.0, 0.0, 0.0, 0.0, 0.0, 0.0, 0.0, 0.0, 0.0, 0.0, 0.0, 0.0, 0.0, 0.0, 0.0, 0.0, 0.0, 0.0, 0.0, 0.0, 0.0, 0.0, 0.0, 0.0, 0.0, 0.0, 0.0, 0.0, 0.0, 0.0, 0.0, 0.0, 0.0, 0.0, 0.0, 0.0, 0.0, 0.0, 0.0, 0.0, 0.0, 0.0, 0.0, 0.0, 0.0, 0.0, 0.0, 0.0, 0.0, 0.0, 0.0, 0.0, 0.0, 0.0, 0.0, 0.0, 0.0, 0.0, 0.0, 0.0, 0.0, 0.0, 0.0, 0.0, 0.0, 0.0, 0.0, 0.0, 0.0, 0.0, 0.0, 0.0, 0.0, 0.0, 0.0, 0.0, 0.0, 0.0, 0.0, 0.0, 0.0, 0.0, 0.0, 0.0, 0.0, 0.0, 0.0, 0.0, 0.0, 0.0, 0.0, 0.0, 0.0, 0.0, 0.0, 0.0, 0.0, 0.0, 0.0, 0.0, 0.0, 0.0, 0.0, 0.0, 0.0, 0.0, 0.0, 0.0, 0.0, 0.0, 0.0, 0.0, 0.0, 0.0, 0.0, 0.0, 0.0, 0.0, 0.0, 0.0, 0.0, 0.0, 0.0, 0.0, 0.0, 0.0, 0.0, 0.0, 0.0, 0.0, 0.0, 0.0, 0.0, 0.0, 0.0, 0.0, 0.0, 0.0, 0.0, 0.0, 0.0, 0.0, 0.0, 0.0, 0.0, 0.0, 0.0, 0.0, 0.0, 0.0, 0.0, 0.0, 0.0, 0.0, 0.0, 0.0, 0.0, 0.0, 0.0, 0.0, 0.0, 0.0, 0.0, 0.0, 0.0, 0.0, 0.0, 0.0, 0.0, 0.0, 0.0, 0.0, 0.0, 0.0, 0.0, 0.0, 0.0, 0.0, 0.0, 0.0, 0.0, 0.0, 0.0, 0.0, 0.0, 0.0, 0.0, 0.0, 0.0, 0.0, 0.0, 0.0, 0.0, 0.0, 0.0, 0.0, 0.0, 0.0, 0.0, 0.0, 0.0, 0.0, 0.0, 0.0, 0.0, 0.0, 0.0, 0.0, 0.0, 0.0, 0.0, 0.0, 0.0, 0.0, 0.0, 0.0, 0.0, 0.0, 0.0, 0.0, 0.0, 0.0, 0.0, 0.0, 0.0, 0.0, 0.0, 0.0, 0.0, 0.0, 0.0, 0.0, 0.0, 0.0, 0.0, 0.0, 0.0, 0.0, 0.0, 0.0, 0.0, 0.0, 0.0, 0.0, 0.0, 0.0, 0.0, 0.0, 0.0, 0.0, 0.0, 0.0, 0.0, 0.0, 0.0, 0.0, 0.0, 0.0, 0.0, 0.0, 0.0, 0.0, 0.0, 0.0, 0.0, 0.0, 0.0, 0.0, 0.0, 0.0, 0.0, 0.0, 0.0, 0.0, 0.0, 0.0, 0.0, 0.0, 0.0, 0.0, 0.0, 0.0, 0.0, 0.0, 0.0, 0.0, 0.0, 0.0, 0.0, 0.0, 0.0, 0.0, 0.0, 0.0, 0.0, 0.0, 0.0, 0.0, 0.0, 0.0, 0.0, 0.0, 0.0, 0.0, 0.0, 0.0, 0.0, 0.0, 0.0, 0.0, 0.0, 0.0, 0.0, 0.0, 0.0, 0.0, 0.0, 0.0, 0.0, 0.0, 0.0, 0.0, 0.0, 0.0, 0.0, 0.0, 0.0, 0.0, 0.0, 0.0, 0.0, 0.0, 0.0, 0.0, 0.0, 0.0, 0.0, 0.0, 0.0, 0.0, 0.0, 0.0, 0.0, 0.0, 0.0, 0.0, 0.0, 0.0, 0.0, 0.0, 0.0, 0.0, 0.0, 0.0, 0.0, 0.0, 0.0, 0.0, 0.0, 0.0, 0.0, 0.0, 0.0, 0.0, 0.0, 0.0, 0.0, 0.0, 0.0, 0.0, 0.0, 0.0, 0.0, 0.0, 0.0, 0.0]\n"
          ]
        }
      ]
    },
    {
      "cell_type": "markdown",
      "source": [
        "## Prepare datasets"
      ],
      "metadata": {
        "id": "crrINAjmXY39"
      }
    },
    {
      "cell_type": "code",
      "source": [
        "dataset_train = dataset_train_original.cache().shuffle(25_000).batch(128)\n",
        "\n",
        "dataset_validate = dataset_validate_original.cache().batch(128)\n",
        "\n",
        "dataset_test = dataset_test_original.cache().batch(128)"
      ],
      "metadata": {
        "id": "2KIf3cpGTXV0"
      },
      "execution_count": null,
      "outputs": []
    },
    {
      "cell_type": "code",
      "source": [
        "for x, y in dataset_train.take(1):\n",
        "    print(len(x[0].numpy())) # (128)"
      ],
      "metadata": {
        "colab": {
          "base_uri": "https://localhost:8080/"
        },
        "id": "1oTekX7iYwhz",
        "outputId": "b32960c8-fe8b-4c3c-a3a2-13d3755159d5"
      },
      "execution_count": null,
      "outputs": [
        {
          "output_type": "stream",
          "name": "stdout",
          "text": [
            "748\n"
          ]
        }
      ]
    },
    {
      "cell_type": "markdown",
      "source": [
        "## Train the model."
      ],
      "metadata": {
        "id": "-UXy4k65Zwcs"
      }
    },
    {
      "cell_type": "code",
      "source": [
        "model = models.Sequential()\n",
        "model.add(encoder)\n",
        "model.add(layers.Dense(64, activation=\"relu\"))\n",
        "model.add(layers.Dense(1, activation=\"sigmoid\"))\n",
        "model.build(input_shape=(None,))\n",
        "model.summary()"
      ],
      "metadata": {
        "colab": {
          "base_uri": "https://localhost:8080/"
        },
        "id": "lmsR3NxUZdo_",
        "outputId": "f4a13ef8-602a-4227-eb6a-376bd106b83f"
      },
      "execution_count": null,
      "outputs": [
        {
          "output_type": "stream",
          "name": "stdout",
          "text": [
            "Model: \"sequential\"\n",
            "_________________________________________________________________\n",
            " Layer (type)                Output Shape              Param #   \n",
            "=================================================================\n",
            " text_vectorization (TextVec  (None, 10000)            0         \n",
            " torization)                                                     \n",
            "                                                                 \n",
            " dense (Dense)               (None, 64)                640064    \n",
            "                                                                 \n",
            " dense_1 (Dense)             (None, 1)                 65        \n",
            "                                                                 \n",
            "=================================================================\n",
            "Total params: 640,129\n",
            "Trainable params: 640,129\n",
            "Non-trainable params: 0\n",
            "_________________________________________________________________\n"
          ]
        }
      ]
    },
    {
      "cell_type": "code",
      "source": [
        "model.predict(tf.constant([\"Exit light. Enter night. Take my hand. RUFF to never never land.\"]))"
      ],
      "metadata": {
        "colab": {
          "base_uri": "https://localhost:8080/"
        },
        "id": "mFerbZeRZ8dg",
        "outputId": "6faff1df-78ff-408f-c08f-295d0cc7d604"
      },
      "execution_count": null,
      "outputs": [
        {
          "output_type": "execute_result",
          "data": {
            "text/plain": [
              "array([[0.5013528]], dtype=float32)"
            ]
          },
          "metadata": {},
          "execution_count": 15
        }
      ]
    },
    {
      "cell_type": "code",
      "source": [
        "model.compile(\n",
        "    optimizer=\"adam\",\n",
        "    loss=\"binary_crossentropy\",\n",
        "    metrics=[\"accuracy\"]\n",
        ")\n",
        "\n",
        "print(model.evaluate(dataset_test))"
      ],
      "metadata": {
        "colab": {
          "base_uri": "https://localhost:8080/"
        },
        "id": "ANShkqu2P8Dp",
        "outputId": "74c068b6-bbcb-4cc2-b7fd-248515018097"
      },
      "execution_count": null,
      "outputs": [
        {
          "output_type": "stream",
          "name": "stdout",
          "text": [
            "98/98 [==============================] - 2s 16ms/step - loss: 0.6976 - accuracy: 0.4951\n",
            "[0.6975986957550049, 0.49511998891830444]\n"
          ]
        }
      ]
    },
    {
      "cell_type": "code",
      "source": [
        "history = model.fit(\n",
        "    dataset_train,\n",
        "    epochs=4,\n",
        "    validation_data=dataset_validate\n",
        ")"
      ],
      "metadata": {
        "colab": {
          "base_uri": "https://localhost:8080/"
        },
        "id": "9PS5RJq_QX_5",
        "outputId": "67e1d13d-41ea-40c4-e0d3-ad6b47720c0b"
      },
      "execution_count": null,
      "outputs": [
        {
          "output_type": "stream",
          "name": "stdout",
          "text": [
            "Epoch 1/4\n",
            "196/196 [==============================] - 6s 28ms/step - loss: 0.3361 - accuracy: 0.8618 - val_loss: 0.2889 - val_accuracy: 0.8815\n",
            "Epoch 2/4\n",
            "196/196 [==============================] - 4s 22ms/step - loss: 0.1865 - accuracy: 0.9306 - val_loss: 0.3138 - val_accuracy: 0.8737\n",
            "Epoch 3/4\n",
            "196/196 [==============================] - 4s 20ms/step - loss: 0.1400 - accuracy: 0.9484 - val_loss: 0.3716 - val_accuracy: 0.8650\n",
            "Epoch 4/4\n",
            "196/196 [==============================] - 5s 27ms/step - loss: 0.1057 - accuracy: 0.9623 - val_loss: 0.3973 - val_accuracy: 0.8640\n"
          ]
        }
      ]
    },
    {
      "cell_type": "code",
      "source": [
        "history.history"
      ],
      "metadata": {
        "colab": {
          "base_uri": "https://localhost:8080/"
        },
        "id": "oh_vyuYGQ-f8",
        "outputId": "4a5d90b9-731f-4d9b-a591-32043d242bcd"
      },
      "execution_count": null,
      "outputs": [
        {
          "output_type": "execute_result",
          "data": {
            "text/plain": [
              "{'loss': [0.33612534403800964,\n",
              "  0.18645642697811127,\n",
              "  0.1400492638349533,\n",
              "  0.10573651641607285],\n",
              " 'accuracy': [0.861840009689331,\n",
              "  0.9305999875068665,\n",
              "  0.9484000205993652,\n",
              "  0.9622799754142761],\n",
              " 'val_loss': [0.28894564509391785,\n",
              "  0.3137964606285095,\n",
              "  0.37160563468933105,\n",
              "  0.39734238386154175],\n",
              " 'val_accuracy': [0.8815199732780457,\n",
              "  0.8736799955368042,\n",
              "  0.8649600148200989,\n",
              "  0.8640000224113464]}"
            ]
          },
          "metadata": {},
          "execution_count": 18
        }
      ]
    },
    {
      "cell_type": "code",
      "source": [
        "def render_history(history):\n",
        "    plt.plot(history.history[\"loss\"], label=\"loss\")\n",
        "    plt.plot(history.history[\"val_loss\"], label=\"val_loss\")\n",
        "    plt.legend()\n",
        "    plt.show()\n",
        "    plt.close()\n",
        "\n",
        "    plt.plot(history.history[\"accuracy\"], label=\"accuracy\")\n",
        "    plt.plot(history.history[\"val_accuracy\"], label=\"val_accuracy\")\n",
        "    plt.legend()\n",
        "\n",
        "render_history(history)"
      ],
      "metadata": {
        "colab": {
          "base_uri": "https://localhost:8080/",
          "height": 843
        },
        "id": "MKY1VlPVTLsA",
        "outputId": "a945a52f-7079-44a7-bf5c-9c5df13ce598"
      },
      "execution_count": null,
      "outputs": [
        {
          "output_type": "display_data",
          "data": {
            "text/plain": [
              "<Figure size 640x480 with 1 Axes>"
            ],
            "image/png": "[encoded data removed]"
          },
          "metadata": {}
        },
        {
          "output_type": "display_data",
          "data": {
            "text/plain": [
              "<Figure size 640x480 with 1 Axes>"
            ],
            "image/png": "[encoded data removed]"
          },
          "metadata": {}
        }
      ]
    },
    {
      "cell_type": "markdown",
      "source": [
        "## Word Embeddings"
      ],
      "metadata": {
        "id": "1RvLSbFyckWc"
      }
    },
    {
      "cell_type": "code",
      "source": [
        "vocabulary_size = 10_000\n",
        "sequence_length = 128\n",
        "\n",
        "encoder = layers.TextVectorization(\n",
        "    max_tokens=vocabulary_size, # Not new.\n",
        "    output_sequence_length=sequence_length, # New!\n",
        "    standardize=\"lower_and_strip_punctuation\", # Not new.\n",
        "    split=\"whitespace\", # Not new.\n",
        "    output_mode=\"int\" # New!\n",
        ")\n",
        "\n",
        "encoder.adapt(dataset_train_original.map(lambda text, _: text).batch(2048))"
      ],
      "metadata": {
        "id": "rk2eHc-4TptR"
      },
      "execution_count": null,
      "outputs": []
    },
    {
      "cell_type": "code",
      "source": [
        "vocabulary = encoder.get_vocabulary()\n",
        "print(vocabulary) # First one is padding token."
      ],
      "metadata": {
        "colab": {
          "base_uri": "https://localhost:8080/"
        },
        "id": "UM6N7VhwekfF",
        "outputId": "abea4663-9245-4e75-89a0-f0505d6d509b"
      },
      "execution_count": null,
      "outputs": [
        {
          "output_type": "stream",
          "name": "stdout",
          "text": [
            "['', '[UNK]', 'the', 'and', 'a', 'of', 'to', 'is', 'in', 'it', 'i', 'this', 'that', 'br', 'was', 'as', 'for', 'with', 'movie', 'but', 'film', 'on', 'not', 'you', 'are', 'his', 'have', 'he', 'be', 'one', 'its', 'at', 'all', 'by', 'an', 'they', 'from', 'who', 'so', 'like', 'her', 'just', 'or', 'about', 'has', 'if', 'out', 'some', 'there', 'what', 'good', 'when', 'more', 'very', 'even', 'she', 'my', 'no', 'up', 'would', 'which', 'only', 'time', 'really', 'story', 'their', 'were', 'had', 'see', 'can', 'me', 'than', 'we', 'much', 'well', 'been', 'get', 'will', 'into', 'also', 'because', 'other', 'do', 'people', 'bad', 'great', 'first', 'how', 'most', 'him', 'dont', 'made', 'then', 'movies', 'make', 'films', 'could', 'way', 'them', 'any', 'too', 'after', 'characters', 'think', 'watch', 'two', 'many', 'being', 'seen', 'character', 'never', 'little', 'acting', 'where', 'plot', 'best', 'love', 'did', 'know', 'life', 'show', 'does', 'ever', 'your', 'still', 'better', 'over', 'off', 'these', 'end', 'say', 'while', 'here', 'man', 'why', 'scene', 'such', 'scenes', 'go', 'should', 'something', 'through', 'im', 'back', 'those', 'doesnt', 'real', 'watching', 'years', 'though', 'now', 'thing', 'actors', 'didnt', 'another', 'new', 'before', 'actually', 'nothing', 'makes', 'find', 'work', 'funny', 'look', 'few', 'old', 'going', 'same', 'every', 'lot', 'us', 'part', 'director', 'again', 'thats', 'cant', 'quite', 'cast', 'want', 'pretty', 'things', 'seems', 'young', 'got', 'around', 'fact', 'however', 'down', 'world', 'take', 'enough', 'both', 'give', 'between', 'may', 'ive', 'big', 'horror', 'original', 'thought', 'own', 'without', 'gets', 'always', 'series', 'right', 'long', 'isnt', 'saw', 'come', 'almost', 'times', 'least', 'theres', 'role', 'point', 'action', 'must', 'interesting', 'whole', 'comedy', 'bit', 'family', 'music', 'done', 'script', 'last', 'might', 'hes', 'anything', 'guy', 'since', 'feel', 'minutes', 'far', 'probably', 'performance', 'am', 'kind', 'rather', 'worst', 'yet', 'away', 'sure', 'tv', 'making', 'woman', 'girl', 'each', 'found', 'fun', 'played', 'having', 'anyone', 'our', 'although', 'believe', 'comes', 'trying', 'course', 'especially', 'goes', 'day', 'looks', 'hard', 'shows', 'put', 'different', 'wasnt', 'place', 'maybe', 'book', 'once', 'set', 'main', 'reason', 'money', 'worth', 'sense', 'everything', 'looking', 'true', 'ending', 'someone', 'watched', 'plays', 'job', '2', 'actor', 'seem', 'three', 'said', 'takes', 'screen', 'dvd', 'together', 'play', 'instead', 'john', 'during', 'beautiful', 'later', '10', 'effects', 'himself', 'everyone', 'version', 'left', 'seeing', 'special', 'audience', 'night', 'excellent', 'house', 'american', 'idea', 'simply', 'nice', 'wife', 'shot', 'youre', 'read', 'high', 'black', 'less', 'completely', 'second', 'kids', 'help', 'else', 'poor', 'fan', 'war', 'star', 'used', 'given', 'year', 'try', 'father', 'death', 'friends', 'need', 'use', 'rest', 'enjoy', 'home', 'men', 'performances', 'short', 'mind', 'classic', 'until', 'either', 'truly', 'along', 'hollywood', 'boring', 'half', 'dead', 'wrong', 'tell', 'production', 'women', 'line', 'remember', 'couple', 'came', 'next', 'recommend', 'start', 'perhaps', 'full', 'let', 'understand', 'wonderful', 'stupid', 'getting', 'others', 'mean', 'moments', 'playing', 'awful', 'keep', 'episode', 'terrible', 'camera', 'small', 'definitely', 'gives', 'often', 'stars', 'doing', 'sex', 'video', 'early', 'perfect', 'become', 'finally', 'name', 'felt', 'school', 'human', 'supposed', 'face', 'couldnt', 'liked', 'lines', 'dialogue', 'piece', 'person', 'itself', 'lost', 'absolutely', 'top', 'yes', 'case', 'against', 'entire', 'went', 'certainly', 'written', 'live', 'title', 'waste', 'shes', 'sort', 'head', 'budget', 'hope', 'problem', 'style', 'several', 'overall', 'picture', 'loved', 'evil', 'mr', 'worse', 'id', 'fans', 'becomes', 'entertaining', '3', 'cinema', 'boy', 'beginning', 'seemed', 'white', 'based', 'already', 'despite', 'care', 'oh', 'wanted', 'example', 'dark', '\\x96', 'lives', 'guys', 'unfortunately', 'killer', 'throughout', 'mother', 'direction', 'final', 'friend', 'turn', 'totally', 'fine', 'wont', '1', 'wants', 'children', 'amazing', 'sound', 'laugh', 'girls', 'drama', 'youll', 'guess', 'lead', 'tries', 'low', 'called', 'humor', 'writing', 'under', 'michael', 'works', 'history', 'turns', 'able', 'enjoyed', 'theyre', 'behind', 'past', 'quality', 'days', 'gave', 'favorite', 'starts', 'son', 'kill', 'game', 'act', 'sometimes', 'side', 'viewer', 'town', 'horrible', 'parts', 'car', 'actress', 'soon', 'child', 'ones', 'eyes', 'expect', 'obviously', 'flick', 'themselves', 'directed', 'thinking', 'heart', 'art', 'brilliant', 'stories', 'ill', 'decent', 'highly', 'run', 'feeling', 'myself', 'genre', 'late', 'blood', 'stuff', 'fight', 'says', 'close', 'took', 'city', 'except', 'cannot', 'heard', 'hand', 'leave', 'killed', 'kid', 'matter', 'police', 'hell', 'moment', 'wouldnt', 'extremely', 'strong', 'roles', 'happens', 'particularly', 'lack', 'hour', 'involved', 'happened', 'obvious', 'attempt', 'james', 'told', 'living', 'chance', 'violence', 'wonder', 'including', 'etc', 'complete', 'save', 'voice', 'coming', 'murder', 'anyway', 'group', 'daughter', 'looked', 'age', 'please', 'type', 'itbr', 'alone', 'experience', 'simple', 'none', 'god', 'number', 'score', 'exactly', 'slow', 'shown', 'happen', 'ok', 'ago', 'lets', 'interest', 'whose', 'taken', 'brother', 'usually', 'serious', 'david', 'across', 'stop', 'cinematography', 'somewhat', 'running', 'hours', 'annoying', 'sad', 'opening', 'song', 'known', 'ends', 'musical', 'usual', 'possible', 'finds', 'career', 'wish', 'hit', 'yourself', 'released', 'started', 'huge', 'gore', 'relationship', 'seriously', 'scary', 'jokes', 'change', 'saying', 'order', 'crap', 'mostly', 'shots', 'reality', 'ridiculous', 'cut', 'today', 'robert', 'english', 'taking', 'major', 'episodes', 'hilarious', 'novel', 'cool', 'female', 'body', 'talking', 'opinion', '4', 'call', 'apparently', 'directors', 'strange', 'due', 'basically', '5', 'important', 'hero', 'supporting', 'clearly', 'power', 'knows', 'documentary', 'knew', 'happy', 'events', 'view', 'turned', 'husband', 'songs', 'talent', 'level', 'arent', 'king', 'british', 'room', 'easily', 'tells', 'single', 'local', 'rating', 'attention', 'word', 'moviebr', 'bring', 'words', 'problems', 'cheap', 'whats', 'modern', 'silly', 'television', 'beyond', 'sequence', 'whether', 'disappointed', 'light', 'jack', 'falls', 'sets', 'four', 'future', 'five', 'similar', 'paul', 'miss', 'country', 'needs', 'appears', 'romantic', 'giving', 'upon', 'earth', 'viewers', 'comic', 'richard', 'predictable', 'george', 'talk', 'entertainment', 'within', 'review', 'havent', 'feels', 'nearly', 'mention', 'message', 'enjoyable', 'animation', 'bunch', 'filmbr', 'theater', 'lots', 'lady', 'storyline', 'rock', 'add', 'actual', 'using', 'moving', 'points', 'above', 'middle', 'surprised', 'named', 'theme', 'mystery', 'herself', 'ten', 'dull', 'among', 'begins', 'comments', 'writer', 'ways', 'typical', 'fantastic', 'stay', 'showing', 'sequel', 'york', 'elements', 'easy', 'certain', 'thriller', 'team', 'tried', 'fall', 'effort', 'clear', 'near', 'avoid', 'release', 'hate', 'french', 'tale', 'famous', 'sorry', 'somehow', 'parents', 'means', 'straight', 'leads', 'peter', 'red', 'kept', 'working', 'buy', 'greatest', 'dialog', 'doubt', 'soundtrack', 'form', 'class', 'season', 'editing', 'sister', 'general', 'brought', 'weak', 'tom', 'filmed', 'figure', 'feature', 'oscar', 'hear', 'gone', 'whos', 'particular', 'material', 'check', 'viewing', 'learn', 'realistic', 'imagine', 'eventually', 'youve', 'eye', 'move', 'fast', 'atmosphere', 'reviews', 'decided', 'sequences', 'possibly', 'period', 'forget', 'lame', 'deal', 'third', 'premise', 'lee', 'follow', 'de', 'became', 'space', 'dance', 'wait', 'stand', 'indeed', 'japanese', 'zombie', 'sit', 'difficult', 'poorly', 'sexual', 'expected', 'die', 'whatever', 'writers', 'surprise', 'nor', 'crime', 'nature', 'rent', 'average', '80s', 'suspense', 'leaves', 'subject', 'okay', 'stage', 'killing', 'truth', 'believable', 'screenplay', 'needed', 'filmmakers', 'reading', 'note', 'meets', 'meet', 'dr', 'question', 'begin', 'boys', 'joe', 'romance', 'street', 'realize', 'forced', 'otherwise', 'emotional', 'memorable', 'unless', 'write', 'superb', 'shame', 'older', 'minute', 'interested', 'earlier', 'keeps', 'baby', 'weird', 'situation', 'disney', 'whom', 'footage', 'features', 'dramatic', 'credits', 'beauty', 'towards', 'dog', 'badly', 'ask', 'total', 'previous', 'hot', 'sounds', 'crazy', 'brings', 'comment', 'male', 'plenty', 'personal', 'worked', 'incredibly', 'plus', 'directing', 'society', 'quickly', 'perfectly', 'cheesy', 'admit', 'result', 'unique', 'deep', 'return', 'america', 'laughs', 'free', 'creepy', 'development', 'leading', 'appear', 'meant', 'hardly', 'open', 'brothers', '20', 'imdb', 'hands', 'b', 'apart', 'mark', 'various', 'casting', 'remake', 'effect', 'create', 'setting', 'christmas', 'potential', 'mess', 'bill', 'battle', 'background', 'scifi', 'monster', 'forward', 'powerful', 'portrayed', 'dream', 'inside', 'outside', '70s', 'fairly', 'business', 'la', 'manages', 'ideas', 'expecting', 'jane', 'fails', 'deserves', 'present', 'political', 'missing', 'attempts', 'twist', 'secret', 'fire', 'dumb', 'unlike', 'fighting', 'fantasy', 'pay', 'air', 'joke', 'gay', 'ben', 'william', 'recently', 'rich', 'front', 'nudity', 'married', 'further', 'masterpiece', 'reasons', 'copy', 'match', 'box', 'sadly', 'agree', 'acted', 'break', 'telling', 'talented', 'plain', 'western', 'success', 'cute', 'pure', 'villain', 'missed', 'incredible', 'odd', 'girlfriend', 'doctor', 'crew', 'following', 'caught', 'decides', 'cop', 'social', 'large', 'considering', 'waiting', 'sees', 'mentioned', 'members', 'uses', 'flat', 'popular', 'hold', 'ended', 'slightly', 'wasted', 'public', 'suddenly', 'pace', 'neither', 'compared', 'wrote', 'sweet', 'spent', 'kills', 'entirely', 'rate', 'intelligent', 'created', 'familiar', 'office', 'audiences', 'ultimately', 'cause', 'tension', 'scott', 'convincing', 'clever', 'bored', 'visual', 'party', 'escape', 'era', 'moves', 'cartoon', 'basic', 'credit', 'biggest', 'mary', 'list', 'revenge', 'laughing', 'fear', 'successful', 'recent', 'consider', 'spirit', 'island', 'trouble', 'spend', 'violent', 'positive', 'gun', 'choice', 'dancing', 'cover', 'books', 'appreciate', 'zombies', 'water', 'speak', 'science', 'former', 'died', 'cold', 'singing', 'filled', 'concept', 'younger', 'portrayal', '12', 'produced', 'value', 'solid', 'adult', 'state', 'exciting', 'common', 'bizarre', '8', 'werent', 'amount', 'walk', 'focus', 'animated', 'showed', 'language', 'effective', 'band', 'amusing', 'german', 'italian', 'producers', 'fit', 'follows', '7', 'van', 'runs', 'considered', 'impressive', 'impossible', 'decide', 'chemistry', 'cat', 'tone', 'won', 'pointless', 'company', '15', 'store', 'depth', 'barely', 'win', 'somewhere', 'control', 'studio', 'situations', 'prison', 'mad', 'sick', 'leaving', 'college', 'project', 'respect', 'force', 'changed', 'recommended', 'hair', 'surprisingly', 'aside', 'tony', 'starring', 'awesome', 'trip', 'century', 'longer', 'likes', 'generally', 'failed', 'shooting', 'planet', 'charming', 'slasher', 'involving', 'questions', 'honest', 'trash', 'thanks', 'immediately', 'literally', 'images', 'disturbing', 'accent', 'steve', 'spoilers', '30', 'values', 'utterly', 'bought', 'south', 'ghost', 'fake', 'touch', 'pictures', 'magic', 'jim', 'natural', 'conclusion', 'west', 'glad', 'sitting', 'ability', 'pathetic', 'honestly', 'frank', 'aspect', 'adaptation', 'computer', 'adventure', 'explain', 'normal', 'fair', 'culture', 'appearance', 'stick', 'personally', 'cult', 'camp', 'knowing', 'alive', 'tough', 'added', 'remains', 'rare', 'dad', 'catch', 'thinks', 'meaning', 'yeah', 'detective', 'sam', 'appeal', 'silent', 'humour', 'army', 'genius', 'beautifully', 'terms', 'managed', 'attack', 'walking', 'thank', 'taste', 'sexy', 'military', 'equally', 'standard', 'soldiers', 'smith', 'garbage', 'twists', 'subtle', 'london', 'harry', 'dreams', 'loves', 'journey', 'comedies', '100', 'pick', 'nowhere', 'terrific', 'touching', 'purpose', 'naked', 'complex', 'woods', 'nobody', 'likely', 'wild', 'channel', 'surely', 'mood', 'lovely', 'excuse', 'plan', 'master', 'fully', 'thus', 'narrative', 'chase', 'road', 'contains', 'cinematic', 'themes', 'fiction', 'constantly', 'central', 'unbelievable', 'outstanding', 'issues', 'youd', 'week', 'slowly', 'self', 'brain', 'painful', 'innocent', 'chris', 'batman', 'thrown', 'presented', 'pass', 'disappointing', 'presence', 'historical', 'marriage', 'date', 'christopher', 'animals', 'stunning', 'mysterious', 'laughable', 'charles', 'impression', 'hoping', 'besides', 'shoot', 'places', 'minor', 'costumes', 'club', 'mistake', 'critics', 'bottom', 'stands', 'makers', 'edge', 'details', 'sent', 'photography', 'indian', 'stewart', 'soul', 'justice', 'charm', 'makeup', 'door', 'aspects', '9', 'ride', 'law', 'heavy', 'finish', 'brief', 'boss', 'vampire', 'mainly', 'government', 'exception', 'feelings', 'climax', 'throw', 'suppose', 'support', 'manner', 'festival', 'color', 'train', 'scenery', 'pieces', 'paris', 'opportunity', 'hey', 'gang', 'expectations', 'element', 'cry', 'names', 'loud', 'filming', 'charlie', 'acts', 'victims', 'rated', 'bother', 'track', 'puts', 'fascinating', '6', 'smart', 'serial', 'falling', 'changes', 'award', 'intended', 'emotions', 'drawn', 'available', 'tired', 'victim', 'suggest', 'henry', 'speaking', 'include', 'church', 'disappointment', 'blue', 'twice', 'hasnt', 'likable', 'emotion', 'confused', 'building', 'hotel', 'followed', 'wow', 'compelling', 'students', 'motion', 'green', 'giant', 'appeared', 'image', 'everybody', 'dies', 'developed', 'ahead', 'pain', 'mans', 'laughed', 'bruce', 'lacks', 'kelly', 'gorgeous', 'approach', 'share', 'impact', 'difference', 'supposedly', 'offer', 'million', 'hurt', 'forever', 'fellow', 'fresh', 'bed', 'wondering', 'trailer', 'moral', 'merely', 'proves', 'jerry', 'happening', 'confusing', 'shock', 'helps', 'funniest', 'finding', 'relationships', 'putting', 'notice', 'grade', 'drive', 'billy', 'bar', 'answer', 'adults', 'system', 'random', 'student', 'producer', 'mix', 'key', 'creative', 'spoiler', 'numbers', 'mediocre', 'delivers', 'christian', 'zero', 'opera', 'noir', 'murders', 'lighting', 'jones', 'damn', 'provides', 'born', 'paid', 'absolute', 'thoroughly', 'summer', 'timebr', 'negative', 'lived', 'drug', 'content', 'addition', 'seemingly', 'reminded', 'ms', 'impressed', 'fell', 'event', 'becoming', 'alien', 'tragedy', 'park', 'offers', 'land', 'gem', 'flying', 'flicks', 'childhood', 'boyfriend', 'lover', 'imagination', 'hospital', 'attractive', 'stuck', 'lose', 'williams', 'race', 'holes', 'flaws', 'extreme', 'al', 'tragic', 'ii', 'ugly', 'six', 'rented', 'page', 'nasty', 'hidden', 'arthur', 'americans', 'shouldnt', 'martin', 'held', 'agent', '90', 'spot', 'adds', 'standards', 'rape', 'intense', 'folks', 'alan', 'ray', 'pull', 'faces', 'detail', 'beat', 'asks', 'artistic', 'afraid', 'turning', 'therefore', 'seconds', 'filmmaker', 'super', 'step', 'porn', 'games', 'latter', 'industry', 'davis', 'collection', 'states', 'shocking', 'forgotten', 'favourite', 'describe', 'affair', 'picked', 'onto', 'angry', 'teenage', 'seven', 'redeeming', 'ready', 'led', 'brian', 'actresses', 'mom', 'dirty', 'design', 'count', 'deliver', 'area', 'wooden', 'soldier', 'information', 'compare', 'queen', 'carry', 'allowed', 'thin', 'struggle', 'lord', 'willing', 'stephen', 'news', 'inspired', 'includes', 'chinese', 'allen', 'personality', 'moved', 'location', 'jason', 'apartment', 'helped', 'ground', 'fashion', 'desperate', 'deeply', 'cliché', 'animal', 'wonderfully', 'martial', 'intelligence', 'bond', 'wars', 'quick', 'listen', 'castle', 'uncle', 'professional', 'member', 'grace', 'don', 'direct', 'criminal', 'trust', 'scientist', 'rarely', 'food', 'cops', 'captain', 'began', 'todays', 'creature', 'clothes', 'cgi', 'humans', 'worthy', 'phone', 'mental', 'introduced', 'double', 'wearing', 'theatre', 'necessary', 'independent', 'comedic', 'realized', 'plane', 'fox', 'anymore', 'allow', 'unusual', 'treat', 'technical', 'tears', 'superior', 'drugs', 'commentary', 'apparent', 'physical', 'energy', 'dying', 'wall', 'provide', 'tim', 'sky', 'ship', 'normally', 'epic', 'desire', 'continue', 'nightmare', 'danny', 'stone', 'sight', 'remarkable', 'mouth', 'douglas', 'arts', 'filmmaking', 'accident', 'scared', 'returns', 'powers', 'limited', 'station', 'ring', 'reminds', 'holds', 'heroes', 'bloody', 'accept', 'witch', 'suspect', 'search', 'pleasure', 'engaging', '60s', 'wedding', 'warning', 'surprising', 'intriguing', 'brutal', 'actions', 'wanting', 'teacher', 'machine', 'hated', 'build', 'according', 'whatsoever', 'russian', 'fred', 'disaster', 'asked', 'academy', 'unnecessary', 'sleep', 'skip', 'pacing', 'grand', 'clichés', 'johnny', 'finished', 'constant', 'vision', 'bits', 'andy', 'religious', 'nicely', 'joan', 'ie', 'extra', 'anybody', 'suicide', 'sat', 'process', 'originally', 'legend', 'heres', 'artist', 'passion', 'lies', 'growing', 'ed', 'absurd', 'roll', 'monsters', 'blame', 'anywhere', 'toward', 'suit', 'media', 'lovers', 'killers', 'joy', 'gotten', 'ladies', 'faith', 'explanation', 'dangerous', 'watchable', 'players', 'met', 'instance', 'eddie', 'deserve', 'unknown', 'memory', 'kevin', 'jeff', 'dick', 'winning', 'whilst', 'villains', 'somebody', 'quiet', 'higher', 'hadnt', 'torture', 'starting', 'smile', 'nick', 'capture', 'accurate', '40', 'pilot', 'jump', 'heads', 'cars', 'superman', 'hopes', 'heaven', 'creating', 'jr', 'guns', 'featuring', 'fail', 'exist', 'dressed', 'community', 'adam', 'river', 'responsible', 'teen', 'friendship', 'fights', 'worlds', 'vs', 'tarzan', 'saved', 'record', 'pulled', 'prince', 'england', 'moon', 'months', 'keeping', 'jesus', 'european', 'understanding', 'terribly', 'taylor', 'reviewers', 'lowbudget', 'jean', 'treated', 'mixed', 'manage', 'kinda', 'explained', 'whenever', 'radio', 'numerous', 'memories', 'knowledge', 'hits', 'finest', 'thembr', 'loving', 'judge', 'delightful', 'private', 'price', 'pop', 'player', 'peoples', 'officer', 'lacking', 'jackson', 'issue', 'gene', 'fat', '50', 'weve', 'unfunny', 'bland', 'vhs', 'sucks', 'psychological', 'prove', 'mike', 'forces', 'eat', 'discover', 'deserved', 'screaming', 'pretentious', 'loose', 'japan', 'horse', 'floor', 'witty', 'streets', 'sign', 'regular', 'ordinary', 'loss', 'included', 'field', 'spanish', 'opposite', 'heroine', 'empty', 'drunk', 'driving', 'broken', 'saving', 'portray', 'loses', 'humanity', 'dated', 'cage', 'cable', 'skills', 'opens', 'noticed', 'naturally', 'conflict', 'bright', 'cuts', 'c', 'bigger', 'aware', 'talents', 'locations', 'discovered', 'calls', 'breaks', 'wind', 'visually', 'partner', 'international', 'essentially', 'deals', 'dealing', 'continues', 'blonde', 'youth', 'werewolf', 'visit', 'theyve', 'soap', 'morning', 'jimmy', 'humorous', 'fate', 'captured', 'scream', 'morgan', 'mine', 'magnificent', 'length', 'golden', 'curious', 'ball', '1010', 'traditional', 'realism', 'plots', 'miles', 'kate', 'gold', 'gags', 'current', 'connection', 'concerned', 'shallow', 'results', 'received', 'occasionally', 'nonsense', 'genuine', 'debut', 'sing', 'sean', 'satire', 'rubbish', 'perspective', 'murdered', 'frankly', 'allows', 'advice', 'versions', 'genuinely', 'below', 'anthony', 'national', 'learned', 'gary', 'bob', 'washington', 'behavior', 'proved', 'mrs', 'lesson', 'kong', 'grew', 'blind', 'bank', '90s', '1950s', 'welles', 'stock', 'segment', 'santa', 'rob', 'revealed', 'mission', 'fathers', 'corny', 'context', 'vampires', 'underrated', 'unable', 'ultimate', 'sudden', 'sheer', 'keaton', 'cameo', 'visuals', 'unexpected', 'shop', 'meanwhile', 'formula', 'ford', 'favor', 'develop', 'albert', 'thisbr', 'steal', 'owner', 'jennifer', 'himbr', 'finale', 'survive', 'study', 'remembered', 'references', 'reach', 'luck', 'harris', 'efforts', 'ann', 'ages', 'window', 'village', 'singer', 'logic', 'identity', 'gonna', 'eric', 'decade', 'cross', 'brilliantly', 'sea', 'program', 'passed', 'ice', 'discovers', 'awkward', 'wise', 'utter', 'strength', 'spectacular', 'desert', 'crappy', 'steven', 'standing', 'majority', 'grant', 'gangster', 'dan', 'candy', 'types', 'stereotypes', 'sisters', 'sake', 'leader', 'flashbacks', 'existence', 'delivered', 'board', 'awards', 'creates', 'bet', 'robin', 'relate', 'reaction', 'ran', 'lucky', 'lake', 'insane', 'caused', 'trek', 'sucked', 'pair', 'painfully', 'meeting', 'gratuitous', 'graphic', 'foreign', 'dreadful', 'daughters', 'speed', 'relief', 'practically', 'pleasant', 'edited', 'devil', 'travel', 'fault', 'families', 'emotionally', 'boat', 'technology', 'nevertheless', 'endless', 'author', 'twenty', 'thomas', 'site', 'simon', 'reviewer', 'overly', 'native', 'decision', 'comparison', 'seasons', 'portrays', 'freedom', 'failure', 'described', 'combination', 'barbara', 'assume', 'anime', 'ancient', 'aka', 'test', 'rules', 'proper', 'president', 'feet', 'attitude', 'wide', 'vehicle', 'treatment', 'parody', 'hearing', 'brown', 'stopped', 'sell', 'range', 'portraying', 'howard', 'foot', 'eating', 'choose', 'buddy', 'bear', 'asking', 'uk', 'marry', 'luke', 'learns', 'laughter', 'hitler', 'halloween', 'executed', 'drew', 'chosen', 'capable', 'believes', 'tape', 'lynch', 'largely', 'involves', 'gory', 'fill', 'excited', 'evening', 'daniel', 'commercial', 'anna', 'allbr', 'wood', 'religion', 'recall', 'produce', 'grow', 'classics', 'broadway', 'wit', 'theatrical', 'product', 'model', 'victor', 'unrealistic', 'theaters', 'sheriff', 'parker', 'kick', 'haunting', 'entertained', 'contrived', 'center', '50s', 'suffering', 'strongly', 'storybr', 'ruined', 'round', 'rise', 'levels', 'depressing', 'clue', 'sequels', 'rescue', 'r', 'joseph', 'irritating', 'freddy', 'extras', 'd', 'contrast', 'built', 'appealing', 'woody', 'rose', 'onebr', 'heck', 'handsome', 'costs', 'claim', 'sympathetic', 'sports', 'shakespeare', 'research', 'matt', 'losing', 'individual', 'destroy', '11', 'talks', 'protagonist', 'generation', 'evidence', 'embarrassing', 'disgusting', 'clean', 'captures', 'vote', 'thatbr', 'tend', 'post', 'patrick', 'matters', 'hill', 'facts', 'dry', 'chief', 'chick', 'appropriate', 'hunter', 'hanging', 'fame', 'canadian', 'alex', 'voices', 'virtually', 'naive', 'hopefully', 'grown', 'football', 'exploitation', 'bringing', 'asian', 'walks', 'training', 'scare', 'roy', 'relatively', 'obsessed', 'jackie', 'horribly', 'haunted', 'costume', 'cares', 'thoughts', 'steals', 'spoil', 'saturday', 'safe', 'promise', 'priest', 'pity', 'mask', 'lousy', 'louis', 'france', 'fits', 'convinced', 'bomb', 'walter', 'teenagers', 'insult', 'frame', 'cost', 'correct', 'till', 'teenager', 'ryan', 'oliver', 'mebr', 'dogs', 'crowd', 'creatures', 'wellbr', 'send', 'satisfying', 'initial', 'halfway', 'fly', 'excitement', 'dubbed', 'depicted', 'winner', 'united', 's', 'remain', 'gordon', 'europe', 'cinderella', 'cash', 'angel', 'amateurish', '1970s', 'tiny', 'texas', 'tedious', 'nancy', 'lower', 'influence', 'holding', 'hide', 'germany', 'contemporary', 'anne', 'weekend', 'unlikely', 'unfortunate', 'substance', 'soft', 'psycho', 'nominated', 'lewis', 'cowboy', 'circumstances', 'asleep', 'viewed', 'touches', 'presents', 'marie', 'lawyer', 'flesh', 'continuity', 'closer', 'bodies', 'baseball', 'witness', 'serves', 'provided', 'max', 'f', 'drag', 'danger', 'australian', '810', 'trilogy', 'suffers', 'shocked', 'reporter', 'handled', 'fool', 'cartoons', 'brave', 'amateur', 'weeks', 'wayne', 'surreal', 'structure', 'source', 'sons', 'ruin', 'roger', 'repeated', 'refreshing', 'fare', 'category', 'supernatural', 'seat', 'politics', 'plans', 'offensive', 'latest', 'hunt', 'fu', 'display', 'deaths', 'chose', 'africa', 'accidentally', 'welcome', 'warm', 'surprises', 'studios', 'sinatra', 'robot', 'promising', 'pile', 'north', 'market', 'angles', 'target', 'speaks', 'realizes', 'qualities', 'previously', 'overthetop', 'colors', 'claims', 'bugs', 'harsh', 'granted', 'experiences', 'edward', 'deadly', 'convince', 'adventures', 'accents', 'storytelling', 'factor', 'designed', 'covered', 'artists', 'wouldve', 'whoever', 'veteran', 'universal', 'speech', 'skin', 'service', 'rental', 'recognize', 'movement', 'lesbian', 'hall', 'draw', 'believed', 'victoria', 'routine', 'professor', 'mainstream', 'highlight', 'degree', 'uninteresting', 'rain', 'propaganda', 'occasional', 'mistakes', 'kim', 'hat', 'enter', 'columbo', 'walked', 'twisted', 'technically', 'sympathy', 'struggling', 'peace', 'outbr', 'minds', 'magical', 'guilty', 'directly', 'aliens', 'nude', 'massive', 'kinds', 'invisible', 'friday', 'focused', 'explains', 'downright', 'combined', 'breaking', 'teens', 'section', 'print', 'princess', 'paper', 'inner', 'committed', '710', 'remotely', 'offered', 'narration', 'j', 'gritty', 'donald', 'ass', 'suspenseful', 'spends', 'sorts', 'prime', 'multiple', 'moore', 'irish', 'featured', 'experienced', 'enemy', 'atrocious', 'universe', 'treasure', 'sharp', 'reveal', 'regret', 'lonely', 'legendary', 'insight', 'frightening', 'express', 'execution', 'variety', 'security', 'reputation', 'performed', 'hong', 'forgettable', 'figured', 'exact', 'dollars', 'anger', '25', 'waybr', 'surface', 'stolen', 'rings', 'prior', 'path', 'passing', 'herebr', 'forest', 'figures', 'fictional', 'false', 'dozen', 'crash', 'bothered', 'birth', 'abuse', 'abandoned', '1980s', 'theory', 'subtitles', 'spy', 'pulls', 'powell', 'hired', 'ghosts', 'fairy', 'eight', 'darkness', 'crying', 'conversation', '13', 'von', 'statement', 'russell', 'reveals', 'required', 'paint', 'paced', 'melodrama', 'isbr', 'erotic', 'emma', 'cutting', 'core', 'anderson', 'wilson', 'urban', 'trapped', 'terror', 'stays', 'stayed', 'significant', 'mountain', 'hed', 'gas', 'effectively', 'drop', 'demons', 'blow', 'worthwhile', 'slapstick', 'paying', 'grim', 'crude', '14', 'rights', 'proud', 'mgm', 'mere', 'listening', 'jon', 'focuses', 'dean', 'clark', 'buying', 'wear', 'spite', 'sir', 'quest', 'necessarily', 'lights', 'bmovie', 'beach', 'african', 'account', 'unconvincing', 'scale', 'jobs', 'heavily', 'grave', 'forth', 'titanic', 'sunday', 'scares', 'network', 'julia', 'facial', 'everywhere', 'destroyed', 'department', 'delivery', 'cruel', 'clichéd', 'childrens', 'caine', 'bus', 'andor', 'amazed', 'afternoon', '1930s', 'vietnam', 'scenario', 'san', 'murphy', 'metal', 'matrix', 'imagery', 'driven', 'desperately', 'closing', 'changing', 'alright', 'thankfully', 'sounded', 'skill', 'sensitive', 'rule', 'ron', 'reminiscent', 'position', 'placed', 'mothers', 'midnight', 'mature', 'junk', 'idiot', 'forgot', 'flashback', 'favorites', 'faithful', 'fabulous', 'device', 'code', 'blockbuster', 'belief', 'alice', 'suffer', 'stereotypical', 'revolution', 'pitt', 'novels', 'mexican', 'interview', 'ignore', 'extraordinary', 'driver', 'campy', 'aint', '110', 'views', 'summary', 'sleeping', 'settings', 'seek', 'musicals', 'lifetime', 'happiness', 'greater', 'examples', 'dude', 'deeper', 'california', 'beloved', 'angle', 'amazingly', 'understood', 'sarah', 'renting', 'prefer', 'pacino', 'notorious', 'initially', 'inept', 'helping', 'fourth', 'dennis', 'criminals', 'court', 'burns', 'blah', 'beast', 'achieve', 'teeth', 'susan', 'sitcom', 'rolling', 'regarding', 'pregnant', 'lifebr', 'learning', 'league', 'depiction', 'breathtaking', 'brad', 'bourne', 'rip', 'raw', 'mexico', 'lisa', 'larry', 'jungle', 'endbr', 'couldve', 'convey', 'complicated', 'china', 'bore', 'table', 'quirky', 'purely', 'picks', 'kung', 'indie', 'format', 'entertain', 'encounter', 'cultural', 'starred', 'rough', 'rachel', 'prepared', 'ned', 'murderer', 'mildly', 'julie', 'freeman', 'expert', 'dragon', 'disbelief', 'description', 'decades', 'critical', 'calling', 'cabin', 'writerdirector', 'via', 'underground', 'touched', 'throws', 'throwing', 'status', 'serve', 'productions', 'notable', 'leslie', 'join', 'funnier', 'friendly', 'drinking', 'appreciated', 'subplot', 'onbr', 'introduction', 'flight', 'expression', 'everyday', 'dress', 'carries', 'basis', 'arms', 'answers', 'adding', 'task', 'strangely', 'raised', 'protect', 'honor', 'criticism', 'comical', 'bollywood', 'blown', 'base', 'againbr', 'wears', 'suck', 'succeeds', 'racist', 'kiss', 'intellectual', 'fallen', 'extent', 'caring', 'brooks', 'amongst', 'usa', 'truck', 'ted', 'sword', 'shadow', 'regard', 'raise', 'originality', 'inspiration', 'hoffman', 'foster', 'environment', 'claire', 'causes', 'carrying', 'carried', 'attempting', 'x', 'weapons', 'socalled', 'ripoff', 'protagonists', 'praise', 'michelle', 'maria', 'johnson', 'jessica', 'handle', 'enjoying', 'embarrassed', 'choices', 'charge', 'challenge', 'cell', 'cases', 'angels', '410', 'tales', 'spoof', 'sinister', 'sidney', 'shut', 'rogers', 'related', 'ludicrous', 'lazy', 'warned', 'turkey', 'southern', 'replaced', 'obnoxious', 'needless', 'lugosi', 'locked', 'ironic', 'gruesome', 'experiment', 'elizabeth', 'determined', 'breath', 'wins', 'westerns', 'sun', 'sleazy', 'screening', 'properly', 'pet', 'nowadays', 'lie', 'interpretation', 'escapes', 'daily', 'burt', 'aunt', 'trick', 'tradition', 'remote', 'obsession', 'jail', 'hardy', 'graphics', 'clips', 'chilling', 'blair', 'bbc', 'attacked', 'wave', 'warner', 'u', 'tight', 'stanley', 'served', 'scripts', 'remind', 'reference', 'laura', 'jumps', 'interviews', 'exists', 'essential', 'arrives', 'alas', 'stops', 'st', 'sold', 'punch', 'navy', 'marvelous', 'india', 'hitchcock', 'fortunately', 'contain', 'busy', 'timing', 'successfully', 'oddly', 'nonexistent', 'hills', 'goofy', 'goodbr', 'frequently', 'established', 'dollar', 'ashamed', '310', 'term', 'sum', 'stylish', 'rival', 'revolves', 'refuses', 'ratings', 'oscars', 'o', 'jewish', 'inspector', 'flawed', 'drives', 'balance', 'authentic', 'warn', 'upset', 'struggles', 'risk', 'nation', 'mirror', 'mindless', 'mentally', 'manager', 'legs', 'horrific', 'hence', 'guard', 'flow', 'che', 'andrews', 'tree', 'titles', 'sides', 'shower', 'riding', 'retarded', 'philip', 'par', 'overcome', 'hood', 'greatly', 'delight', 'comedian', 'bette', 'toy', 'tense', 'suspects', 'stomach', 'spoken', 'roberts', 'poignant', 'nonetheless', 'mob', 'mansion', 'lesser', 'lane', 'intentions', 'intensity', 'gods', 'cynical', 'bridge', 'attacks', 'albeit', 'wishes', 'topic', 'thousands', 'presentation', 'madness', 'lion', 'lessons', 'jay', 'husbands', 'fbi', 'expressions', 'cooper', 'controversial', 'buck', 'bitter', 'wealthy', 'wasting', 'vacation', 'thrilling', 'suffered', 'stupidity', 'stranger', 'seeking', 'personalities', 'opened', 'medical', 'lucy', 'glimpse', 'demon', 'confusion', 'chan', 'adapted', 'storm', 'scientists', 'pride', 'nazi', 'internet', 'hundreds', 'holmes', 'guessing', 'eg', 'dubbing', 'dinner', 'bound', '30s', 'whereas', 'uncomfortable', 'tracy', 'thief', 'text', 'shorts', 'shines', 'separate', 'perform', 'patient', 'mass', 'infamous', 'hint', 'happily', 'gross', 'dislike', 'courage', 'contact', 'broke', 'advantage', 'trite', 'sings', 'reed', 'performers', 'noble', 'miscast', 'miller', 'countries', 'corner', 'chases', 'chair', 'trial', 'suggests', 'shape', 'rocks', 'physically', 'mouse', 'millions', 'letting', 'innocence', 'horses', 'helen', 'elvis', 'east', 'credible', 'credibility', 'atmospheric', '910', '2006', '1960s', 'womans', 'tied', 'therebr', 'technique', 'sin', 'sexuality', 'reunion', 'racism', 'hundred', 'hole', 'glass', 'cook', 'consists', 'youbr', 'troubled', 'steps', 'portrait', 'pool', 'lying', 'lovable', 'gripping', 'grey', 'ensemble', 'develops', 'curse', 'crisis', 'cameos', 'badbr', '2000', 'torn', 'stretch', 'screenwriter', 'saves', 'ralph', 'oneliners', 'noted', 'meaningful', 'idiotic', 'holiday', 'hanks', 'concert', 'catholic', 'bo', 'bettie', 'bears', 'wwii', 'weapon', 'vincent', 'unforgettable', 'sentimental', 'searching', 'proof', 'plastic', 'neat', 'kurt', 'gain', 'exceptional', 'enjoyment', 'drink', 'accepted', 'toobr', 'thrillers', 'shed', 'imaginative', 'host', 'hiding', 'herbr', 'franchise', 'fish', 'entry', 'dig', 'dialogs', 'connected', 'belongs', 'attraction', 'spots', 'solve', 'sends', 'sandler', 'nine', 'lincoln', 'hoped', 'concerns', 'christ', 'card', 'annoyed', 'andrew', 'aired', 'worry', 'widmark', 'virgin', 'succeed', 'quote', 'object', 'n', 'lucas', 'jake', 'italy', 'guts', 'flaw', 'endearing', 'closely', 'assistant', 'arm', 'achieved', 'striking', 'repeat', 'redemption', 'profound', 'irony', 'homeless', 'hearts', 'ha', 'fortune', 'equal', 'encounters', 'eerie', 'dealt', 'crimes', 'cousin', 'colorful', 'checking', 'battles', 'bag', 'appearances', 'aged', 'videos', 'tune', 'tribute', 'tour', 'teach', 'sutherland', 'stanwyck', 'segments', 'persons', 'pat', 'oil', 'nights', 'nelson', 'neighborhood', 'mst3k', 'library', 'h', 'factory', 'dragged', 'dentist', 'covers', 'complaint', '1st', 'stan', 'snow', 'slight', 'pointed', 'ourselves', 'miniseries', 'hunting', 'hooked', 'hang', 'hamlet', 'essence', 'dear', 'cube', 'civil', 'bucks', 'believing', 'bat', 'thousand', 'surrounding', 'strikes', 'split', 'shoots', 'seagal', 'rush', 'pitch', 'pack', 'moviesbr', 'laid', 'knife', 'incoherent', 'health', 'glory', 'expensive', 'dare', 'countless', 'cheese', 'charisma', 'branagh', 'baker', 'appearing', '18', 'zone', 'workers', 'theyd', 'surrounded', 'stood', 'stealing', 'spending', 'matthau', 'massacre', 'lloyd', 'jeremy', 'dorothy', 'dancer', 'condition', 'competent', 'chasing', 'charismatic', 'chances', 'catherine', 'briefly', 'attempted', 'unintentionally', 'tons', 'terrifying', 'stunts', 'stronger', 'specific', 'shall', 'rushed', 'rochester', 'ripped', 'intention', 'horrendous', 'grows', 'fx', 'elsewhere', 'denzel', 'curtis', 'crafted', 'colour', 'birthday', 'attached', 'aforementioned', 'wing', 'wanna', 'trade', 'sullivan', 'sexually', 'setup', 'reactions', 'messages', 'individuals', 'hip', 'easier', 'betterbr', 'associated', 'admittedly', '80', 'university', 'tricks', 'requires', 'perfection', 'noise', 'month', 'magazine', 'le', 'guilt', 'gag', 'forgive', 'creators', 'burning', 'beating', 'arnold', '2001', 'wake', 'typically', 'stunt', 'stated', 'spike', 'silver', 'revelation', 'per', 'nose', 'luckily', 'increasingly', 'identify', 'homage', 'guest', 'goal', 'gift', 'dropped', 'drags', 'corrupt', '17', 'vague', 'strictly', 'represents', 'overrated', 'neck', 'kings', 'importance', 'ian', 'gotta', 'gothic', 'fired', 'faced', 'exercise', 'dramas', 'dawn', 'chuck', 'cats', 'cardboard', 'boredom', 'allowing', 'winter', 'walls', 'virus', 'techniques', 't', 'reynolds', 'ps', 'performing', 'painting', 'mild', 'medium', 'loser', 'killings', 'kidnapped', 'kicks', 'kane', 'instantly', 'importantly', 'hype', 'fitting', 'fifteen', 'enters', 'contract', 'commit', 'chaplin', 'camerawork', 'barry', 'sophisticated', 'row', 'relevant', 'pushed', 'presumably', 'jesse', 'horrors', 'handful', 'godfather', 'disagree', 'carefully', 'brando', 'boll', 'bobby', 'basement', '24', 'wonders', 'weight', 'thumbs', 'shining', 'sally', 'reallife', 'realise', 'pleased', 'plague', 'pie', 'partly', 'packed', 'nuclear', 'notch', 'letter', 'flash', 'eva', 'doors', 'brand', '45', 'wondered', 'tremendous', 'toilet', 'talked', 'superhero', 'silence', 'returning', 'resolution', 'pleasantly', 'overlooked', 'occurs', 'mustsee', 'marks', 'korean', 'hudson', 'hitting', 'heat', 'frustrated', 'executive', 'destruction', 'derek', 'continued', 'comics', 'buried', 'britain', 'admire', 'acceptable', 'worthless', 'superbly', 'strip', 'secretary', 'prevent', 'persona', 'listed', 'lab', 'jamie', 'inevitable', 'iii', 'fears', 'evident', 'competition', 'canada', 'bride', 'breasts', 'arrested', 'subplots', 'strike', 'stiff', 'spell', 'shy', 'relative', 'regardless', 'projects', 'press', 'picking', 'opposed', 'masters', 'larger', 'investigation', 'flawless', 'fatal', 'estate', 'doc', 'digital', 'citizen', 'carol', 'bush', 'bullets', 'boxing', 'bible', 'beings', 'attracted', 'accused', 'walken', 'struck', 'splendid', 'spiritual', 'someones', 'root', 'revealing', 'planning', 'outrageous', 'nazis', 'menacing', 'mafia', 'los', 'kudos', 'karloff', 'jumping', 'highlights', 'glover', 'directorial', 'closeups', 'burn', 'appalling', 'afterwards', '40s', '3d', 'useless', 'union', 'uninspired', 'thrills', 'suits', 'subsequent', 'spooky', 'sole', 'slightest', 'savage', 'remaining', 'precious', 'notes', 'logical', 'lacked', 'ironically', 'inspiring', 'hire', 'guide', 'genres', 'flynn', 'dvds', 'cup', 'conspiracy', 'characterization', 'brilliance', 'ambitious', '911', '2005', 'wes', 'watches', 'ward', 'twin', 'streisand', 'spoiled', 'souls', 'repetitive', 'repeatedly', 'reasonably', 'raped', 'pulling', 'photographed', 'notably', 'neighbor', 'morality', 'melodramatic', 'ken', 'installment', 'heston', 'francisco', 'elderly', 'documentaries', 'dire', 'depression', 'curiosity', 'creation', 'convoluted', 'clues', 'blob', 'aimed', 'accomplished', 'worldbr', 'wicked', 'wannabe', 'timothy', 'ticket', 'theyll', 'territory', 'tea', 'smooth', 'shortly', 'screams', 'samurai', 'rid', 'response', 'push', 'providing', 'poverty', 'overdone', 'minimal', 'loosely', 'jerk', 'intrigued', 'insulting', 'generous', 'forbidden', 'duke', 'drunken', 'draws', 'cox', 'con', 'cia', 'cared', 'border', 'bleak', 'achievement', 'timeless', 'spring', 'shadows', 'ritter', 'reduced', 'psychiatrist', 'non', 'neil', 'mile', 'mid', 'mel', 'jealous', 'hatred', 'gradually', 'futuristic', 'funnybr', 'filmsbr', 'failing', 'explore', 'emily', 'elvira', 'distant', 'definite', 'davies', 'darker', 'corpse', 'adams', '20th', 'wells', 'thirty', 'tall', 'sticks', 'shell', 'reasonable', 'piano', 'outcome', 'obscure', 'meat', 'manhattan', 'laurel', 'intent', 'goldberg', 'carpenter', 'captivating', 'blows', 'unbelievably', 'trap', 'spielberg', 'rap', 'pushing', 'nurse', 'motivation', 'mitchell', 'misses', 'knock', 'indians', 'improved', 'ignored', 'grandmother', 'gentle', 'elaborate', 'doctors', 'discussion', 'burton', 'beaten', 'argument', 'alike', 'ad', 'absence', 'turner', 'tunes', 'tortured', 'stole', 'spin', 'resembles', 'psychotic', 'norman', 'miserably', 'liberal', 'huh', 'fisher', 'farce', 'explicit', 'et', 'em', 'disease', 'dave', 'cruise', 'cried', 'contrary', 'connect', 'concerning', 'childish', 'cameras', 'brazil', 'beer', 'alexander', 'worried', 'waters', 'warrior', 'vicious', 'throat', 'threat', 'temple', 'string', 'sloppy', 'shoes', 'shark', 'returned', 'reached', 'ranks', 'purple', 'monkey', 'lou', 'kenneth', 'horrid', 'hardcore', 'glenn', 'fancy', 'extended', 'exaggerated', 'eve', 'displays', 'diamond', 'danes', 'currently', 'craig', 'complain', 'cole', 'builds', 'blend', 'affected', 'wreck', 'website', 'upbr', 'threw', 'swedish', 'sunshine', 'subjects', 'spoilersbr', 'spirits', 'sacrifice', 'prom', 'pretend', 'panic', 'ought', 'matthew', 'idiots', 'houses', 'hollow', 'fay', 'enjoys', 'distance', 'demands', 'dancers', 'consequences', 'charactersbr', 'carter', 'arrive', 'alltime', 'warren', 'triumph', 'smoking', 'robots', 'ridiculously', 'restaurant', 'receive', 'poster', 'photographer', 'overacting', 'hysterical', 'harder', 'fever', 'farm', 'eyre', 'drivel', 'drawing', 'broad', 'blank', 'beats', 'argue', 'smoke', 'size', 'scripted', 'progress', 'officers', 'movements', 'modesty', 'landscape', 'jet', 'groups', 'greek', 'dynamic', 'duo', 'conversations', 'burned', 'australia', 'annie', 'upper', 'trio', 'styles', 'staying', 'selling', 'scientific', 'ruth', 'recognized', 'popcorn', 'murderous', 'load', 'ireland', 'involvement', 'investigate', 'incident', 'hugh', 'holy', 'heroic', 'exposed', 'engaged', 'empire', 'dignity', 'devoted', 'daring', 'cusack', 'commercials', 'comfortable', 'carrey', 'buddies', 'broadcast', 'brains', 'anyways', 'vivid', 'translation', 'titled', 'threatening', 'symbolism', 'swear', 'superficial', 'selfish', 'secrets', 'rural', 'producing', 'proceedings', 'orders', 'offering', 'occur', 'newspaper', 'mountains', 'machines', 'lily', 'kitchen', 'journalist', 'joey', 'existed', 'escaped', 'dinosaurs', 'differences', 'critic', 'couples', 'choreography', 'cagney', 'brosnan', 'bands', 'astaire', 'areas', 'aging', '210', 'winters', 'uneven', 'tame', 'relies', 'rage', 'margaret', 'lips', 'innovative', 'gray', 'grab', 'explaining', 'ex', 'discovery', 'detailed', 'deliberately', 'clint', 'block', 'bite', 'bathroom', 'apes', '60', '2nd', '16', 'workbr', 'wealth', 'versus', 'unpleasant', 'twelve', 'timesbr', 'thugs', 'stiller', 'staff', 'soviet', 'signs', 'removed', 'possibility', 'perry', 'occurred', 'nearby', 'mildred', 'merit', 'mate', 'lighthearted', 'juvenile', 'intrigue', 'ingredients', 'implausible', 'imagined', 'hollywoods', 'folk', 'focusing', 'felix', 'editor', 'dialogues', 'dawson', 'causing', 'birds', 'bell', 'audio', '2004', 'web', 'watchbr', 'undoubtedly', 'travels', 'sidekick', 'showbr', 'sadness', 'sadistic', 'resemblance', 'primary', 'population', 'pays', 'overwhelming', 'onscreen', 'nightmares', 'meaningless', 'maker', 'lawrence', 'kirk', 'generic', 'furthermore', 'disturbed', 'defeat', 'damage', 'craft', 'conventional', 'combat', 'chain', 'catches', 'adequate', 'abilities', 'abc', '2003', 'w', 'unbearable', 'trees', 'ships', 'remarkably', 'pulp', 'primarily', 'portion', 'passes', 'narrator', 'lifestyle', 'karen', 'hurts', 'headed', 'flies', 'falk', 'explosion', 'eccentric', 'discuss', 'devoid', 'composed', 'clumsy', 'clothing', 'bin', 'banned', 'atlantis', 'altogether', '0', 'yesterday', 'winds', 'unintentional', 'thrill', 'surviving', 'spare', 'settle', 'secondly', 'react', 'official', 'maggie', 'liking', 'leg', 'jeffrey', 'itll', 'hitman', 'highest', 'hates', 'glorious', 'giallo', 'g', 'financial', 'explored', 'exotic', 'enormous', 'dracula', 'dozens', 'cuba', 'chaos', 'cameron', 'backdrop', 'antics', 'afford', '2002', 'urge', 'survival', 'smaller', 'shine', 'scheme', 'roman', 'represent', 'reaches', 'morebr', 'models', 'mixture', 'mickey', 'kapoor', 'gandhi', 'fond', 'doomed', 'disjointed', 'decisions', 'consistently', 'carl', 'blatant', 'bird', 'beneath', '1990s', 'wallace', 'walker', 'uwe', 'ups', 'unwatchable', 'slap', 'rank', 'rambo', 'props', 'paulie', 'outer', 'odds', 'notion', 'notbr', 'neighbors', 'mistaken', 'judging', 'hints', 'fighter', 'errors', 'edie', 'dutch', 'distracting', 'disc', 'describes', 'coherent', 'clown', 'cheating', 'cary', 'careers', 'brady', 'bold', 'vast', 'trailers', 'tommy', 'thick', 'tear', 'tap', 'survivors', 'subtlety', 'sport', 'specifically', 'senseless', 'sellers', 'scenebr', 'richards', 'possessed', 'offended', 'monkeys', 'kennedy', 'instant', 'influenced', 'impress', 'ideal', 'hideous', 'heartwarming', 'hal', 'garden', 'gangsters', 'freak', 'florida', 'everyones', 'enterprise', 'drops', 'directs', 'diane', 'dating', 'dances', 'contained', 'butt', 'brooklyn', 'blew', 'bedroom', 'april', 'amy', 'ah', 'advance', '3rd', 'wolf', 'whale', 'weakest', 'voight', 'toys', 'topless', 'ties', 'stellar', 'soccer', 'simplistic', 'seenbr', 'screenbr', 'revolutionary', 'relations', 'rebel', 'practice', 'peters', 'performer', 'montage', 'matches', 'loads', 'linda', 'lasted', 'jazz', 'introduces', 'guessed', 'frustration', 'explosions', 'etcbr', 'ego', 'desperation', 'depressed', 'dedicated', 'commented', 'classes', 'celluloid', 'blake', 'benefit', 'adorable', 'todd', 'tender', 'suited', 'succeeded', 'staged', 'shelf', 'seventies', 'satan', 'saga', 'ruthless', 'rooms', 'rick', 'principal', 'politically', 'philosophy', 'passionate', 'occasion', 'mysteries', 'miserable', 'method', 'loyal', 'leonard', 'justify', 'involve', 'immensely', 'illogical', 'honesty', 'holly', 'hammer', 'forms', 'flop', 'emphasis', 'eastwood', 'doll', 'developing', 'crush', 'countryside', 'coffee', 'claimed', 'circle', 'bare', 'backgrounds', 'awake', 'arrogant', 'wrestling', 'wasbr', 'unfolds', 'traveling', 'trashy', 'transformation', 'tracks', 'thoughtful', 'tad', 'synopsis', 'stress', 'solely', 'similarities', 'severe', 'recorded', 'realizing', 'planned', 'outfit', 'motives', 'melting', 'measure', 'lust', 'link', 'kicked', 'jonathan', 'interaction', 'hank', 'funeral', 'endure', 'endings', 'disappeared', 'disappear', 'destiny', 'considerable', 'command', 'chorus', 'bone', 'blues', 'wore', 'treats', 'stereotype', 'shirley', 'quotes', 'photos', 'orson', 'menace', 'lemmon', 'isolated', 'hbo', 'harvey', 'hamilton', 'ginger', 'facing', 'ease', 'displayed', 'dickens', 'cure', 'corruption', 'consistent', 'comparing', 'companion', 'chased', 'cards', 'avoided', 'authority', 'angeles', 'aid', 'agrees', 'yellow', 'waited', 'tongue', 'taught', 'switch', 'swimming', 'surfing', 'sits', 'similarly', 'scenesbr', 'satisfied', 'riveting', 'represented', 'report', 'purchase', 'preview', 'possibilities', 'moody', 'madefortv', 'lyrics', 'kidding', 'inventive', 'helicopter', 'grasp', 'goodness', 'formulaic', 'enemies', 'ellen', 'eighties', 'e', 'donna', 'dolls', 'colonel', 'celebrity', 'buffs', 'bonus', 'amanda', 'wished', 'widow', 'voiceover', 'vegas', 'user', 'terrorist', 'solo', 'snl', 'relation', 'prostitute', 'promised', 'onedimensional', 'nervous', 'myers', 'mario', 'march', 'judy', 'improve', 'hunters', 'handed', 'embarrassment', 'ears', 'duty', 'divorce', 'delivering', 'defend', 'combine', 'cliff', 'charlotte', 'cg', 'carrie', 'behave', 'akshay', '1999', 'wives', 'waves', 'valuable', 'unsettling', 'unhappy', 'transfer', 'suitable', 'reads', 'philosophical', 'parent', 'pages', 'oz', 'l', 'ignorant', 'horrifying', 'hook', 'godzilla', 'global', 'fix', 'crack', 'closet', 'closest', 'chess', 'buildings', 'blond', '1996', '1980', 'virginia', 'tonight', 'thru', 'stooges', 'stinker', 'snake', 'scottish', 'scores', 'sappy', 'reflect', 'reaching', 'painted', 'online', 'nicholson', 'motivations', 'maintain', 'lately', 'kingdom', 'inbr', 'inane', 'humble', 'hart', 'faster', 'engage', 'elegant', 'education', 'diana', 'destroying', 'corporate', 'buff', 'blacks', 'bebr', 'artificial', 'agents', 'affect', 'yelling', 'wet', 'wed', 'useful', 'understandable', 'tiresome', 'terry', 'stinks', 'stevens', 'staring', 'splatter', 'slave', 'shake', 'sentence', 'seed', 'secretly', 'scope', 'scarecrow', 'safety', 'rotten', 'rex', 'remarks', 'racial', 'questionable', 'pretending', 'potentially', 'plant', 'museum', 'miracle', 'miike', 'letters', 'lees', 'germans', 'fooled', 'earned', 'disappoint', 'conflicts', 'concern', 'coach', 'cleverly', 'centers', 'bullet', 'armed', 'airport', 'airplane', 'access', 'abysmal', 'wandering', 'trained', 'survived', 'slick', 'sandra', 'rocket', 'purchased', 'provoking', 'poetic', 'nostalgic', 'nicholas', 'mall', 'm', 'lay', 'jumped', 'iron', 'intentionally', 'inferior', 'hung', 'gadget', 'francis', 'firstly', 'finger', 'faults', 'exploration', 'elephant', 'dub', 'disneys', 'dinosaur', 'depicts', 'communist', 'civilization', 'campbell', 'brutally', 'blunt', 'blade', 'amounts', 'americas', 'alongside', 'alcoholic', 'advise', 'womens', 'wizard', 'willis', 'vulnerable', 'understated', 'troops', 'tie', 'sub', 'streep', 'stilted', 'steel', 'spoke', 'showcase', 'september', 'robbery', 'rising', 'rendition', 'raising', 'punk', 'proceeds', 'porno', 'pokemon', 'plight', 'patients', 'nomination', 'namely', 'mini', 'lengthy', 'lena', 'joined', 'illegal', 'guarantee', 'grinch', 'greedy', 'fonda', 'floating', 'ethan', 'edgar', 'convincingly', 'confidence', 'channels', 'beliefs', 'bath', 'arrived', 'arguably', 'advanced', 'abusive', '2007', 'wrapped', 'witches', 'visits', 'transition', 'spread', 'species', 'resort', 'relatives', 'pig', 'peoplebr', 'nonstop', 'morris', 'madonna', 'homosexual', 'gundam', 'fascinated', 'familys', 'downhill', 'dimensional', 'designs', 'construction', 'cinematographer', 'chicago', 'carradine', 'careful', 'cake', 'bottle', 'beatty', 'balls', 'ballet', 'attitudes', 'ape', 'agreed', 'advertising', 'accompanied', '70', '3000', '1940s', 'wound', 'worker', 'taxi', 'sue', 'simplicity', 'signed', 'shirt', 'satisfy', 'ruby', 'recognition', 'pops', 'parallel', 'nyc', 'niro', 'molly', 'macy', 'lowest', 'lit', 'limits', 'likewise', 'li', 'latin', 'junior', 'june', 'jenny', 'intimate', 'hopper', 'heartbreaking', 'frequent', 'foul', 'devils', 'demented', 'damon', 'copies', 'complexity', 'compelled', 'classical', 'cities', 'christians', 'cave', 'catchy', 'capturing', 'berlin', 'aids', '1972', 'ya', 'vengeance', 'v', 'tends', 'schools', 'robinson', 'prisoner', 'prequel', 'phantom', 'paltrow', 'opinions', 'olivier', 'nostalgia', 'nonsensical', 'mundane', 'mars', 'manipulative', 'losers', 'lone', 'khan', 'inappropriate', 'illness', 'hilariously', 'grandfather', 'gerard', 'georges', 'exceptionally', 'equivalent', 'eager', 'dreary', 'descent', 'der', 'del', 'daddy', 'crucial', 'chicks', 'cheated', 'challenging', 'bang', 'bakshi', 'babe', 'alternate', '1990', 'writes', 'witnesses', 'wishing', 'widely', 'wellknown', 'twilight', 'tomatoes', 'suspicious', 'shelley', 'seeks', 'scooby', 'restored', 'remakes', 'raymond', 'rat', 'pursuit', 'prisoners', 'poetry', 'pearl', 'overlook', 'ocean', 'muchbr', 'montana', 'misery', 'lol', 'lively', 'leo', 'incomprehensible', 'homer', 'excessive', 'edition', 'eaten', 'domestic', 'demand', 'cinemas', 'choreographed', 'chooses', 'chest', 'capital', 'boot', 'awe', 'appreciation', 'amitabh', '1968', 'wisdom', 'vaguely', 'suspend', 'square', 'smiling', 'sincere', 'simmons', 'seriesbr', 'royal', 'robbins', 'resources', 'progresses', 'prize', 'plotbr', 'plausible', 'performs', 'paranoia', 'opportunities', 'nations', 'methods', 'messed', 'masterful', 'mann', 'literature', 'legal', 'laws', 'landscapes', 'kicking', 'justin', 'invasion', 'introduce', 'incompetent', 'franco', 'experiments', 'enthusiasm', 'elm', 'doubts', 'desired', 'dalton', 'da', 'crocodile', 'constructed', 'conservative', 'calm', 'bumbling', 'brenda', 'blowing', 'belong', 'bela', 'basketball', 'awfully', 'wacky', 'viewings', 'trademark', 'tag', 'suffice', 'richardson', 'responsibility', 'resist', 'resident', 'recording', 'randomly', 'promises', 'polished', 'petty', 'nuts', 'mummy', 'mentions', 'mechanical', 'mayor', 'masterpieces', 'louise', 'loaded', 'kay', 'generations', 'feed', 'eitherbr', 'earl', 'distinct', 'creativity', 'craven', 'climactic', 'cd', 'borrowed', 'bacall', 'assigned', 'assault', 'arrival', '1983', 'wounded', 'witnessed', 'wholly', 'wendy', 'waitress', 'visible', 'unoriginal', 'underlying', 'unaware', 'troubles', 'terrorists', 'teachers', 'strangers', 'stones', 'stargate', 'standout', 'stale', 'spirited', 'solution', 'sneak', 'slaughter', 'sink', 'simpson', 'showdown', 'scrooge', 'ruins', 'receives', 'rangers', 'punishment', 'polanski', 'poem', 'pit', 'parties', 'operation', 'omen', 'marty', 'map', 'jaws', 'inevitably', 'improvement', 'icon', 'heights', 'greed', 'gifted', 'fury', 'fields', 'expressed', 'dust', 'dolph', 'creep', 'conceived', 'betty', 'attorney', 'attend', 'assumed', 'ashley', '–', 'willie', 'whoopi', 'warriors', 'warmth', 'unit', 'testament', 'teaching', 'straightforward', 'rats', 'randy', 'rabbit', 'quit', 'property', 'pot', 'overlong', 'offbr', 'muslim', 'mighty', 'mentioning', 'lumet', 'laughably', 'keith', 'iraq', 'iran', 'instinct', 'historically', 'gabriel', 'females', 'educational', 'edgy', 'contest', 'closed', 'chapter', 'businessman', 'bergman', 'angela', 'alfred', 'activities', 'acid', 'aboutbr', '1973', 'wouldbe', 'withbr', 'voiced', 'verhoeven', 'twins', 'tooth', 'tiger', 'swim', 'survivor', 'supported', 'stunned', 'spain', 'sid', 'rolled', 'rocky', 'popularity', 'pink', 'pamela', 'moronic', 'mistress', 'minutesbr', 'minimum', 'middleaged', 'meryl', 'merits', 'kubrick', 'irrelevant', 'imitation', 'household', 'hello', 'greg', 'grabs', 'garbo', 'funbr', 'fashioned', 'exposure', 'equipment', 'domino', 'depicting', 'christy', 'catching', 'button', 'bull', 'boom', 'alert', '13th', 'valley', 'uplifting', 'unseen', 'unreal', 'unpredictable', 'tribe', 'timon', 'suggested', 'subjected', 'stretched', 'spock', 'sounding', 'significance', 'shaw', 'shaky', 'seldom', 'rubber', 'romero', 'resulting', 'resemble', 'psychic', 'pressure', 'pierce', 'phony', 'noone', 'masses', 'marketing', 'loyalty', 'kyle', 'invented', 'integrity', 'heartfelt', 'fulci', 'fought', 'feelgood', 'exchange', 'eugene', 'empathy', 'doom', 'disliked', 'directions', 'despair', 'definition', 'daybr', 'cringe', 'confrontation', 'compassion', 'championship', 'cannibal', 'butler', 'bud', 'bay', 'astonishing', 'analysis', 'ambiguous', 'accuracy', '35', 'wrongbr', 'wretched', 'wifes', 'watson', 'unexpectedly', 'trail', 'stumbled', 'sopranos', 'simultaneously', 'roots', 'retired', 'remained', 'reflection', 'ramones', 'peak', 'patience', 'pants', 'palace', 'package', 'otherbr', 'othello', 'orleans', 'ollie', 'nicole', 'monk', 'metaphor', 'landing', 'lackluster', 'josh', 'interests', 'inability', 'immediate', 'hopeless', 'grayson', 'gather', 'furious', 'firm', 'fascination', 'expedition', 'drake', 'distribution', 'defined', 'defense', 'darren', 'costar', 'confess', 'comfort', 'cliche', 'checked', 'biography', 'austin', 'album', 'adaptations', '1984', 'victory', 'unfair', 'underneath', 'travesty', 'technicolor', 'sums', 'spacey', 'sixties', 'shanghai', 'roth', 'roommate', 'require', 'refused', 'reel', 'rave', 'raises', 'primitive', 'presenting', 'phil', 'pan', 'objective', 'newly', 'nail', 'marion', 'mankind', 'legacy', 'kissing', 'israel', 'hears', 'frightened', 'farrell', 'eastern', 'dixon', 'difficulties', 'dee', 'deceased', 'daniels', 'dana', 'creator', 'conditions', 'composer', 'companies', 'closeup', 'clip', 'claus', 'blast', 'antwone', 'alec', 'actingbr', 'abraham', 'yearsbr', 'wakes', 'vulgar', 'ustinov', 'unlikable', 'teaches', 'tastes', 'subpar', 'stark', 'specially', 'softcore', 'sissy', 'sharon', 'screens', 'scotland', 'rises', 'respected', 'replace', 'remade', 'reid', 'rates', 'raines', 'quietly', 'precisely', 'photo', 'passable', 'pal', 'owen', 'musicians', 'milk', 'maniac', 'maid', 'lundgren', 'karl', 'julian', 'joins', 'joel', 'interactions', 'glasses', 'gentleman', 'gender', 'frustrating', 'flair', 'fido', 'favour', 'experimental', 'dreck', 'discovering', 'dimension', 'desires', 'deranged', 'connery', 'comedians', 'coast', 'christianity', 'buffalo', 'barrymore', 'andre', 'abused', '1971', '1933', 'yard', 'widescreen', 'warming', 'wang', 'walsh', 'thingbr', 'tank', 'sunny', 'stuart', 'rude', 'rely', 'relax', 'reeves', 'nowbr', 'ninja', 'nerd', 'nathan', 'muddled', 'matched', 'literary', 'lands', 'inexplicably', 'hyde', 'griffith', 'graham', 'framed', 'examination', 'encourage', 'electric', 'dysfunctional', 'dresses', 'dose', 'correctly', 'characterbr', 'casts', 'carell', 'brutality', 'behaviour', 'awhile', 'audiencebr', 'assassin', 'aspiring', 'appropriately', 'amused', 'alcohol', 'adopted', 'wrap', 'wildly', 'visiting', 'tracking', 'tomorrow', 'teams', 'tacky', 'shouldve', 'shoddy', 'shared', 'sentinel', 'sentiment', 'sabrina', 'ross', 'roof', 'rifle', 'referred', 'purposes', 'provocative', 'preston', 'preposterous', 'prepare', 'premiere', 'positively', 'phrase', 'pg13', 'paradise', 'parade', 'ordered', 'musician', 'mode', 'masks', 'marshall', 'macarthur', 'lock', 'les', 'knocked', 'invites', 'hopkins', 'generated', 'frankenstein', 'fingers', 'filling', 'fest', 'femme', 'exposition', 'emperor', 'downey', 'credited', 'choppy', 'chicken', 'charged', 'bunny', 'bernard', 'automatically', 'amusement', 'alternative', 'additional', 'absent', '75', '1993', '1987', 'yearold', 'vice', 'vance', 'unfold', 'uncut', 'tube', 'translated', 'topnotch', 'swing', 'sung', 'spark', 'senses', 'rooney', 'romp', 'respective', 'releases', 'reign', 'region', 'refer', 'realised', 'posters', 'poison', 'murdering', 'moreover', 'morbid', 'mclaglen', 'madebr', 'loneliness', 'leon', 'ladder', 'items', 'insurance', 'hopelessly', 'hawke', 'hackneyed', 'greatness', 'glowing', 'fantasies', 'demise', 'deaf', 'counts', 'complaining', 'citizens', 'cattle', 'biko', 'beverly', 'babies', 'alicia', 'accomplish', 'youngest', 'wellwritten', 'weakness', 'trend', 'thoughtprovoking', 'skull', 'singers', 'silliness', 'shoulders', 'shares', 'russia', 'regarded', 'realm', 'pun', 'pitiful', 'objects', 'nephew', 'naughty', 'mtv', 'misleading', 'lush', 'laurence', 'kansas', 'invited', 'infected', 'indication', 'imaginable', 'ignorance', 'harm', 'handling', 'guests', 'grotesque', 'gambling', 'function', 'forty', 'fi', 'fed', 'eternal', 'ensues', 'deserted', 'costars', 'corpses', 'complaints', 'challenges', 'celebration', 'caricatures', 'bridget', 'bargain', 'alison', 'admirable', 'accepts', 'absurdity', 'abrupt', '19th', '1995', 'towns', 'threatens', 'suspension', 'skits', 'severely', 'servant', 'secondary', 'sci', 'respectively', 'reflects', 'recycled', 'recommendation', 'receiving', 'puppet', 'promote', 'pro', 'prey', 'phillips', 'partners', 'palance', 'owners', 'oldest', 'noises', 'nod', 'nicolas', 'muppets', 'minded', 'jews', 'insipid', 'iconic', 'ho', 'hk', 'hitlers', 'grief', 'evidently', 'drove', 'din', 'devices', 'depending', 'crystal', 'cruelty', 'cope', 'conveys', 'coincidence', 'chills', 'chainsaw', 'canyon', 'beside', 'asylum', 'affection', 'address', 'active', '1997', '1986', 'wilderness', 'weaknesses', 'visited', 'venture', 'underworld', 'understands', 'tyler', 'togetherbr', 'tasteless', 'sympathize', 'strongest', 'stores', 'standup', 'squad', 'shades', 'rita', 'reluctant', 'records', 'priceless', 'prejudice', 'posted', 'portrayals', 'policeman', 'paramount', 'outing', 'outfits', 'occasions', 'obligatory', 'nolan', 'minus', 'mill', 'mccoy', 'malone', 'lois', 'lifted', 'kumar', 'investigating', 'industrial', 'hughes', 'heros', 'heading', 'hammy', 'freaks', 'el', 'edit', 'disappears', 'deniro', 'damme', 'cue', 'crawford', 'conviction', 'conventions', 'conscience', 'comparisons', 'buster', 'burst', 'belushi', 'baldwin', 'authors', 'aim', 'affairs', 'acclaimed', 'acceptance', '73', '1970', '1936', 'wwe', 'trivia', 'tobr', 'thread', 'terrified', 'suitably', 'studying', 'steady', 'stages', 'spinal', 'sketch', 'shakespeares', 'selection', 'renaissance', 'rejected', 'redeem', 'psychology', 'programs', 'profanity', 'previews', 'predict', 'pointbr', 'phenomenon', 'penny', 'patricia', 'murray', 'muppet', 'morally', 'misguided', 'locals', 'labor', 'kolchak', 'interestingly', 'hers', 'heist', 'hapless', 'guaranteed', 'gregory', 'frankie', 'fog', 'fishing', 'filler', 'fiancé', 'explores', 'entitled', 'emerges', 'elses', 'ear', 'difficulty', 'designer', 'demonstrates', 'dates', 'darn', 'cassidy', 'caliber', 'bros', 'billed', 'attract', 'anywaybr', 'ants', '2008', '1989', '1979', '1978', 'zombi', 'worn', 'vital', 'visions', 'vibrant', 'vein', 'unexplained', 'tripe', 'soup', 'sooner', 'someday', 'snakes', 'slimy', 'sht', 'shouting', 'sending', 'rome', 'representation', 'reader', 'ratso', 'prominent', 'physics', 'pg', 'palma', 'orange', 'option', 'michaels', 'marvel', 'marries', 'iv', 'insists', 'inconsistent', 'hippie', 'harold', 'harmless', 'guitar', 'gems', 'forcing', 'flashy', 'filth', 'feminist', 'eats', 'dud', 'discussing', 'diehard', 'despicable', 'deleted', 'cream', 'conclude', 'communicate', 'commander', 'clock', 'claustrophobic', 'clarke', 'cancer', 'betrayal', 'beatles', 'basinger', 'banal', 'assuming', 'anticipation', 'agenda', 'winchester', 'welldone', 'vader', 'unrelated', 'transformed', 'tierney', 'tempted', 'studies', 'springer', 'sox', 'slice', 'sirk', 'shootout', 'route', 'rod', 'rhythm', 'pounds', 'placebr', 'mentality', 'martha', 'lindsay', 'kungfu', 'knight', 'kitty', 'jacksons', 'ingenious', 'immature', 'housewife', 'flowers', 'europa', 'downbr', 'depends', 'delicate', 'danish', 'crazed', 'considerably', 'clueless', 'clan', 'claiming', 'circus', 'champion', 'casual', 'cannon', 'bread', 'blatantly', 'bike', 'biased', 'befriends', 'wings', 'wellmade', 'voted', 'towers', 'tail', 'symbolic', 'stumbles', 'soso', 'smiles', 'shortcomings', 'schlock', 'sassy', 'rukh', 'rolebr', 'riot', 'repeating', 'remove', 'recognizable', 'quinn', 'pete', 'paxton', 'mirrors', 'millionaire', 'melody', 'meg', 'marlon', 'limit', 'lifeless', 'legends', 'kathryn', 'iq', 'inhabitants', 'inexplicable', 'hokey', 'historic', 'height', 'grudge', 'grainy', 'glamorous', 'gina', 'gear', 'fuller', 'foxx', 'fontaine', 'fluff', 'fifty', 'exploring', 'ethnic', 'dukes', 'dressing', 'detectives', 'defeated', 'coupled', 'connections', 'co', 'charlton', 'challenged', 'carla', 'campaign', 'boston', 'bend', 'awaybr', 'audrey', 'altman', 'allens', 'agency', 'adolescent', 'addicted', 'vocal', 'uniformly', 'tunnel', 'trials', 'ton', 'thompson', 'swept', 'surgery', 'static', 'stairs', 'sorely', 'shopping', 'serving', 'screwed', 'screenwriters', 'satirical', 'rapist', 'praised', 'partially', 'parsons', 'paintings', 'outright', 'offbeat', 'novak', 'nemesis', 'minority', 'las', 'keen', 'item', 'institution', 'independence', 'incidentally', 'hangs', 'handles', 'freddys', 'firing', 'feeding', 'familybr', 'exceptions', 'esther', 'employed', 'drivein', 'disgusted', 'disguise', 'deserving', 'departure', 'coup', 'couch', 'controlled', 'continually', 'computers', 'chuckle', 'childs', 'charms', 'boyle', 'bars', 'backs', 'assassination', 'ambition', 'ace', '23', 'wax', 'toronto', 'token', 'tip', 'thrilled', 'threatened', 'sugar', 'shoulder', 'ripping', 'preferred', 'preachy', 'posey', 'pacific', 'outdated', 'northern', 'newer', 'neurotic', 'natives', 'nails', 'messy', 'mercy', 'melissa', 'macho', 'kidman', 'inspire', 'insightful', 'hilarity', 'hearted', 'hack', 'girlfriends', 'gate', 'garner', 'firmly', 'feat', 'farfetched', 'elite', 'earn', 'dylan', 'duck', 'disastrous', 'dirt', 'destroys', 'debate', 'curly', 'commenting', 'colin', 'cheer', 'centre', 'cassavetes', 'camcorder', 'bully', 'bridges', 'brendan', 'boxer', 'bowl', 'bondage', 'bogus', 'bates', 'bacon', 'artwork', 'artsy', 'arthouse', 'accurately', '4th', '1988', '1981', 'yeti', 'windows', 'wheres', 'vile', 'vain', 'unlikeable', 'uma', 'triangle', 'traffic', 'topics', 'suggestion', 'subtly', 'strings', 'steele', 'stalker', 'speeches', 'somethingbr', 'sleeps', 'sincerely', 'sharing', 'shaking', 'rooting', 'refuse', 'readers', 'predecessor', 'organized', 'obtain', 'norm', 'neatly', 'mutual', 'mayhem', 'males', 'liners', 'leigh', 'layers', 'kline', 'info', 'hides', 'healthy', 'harrison', 'guinness', 'gillian', 'fist', 'fade', 'excess', 'evolution', 'entered', 'engrossing', 'endingbr', 'election', 'duration', 'dudley', 'doo', 'donebr', 'disorder', 'destined', 'describing', 'demonic', 'containing', 'concepts', 'completed', 'chavez', 'centered', 'cartoonish', 'brooding', 'boringbr', 'boasts', 'bent', 'audition', 'anton', '22', '1976', '1969', '1000', 'woo', 'wig', 'weather', 'weaker', 'wanders', 'vastly', 'undead', 'triple', 'ta', 'stopping', 'stack', 'sometime', 'sobr', 'skit', 'seedy', 'saint', 'rope', 'reruns', 'rendered', 'relentless', 'refers', 'raj', 'quaid', 'punches', 'profession', 'politician', 'pole', 'originals', 'nope', 'newman', 'mesmerizing', 'masterfully', 'mannerisms', 'loretta', 'lifes', 'leaders', 'jess', 'injured', 'hungry', 'hugely', 'hires', 'helpless', 'helpful', 'hartley', 'guards', 'genie', 'gal', 'frances', 'exquisite', 'elevator', 'des', 'deny', 'dazzling', 'damaged', 'critique', 'christine', 'carmen', 'bulk', 'boris', 'beware', 'authorities', 'applaud', 'anyones', 'affects', 'advertised', '1945', 'wendigo', 'users', 'unsuspecting', 'tower', 'tops', 'thunderbirds', 'tenant', 'tarantino', 'stunningly', 'strengths', 'statue', 'startling', 'stare', 'stallone', 'shorter', 'scoop', 'scariest', 'rides', 'restrained', 'residents', 'realities', 'randolph', 'racing', 'publicity', 'proving', 'preparing', 'passengers', 'owes', 'nut', 'nina', 'myth', 'motive', 'mixing', 'min', 'lukas', 'luis', 'lift', 'lauren', 'lasts', 'lasting', 'knowbr', 'knightley', 'jared', 'itselfbr', 'internal', 'ingrid', 'hulk', 'goodbye', 'gained', 'fifties', 'fastpaced', 'exploits', 'excellently', 'error', 'emerge', 'duvall', 'dropping', 'detract', 'demanding', 'crashes', 'contempt', 'conrad', 'cliches', 'chronicles', 'choosing', 'cbs', 'carey', 'candidate', 'btw', 'breed', 'bow', 'behold', 'backwards', 'alvin', 'alley', 'akin', 'activity', '\\x85', 'zizek', 'youthful', 'wardrobe', 'votes', 'vanessa', 'valentine', 'tokyo', 'timberlake', 'tara', 'suburban', 'storys', 'spree', 'soylent', 'sniper', 'sleaze', 'sinking', 'servants', 'screw', 'referring', 'rapidly', 'radical', 'puerto', 'promptly', 'poker', 'origins', 'origin', 'nolte', 'netflix', 'net', 'mutant', 'modest', 'misfortune', 'minister', 'miami', 'mail', 'macabre', 'lovebr', 'located', 'limitations', 'label', 'kent', 'justified', 'jordan', 'joker', 'jaw', 'insults', 'insights', 'inaccurate', 'highway', 'heels', 'grounds', 'globe', 'gimmick', 'giants', 'gere', 'galaxy', 'forbr', 'fools', 'fifth', 'factors', 'expertly', 'everbr', 'errol', 'entering', 'elsebr', 'eleven', 'dubious', 'dj', 'disguised', 'disappointedbr', 'didbr', 'deliverance', 'cracking', 'convinces', 'contribution', 'continuing', 'confronted', 'confront', 'compete', 'cerebral', 'casino', 'buys', 'bronson', 'breakfast', 'bitch', 'belt', 'banter', 'bachelor', 'authenticity', 'attenborough', 'ariel', 'approaches', 'antonio', 'anil', 'alexandre', 'abruptly', '21st', '1991', '1939', 'wander', 'walt', 'vividly', 'unsure', 'underwater', 'undeniably', 'tossed', 'tormented', 'toni', 'supply', 'sticking', 'sf', 'salvation', 'salt', 'rookie', 'ronald', 'reward', 'repulsive', 'repressed', 'regards', 'rampage', 'puppets', 'principals', 'phillip', 'perception', 'pale', 'painter', 'owns', 'ol', 'monty', 'mol', 'mitch', 'lowkey', 'lend', 'landed', 'jarring', 'interact', 'insanity', 'inherent', 'homicide', 'homes', 'heavyhanded', 'growth', 'greatbr', 'grateful', 'formed', 'fords', 'expects', 'eventual', 'endlessly', 'differently', 'derivative', 'depths', 'definitive', 'dandy', 'crapbr', 'convicted', 'confident', 'conan', 'comedybr', 'colours', 'cents', 'braveheart', 'bmovies', 'bitten', 'biblical', 'austen', 'approaching', 'altered', 'accessible', '1977', 'yokai', 'witchcraft', 'wisely', 'vehicles', 'unattractive', 'terminator', 'survives', 'stranded', 'spies', 'siblings', 'sg1', 'separated', 'sensible', 'scriptbr', 'sale', 'runner', 'reviewing', 'published', 'pray', 'polly', 'pickup', 'photographs', 'peck', 'overblown', 'outline', 'nominations', 'natalie', 'moe', 'mobile', 'mice', 'meandering', 'mathieu', 'marc', 'letdown', 'juliet', 'jules', 'judd', 'jedi', 'irene', 'incapable', 'imo', 'immortal', 'identical', 'heavens', 'hats', 'handheld', 'ham', 'gunga', 'goodlooking', 'godawful', 'glued', 'gates', 'frames', 'flimsy', 'flashes', 'fatale', 'exterior', 'exploit', 'exit', 'evelyn', 'eternity', 'energetic', 'ebert', 'dragons', 'dobr', 'dismal', 'devastating', 'depict', 'decidedly', 'damned', 'cries', 'conveyed', 'concentrate', 'cemetery', 'caricature', 'buzz', 'bruno', 'bravo', 'beforebr', 'barrel', 'assured', 'angst', 'ally', 'adore', 'zane', 'wtf', 'wonderland', 'wagner', 'volume', 'unimaginative', 'uniform', 'thoughbr', 'tapes', 'swallow', 'subway', 'sublime', 'stalking', 'sophie', 'soderbergh', 'simpsons', 'severed', 'scarface', 'rivers', 'respectable', 'reports', 'reminder', 'reliable', 'quantum', 'psychopath', 'promoted', 'principle', 'pleasing', 'playboy', 'performancebr', 'penn', 'pc', 'payoff', 'pattern', 'papers', 'owned', 'overbr', 'oldfashioned', 'niece', 'mermaid', 'longest', 'lester', 'lance', 'judgment', 'janes', 'intricate', 'inspirational', 'improbable', 'implied', 'homosexuality', 'hindi', 'harriet', 'fragile', 'filthy', 'farmer', 'expose', 'excruciatingly', 'entirety', 'enthusiastic', 'ensure', 'enhanced', 'dread', 'downs', 'divine', 'disgrace', 'disabled', 'demonstrate', 'delicious', 'cypher', 'cushing', 'cultures', 'crossing', 'crisp', 'crippled', 'creek', 'contribute', 'cons', 'combines', 'colleagues', 'cliffhanger', 'cleaning', 'clara', 'chopped', 'characteristics', 'cecil', 'butcher', 'butch', 'bug', 'bsg', 'bones', 'bloom', 'beowulf', 'arguing', 'arab', 'appeals', 'antonioni', 'africanamerican', 'addict', 'accounts', 'absorbing', '300', '1985', '1950', 'youtube', 'whiny', 'whining', 'victorian', 'vanilla', 'ultimatum', 'tremendously', 'tendency', 'switched', 'steam', 'sidewalk', 'sergeant', 'sentimentality', 'senior', 'seeming', 'scratch', 'salman', 'revolt', 'reeve', 'rainy', 'quentin', 'pursue', 'possess', 'popping', 'pirate', 'pickford', 'paula', 'parallels', 'packs', 'p', 'ominous', 'ohara', 'ny', 'noticeable', 'nightclub', 'nerves', 'morals', 'mitchum', 'missile', 'miranda', 'mindbr', 'lighter', 'lex', 'leather', 'kidnapping', 'jodie', 'jacket', 'immense', 'holocaust', 'hippies', 'habit', 'fairbanks', 'experiencing', 'estranged', 'escaping', 'embrace', 'email', 'dustin', 'drinks', 'divorced', 'distract', 'deer', 'decline', 'cyborg', 'collect', 'christina', 'budgets', 'boyer', 'bills', 'attacking', 'astounding', 'assembled', 'anyhow', 'answered', 'amrita', 'aided', 'affleck', '95', '28', '1994', '1974', '1920s', 'yours', 'wounds', 'wire', 'wilder', 'werewolves', 'wellacted', 'voyage', 'virtual', 'vince', 'updated', 'unsatisfying', 'turmoil', 'truman', 'toby', 'theories', 'sydney', 'sucker', 'subtext', 'stewarts', 'stardom', 'spectacle', 'spaghetti', 'sought', 'seymour', 'selected', 'sand', 'rounded', 'reviewed', 'resulted', 'resolved', 'rescued', 'remembering', 'rebellious', 'precode', 'postwar', 'pin', 'peculiar', 'peaceful', 'messing', 'manbr', 'magician', 'longtime', 'longing', 'lola', 'logan', 'literal', 'liam', 'lavish', 'kurosawa', 'knocks', 'juliette', 'jill', 'jaded', 'isolation', 'havoc', 'hackman', 'grass', 'goldblum', 'glaring', 'ghetto', 'garland', 'gable', 'forgiven', 'foolish', 'followup', 'fills', 'expectation', 'exorcist', 'earnest', 'disgust', 'dilemma', 'denis', 'demonstrated', 'deliberate', 'daysbr', 'dashing', 'dame', 'crown', 'crashing', 'corporation', 'copied', 'conveniently', 'contestants', 'collective', 'classy', 'clash', 'christie', 'chill', 'cheaply', 'casper', 'begging', 'bach', 'avoiding', 'asia', 'approached', 'amazon', 'alleged', 'aiming', 'adrian', '21', '200', '19', '\\x97', 'yep', 'worms', 'whites', 'wartime', 'verdict', 'vega', 'traits', 'trains', 'tourist', 'tonys', 'thieves', 'thelma', 'taped', 'swearing', 'suspected', 'spit', 'spencer', 'span', 'snuff', 'slip', 'slaves', 'slapped', 'skilled', 'settled', 'serials', 'scotts', 'samantha', 'rowlands', 'romeo', 'ritchie', 'relentlessly', 'rehash', 'rear', 'quarter', 'q', 'potter', 'poses', 'pocket', 'plotting', 'planets', 'pad', 'odyssey', 'mystical', 'mum', 'morons', 'melvyn', 'liveaction', 'liu', 'lightning', 'laurie', 'kellys', 'keatons', 'karate', 'judged', 'jobbr', 'jealousy', 'indiana', 'hayworth', 'goods', 'gentlemen', 'gamera', 'feast', 'executives', 'excuses', 'establish', 'erika', 'enhance', 'dump', 'dramatically', 'diverse', 'delighted', 'define', 'debt', 'dealer', 'contributed', 'commits', 'coat', 'climb', 'cinemabr', 'cher', 'celebrated', 'canceled', 'bw', 'burke', 'borders', 'bombs', 'bittersweet', 'aussie', 'arriving', 'arc', 'admired', 'addiction', 'acquired', 'achieves', 'accepting', '1959', 'yawn', 'worsebr', 'wiped', 'vintage', 'vanity', 'underwear', 'ultra', 'uh', 'tool', 'tax', 'taboo', 'suggesting', 'strict', 'stella', 'spice', 'slugs', 'shepherd', 'serum', 'seebr', 'seductive', 'seasoned', 'sarcastic', 'romances', 'ritual', 'rewarding', 'remembers', 'redundant', 'readily', 'races', 'pumbaa', 'psychologist', 'preminger', 'predictably', 'posing', 'populated', 'planes', 'pirates', 'phenomenal', 'pedestrian', 'pause', 'overboard', 'novelty', 'nbc', 'moron', 'mason', 'lunch', 'loy', 'likeable', 'legitimate', 'leap', 'korea', 'jersey', 'introducing', 'intentional', 'insist', 'inmates', 'informed', 'incorrect', 'immigrant', 'horny', 'hepburn', 'headache', 'gypo', 'guinea', 'graveyard', 'furniture', 'frontier', 'freaky', 'fluid', 'flavor', 'explosive', 'exploding', 'expense', 'drab', 'delightfully', 'deliciously', 'defies', 'dads', 'cuban', 'covering', 'courtroom', 'cookie', 'comprehend', 'commitment', 'cohen', 'circles', 'cheek', 'cape', 'bye', 'breakdown', 'brainless', 'bounty', 'bestbr', 'basket', 'backbr', 'axe', 'attending', 'amidst', '1944', 'wine', 'wider', 'watchingbr', 'wastes', 'unsympathetic', 'trace', 'tongueincheek', 'tolerable', 'thirties', 'symbol', 'stylized', 'stroke', 'stephanie', 'steer', 'slide', 'sixth', 'shockingly', 'sgt', 'sells', 'screwball', 'robbers', 'ricky', 'respects', 'redneck', 'ranch', 'pushes', 'produces', 'pound', 'possession', 'possesses', 'politicians', 'polish', 'poe', 'pixar', 'pilots', 'phase', 'passage', 'parking', 'pans', 'otto', 'nuances', 'newcomer', 'mysteriously', 'mouths', 'mortal', 'mins', 'medieval', 'meantime', 'lucille', 'lethal', 'lends', 'lean', 'kinnear', 'jacques', 'ira', 'instincts', 'hybrid', 'gwyneth', 'groundbreaking', 'gilbert', 'gielgud', 'franklin', 'foundation', 'firstrate', 'festivals', 'experiencebr', 'europeans', 'establishing', 'encountered', 'embarrassingly', 'einstein', 'dominated', 'deciding', 'debbie', 'deanna', 'daylewis', 'crosby', 'counter', 'corbett', 'consist', 'consideration', 'clive', 'cliched', 'clerk', 'cigarette', 'charlies', 'caron', 'carnage', 'cal', 'branaghs', 'beg', 'barbra', 'bachchan', 'awakening', 'attended', 'arrest', 'arranged', 'apply', 'anytime', 'anxious', 'additionally', 'actorsbr', '10br', 'xfiles', 'viewpoint', 'unusually', 'unanswered', 'tickets', 'tactics', 'stating', 'stabbed', 'sparks', 'sources', 'session', 'scorsese', 'scored', 'sarandon', 'salesman', 'routines', 'roughly', 'rider', 'reverse', 'rejects', 'rational', 'queens', 'pursued', 'psyche', 'porter', 'pfeiffer', 'penelope', 'ordeal', 'optimistic', 'olivia', 'obstacles', 'obsessive', 'noteworthy', 'neglected', 'narrow', 'mute', 'motions', 'misunderstood', 'milo', 'mens', 'marilyn', 'longoria', 'laterbr', 'kubricks', 'keys', 'kazan', 'kathy', 'jury', 'july', 'jewel', 'invite', 'invention', 'informative', 'indifferent', 'indicate', 'incidents', 'huston', 'horrified', 'hop', 'herbert', 'hateful', 'haines', 'gloria', 'freaking', 'forgetting', 'flock', 'flickbr', 'feminine', 'feeble', 'exploited', 'explodes', 'excruciating', 'en', 'dumped', 'dumbest', 'duel', 'document', 'distress', 'distracted', 'diary', 'denise', 'degrees', 'deathbr', 'daisy', 'controlling', 'compliment', 'clone', 'cindy', 'casablanca', 'busey', 'brides', 'breathing', 'blandings', 'begs', 'arty', 'armstrong', 'anticipated', 'anthology', 'aftermath', 'adaption', 'abandon', '99', '1975', '1953', 'whore', 'warns', 'void', 'veterans', 'verbal', 'varied', 'upcoming', 'uncanny', 'un', 'tvs', 'turd', 'translate', 'thurman', 'targets', 'sundance', 'stations', 'spiderman', 'sickening', 'sensebr', 'sanders', 'rosemarys', 'rightbr', 'relevance', 'regularly', 'rambling', 'puzzle', 'pros', 'products', 'pointing', 'pathos', 'participants', 'ofbr', 'niven', 'mythology', 'murky', 'moss', 'mormon', 'monologue', 'minnelli', 'meal', 'mcqueen', 'martian', 'mama', 'jenna', 'iranian', 'intensely', 'instances', 'inaccuracies', 'historybr', 'hannah', 'grandma', 'grabbed', 'goals', 'generate', 'gangs', 'fright', 'freeze', 'frantic', 'flower', 'fishburne', 'eagerly', 'distraction', 'depictions', 'debra', 'daylight', 'darth', 'cunningham', 'corn', 'corman', 'corey', 'cooking', 'convention', 'combs', 'columbia', 'ches', 'centuries', 'cannes', 'biopic', 'belly', 'arquette', 'arguments', 'angie', 'agony', 'aggressive', 'afterward', '34', '1998', '1940', 'zorro', 'z', 'widowed', 'whybr', 'upside', 'update', 'tuned', 'traps', 'tomei', 'tcm', 'swinging', 'suspicion', 'sunrise', 'statements', 'starters', 'starsbr', 'stance', 'spine', 'sondra', 'shifts', 'shift', 'services', 'seats', 'sang', 'rounds', 'rosario', 'resembling', 'replies', 'releasing', 'relating', 'realization', 'realistically', 'predator', 'policy', 'plodding', 'phones', 'paths', 'parks', 'paints', 'overbearing', 'nerve', 'naschy', 'motorcycle', 'midst', 'mates', 'masterson', 'manners', 'lurking', 'lowe', 'lip', 'lions', 'lionel', 'launch', 'laputa', 'kidnap', 'juan', 'jose', 'jolie', 'intro', 'interestingbr', 'inclusion', 'ignoring', 'hyped', 'hoot', 'herman', 'heath', 'harlow', 'hadley', 'grip', 'gooding', 'glimpses', 'glance', 'gallery', 'funding', 'forties', 'followers', 'flames', 'fanatic', 'exclusively', 'evans', 'enigmatic', 'enchanted', 'employee', 'economic', 'dumber', 'dismiss', 'discussed', 'dillinger', 'deputy', 'deed', 'curiously', 'criticize', 'controversy', 'coffin', 'click', 'claude', 'carpenters', 'bogart', 'blamed', 'berkeley', 'begun', 'august', 'ambitions', 'ambiguity', 'admitted', '85', '1982', '1948', 'wong', 'warden', 'uniforms', 'troma', 'syndrome', 'sweden', 'surroundings', 'substantial', 'stuffbr', 'stream', 'stiles', 'sterling', 'stereotyped', 'stardust', 'stalked', 'snowman', 'snipes', 'smash', 'sly', 'skinny', 'sketches', 'shore', 'shepard', 'sentences', 'selfindulgent', 'scripting', 'scenarios', 'scarecrows', 'saloon', 'safely', 'rupert', 'ruining', 'rewarded', 'reunite', 'reiser', 'reflected', 'qualify', 'popped', 'platform', 'periods', 'pains', 'ownbr', 'omar', 'offscreen', 'october', 'necessity', 'narrated', 'murderers', 'moneybr', 'moms', 'miyazaki', 'meteor', 'maureen', 'maintains', 'mabel', 'linked', 'lastly', 'kris', 'kathleen', 'imaginary', 'ignores', 'idol', 'hinted', 'hines', 'haunt', 'goldie', 'gloomy', 'gigantic', 'gestures', 'gap', 'frontal', 'frog', 'fried', 'foremost', 'foil', 'fleshed', 'factual', 'extensive', 'envy', 'enoughbr', 'educated', 'edith', 'dynamics', 'dreamy', 'dominic', 'cycle', 'county', 'consequently', 'consequence', 'comeback', 'cheadle', 'chamber', 'capacity', 'campus', 'bosses', 'biker', 'battlestar', 'backed', 'avid', 'assignment', 'apt', 'applies', 'applied', 'angelina', 'ample', 'alot', 'abortion', '1934', 'witnessing', 'wheel', 'wayans', 'valid', 'unstable', 'unfolding', 'ugh', 'trier', 'tones', 'tho', 'therapy', 'soprano', 'smell', 'slim', 'sins', 'sights', 'sheets', 'shaggy', 'sebastian', 'schneider', 'schedule', 'sammo', 'sailor', 'russ', 'rodriguez', 'robertson', 'rips', 'revolving', 'revival', 'reunited', 'resume', 'resistance', 'replacement', 'repeats', 're', 'protest', 'precise', 'pose', 'pornography', 'phantasm', 'pegg', 'paranoid', 'observe', 'nuanced', 'muslims', 'moviemaking', 'moviegoers', 'momentum', 'momentsbr', 'mick', 'medicine', 'marisa', 'knights', 'kells', 'jacks', 'israeli', 'islands', 'investigator', 'invested', 'intact', 'insomnia', 'homicidal', 'gus', 'graduate', 'georgia', 'genrebr', 'gaps', 'frozen', 'entrance', 'eli', 'du', 'diner', 'denouement', 'delirious', 'daytime', 'collins', 'clunky', 'clay', 'characterizations', 'characterisation', 'chamberlain', 'castbr', 'carlos', 'cap', 'cab', 'bubble', 'brooke', 'breast', 'bonnie', 'blockbusters', 'bleed', 'blaise', 'biting', 'bikini', 'benefits', 'beckinsale', 'bats', 'bait', 'awfulbr', 'assure', 'arrow', 'array', 'arkin', 'anita', 'alliance', 'acknowledge', '1992', '101', 'weekly', 'waking', 'vivian', 'villainous', 'unhinged', 'tomb', 'tire', 'throughbr', 'thereby', 'talky', 'supreme', 'sufficient', 'studied', 'stern', 'stadium', 'spider', 'sour', 'sonny', 'skeptical', 'sitcoms', 'similarity', 'silverman', 'shotgun', 'shocks', 'sherlock', 'sheen', 'sensibility', 'seduce', 'sarcasm', 'rolls', 'rightly', 'retelling', 'reserved', 'relying', 'rebels', 'realises', 'raging', 'questioning', 'prophecy', 'playwright', 'pivotal', 'parrot', 'offend', 'networks', 'needing', 'mustve', 'moviei', 'marked', 'lynchs', 'lopez', 'lil', 'landmark', 'laboratory', 'jude', 'joking', 'johns', 'johansson', 'interrupted', 'inadvertently', 'hysterically', 'hooker', 'hayes', 'geisha', 'gathering', 'fuzzy', 'fundamental', 'fortunate', 'fleet', 'famed', 'ernie', 'entertainingbr', 'enchanting', 'displaying', 'detroit', 'deemed', 'customers', 'crushed', 'cow', 'commanding', 'colored', 'collette', 'coke', 'clooney', 'childlike', 'chiba', 'cheers', 'boundaries', 'bias', 'bc', 'bauer', 'balanced', 'babes', 'artistry', 'admits', 'abound', '1967', 'ww2', 'worldwide', 'washed', 'wash', 'visitor', 'vignettes', 'vargas', 'usbr', 'upstairs', 'unnatural', 'unfamiliar', 'understandably', 'unclear', 'truths', 'trivial', 'trauma', 'sweat', 'sunset', 'substitute', 'subsequently', 'subgenre', 'stumble', 'stake', 'spotlight', 'smug', 'shred', 'shameless', 'scheming', 'samuel', 'rice', 'republic', 'reminding', 'reluctantly', 'randall', 'quintessential', 'puppy', 'psychedelic', 'progressed', 'professionals', 'phoenix', 'penned', 'olsen', 'observations', 'northam', 'nauseating', 'myrna', 'maximum', 'mandy', 'madsen', 'madeleine', 'lunatic', 'janet', 'iturbi', 'interviewed', 'interior', 'insert', 'howling', 'hostel', 'hitchcocks', 'harrowing', 'hardened', 'handicapped', 'gackt', 'fuel', 'fruit', 'frombr', 'forgets', 'finishing', 'finishes', 'favourites', 'fassbinder', 'fart', 'evokes', 'epics', 'enduring', 'egyptian', 'drowned', 'doug', 'divided', 'diversity', 'district', 'disco', 'determination', 'despise', 'demille', 'deathtrap', 'criticized', 'coworker', 'courtesy', 'convent', 'controls', 'confined', 'complications', 'comparable', 'commendable', 'chew', 'cheerful', 'charges', 'chaotic', 'celebrities', 'caretaker', 'caprica', 'bust', 'brett', 'boots', 'boogie', 'beckham', 'bakshis', 'baddies', 'awareness', 'arrogance', 'arebr', 'announced', 'ala', 'ajay', 'addressed', 'accompanying', 'accidental', '1943', 'yell', 'wright', 'wholesome', 'whod', 'whimsical', 'verge', 'unnecessarily', 'um', 'travis', 'transparent', 'traditions', 'titular', 'timmy', 'tide', 'thrust', 'thailand', 'testing', 'temper', 'tashan', 'targeted', 'sylvia', 'surround', 'summed', 'spoiling', 'sincerity', 'sholay', 'shannon', 'seth', 'semblance', 'scarlett', 'sanity', 'salvage', 'roses', 'relaxed', 'recover', 'rea', 'python', 'programme', 'perverted', 'participate', 'owl', 'outlandish', 'orchestra', 'olds', 'occult', 'obscurity', 'musicbr', 'monotonous', 'monks', 'misty', 'meadows', 'mccarthy', 'martians', 'magically', 'license', 'lens', 'laying', 'krueger', 'kirsten', 'kindly', 'judges', 'interpretations', 'inserted', 'injury', 'infinitely', 'hunted', 'hostile', 'hostage', 'hiphop', 'himselfbr', 'hawn', 'hallmark', 'gut', 'guardian', 'gorilla', 'galactica', 'flows', 'file', 'fascist', 'fairytale', 'explode', 'entries', 'earliest', 'dynamite', 'distributed', 'destination', 'deeds', 'cutter', 'convenient', 'considers', 'composition', 'colleague', 'cmon', 'chuckles', 'chong', 'characteristic', 'captivated', 'camping', 'cameraman', 'cain', 'burial', 'brent', 'brat', 'bonds', 'bonanza', 'blackandwhite', 'baron', 'backstory', 'aroundbr', 'antagonist', 'annoy', 'affecting', 'adele', '1963', '1951', 'wrestler', 'winners', 'whove', 'wherever', 'wesley', 'walmart', 'vomit', 'variation', 'upbeat', 'understatement', 'underdeveloped', 'unappealing', 'turkish', 'toxic', 'toned', 'thunder', 'taut', 'takashi', 'suzanne', 'sunk', 'stuffed', 'stepmother', 'sporting', 'spoilerbr', 'smiths', 'slashers', 'sho', 'searched', 'se', 'scoobydoo', 'satisfaction', 'sane', 'sales', 'robbed', 'rivals', 'resolve', 'remark', 'recreate', 'raunchy', 'rampant', 'protection', 'preaching', 'portuguese', 'plate', 'pizza', 'pigs', 'philo', 'partbr', 'outrageously', 'othersbr', 'orphan', 'openly', 'observation', 'nun', 'novelist', 'nightmarish', 'motel', 'mister', 'miraculously', 'miikes', 'melancholy', 'marcel', 'manipulation', 'macdonald', 'listened', 'kinski', 'jagger', 'intend', 'inclined', 'incestuous', 'implies', 'hooper', 'herd', 'happenbr', 'gypsy', 'grin', 'ghastly', 'fritz', 'flashing', 'flag', 'finney', 'fetish', 'faded', 'eyesbr', 'exploitative', 'excels', 'engine', 'elsa', 'elliott', 'elephants', 'ealing', 'dwight', 'dvdbr', 'duh', 'drowning', 'drift', 'dragging', 'devotion', 'dangerously', 'dallas', 'dahmer', 'dafoe', 'crosses', 'crossed', 'crooks', 'creasy', 'counting', 'constraints', 'complained', 'compensate', 'communication', 'committing', 'coma', 'cocaine', 'clouds', 'clarity', 'cena', 'cancelled', 'borrow', 'blazing', 'benjamin', 'bearing', 'beard', 'battlefield', 'banks', 'awaiting', 'avoids', 'article', 'almighty', 'aesthetic', 'admission', 'adapt', 'achievements', 'aaron', '010', 'zodiac', 'wheelchair', 'watcher', 'warrant', 'voyager', 'voodoo', 'vcr', 'vapid', 'uneasy', 'unconventional', 'traumatic', 'transport', 'tools', 'tess', 'stabbing', 'ss', 'spontaneous', 'spiral', 'sophia', 'somethings', 'slower', 'sinks', 'shoe', 'sharks', 'shameful', 'shahid', 'shah', 'sexist', 'sergio', 'serbian', 'senator', 'sections', 'seattle', 'screened', 'satanic', 'runaway', 'ruled', 'rolesbr', 'robotic', 'riff', 'restraint', 'rendering', 'remainder', 'reasonbr', 'ram', 'prop', 'progression', 'proceed', 'pretends', 'presidential', 'practical', 'plug', 'permanent', 'peggy', 'palm', 'overtones', 'overshadowed', 'originalbr', 'oblivious', 'nutshell', 'moores', 'mole', 'mock', 'mentor', 'lookalike', 'locke', 'lennon', 'juice', 'joining', 'jj', 'je', 'jan', 'jackman', 'isabelle', 'irritated', 'impending', 'ideabr', 'hometown', 'homebr', 'henchmen', 'gretchen', 'govinda', 'glossy', 'gilliam', 'ghostly', 'gena', 'garfield', 'frat', 'flavia', 'fires', 'fashions', 'fairness', 'facility', 'excellence', 'evoke', 'everett', 'ernest', 'epitome', 'enormously', 'encouraged', 'drivers', 'dreaming', 'distinction', 'desk', 'deepest', 'creations', 'courageous', 'coolest', 'contestant', 'confuse', 'conductor', 'climbing', 'classmates', 'clad', 'circa', 'chloe', 'cheering', 'celebrate', 'cedric', 'carlitos', 'buttons', 'busby', 'burnt', 'betrayed', 'bernsen', 'battling', 'bashing', 'awarded', 'avenge', 'automatic', 'aunts', 'assumes', 'artemisia', 'apple', 'apocalypse', 'advised', 'admiration', 'abundance', 'absorbed', '26', '1932', 'warehouse', 'versionbr', 'val', 'unleashed', 'transforms', 'thingsbr', 'theodore', 'superstar', 'submarine', 'suave', 'stab', 'solved', 'slater', 'sickness', 'sheep', 'shaped', 'selfcentered', 'secure', 'screenplays', 'rourke', 'roller', 'rivalry', 'riders', 'respond', 'reported', 'razor', 'raid', 'qualifies', 'quaint', 'pursuing', 'prologue', 'projected', 'principles', 'priests', 'possiblebr', 'plotline', 'picturebr', 'paz', 'pauline', 'ostensibly', 'organization', 'occupied', 'noting', 'notices', 'ninety', 'myrtle', 'meyer', 'meredith', 'meek', 'masked', 'marijuana', 'magazines', 'macmurray', 'linear', 'lindy', 'labeled', 'jo', 'jar', 'informer', 'incidental', 'incest', 'hum', 'hobgoblins', 'greene', 'goat', 'giovanna', 'gig', 'garage', 'fraud', 'ferrell', 'feinstone', 'failures', 'fades', 'experts', 'espionage', 'employees', 'electronic', 'effortlessly', 'eagle', 'dominate', 'distinctive', 'disregard', 'disappearance', 'diego', 'demeanor', 'defending', 'deadpan', 'dc', 'cursed', 'criticisms', 'convict', 'conveying', 'colony', 'coburn', 'clyde', 'chops', 'choir', 'chip', 'carpet', 'capote', 'caper', 'candle', 'brazilian', 'brashear', 'bout', 'bookbr', 'boobs', 'blondell', 'bimbo', 'bert', 'beforehand', 'beers', 'auto', 'assistance', 'antihero', 'ambiance', '1966', '1958', 'zelah', 'yells', 'worrying', 'woefully', 'weirdness', 'warners', 'warhols', 'vigilante', 'uncertain', 'turtle', 'torment', 'tolerance', 'tits', 'tightly', 'theatres', 'tended', 'tech', 'tackle', 'symbols', 'switching', 'sustain', 'strung', 'starship', 'spoofs', 'socially', 'sober', 'snap', 'slept', 'slavery', 'sites', 'signature', 'sensual', 'sensitivity', 'scriptwriter', 'sandy', 'saints', 'russo', 'revolver', 'responds', 'reject', 'rebellion', 'realbr', 'prostitution', 'prostitutes', 'predecessors', 'prank', 'pornographic', 'pompous', 'playful', 'pierre', 'patty', 'outset', 'ongoing', 'officially', 'offense', 'obrien', 'ninjas', 'nest', 'motivated', 'monroe', 'mira', 'mills', 'middleclass', 'marines', 'manipulated', 'managing', 'malden', 'mae', 'madison', 'lifelong', 'lara', 'lampoon', 'joint', 'jigsaw', 'investment', 'interiors', 'informs', 'inform', 'influential', 'influences', 'ideals', 'idealistic', 'highschool', 'harron', 'grease', 'gershwin', 'geek', 'gandolfini', 'frost', 'framing', 'forgiveness', 'filmography', 'fiend', 'fiancée', 'farmers', 'englund', 'edison', 'edges', 'dunst', 'dreyfuss', 'drawings', 'doyle', 'discipline', 'digging', 'detached', 'davids', 'croc', 'crashed', 'conscious', 'confines', 'combining', 'colman', 'cohesive', 'closure', 'clinic', 'cheech', 'cells', 'burgess', 'budding', 'brandon', 'bodyguard', 'boards', 'bloodbath', 'bless', 'blames', 'bennett', 'bean', 'barney', 'barnes', 'badness', 'associate', 'annoyance', 'ang', 'alonebr', 'ads', 'admirer', 'abomination', '1955', 'waynes', 'vincenzo', 'vet', 'varying', 'unravel', 'troopers', 'travolta', 'transported', 'tramp', 'tolerate', 'throwaway', 'theirs', 'surrender', 'superfluous', 'stupidbr', 'stink', 'standpoint', 'stabs', 'spelling', 'spade', 'spaceship', 'slam', 'shrek', 'shoved', 'shootouts', 'shield', 'seuss', 'seriousness', 'scratching', 'sara', 'sammy', 'sailors', 'sacrifices', 'rewrite', 'replacing', 'reasoning', 'reagan', 'protective', 'programming', 'pressed', 'policemen', 'polar', 'perverse', 'perspectives', 'peril', 'pen', 'peers', 'parodies', 'palmas', 'pairing', 'padding', 'oprah', 'norris', 'nearest', 'mythical', 'mustache', 'morse', 'monica', 'mixes', 'mines', 'midget', 'merry', 'mercifully', 'marrying', 'marine', 'marcus', 'manic', 'maintaining', 'lurid', 'loren', 'lingering', 'liberty', 'lays', 'kareena', 'kalifornia', 'justification', 'jurassic', 'jewelry', 'irving', 'interplay', 'inexperienced', 'inconsistencies', 'imitate', 'imho', 'identified', 'holt', 'happenings', 'hallucinations', 'gruff', 'groove', 'griffiths', 'grating', 'grandpa', 'goodman', 'gino', 'geoffrey', 'gadgets', 'functions', 'forrest', 'fodder', 'flowing', 'fixed', 'facebr', 'fabric', 'existing', 'emphasize', 'egg', 'economy', 'echoes', 'division', 'diving', 'distorted', 'dish', 'directtovideo', 'dim', 'dictator', 'determine', 'dern', 'derived', 'depend', 'damsel', 'cunning', 'crowded', 'cringing', 'cravens', 'cracks', 'coworkers', 'counterparts', 'consciousness', 'connie', 'conclusions', 'concentration', 'collector', 'collapse', 'cody', 'captive', 'cannibals', 'buffy', 'britney', 'breathe', 'boyfriends', 'blessed', 'bites', 'berenger', 'believability', 'beetle', 'awry', 'asset', 'animations', 'anguish', 'amid', 'allan', 'alexandra', 'advances', 'acclaim', '1946', 'yearbr', 'yarn', 'widower', 'weary', 'villa', 'vertigo', 'uptight', 'tsui', 'trigger', 'transplant', 'torturing', 'temptation', 'systems', 'switches', 'surf', 'subtitled', 'structured', 'strained', 'stoned', 'steaming', 'stares', 'staging', 'spelled', 'sorrow', 'slut', 'simons', 'significantly', 'showcases', 'shelter', 'sensibilities', 'sensational', 'seduction', 'sasquatch', 'russians', 'rousing', 'romania', 'representing', 'representative', 'regime', 'reese', 'reckless', 'radiation', 'profoundly', 'portions', 'plagued', 'placement', 'pia', 'paycheck', 'pals', 'paired', 'overwrought', 'outlaw', 'ossessione', 'orlando', 'opposition', 'officials', 'natali', 'muni', 'monologues', 'mobster', 'melbourne', 'mcadams', 'marvin', 'manga', 'mack', 'luxury', 'lords', 'loony', 'longbr', 'locate', 'locale', 'lo', 'linebr', 'lightweight', 'lifts', 'liberties', 'lars', 'kristofferson', 'kidnaps', 'keanu', 'katie', 'k', 'inhabit', 'identities', 'heroines', 'henchman', 'heather', 'heap', 'hartleys', 'hardboiled', 'hanzo', 'hans', 'han', 'hairy', 'haha', 'grossly', 'graces', 'gibson', 'genetic', 'gathered', 'gasp', 'funky', 'foreboding', 'flew', 'fiery', 'federal', 'faye', 'faint', 'examine', 'er', 'entertains', 'engineer', 'elected', 'egypt', 'edmund', 'earns', 'duchovny', 'drummer', 'drastically', 'downfall', 'downbeat', 'dom', 'disappoints', 'depardieu', 'denying', 'dedication', 'deck', 'decency', 'dash', 'darkly', 'czech', 'cradle', 'cowardly', 'coward', 'cousins', 'contributes', 'continuously', 'confronts', 'condemned', 'communism', 'cloak', 'censorship', 'categories', 'cages', 'butchered', 'brush', 'borrows', 'bon', 'benny', 'bastard', 'bartender', 'animators', 'anchors', 'altmans', 'ali', 'airing', 'adultery', 'actionbr', 'abu', 'zu', 'youngsters', 'wielding', 'warbr', 'visconti', 'virtue', 'vaughn', 'uninspiring', 'underused', 'undercover', 'tricked', 'transitions', 'tina', 'threads', 'thereafter', 'tasty', 'taime', 'sykes', 'sweeping', 'surgeon', 'supportive', 'supermarket', 'sucking', 'subdued', 'straighttovideo', 'stirring', 'spotted', 'spells', 'sophistication', 'snowy', 'sleeper', 'sixteen', 'shrill', 'shiny', 'shelves', 'shaun', 'sensation', 'scattered', 'romanian', 'rogue', 'rockets', 'retirement', 'register', 'redford', 'rapes', 'puzzled', 'prolific', 'presume', 'premiered', 'prefers', 'preferably', 'pleasures', 'pepper', 'pecker', 'owe', 'oscarwinning', 'optimism', 'ogre', 'nuns', 'nora', 'nifty', 'myra', 'monday', 'modernday', 'mediocrity', 'maurice', 'massey', 'madman', 'loner', 'liotta', 'lindsey', 'likebr', 'ledger', 'lds', 'lawn', 'latino', 'laser', 'languages', 'knocking', 'knees', 'intelligently', 'intellectually', 'injustice', 'increase', 'imprisoned', 'impressions', 'illustrate', 'il', 'icons', 'hypnotic', 'hurry', 'hunky', 'hugo', 'hmm', 'halfhour', 'golf', 'goldsworthy', 'godard', 'glow', 'glenda', 'gently', 'geniuses', 'fuss', 'freed', 'freaked', 'fierce', 'fewer', 'fence', 'fellini', 'fanning', 'fallon', 'eyed', 'extraordinarily', 'expresses', 'ewoks', 'establishment', 'erabr', 'ensue', 'engagement', 'emmy', 'eh', 'echo', 'ebay', 'drum', 'dreamlike', 'dodgy', 'distinctly', 'developments', 'deservedly', 'della', 'defy', 'dealers', 'crypt', 'crooked', 'cowritten', 'correctness', 'coop', 'consumed', 'conniving', 'confirmed', 'collaboration', 'cockney', 'clutter', 'cloth', 'clockwork', 'client', 'clarence', 'chemical', 'cheesiness', 'chans', 'ceremony', 'ceiling', 'capitalism', 'byron', 'brit', 'bothers', 'booth', 'boost', 'boogeyman', 'bliss', 'bleeding', 'billing', 'belle', 'bart', 'aura', 'atrocity', 'atlantic', 'artistically', 'applause', 'apollo', 'anti', 'alter', 'allies', 'alarm', 'aircraft', 'accomplishment', 'abstract', 'abroad', 'aboard', '20s', 'zhang', 'zany', 'yourselfbr', 'wrongly', 'willingly', 'visceral', 'verhoevens', 'unwilling', 'trusted', 'trendy', 'traveled', 'todaybr', 'thug', 'thereof', 'taker', 'supports', 'succession', 'strain', 'springs', 'slowmotion', 'slips', 'sleepy', 'slaughtered', 'sinatras', 'simpler', 'shout', 'shocker', 'shawn', 'shady', 'sematary', 'scarlet', 'scarier', 'satisfactory', 'roommates', 'romeros', 'rodney', 'robbing', 'roads', 'rhyme', 'retrieve', 'reportedly', 'relates', 'recovering', 'ravishing', 'rapid', 'rant', 'proudly', 'protecting', 'proportions', 'prone', 'promoting', 'predicted', 'predictability', 'preacher', 'potent', 'plummer', 'photograph', 'peterson', 'periodbr', 'perceived', 'overtly', 'operating', 'operate', 'oneill', 'notwithstanding', 'nerdy', 'natasha', 'mutants', 'muscular', 'muriel', 'mud', 'moderately', 'mockery', 'mishmash', 'messbr', 'maturity', 'mastermind', 'manipulate', 'luthor', 'lure', 'lt', 'lorre', 'lists', 'limp', 'legion', 'lawyers', 'launched', 'lansbury', 'knives', 'kilmer', 'kenny', 'judgement', 'joshua', 'imply', 'illusion', 'icy', 'henderson', 'helena', 'heavenly', 'heartless', 'harilal', 'grisly', 'grendel', 'grandparents', 'governments', 'gosh', 'gobr', 'gladiator', 'gi', 'fur', 'fulfilling', 'fulfill', 'friendsbr', 'forsythe', 'forbes', 'fleeting', 'fleeing', 'flamboyant', 'fighters', 'fetched', 'fastforward', 'farrah', 'fagin', 'exgirlfriend', 'encourages', 'electricity', 'elder', 'dunne', 'drain', 'doris', 'denver', 'defining', 'deborah', 'data', 'darius', 'daria', 'cynicism', 'cowrote', 'corbin', 'conflicted', 'comprised', 'cinematographic', 'christensen', 'chevy', 'chandler', 'censors', 'bs', 'brick', 'breakthrough', 'bloke', 'blackmail', 'bitchy', 'bing', 'barton', 'ballroom', 'baddie', 'backdrops', 'autobiography', 'attic', 'attendant', 'astonishingly', 'arnie', 'armor', 'appalled', 'anythingbr', 'anxiety', 'analyze', 'amoral', 'alcoholism', '700', '51', '1964', '1957', '150', 'zabriskie', 'wwi', 'wrath', 'worship', 'wolves', 'wee', 'virginity', 'violently', 'vibe', 'vaudeville', 'ursula', 'urgency', 'upbringing', 'unnerving', 'unlucky', 'unconscious', 'treating', 'tourists', 'tobe', 'throne', 'theo', 'terrorism', 'temporary', 'tasks', 'tango', 'tacked', 'tables', 'swords', 'supremacy', 'superiors', 'stumbling', 'stereotyping', 'steamy', 'sore', 'sibling', 'sheridan', 'shatner', 'shamelessly', 'seventh', 'semi', 'sammi', 'sack', 'rudd', 'rosenstrasse', 'rko', 'ridden', 'richly', 'replay', 'reno', 'relaxing', 'redgrave', 'recurring', 'recreation', 'ratio', 'ranger', 'quirks', 'prolonged', 'prejudices', 'pour', 'poke', 'placing', 'pistol', 'pertwee', 'penguin', 'peaks', 'payne', 'patriotic', 'passions', 'padded', 'overwhelmed', 'overused', 'overacts', 'observed', 'notions', 'neverending', 'needlessly', 'moonstruck', 'miyazakis', 'missions', 'meyers', 'mcdowell', 'mcdermott', 'marx', 'martino', 'mandatory', 'management', 'ma', 'liz', 'liar', 'levy', 'lesbians', 'leaps', 'largest', 'kornbluth', 'jolly', 'jerky', 'jam', 'iti', 'irresponsible', 'irresistible', 'interspersed', 'innuendo', 'inhabited', 'inducing', 'increasing', 'immigrants', 'imitating', 'illustrated', 'honey', 'hilton', 'herrings', 'helmet', 'heir', 'hector', 'hazzard', 'harbor', 'happier', 'hale', 'gusto', 'gravity', 'grady', 'girlbr', 'giggle', 'gays', 'gardens', 'flame', 'fitzgerald', 'fiasco', 'feared', 'farnsworth', 'expressing', 'expand', 'episodebr', 'enthralling', 'elisha', 'ecstasy', 'eastwoods', 'dwarf', 'dukakis', 'doses', 'dodge', 'dive', 'distinguished', 'disasters', 'dillon', 'diaz', 'destructive', 'denial', 'dangers', 'curtain', 'crass', 'countrys', 'counterpart', 'counted', 'coppola', 'continuous', 'confession', 'concentrated', 'compassionate', 'coal', 'clubs', 'climbs', 'climate', 'civilians', 'chop', 'cheung', 'cheat', 'castro', 'cassie', 'burden', 'bullies', 'brunette', 'brilliantbr', 'brennan', 'borderline', 'booker', 'bombed', 'bloodshed', 'bigfoot', 'benoit', 'believablebr', 'behaving', 'behaves', 'azumi', 'aztec', 'auteur', 'attributes', 'athletic', 'astronauts', 'assortment', 'associates', 'archer', 'antichrist', 'anonymous', 'annoyingly', 'aniston', 'alienation', 'alba', 'academic', '98', '27', 'yearning', 'y', 'worm', 'woke', 'whipped', 'whip', 'vulnerability', 'volumes', 'vienna', 'vets', 'versa', 'vera', 'vault', 'valerie', 'unemployed', 'truthful', 'traumatized', 'transformers', 'torch', 'thumb', 'thorn', 'swiss', 'stupidest', 'stripper', 'stretches', 'stalks', 'spitting', 'spinning', 'smarmy', 'sm', 'slew', 'skipping', 'sessions', 'sequelbr', 'segal', 'seal', 'screamed', 'scandal', 'sarne', 'saddest', 'rusty', 'rotting', 'roach', 'restless', 'relied', 'reincarnation', 'regrets', 'recipe', 'rapture', 'purse', 'pub', 'psychiatric', 'prophet', 'profile', 'princes', 'prices', 'pranks', 'practices', 'posh', 'pond', 'poet', 'percent', 'perceive', 'penis', 'penalty', 'paragraph', 'palestinian', 'outs', 'opponents', 'nutty', 'noam', 'nightbr', 'nerds', 'neglect', 'neeson', 'nailed', 'muted', 'montages', 'mindset', 'midway', 'midler', 'melt', 'mechanic', 'meanings', 'marathon', 'maiden', 'maguire', 'lubitsch', 'lowbrow', 'lin', 'lightly', 'lecture', 'lang', 'knack', 'keitel', 'joanna', 'izzard', 'itd', 'italians', 'irrational', 'intellect', 'inherited', 'incompetence', 'improvised', 'idiocy', 'hustler', 'hopeful', 'honeymoon', 'holland', 'hmmm', 'hesitate', 'guru', 'goofs', 'gimmicks', 'gannon', 'frenzy', 'footsteps', 'floriane', 'flipping', 'firsttime', 'finely', 'featurelength', 'farewell', 'fable', 'exwife', 'explanations', 'expanded', 'existential', 'enhances', 'embarrass', 'elmer', 'elevate', 'efficient', 'drugged', 'dopey', 'dogma', 'disdain', 'discernible', 'disappearing', 'dickinson', 'darling', 'dani', 'customs', 'custody', 'crowds', 'crenna', 'coverage', 'cortez', 'corky', 'contemplate', 'consisted', 'conquest', 'confronting', 'concludes', 'concentrates', 'compositions', 'companions', 'collecting', 'cocktail', 'coaster', 'classicbr', 'chocolate', 'celine', 'caution', 'casually', 'casebr', 'camps', 'bursts', 'buildup', 'btk', 'bothering', 'bonding', 'bishop', 'billion', 'beth', 'bald', 'awfulness', 'aweigh', 'astronaut', 'architecture', 'approximately', 'alienate', 'agobr', 'afghanistan', 'adequately', '48', '250', 'zealand', 'wits', 'wisecracking', 'wipe', 'wills', 'welcomed', 'weaver', 'walters', 'waits', 'viggo', 'victorias', 'versatile', 'vengeful', 'undeveloped', 'uncredited', 'toss', 'throats', 'themselvesbr', 'thatll', 'thankful', 'tested', 'tensions', 'tenants', 'teddy', 'suspended', 'surpasses', 'supporters', 'suggestive', 'subtleties', 'submit', 'strikingly', 'stoic', 'stepped', 'stature', 'squeeze', 'spielbergs', 'spectacularly', 'sparse', 'snippets', 'snappy', 'smarter', 'slows', 'slipped', 'sleuth', 'shootings', 'shaolin', 'shakespearean', 'rushes', 'rugged', 'rizzo', 'ripoffs', 'rightfully', 'rico', 'revive', 'rests', 'rehearsal', 'regal', 'regain', 'rebecca', 'rack', 'proverbial', 'profit', 'productionbr', 'prevented', 'prevalent', 'preteen', 'premises', 'postmodern', 'plants', 'planted', 'performancesbr', 'pauses', 'passenger', 'partial', 'pam', 'outrage', 'oppressive', 'oddball', 'norton', 'nineties', 'naval', 'murphys', 'mourning', 'mostel', 'monstrous', 'mold', 'micheal', 'metropolis', 'melinda', 'maverick', 'marred', 'lyrical', 'luzhin', 'lung', 'lucio', 'lovingly', 'loop', 'looney', 'locales', 'listing', 'limbs', 'lange', 'kramer', 'kiddie', 'kerr', 'keeler', 'kaufman', 'kamal', 'jock', 'january', 'it´s', 'islam', 'irs', 'insignificant', 'insects', 'insanely', 'impeccable', 'immersed', 'illiterate', 'hug', 'horn', 'hitchhiker', 'hilariousbr', 'healing', 'harrys', 'harlem', 'guided', 'graves', 'grain', 'goodnatured', 'goers', 'garnered', 'garcia', 'gage', 'fulllength', 'fugitive', 'friendships', 'flip', 'fatherson', 'fanatics', 'examined', 'everybodys', 'empathize', 'elliot', 'ella', 'eliminate', 'dyke', 'dusty', 'duryea', 'durbin', 'dreadfully', 'downtown', 'documents', 'discussions', 'diabolical', 'dental', 'democracy', 'delve', 'december', 'deathstalker', 'daphne', 'daisies', 'cruella', 'creeps', 'cowriter', 'corridors', 'converted', 'continent', 'connor', 'conduct', 'condescending', 'conclusionbr', 'conception', 'compromise', 'comebr', 'collar', 'coleman', 'cocky', 'citys', 'cillian', 'choke', 'chock', 'chewing', 'chapters', 'carole', 'capt', 'candidates', 'callahan', 'bury', 'bucket', 'brink', 'branch', 'braindead', 'bombing', 'bolivia', 'betrays', 'believer', 'bearable', 'bash', 'barbarian', 'balloon', 'backwoods', 'babysitter', 'atomic', 'association', 'assist', 'ash', 'architect', 'apprentice', 'apologize', 'apartheid', 'alternately', 'allison', 'albums', 'ahmad', 'adventurous', 'adopt', 'acknowledged', '400', '2009', '1949', '1938', '1931', '18th', 'woven', 'wondrous', 'witless', 'willem', 'wheels', 'welch', 'weirdo', 'voiceovers', 'villagers', 'variations', 'vanishing', 'untrue', 'unrated', 'universally', 'unimpressive', 'undertaker', 'unborn', 'tucker', 'truebr', 'til', 'throughoutbr', 'thinner', 'tepid', 'telly', 'tedium', 'switzerland', 'swamp', 'surrogate', 'surfers', 'stubborn', 'stripped', 'straw', 'strangest', 'stir', 'stimulating', 'spectrum', 'soulless', 'sorvino', 'societies', 'snatch', 'smoothly', 'smitten', 'sloane', 'siege', 'shouts', 'shinae', 'shack', 'sentenced', 'seinfeld', 'sciencefiction', 'satellite', 'sans', 'sacrificed', 'rollercoaster', 'rohmer', 'rigid', 'revelations', 'retain', 'requisite', 'render', 'recalls', 'ranging', 'rainer', 'psychologically', 'presumed', 'prehistoric', 'practicing', 'plotted', 'platoon', 'pita', 'philadelphia', 'pavarotti', 'pauls', 'paperhouse', 'palette', 'overt', 'overseas', 'outtakes', 'outta', 'oriental', 'obscene', 'nuance', 'november', 'norwegian', 'norma', 'mutated', 'mpaa', 'morgana', 'mocking', 'misplaced', 'mischievous', 'mining', 'millennium', 'menbr', 'matching', 'marquis', 'malcolm', 'mac', 'lotr', 'locks', 'll', 'lizard', 'livesbr', 'lineup', 'lieutenant', 'layered', 'lamas', 'kinky', 'kindness', 'kentucky', 'jessie', 'janitor', 'irwin', 'intruder', 'intestines', 'interpreted', 'insulted', 'insteadbr', 'illustrates', 'hurting', 'hungarian', 'hoods', 'honorable', 'hogan', 'hockey', 'hispanic', 'hisher', 'heroin', 'hedy', 'hating', 'harmony', 'hardest', 'haired', 'guevara', 'grumpy', 'grips', 'greta', 'granger', 'gesture', 'gen', 'gamut', 'gamebr', 'gaining', 'futurebr', 'forgivable', 'floors', 'flee', 'fireworks', 'fatherbr', 'exposing', 'exhibit', 'evolved', 'equals', 'eponymous', 'episodic', 'entertainer', 'edits', 'dw', 'duties', 'duff', 'dominick', 'distributors', 'disgruntled', 'directorbr', 'directionbr', 'dimwitted', 'desolate', 'dense', 'denied', 'darkest', 'culkin', 'crow', 'criminally', 'connolly', 'connecting', 'confirm', 'comicbook', 'cloud', 'classified', 'chore', 'cheaper', 'celebrating', 'cbc', 'cathy', 'casted', 'carson', 'caroline', 'carnival', 'carlito', 'carface', 'careerbr', 'bryan', 'bets', 'benson', 'batwoman', 'basil', 'barker', 'backyard', 'assassins', 'anyonebr', 'andersons', 'anchor', 'amok', 'allegedly', 'admirably', 'administration', 'adapting', 'achieving', '510', '500', 'zatoichi', 'yetbr', 'wicker', 'weaves', 'wb', 'voting', 'voters', 'vivah', 'usage', 'unsuccessful', 'unnamed', 'unfinished', 'unfairly', 'undertones', 'underdog', 'twodimensional', 'transform', 'transferred', 'transcends', 'tigerland', 'texture', 'textbook', 'terriblebr', 'teds', 'tearjerker', 'tasteful', 'talentless', 'swift', 'swat', 'supplies', 'streisands', 'streak', 'stills', 'stealth', 'spreading', 'spears', 'spaces', 'soles', 'societal', 'smalltown', 'smallest', 'slug', 'skywalker', 'skimpy', 'singin', 'shrink', 'shakes', 'shadowy', 'seriouslybr', 'secluded', 'schemes', 'sacred', 'rumors', 'rewatch', 'retrospect', 'rerun', 'request', 'redeemed', 'rabid', 'puzzling', 'pursues', 'prototype', 'prevents', 'preserved', 'positions', 'poppins', 'polite', 'pokes', 'plantation', 'phyllis', 'pets', 'patch', 'participation', 'owning', 'ounce', 'otoole', 'osullivan', 'orphanage', 'orgy', 'organs', 'operas', 'onesided', 'olympic', 'napoleon', 'motif', 'monumental', 'monstrosity', 'monastery', 'mj', 'miracles', 'michel', 'mastroianni', 'marvellous', 'marlene', 'mamet', 'lombard', 'logo', 'liza', 'leno', 'leia', 'lap', 'lambs', 'kisses', 'kingsley', 'jew', 'jed', 'jackass', 'itchy', 'interpret', 'integrated', 'instruments', 'insisted', 'indulge', 'inch', 'inc', 'imdbs', 'hosts', 'holidays', 'historians', 'hiring', 'hi', 'hawaii', 'hardships']\n"
          ]
        }
      ]
    },
    {
      "cell_type": "code",
      "source": [
        "text = \"One morning in June some twenty years ago I was born a rich man's son.\"\n",
        "text_encoded = encoder(text)\n",
        "print(text_encoded) # Word indices."
      ],
      "metadata": {
        "colab": {
          "base_uri": "https://localhost:8080/"
        },
        "id": "UrHTLWySer_f",
        "outputId": "c1102cf8-39e9-4657-ffc7-fb5a76fa814f"
      },
      "execution_count": null,
      "outputs": [
        {
          "output_type": "stream",
          "name": "stdout",
          "text": [
            "tf.Tensor(\n",
            "[  29 1939    8 4685   47 2115  148  598   10   14 1492    4 1004 1433\n",
            "  501    0    0    0    0    0    0    0    0    0    0    0    0    0\n",
            "    0    0    0    0    0    0    0    0    0    0    0    0    0    0\n",
            "    0    0    0    0    0    0    0    0    0    0    0    0    0    0\n",
            "    0    0    0    0    0    0    0    0    0    0    0    0    0    0\n",
            "    0    0    0    0    0    0    0    0    0    0    0    0    0    0\n",
            "    0    0    0    0    0    0    0    0    0    0    0    0    0    0\n",
            "    0    0    0    0    0    0    0    0    0    0    0    0    0    0\n",
            "    0    0    0    0    0    0    0    0    0    0    0    0    0    0\n",
            "    0    0], shape=(128,), dtype=int64)\n"
          ]
        }
      ]
    },
    {
      "cell_type": "code",
      "source": [
        "vocabulary[4685]"
      ],
      "metadata": {
        "colab": {
          "base_uri": "https://localhost:8080/",
          "height": 36
        },
        "id": "qCpuhlUvgU-_",
        "outputId": "150a56a4-e126-448b-fdb1-b223f9692e26"
      },
      "execution_count": null,
      "outputs": [
        {
          "output_type": "execute_result",
          "data": {
            "text/plain": [
              "'june'"
            ],
            "application/vnd.google.colaboratory.intrinsic+json": {
              "type": "string"
            }
          },
          "metadata": {},
          "execution_count": 23
        }
      ]
    },
    {
      "cell_type": "code",
      "source": [
        "model = models.Sequential()\n",
        "model.add(encoder) # Word indices.\n",
        "model.add(layers.Embedding(input_dim=vocabulary_size, output_dim=32)) # Word embeddings.\n",
        "model.add(layers.Flatten()) # \"Dimensionality reduction\"\n",
        "model.add(layers.Dense(1, activation=\"sigmoid\"))\n",
        "model.summary()\n",
        "\n",
        "model.compile(\n",
        "    optimizer=\"adam\",\n",
        "    loss=\"binary_crossentropy\",\n",
        "    metrics=[\"accuracy\"]\n",
        ")\n",
        "\n",
        "history = model.fit(\n",
        "    dataset_train,\n",
        "    epochs=4,\n",
        "    validation_data=dataset_validate\n",
        ")\n",
        "\n",
        "render_history(history)"
      ],
      "metadata": {
        "colab": {
          "base_uri": "https://localhost:8080/",
          "height": 1000
        },
        "id": "FbFOc-yhgpnr",
        "outputId": "3c58cdeb-bf7e-4f3a-edb8-621f7f0bf702"
      },
      "execution_count": null,
      "outputs": [
        {
          "output_type": "stream",
          "name": "stdout",
          "text": [
            "Model: \"sequential_1\"\n",
            "_________________________________________________________________\n",
            " Layer (type)                Output Shape              Param #   \n",
            "=================================================================\n",
            " text_vectorization_1 (TextV  (None, 128)              0         \n",
            " ectorization)                                                   \n",
            "                                                                 \n",
            " embedding (Embedding)       (None, 128, 32)           320000    \n",
            "                                                                 \n",
            " flatten (Flatten)           (None, 4096)              0         \n",
            "                                                                 \n",
            " dense_2 (Dense)             (None, 1)                 4097      \n",
            "                                                                 \n",
            "=================================================================\n",
            "Total params: 324,097\n",
            "Trainable params: 324,097\n",
            "Non-trainable params: 0\n",
            "_________________________________________________________________\n",
            "Epoch 1/4\n",
            "196/196 [==============================] - 4s 16ms/step - loss: 0.6330 - accuracy: 0.6531 - val_loss: 0.4845 - val_accuracy: 0.7947\n",
            "Epoch 2/4\n",
            "196/196 [==============================] - 4s 20ms/step - loss: 0.3634 - accuracy: 0.8552 - val_loss: 0.3669 - val_accuracy: 0.8417\n",
            "Epoch 3/4\n",
            "196/196 [==============================] - 3s 15ms/step - loss: 0.2518 - accuracy: 0.9051 - val_loss: 0.3551 - val_accuracy: 0.8434\n",
            "Epoch 4/4\n",
            "196/196 [==============================] - 3s 15ms/step - loss: 0.1812 - accuracy: 0.9437 - val_loss: 0.3663 - val_accuracy: 0.8406\n"
          ]
        },
        {
          "output_type": "display_data",
          "data": {
            "text/plain": [
              "<Figure size 640x480 with 1 Axes>"
            ],
            "image/png": "[encoded data removed]"
          },
          "metadata": {}
        },
        {
          "output_type": "display_data",
          "data": {
            "text/plain": [
              "<Figure size 640x480 with 1 Axes>"
            ],
            "image/png": "[encoded data removed]"
          },
          "metadata": {}
        }
      ]
    },
    {
      "cell_type": "markdown",
      "source": [
        "# LSTM - Long Short-Term Memory (a Recurrent Neural Network)"
      ],
      "metadata": {
        "id": "hv4yYUPGNNGp"
      }
    },
    {
      "cell_type": "code",
      "source": [
        "model = models.Sequential()\n",
        "model.add(encoder)\n",
        "model.add(layers.Embedding(input_dim=vocabulary_size, output_dim=32))\n",
        "model.add(layers.LSTM(64))\n",
        "model.add(layers.Dense(1, activation=\"sigmoid\"))\n",
        "model.summary()\n",
        "\n",
        "model.compile(\n",
        "    optimizer=\"adam\",\n",
        "    loss=\"binary_crossentropy\",\n",
        "    metrics=[\"accuracy\"]\n",
        ")\n",
        "\n",
        "history = model.fit(\n",
        "    dataset_train,\n",
        "    epochs=4,\n",
        "    validation_data=dataset_validate\n",
        ")\n",
        "\n",
        "render_history(history)"
      ],
      "metadata": {
        "colab": {
          "base_uri": "https://localhost:8080/",
          "height": 1000
        },
        "id": "DQ1BIEqmiWXJ",
        "outputId": "f3ed25e6-e577-47cf-992f-f99b3d489cee"
      },
      "execution_count": null,
      "outputs": [
        {
          "output_type": "stream",
          "name": "stdout",
          "text": [
            "Model: \"sequential_6\"\n",
            "_________________________________________________________________\n",
            " Layer (type)                Output Shape              Param #   \n",
            "=================================================================\n",
            " text_vectorization_1 (TextV  (None, 128)              0         \n",
            " ectorization)                                                   \n",
            "                                                                 \n",
            " embedding_4 (Embedding)     (None, 128, 32)           320000    \n",
            "                                                                 \n",
            " lstm_2 (LSTM)               (None, 64)                24832     \n",
            "                                                                 \n",
            " dense_4 (Dense)             (None, 1)                 65        \n",
            "                                                                 \n",
            "=================================================================\n",
            "Total params: 344,897\n",
            "Trainable params: 344,897\n",
            "Non-trainable params: 0\n",
            "_________________________________________________________________\n",
            "Epoch 1/4\n",
            "196/196 [==============================] - 44s 215ms/step - loss: 0.5100 - accuracy: 0.7236 - val_loss: 0.4209 - val_accuracy: 0.8209\n",
            "Epoch 2/4\n",
            "196/196 [==============================] - 41s 210ms/step - loss: 0.3021 - accuracy: 0.8797 - val_loss: 0.4528 - val_accuracy: 0.8281\n",
            "Epoch 3/4\n",
            "196/196 [==============================] - 41s 207ms/step - loss: 0.2383 - accuracy: 0.9098 - val_loss: 0.5182 - val_accuracy: 0.8188\n",
            "Epoch 4/4\n",
            "196/196 [==============================] - 40s 205ms/step - loss: 0.2038 - accuracy: 0.9271 - val_loss: 0.4291 - val_accuracy: 0.8232\n"
          ]
        },
        {
          "output_type": "display_data",
          "data": {
            "text/plain": [
              "<Figure size 640x480 with 1 Axes>"
            ],
            "image/png": "[encoded data removed]"
          },
          "metadata": {}
        },
        {
          "output_type": "display_data",
          "data": {
            "text/plain": [
              "<Figure size 640x480 with 1 Axes>"
            ],
            "image/png": "[encoded data removed]"
          },
          "metadata": {}
        }
      ]
    },
    {
      "cell_type": "code",
      "source": [],
      "metadata": {
        "id": "mz6vroPjNWOW"
      },
      "execution_count": null,
      "outputs": []
    }
  ]
}